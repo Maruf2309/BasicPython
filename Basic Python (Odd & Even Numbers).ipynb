{
 "cells": [
  {
   "cell_type": "markdown",
   "id": "fb5aaf8c",
   "metadata": {},
   "source": [
    "# Basic Python"
   ]
  },
  {
   "cell_type": "markdown",
   "id": "4ceb5152",
   "metadata": {},
   "source": [
    "### Numbers "
   ]
  },
  {
   "cell_type": "markdown",
   "id": "07f71044",
   "metadata": {},
   "source": [
    "#### Sum of Even Number (1 -10)"
   ]
  },
  {
   "cell_type": "code",
   "execution_count": 4,
   "id": "86966548",
   "metadata": {},
   "outputs": [
    {
     "name": "stdout",
     "output_type": "stream",
     "text": [
      "2\n",
      "4\n",
      "6\n",
      "8\n"
     ]
    }
   ],
   "source": [
    "# Print even number without keepting successive addition\n",
    "\n",
    "for i in range(1, 10):  # Loop\n",
    "    if i%2==0:          # Condition\n",
    "        print(i)        # Print\n",
    "    "
   ]
  },
  {
   "cell_type": "code",
   "execution_count": 5,
   "id": "db6adddc",
   "metadata": {},
   "outputs": [
    {
     "name": "stdout",
     "output_type": "stream",
     "text": [
      "2\n",
      "4\n",
      "6\n",
      "8\n",
      "10\n",
      "12\n",
      "14\n",
      "16\n",
      "18\n"
     ]
    }
   ],
   "source": [
    "for i in range (1, 20):\n",
    "    if i%2 == 0:\n",
    "        print(i)"
   ]
  },
  {
   "cell_type": "code",
   "execution_count": 7,
   "id": "67b00395",
   "metadata": {},
   "outputs": [
    {
     "name": "stdout",
     "output_type": "stream",
     "text": [
      "2\n",
      "6\n",
      "12\n",
      "20\n"
     ]
    }
   ],
   "source": [
    "# Print even number and keeping successive addtion\n",
    "\n",
    "s = 0\n",
    "for i in range (1, 10):\n",
    "    if i%2 == 0:         # it will check each numbers divisibity by 2, if divisible then proceeds next otherwise close it\n",
    "        s = s + i\n",
    "        print(s) # print s; not i\n",
    "        \n",
    "# even numbers (2, 4, 6, 8)\n",
    "# Successive additon (2+4 = 6;  6+6=12; 6+8 = 20; 20+8 = 28)"
   ]
  },
  {
   "cell_type": "markdown",
   "id": "78f6e884",
   "metadata": {},
   "source": [
    "### Sum of Odd Number (1 - 10)"
   ]
  },
  {
   "cell_type": "code",
   "execution_count": 12,
   "id": "4f1c28ff",
   "metadata": {},
   "outputs": [
    {
     "name": "stdout",
     "output_type": "stream",
     "text": [
      "1\n",
      "3\n",
      "5\n",
      "7\n",
      "9\n"
     ]
    }
   ],
   "source": [
    "# Only shows the even numbers\n",
    "s = 0\n",
    "for i in range(1, 11):\n",
    "    if i%2==1:\n",
    "        s = s + i\n",
    "        \n",
    "        print(i)"
   ]
  },
  {
   "cell_type": "code",
   "execution_count": 13,
   "id": "9fbdfaa0",
   "metadata": {},
   "outputs": [
    {
     "name": "stdout",
     "output_type": "stream",
     "text": [
      "1\n",
      "4\n",
      "9\n",
      "16\n",
      "25\n"
     ]
    }
   ],
   "source": [
    "# Keeping Succestive Addition values (Odd Number)\n",
    "s = 0\n",
    "for i in range (1, 11):\n",
    "    if i%2 ==1:\n",
    "        s = s+i\n",
    "        print(s)\n",
    "# even numebrs (1, 3, 5, 7, 9) [ 1; 1+3=4; 4+5=9;  9+7=16; 16+9= 25 ]"
   ]
  },
  {
   "cell_type": "markdown",
   "id": "fb6601a9",
   "metadata": {},
   "source": [
    "#### Print the numbers (100-120)"
   ]
  },
  {
   "cell_type": "code",
   "execution_count": 18,
   "id": "f491f113",
   "metadata": {},
   "outputs": [
    {
     "name": "stdout",
     "output_type": "stream",
     "text": [
      "100\n",
      "101\n",
      "102\n",
      "103\n",
      "104\n",
      "105\n",
      "106\n",
      "107\n",
      "108\n",
      "109\n",
      "110\n",
      "111\n",
      "112\n",
      "113\n",
      "114\n",
      "115\n",
      "116\n",
      "117\n",
      "118\n",
      "119\n",
      "120\n"
     ]
    }
   ],
   "source": [
    "for i in range(100, 121):\n",
    "    print(i)"
   ]
  },
  {
   "cell_type": "markdown",
   "id": "3333a7be",
   "metadata": {},
   "source": [
    "#### Find out the smallest numbers from  the list "
   ]
  },
  {
   "cell_type": "code",
   "execution_count": 24,
   "id": "c686f69d",
   "metadata": {},
   "outputs": [
    {
     "name": "stdout",
     "output_type": "stream",
     "text": [
      "[25, 33, 40]\n",
      "smallest elements:  25\n",
      "largest elements:  40\n"
     ]
    }
   ],
   "source": [
    "my_list = [25, 33, 40]\n",
    "my_list.sort() # sorting\n",
    "print(my_list)\n",
    "\n",
    "print('smallest elements: ', my_list [0] ) # in python 0 represent first elecment of a list\n",
    "print('largest elements: ', my_list[-1])   # in python -1 represent last elecment of a list \n"
   ]
  },
  {
   "cell_type": "markdown",
   "id": "db983103",
   "metadata": {},
   "source": [
    "####  Method: 2 Find out the smallest number from the list ( Using Min & Max method)"
   ]
  },
  {
   "cell_type": "code",
   "execution_count": 25,
   "id": "bb38c5f8",
   "metadata": {},
   "outputs": [
    {
     "name": "stdout",
     "output_type": "stream",
     "text": [
      "Smallest Number is:  25\n",
      "Larget Number is:  95\n"
     ]
    }
   ],
   "source": [
    "mylist = [55, 27, 25, 52, 85, 95, 32, 29]\n",
    "print('Smallest Number is: ', min(mylist))\n",
    "print('Larget Number is: ', max(mylist))"
   ]
  },
  {
   "cell_type": "code",
   "execution_count": null,
   "id": "ed73376a",
   "metadata": {},
   "outputs": [],
   "source": []
  }
 ],
 "metadata": {
  "kernelspec": {
   "display_name": "Python 3 (ipykernel)",
   "language": "python",
   "name": "python3"
  },
  "language_info": {
   "codemirror_mode": {
    "name": "ipython",
    "version": 3
   },
   "file_extension": ".py",
   "mimetype": "text/x-python",
   "name": "python",
   "nbconvert_exporter": "python",
   "pygments_lexer": "ipython3",
   "version": "3.9.12"
  }
 },
 "nbformat": 4,
 "nbformat_minor": 5
}
