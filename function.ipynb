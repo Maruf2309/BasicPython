{
  "nbformat": 4,
  "nbformat_minor": 0,
  "metadata": {
    "colab": {
      "provenance": []
    },
    "kernelspec": {
      "name": "python3",
      "display_name": "Python 3"
    },
    "language_info": {
      "name": "python"
    }
  },
  "cells": [
    {
      "cell_type": "markdown",
      "source": [
        "### Topic"
      ],
      "metadata": {
        "id": "PbkDL6ayX4yj"
      }
    },
    {
      "cell_type": "markdown",
      "source": [
        "# 1.0 Doc String & Function"
      ],
      "metadata": {
        "id": "7X9TjgBP7--x"
      }
    },
    {
      "cell_type": "markdown",
      "source": [
        "Function Blueprint\n",
        "1. def\n",
        "2. fun name\n",
        "3. arguement (inside bracke, example in 2.2 it will take number which must be int)\n",
        "4. if you mention to return something e.g bool\n",
        "4. func body with indentation\n",
        "5. Return type (Giving something in return like if it is mentioned as bool)\n",
        "6. calling fun by its name - out of loop/ without indentation"
      ],
      "metadata": {
        "id": "7TSBwZ_YbwAm"
      }
    },
    {
      "cell_type": "markdown",
      "source": [
        "### 1.1 Doc String with fucn"
      ],
      "metadata": {
        "id": "scLDN9ZG_mpA"
      }
    },
    {
      "cell_type": "code",
      "execution_count": null,
      "metadata": {
        "colab": {
          "base_uri": "https://localhost:8080/"
        },
        "id": "hsu_h5uq73Up",
        "outputId": "ff67d62c-f1ae-4df5-b67a-ea62f79b96fa"
      },
      "outputs": [
        {
          "output_type": "stream",
          "name": "stdout",
          "text": [
            "15\n"
          ]
        }
      ],
      "source": [
        "## Doc String-1\n",
        "'''\n",
        "Take Two parameters\n",
        "Return Sum\n",
        "'''\n",
        "\n",
        "def add_number(a,b):  # just give param by comma only\n",
        "  return a + b        # Mention operation i.g additiona +\n",
        "\n",
        "print(add_number(5,10))  # Print statment must  be without identation"
      ]
    },
    {
      "cell_type": "code",
      "source": [
        "## Doc String-2 (inside code)\n",
        "\n",
        "def add_number(a,b):\n",
        "  '''\n",
        "  Take Two parameters\n",
        "  Return Sum\n",
        "\n",
        "  '''\n",
        "  return a + b\n",
        "\n",
        "print(add_number(5,10))\n",
        "\n",
        "# If you hover over fun name, doc / doc str will be visision, you can also print doc str"
      ],
      "metadata": {
        "colab": {
          "base_uri": "https://localhost:8080/"
        },
        "id": "nZLpbRTW9Tl2",
        "outputId": "ee6008d2-7e47-483b-e6af-e74e7002c093"
      },
      "execution_count": null,
      "outputs": [
        {
          "output_type": "stream",
          "name": "stdout",
          "text": [
            "15\n"
          ]
        }
      ]
    },
    {
      "cell_type": "code",
      "source": [
        "## print doc str\n",
        "def add_number (a, b):\n",
        "  '''\n",
        "  Take two parameters\n",
        "  Return Sum\n",
        "  '''\n",
        "  return a + b\n",
        "\n",
        "print(add_number(10,5))\n",
        "print(add_number.__doc__)  # Print doc str  after fun use  . & double underscore doc & doube underscore"
      ],
      "metadata": {
        "colab": {
          "base_uri": "https://localhost:8080/"
        },
        "id": "XZ8phLHB-UAx",
        "outputId": "64c90706-4fb9-4a71-f846-60784f4e1fe8"
      },
      "execution_count": null,
      "outputs": [
        {
          "output_type": "stream",
          "name": "stdout",
          "text": [
            "15\n",
            "\n",
            "  Take two parameters\n",
            "  Return Sum\n",
            "  \n"
          ]
        }
      ]
    },
    {
      "cell_type": "markdown",
      "source": [
        "# 2.0 Function"
      ],
      "metadata": {
        "id": "1KKtIytm-bsP"
      }
    },
    {
      "cell_type": "markdown",
      "source": [
        "## 2.1 Simple/ Static Function"
      ],
      "metadata": {
        "id": "ncv3J7Va8OgS"
      }
    },
    {
      "cell_type": "code",
      "source": [
        "# Simple Function without args\n",
        "def greet():\n",
        "  print('Good Morning')\n",
        "  print('Welcome!')\n",
        "  print('How may help you?')\n",
        "\n",
        "greet()          # Calling function"
      ],
      "metadata": {
        "colab": {
          "base_uri": "https://localhost:8080/"
        },
        "id": "eXCa4jvG8QV3",
        "outputId": "cb2ed8f6-a1c7-4df8-ca47-cdd96b9acdbb"
      },
      "execution_count": null,
      "outputs": [
        {
          "output_type": "stream",
          "name": "stdout",
          "text": [
            "Good Morning\n",
            "Welcome!\n",
            "How may help you?\n"
          ]
        }
      ]
    },
    {
      "cell_type": "code",
      "source": [
        "greet()"
      ],
      "metadata": {
        "colab": {
          "base_uri": "https://localhost:8080/"
        },
        "id": "mcoVy-fn8vfW",
        "outputId": "a3418af1-f890-437d-f0d9-e64a5b9b9dfa"
      },
      "execution_count": null,
      "outputs": [
        {
          "output_type": "stream",
          "name": "stdout",
          "text": [
            "Good Morning\n",
            "Welcome!\n",
            "How may help you?\n"
          ]
        }
      ]
    },
    {
      "cell_type": "markdown",
      "source": [
        "## 2.2 Function with args"
      ],
      "metadata": {
        "id": "hrR8kN4S83VQ"
      }
    },
    {
      "cell_type": "code",
      "source": [
        "# Checking number wether is odd or number\n",
        "def is_even(num:int) -> bool:  # inside () or after fun name inside parantheis that passed is called params\n",
        "  if num%2 == 0:\n",
        "    return True\n",
        "  else:\n",
        "    return False"
      ],
      "metadata": {
        "id": "n6z0B8uM8zil"
      },
      "execution_count": null,
      "outputs": []
    },
    {
      "cell_type": "code",
      "source": [
        "is_even(11) # given args (here it is called args) must be int since its mentioned inside fn paranthesis"
      ],
      "metadata": {
        "colab": {
          "base_uri": "https://localhost:8080/"
        },
        "id": "ZFowkKl497eM",
        "outputId": "79c3f3f3-ebb3-40b8-b167-c89a36ca4321"
      },
      "execution_count": null,
      "outputs": [
        {
          "output_type": "execute_result",
          "data": {
            "text/plain": [
              "False"
            ]
          },
          "metadata": {},
          "execution_count": 2
        }
      ]
    },
    {
      "cell_type": "code",
      "source": [
        "# 2.3 Function can be store [ we can store the value that return a fucn ]\n",
        "## but if print the value, that can be stored\n",
        "var = is_even(20)\n",
        "var"
      ],
      "metadata": {
        "colab": {
          "base_uri": "https://localhost:8080/"
        },
        "id": "ZkK4H0Zycjke",
        "outputId": "2a5ded37-405c-45c8-f863-abc8557399d1"
      },
      "execution_count": null,
      "outputs": [
        {
          "output_type": "execute_result",
          "data": {
            "text/plain": [
              "True"
            ]
          },
          "metadata": {},
          "execution_count": 3
        }
      ]
    },
    {
      "cell_type": "code",
      "source": [
        "# 2.4\n",
        "# Checking number wether is odd or number\n",
        "def is_even(num:int) -> bool:\n",
        "  if num%2 == 0:\n",
        "    print(True)       # print can not be stored\n",
        "  else:\n",
        "    print(False)\n",
        "is_even(5)"
      ],
      "metadata": {
        "colab": {
          "base_uri": "https://localhost:8080/"
        },
        "id": "dvdX01ficjh4",
        "outputId": "e8d1bb34-8e24-461c-b9d5-3d8e6a02b393"
      },
      "execution_count": null,
      "outputs": [
        {
          "output_type": "stream",
          "name": "stdout",
          "text": [
            "False\n"
          ]
        }
      ]
    },
    {
      "cell_type": "code",
      "source": [
        "is_even(10)"
      ],
      "metadata": {
        "colab": {
          "base_uri": "https://localhost:8080/"
        },
        "id": "sZX8DCOtcje4",
        "outputId": "6bf78cbc-8754-4cf7-8a28-53b924020ede"
      },
      "execution_count": null,
      "outputs": [
        {
          "output_type": "stream",
          "name": "stdout",
          "text": [
            "True\n"
          ]
        }
      ]
    },
    {
      "cell_type": "markdown",
      "source": [
        "Note 2.2:\n",
        "1. Function could be data/ variable / even we could give func inside func here we use data i.g (num:int)\n",
        "2. (num:int) is the door of the function"
      ],
      "metadata": {
        "id": "EF4MVE1dbqbd"
      }
    },
    {
      "cell_type": "code",
      "source": [
        "# it will give a type error, which can be solved with dynamic args with * sign\n",
        "# is_even(19, 20)"
      ],
      "metadata": {
        "id": "R-6WT-Dscjb4"
      },
      "execution_count": null,
      "outputs": []
    },
    {
      "cell_type": "markdown",
      "source": [
        "# 3.0 Function with Dynamic Args"
      ],
      "metadata": {
        "id": "PYAa2-jnYUKO"
      }
    },
    {
      "cell_type": "code",
      "source": [
        "# 3.1: Test\n",
        "def is_even (*num:int) -> bool:  #\n",
        "  print(num)                     # tuple\n",
        "  if num%2 == 0:                 # number : tuple form that why through error\n",
        "    return True\n",
        "  else:\n",
        "    return False"
      ],
      "metadata": {
        "id": "RBPDPVu4cjY2"
      },
      "execution_count": null,
      "outputs": []
    },
    {
      "cell_type": "code",
      "source": [
        "# 3.1\n",
        "is_even(3, 4, 5, 6, 7, 8, 9)   # This is an iterable, so we can use for loop!"
      ],
      "metadata": {
        "id": "77PDe7OGcjVq",
        "colab": {
          "base_uri": "https://localhost:8080/",
          "height": 332
        },
        "outputId": "61c358d7-e82f-44b7-a28b-6690f8f4bef7"
      },
      "execution_count": null,
      "outputs": [
        {
          "output_type": "stream",
          "name": "stdout",
          "text": [
            "(3, 4, 5, 6, 7, 8, 9)\n"
          ]
        },
        {
          "output_type": "error",
          "ename": "TypeError",
          "evalue": "ignored",
          "traceback": [
            "\u001b[0;31m---------------------------------------------------------------------------\u001b[0m",
            "\u001b[0;31mTypeError\u001b[0m                                 Traceback (most recent call last)",
            "\u001b[0;32m<ipython-input-18-776154e9c3ff>\u001b[0m in \u001b[0;36m<cell line: 2>\u001b[0;34m()\u001b[0m\n\u001b[1;32m      1\u001b[0m \u001b[0;31m# 3.1\u001b[0m\u001b[0;34m\u001b[0m\u001b[0;34m\u001b[0m\u001b[0m\n\u001b[0;32m----> 2\u001b[0;31m \u001b[0mis_even\u001b[0m\u001b[0;34m(\u001b[0m\u001b[0;36m3\u001b[0m\u001b[0;34m,\u001b[0m \u001b[0;36m4\u001b[0m\u001b[0;34m,\u001b[0m \u001b[0;36m5\u001b[0m\u001b[0;34m,\u001b[0m \u001b[0;36m6\u001b[0m\u001b[0;34m,\u001b[0m \u001b[0;36m7\u001b[0m\u001b[0;34m,\u001b[0m \u001b[0;36m8\u001b[0m\u001b[0;34m,\u001b[0m \u001b[0;36m9\u001b[0m\u001b[0;34m)\u001b[0m   \u001b[0;31m# This is an iterable, so we can use for loop!\u001b[0m\u001b[0;34m\u001b[0m\u001b[0;34m\u001b[0m\u001b[0m\n\u001b[0m",
            "\u001b[0;32m<ipython-input-17-e3c216f5ae98>\u001b[0m in \u001b[0;36mis_even\u001b[0;34m(*num)\u001b[0m\n\u001b[1;32m      2\u001b[0m \u001b[0;32mdef\u001b[0m \u001b[0mis_even\u001b[0m \u001b[0;34m(\u001b[0m\u001b[0;34m*\u001b[0m\u001b[0mnum\u001b[0m\u001b[0;34m:\u001b[0m\u001b[0mint\u001b[0m\u001b[0;34m)\u001b[0m \u001b[0;34m->\u001b[0m \u001b[0mbool\u001b[0m\u001b[0;34m:\u001b[0m  \u001b[0;31m#\u001b[0m\u001b[0;34m\u001b[0m\u001b[0;34m\u001b[0m\u001b[0m\n\u001b[1;32m      3\u001b[0m   \u001b[0mprint\u001b[0m\u001b[0;34m(\u001b[0m\u001b[0mnum\u001b[0m\u001b[0;34m)\u001b[0m                     \u001b[0;31m# tuple\u001b[0m\u001b[0;34m\u001b[0m\u001b[0;34m\u001b[0m\u001b[0m\n\u001b[0;32m----> 4\u001b[0;31m   \u001b[0;32mif\u001b[0m \u001b[0mnum\u001b[0m\u001b[0;34m%\u001b[0m\u001b[0;36m2\u001b[0m \u001b[0;34m==\u001b[0m \u001b[0;36m0\u001b[0m\u001b[0;34m:\u001b[0m                 \u001b[0;31m# number : tuple form that why through error\u001b[0m\u001b[0;34m\u001b[0m\u001b[0;34m\u001b[0m\u001b[0m\n\u001b[0m\u001b[1;32m      5\u001b[0m     \u001b[0;32mreturn\u001b[0m \u001b[0;32mTrue\u001b[0m\u001b[0;34m\u001b[0m\u001b[0;34m\u001b[0m\u001b[0m\n\u001b[1;32m      6\u001b[0m   \u001b[0;32melse\u001b[0m\u001b[0;34m:\u001b[0m\u001b[0;34m\u001b[0m\u001b[0;34m\u001b[0m\u001b[0m\n",
            "\u001b[0;31mTypeError\u001b[0m: unsupported operand type(s) for %: 'tuple' and 'int'"
          ]
        }
      ]
    },
    {
      "cell_type": "code",
      "source": [
        "# 3.2: Addtion for loop\n",
        "def is_even (*nums:int) -> bool:\n",
        "  for num in nums:\n",
        "    if num%2 == 0:\n",
        "      return True\n",
        "    else:\n",
        "      return False"
      ],
      "metadata": {
        "id": "1JgKe0FJcjSs"
      },
      "execution_count": null,
      "outputs": []
    },
    {
      "cell_type": "code",
      "source": [
        "is_even(2, 3, 4, 5, 6, 7, 8, 9) # still its returning only one, the reason it Return, becasue then return executed fun closed here, return mean end / close of func"
      ],
      "metadata": {
        "colab": {
          "base_uri": "https://localhost:8080/"
        },
        "id": "sxG_NVLZa063",
        "outputId": "79c4f8dd-27d1-4f99-8475-3c2339397c61"
      },
      "execution_count": null,
      "outputs": [
        {
          "output_type": "execute_result",
          "data": {
            "text/plain": [
              "True"
            ]
          },
          "metadata": {},
          "execution_count": 22
        }
      ]
    },
    {
      "cell_type": "markdown",
      "source": [
        "- To get the full list need to return list & append, since return ends the func"
      ],
      "metadata": {
        "id": "P8OSJi0hb1m3"
      }
    },
    {
      "cell_type": "code",
      "source": [
        "# 3.3: Return list\n",
        "def is_even(*nums:int) -> list:  # asteric helps to print multiple values at a time/ dynamic\n",
        "  results = []                   # result must be wiht = sing\n",
        "  for num in nums:\n",
        "    if num%2 == 0:\n",
        "      results.append(True)      # append True values\n",
        "    else:\n",
        "      results.append(False)     # append False values\n",
        "  return results              # at the end, close the func by return statement\n"
      ],
      "metadata": {
        "id": "9wtQwDdu9-V6"
      },
      "execution_count": null,
      "outputs": []
    },
    {
      "cell_type": "code",
      "source": [
        "is_even(2, 3, 4, 5, 6, 7, 8, 9)  # now we are getting list of results"
      ],
      "metadata": {
        "colab": {
          "base_uri": "https://localhost:8080/"
        },
        "id": "Dtip0EsIcqUI",
        "outputId": "d310158a-a2a8-4a0a-c298-82ef69659aa3"
      },
      "execution_count": null,
      "outputs": [
        {
          "output_type": "execute_result",
          "data": {
            "text/plain": [
              "[True, False, True, False, True, False, True, False]"
            ]
          },
          "metadata": {},
          "execution_count": 27
        }
      ]
    },
    {
      "cell_type": "markdown",
      "source": [
        "# 4.0 Divisible Function"
      ],
      "metadata": {
        "id": "jc_taVUhd8-X"
      }
    },
    {
      "cell_type": "code",
      "source": [
        "# 4.1\n",
        "def is_divisible(num:int, divisor:int) -> bool:\n",
        "  if num%divisor == 0:\n",
        "    return True\n",
        "  else:\n",
        "    return False\n",
        "is_divisible(50, 32)\n"
      ],
      "metadata": {
        "id": "fP04qRhrct_P",
        "colab": {
          "base_uri": "https://localhost:8080/"
        },
        "outputId": "d774ee8b-4f70-478e-a119-a7b654156f65"
      },
      "execution_count": 1,
      "outputs": [
        {
          "output_type": "execute_result",
          "data": {
            "text/plain": [
              "False"
            ]
          },
          "metadata": {},
          "execution_count": 1
        }
      ]
    },
    {
      "cell_type": "code",
      "source": [
        "is_divisible(50, 5) # two args needed to pass here"
      ],
      "metadata": {
        "colab": {
          "base_uri": "https://localhost:8080/"
        },
        "id": "ddRkJF5PmEGy",
        "outputId": "bad5f862-4a94-4872-e691-ccb15656588b"
      },
      "execution_count": 3,
      "outputs": [
        {
          "output_type": "execute_result",
          "data": {
            "text/plain": [
              "True"
            ]
          },
          "metadata": {},
          "execution_count": 3
        }
      ]
    },
    {
      "cell_type": "code",
      "source": [
        "is_divisible(50) # Return Type Error due to positional args"
      ],
      "metadata": {
        "colab": {
          "base_uri": "https://localhost:8080/",
          "height": 176
        },
        "id": "fxdap_ZEmMLy",
        "outputId": "b46baa28-9802-40be-ef36-b9c0e073b802"
      },
      "execution_count": 6,
      "outputs": [
        {
          "output_type": "error",
          "ename": "TypeError",
          "evalue": "ignored",
          "traceback": [
            "\u001b[0;31m---------------------------------------------------------------------------\u001b[0m",
            "\u001b[0;31mTypeError\u001b[0m                                 Traceback (most recent call last)",
            "\u001b[0;32m<ipython-input-6-5185f51c1e23>\u001b[0m in \u001b[0;36m<cell line: 1>\u001b[0;34m()\u001b[0m\n\u001b[0;32m----> 1\u001b[0;31m \u001b[0mis_divisible\u001b[0m\u001b[0;34m(\u001b[0m\u001b[0;36m50\u001b[0m\u001b[0;34m)\u001b[0m \u001b[0;31m# Return Type Error due to positional args\u001b[0m\u001b[0;34m\u001b[0m\u001b[0;34m\u001b[0m\u001b[0m\n\u001b[0m",
            "\u001b[0;31mTypeError\u001b[0m: is_divisible() missing 1 required positional argument: 'divisor'"
          ]
        }
      ]
    },
    {
      "cell_type": "markdown",
      "source": [
        "Problem: Lets say byfault it will check divisible by given number i.g 2, then it will check if user give any values in args!"
      ],
      "metadata": {
        "id": "GoDYlZEsmyHc"
      }
    },
    {
      "cell_type": "code",
      "source": [
        "# 4.2 Positional Args\n",
        "# Key word agrs   divisor:int:2\n",
        "def is_divisible(num:int, divisor: int=2) -> bool:\n",
        "  if num%divisor == 0:\n",
        "    return True\n",
        "  else:\n",
        "    return False\n",
        "is_divisible(50, 32) # it will take 2 as default args if no other values given by user, if user provide any args value then default will skipped and user's one will be choosen!\n",
        "# in keyword args, a default value provided as divisor"
      ],
      "metadata": {
        "colab": {
          "base_uri": "https://localhost:8080/"
        },
        "id": "APy8033XmfuI",
        "outputId": "26c7dadf-f24b-4231-d5b7-d688a3481153"
      },
      "execution_count": 9,
      "outputs": [
        {
          "output_type": "execute_result",
          "data": {
            "text/plain": [
              "False"
            ]
          },
          "metadata": {},
          "execution_count": 9
        }
      ]
    },
    {
      "cell_type": "code",
      "source": [
        "is_divisible(50, 5)"
      ],
      "metadata": {
        "colab": {
          "base_uri": "https://localhost:8080/"
        },
        "id": "4cDhDYj5nuds",
        "outputId": "908574ad-ba07-4e6e-ac29-274271f71e9c"
      },
      "execution_count": 10,
      "outputs": [
        {
          "output_type": "execute_result",
          "data": {
            "text/plain": [
              "True"
            ]
          },
          "metadata": {},
          "execution_count": 10
        }
      ]
    },
    {
      "cell_type": "code",
      "source": [
        "is_divisible (50, divisor=7)  # alternative way to write Key word args"
      ],
      "metadata": {
        "colab": {
          "base_uri": "https://localhost:8080/"
        },
        "id": "aVWpHhIBocvG",
        "outputId": "81890821-bcf6-4216-db2b-b8506668f244"
      },
      "execution_count": 11,
      "outputs": [
        {
          "output_type": "execute_result",
          "data": {
            "text/plain": [
              "False"
            ]
          },
          "metadata": {},
          "execution_count": 11
        }
      ]
    },
    {
      "cell_type": "code",
      "source": [
        "# Problem, Lets say we would like to check whether 60 is divisible by 12, but we wrote the code in wrong way as:\n",
        "is_divisible (12, 60)  # wrongly written as inverse, here 12 written as num & 60 written as divisor position. order not maintained here"
      ],
      "metadata": {
        "colab": {
          "base_uri": "https://localhost:8080/"
        },
        "id": "QeKXIFnnoipC",
        "outputId": "a084aac3-3a4a-49e5-f51f-32a5931823b8"
      },
      "execution_count": 12,
      "outputs": [
        {
          "output_type": "execute_result",
          "data": {
            "text/plain": [
              "False"
            ]
          },
          "metadata": {},
          "execution_count": 12
        }
      ]
    },
    {
      "cell_type": "markdown",
      "source": [
        "In case of positional arguments, maintaining oder is must!"
      ],
      "metadata": {
        "id": "NtkVaTrxp3nh"
      }
    },
    {
      "cell_type": "code",
      "source": [],
      "metadata": {
        "id": "kw8m1yHepUKA"
      },
      "execution_count": null,
      "outputs": []
    }
  ]
}