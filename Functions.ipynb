{
 "cells": [
  {
   "attachments": {},
   "cell_type": "markdown",
   "metadata": {},
   "source": [
    "# Function"
   ]
  },
  {
   "attachments": {},
   "cell_type": "markdown",
   "metadata": {},
   "source": [
    "- Basic About Function\n",
    "- Single / Independent Function\n",
    "- Function wiht Arguments\n",
    "- Dynamic Function\n",
    "- Parameter vs Arguments\n",
    "- Print vs Return"
   ]
  },
  {
   "attachments": {},
   "cell_type": "markdown",
   "metadata": {},
   "source": [
    "- A function is a block of code which only runs when it is called.\n",
    "- You can pass data, known as parameters, into a function.\n",
    "- A function can return data as a result.\n",
    "- In Python a function is defined using the def keyword\n",
    "- A function needs a function name & need to call\n",
    "- Function name must be as per varible name e.g it can not be started with a number\n",
    "- To call a function, use the function name followed by parenthesis:"
   ]
  },
  {
   "attachments": {},
   "cell_type": "markdown",
   "metadata": {},
   "source": [
    "## Indepdent Fuction - without any argument"
   ]
  },
  {
   "attachments": {},
   "cell_type": "markdown",
   "metadata": {},
   "source": [
    "### Excercise 1"
   ]
  },
  {
   "cell_type": "code",
   "execution_count": 1,
   "metadata": {},
   "outputs": [],
   "source": [
    "# Definition of Function,  Defining a function name as \"Greet\"\n",
    "def greet():\n",
    "    print('Good Morning')\n",
    "    print('Welcome !')\n",
    "    print(\"How may I help you?\")"
   ]
  },
  {
   "cell_type": "code",
   "execution_count": 3,
   "metadata": {},
   "outputs": [
    {
     "name": "stdout",
     "output_type": "stream",
     "text": [
      "Good Morning\n",
      "Welcome !\n",
      "How may I help you?\n"
     ]
    }
   ],
   "source": [
    "# Calling a Fuction\n",
    "greet()  # To call a function, use the function name followed by parenthesis"
   ]
  },
  {
   "cell_type": "code",
   "execution_count": 4,
   "metadata": {},
   "outputs": [],
   "source": [
    "def my_function():\n",
    "    print(\"Hi\")"
   ]
  },
  {
   "cell_type": "code",
   "execution_count": 5,
   "metadata": {},
   "outputs": [
    {
     "name": "stdout",
     "output_type": "stream",
     "text": [
      "Hi\n"
     ]
    }
   ],
   "source": [
    "my_function()"
   ]
  },
  {
   "attachments": {},
   "cell_type": "markdown",
   "metadata": {},
   "source": [
    "# Function with Arguments"
   ]
  },
  {
   "attachments": {},
   "cell_type": "markdown",
   "metadata": {},
   "source": [
    "- Information can be passed into functions as arguments\n",
    "- Arguments are specified after the function name, inside the parentheses. You can add as many arguments as you want, just separate them with a comma.\n",
    "- Arguments are often shortened to args in Python documentations.\n"
   ]
  },
  {
   "attachments": {},
   "cell_type": "markdown",
   "metadata": {},
   "source": [
    "### Exercise 2"
   ]
  },
  {
   "cell_type": "code",
   "execution_count": 6,
   "metadata": {},
   "outputs": [
    {
     "name": "stdout",
     "output_type": "stream",
     "text": [
      "Email Test\n",
      "Devid Test\n",
      "Linda Test\n"
     ]
    }
   ],
   "source": [
    "def my_function(fname):     \n",
    "    print(fname + \" Test\")  # Test will be added for each\n",
    "\n",
    "my_function('Email')\n",
    "my_function(\"Devid\")\n",
    "my_function('Linda')\n"
   ]
  },
  {
   "cell_type": "code",
   "execution_count": 9,
   "metadata": {},
   "outputs": [
    {
     "name": "stdout",
     "output_type": "stream",
     "text": [
      "Email Test2\n"
     ]
    }
   ],
   "source": [
    "def my_function(fname, lname):\n",
    "    print (fname + \" \" + lname)\n",
    "\n",
    "my_function(\"Email\", \"Test2\")"
   ]
  },
  {
   "cell_type": "code",
   "execution_count": 12,
   "metadata": {},
   "outputs": [
    {
     "name": "stdout",
     "output_type": "stream",
     "text": [
      "Email Test2\n"
     ]
    }
   ],
   "source": [
    "my_function(\"Email\", \"Test2\")"
   ]
  },
  {
   "attachments": {},
   "cell_type": "markdown",
   "metadata": {},
   "source": [
    "## Parameters or Arguments?"
   ]
  },
  {
   "attachments": {},
   "cell_type": "markdown",
   "metadata": {},
   "source": [
    "- The terms parameter and argument can be used for the same thing: information that are passed into a function.\n",
    "- From a function's perspective:\n",
    "- A parameter is the variable listed inside the parentheses in the function definition.\n",
    "- An argument is the value that is sent to the function when it is called."
   ]
  },
  {
   "attachments": {},
   "cell_type": "markdown",
   "metadata": {},
   "source": [
    "### Exercise 3"
   ]
  },
  {
   "attachments": {},
   "cell_type": "markdown",
   "metadata": {},
   "source": [
    "- Function can be any data, variable or we can provide function inside function"
   ]
  },
  {
   "cell_type": "code",
   "execution_count": 13,
   "metadata": {},
   "outputs": [],
   "source": [
    "def is_even (num:int) -> bool:         # def: defining fn, is_even: is a fn name; (num:int): its a perameter, it will take any number and check odd or even;  -> its mean retun type, it will return boolien\n",
    "    if num%2 == 0:\n",
    "        return True\n",
    "    else:\n",
    "        return False  "
   ]
  },
  {
   "attachments": {},
   "cell_type": "markdown",
   "metadata": {},
   "source": [
    "- (num:int) > this is patermeter, two togehter is here is parameter\n",
    "- is_even(5) > Passing values/ somenting indise parantheise is called arguremnts"
   ]
  },
  {
   "cell_type": "code",
   "execution_count": 14,
   "metadata": {},
   "outputs": [
    {
     "ename": "TypeError",
     "evalue": "is_even() missing 1 required positional argument: 'num'",
     "output_type": "error",
     "traceback": [
      "\u001b[1;31m---------------------------------------------------------------------------\u001b[0m",
      "\u001b[1;31mTypeError\u001b[0m                                 Traceback (most recent call last)",
      "\u001b[1;32me:\\Secondary File\\Study\\Python- Econik\\Machine Learning\\ScientificComputing\\BasicPython\\functions.ipynb Cell 20\u001b[0m in \u001b[0;36m<cell line: 1>\u001b[1;34m()\u001b[0m\n\u001b[1;32m----> <a href='vscode-notebook-cell:/e%3A/Secondary%20File/Study/Python-%20Econik/Machine%20Learning/ScientificComputing/BasicPython/functions.ipynb#X26sZmlsZQ%3D%3D?line=0'>1</a>\u001b[0m is_even()\n",
      "\u001b[1;31mTypeError\u001b[0m: is_even() missing 1 required positional argument: 'num'"
     ]
    }
   ],
   "source": [
    "is_even()  # it will return a Type Error, becasue any number need to pass inside this"
   ]
  },
  {
   "cell_type": "code",
   "execution_count": 15,
   "metadata": {},
   "outputs": [
    {
     "data": {
      "text/plain": [
       "False"
      ]
     },
     "execution_count": 15,
     "metadata": {},
     "output_type": "execute_result"
    }
   ],
   "source": [
    "is_even(5)  # False because the number is odd"
   ]
  },
  {
   "cell_type": "code",
   "execution_count": 17,
   "metadata": {},
   "outputs": [
    {
     "data": {
      "text/plain": [
       "True"
      ]
     },
     "execution_count": 17,
     "metadata": {},
     "output_type": "execute_result"
    }
   ],
   "source": [
    "is_even(20)  # True, becasue the number is even"
   ]
  },
  {
   "cell_type": "code",
   "execution_count": 21,
   "metadata": {},
   "outputs": [
    {
     "ename": "TypeError",
     "evalue": "is_even() takes 1 positional argument but 5 were given",
     "output_type": "error",
     "traceback": [
      "\u001b[1;31m---------------------------------------------------------------------------\u001b[0m",
      "\u001b[1;31mTypeError\u001b[0m                                 Traceback (most recent call last)",
      "\u001b[1;32me:\\Secondary File\\Study\\Python- Econik\\Machine Learning\\ScientificComputing\\BasicPython\\functions.ipynb Cell 24\u001b[0m in \u001b[0;36m<cell line: 1>\u001b[1;34m()\u001b[0m\n\u001b[1;32m----> <a href='vscode-notebook-cell:/e%3A/Secondary%20File/Study/Python-%20Econik/Machine%20Learning/ScientificComputing/BasicPython/functions.ipynb#X40sZmlsZQ%3D%3D?line=0'>1</a>\u001b[0m is_even(\u001b[39m2\u001b[39;49m,\u001b[39m3\u001b[39;49m,\u001b[39m4\u001b[39;49m,\u001b[39m5\u001b[39;49m,\u001b[39m6\u001b[39;49m)\n",
      "\u001b[1;31mTypeError\u001b[0m: is_even() takes 1 positional argument but 5 were given"
     ]
    }
   ],
   "source": [
    "is_even(2,3,4,5,6)  # will return typeError, this can be soved with \"Dynamic Arguments\""
   ]
  },
  {
   "attachments": {},
   "cell_type": "markdown",
   "metadata": {},
   "source": [
    "# Function with Dynamic Arguments"
   ]
  },
  {
   "attachments": {},
   "cell_type": "markdown",
   "metadata": {},
   "source": [
    "### Excercise 1"
   ]
  },
  {
   "cell_type": "code",
   "execution_count": 37,
   "metadata": {},
   "outputs": [],
   "source": [
    "def is_even(*num:int) -> bool:   # * means return all/ Multiple values\n",
    "    print(num)\n",
    "    if num%2==0:\n",
    "        return True\n",
    "    else:\n",
    "        return False"
   ]
  },
  {
   "cell_type": "code",
   "execution_count": 29,
   "metadata": {},
   "outputs": [
    {
     "name": "stdout",
     "output_type": "stream",
     "text": [
      "(2, 3, 4, 5, 6, 7)\n"
     ]
    },
    {
     "ename": "TypeError",
     "evalue": "unsupported operand type(s) for %: 'tuple' and 'int'",
     "output_type": "error",
     "traceback": [
      "\u001b[1;31m---------------------------------------------------------------------------\u001b[0m",
      "\u001b[1;31mTypeError\u001b[0m                                 Traceback (most recent call last)",
      "\u001b[1;32me:\\Secondary File\\Study\\Python- Econik\\Machine Learning\\ScientificComputing\\BasicPython\\functions.ipynb Cell 27\u001b[0m in \u001b[0;36m<cell line: 1>\u001b[1;34m()\u001b[0m\n\u001b[1;32m----> <a href='vscode-notebook-cell:/e%3A/Secondary%20File/Study/Python-%20Econik/Machine%20Learning/ScientificComputing/BasicPython/functions.ipynb#X43sZmlsZQ%3D%3D?line=0'>1</a>\u001b[0m is_even(\u001b[39m2\u001b[39;49m,\u001b[39m3\u001b[39;49m,\u001b[39m4\u001b[39;49m,\u001b[39m5\u001b[39;49m,\u001b[39m6\u001b[39;49m,\u001b[39m7\u001b[39;49m)\n",
      "\u001b[1;32me:\\Secondary File\\Study\\Python- Econik\\Machine Learning\\ScientificComputing\\BasicPython\\functions.ipynb Cell 27\u001b[0m in \u001b[0;36mis_even\u001b[1;34m(*num)\u001b[0m\n\u001b[0;32m      <a href='vscode-notebook-cell:/e%3A/Secondary%20File/Study/Python-%20Econik/Machine%20Learning/ScientificComputing/BasicPython/functions.ipynb#X43sZmlsZQ%3D%3D?line=0'>1</a>\u001b[0m \u001b[39mdef\u001b[39;00m \u001b[39mis_even\u001b[39m(\u001b[39m*\u001b[39mnum:\u001b[39mint\u001b[39m) \u001b[39m-\u001b[39m\u001b[39m>\u001b[39m \u001b[39mbool\u001b[39m:\n\u001b[0;32m      <a href='vscode-notebook-cell:/e%3A/Secondary%20File/Study/Python-%20Econik/Machine%20Learning/ScientificComputing/BasicPython/functions.ipynb#X43sZmlsZQ%3D%3D?line=1'>2</a>\u001b[0m     \u001b[39mprint\u001b[39m(num)\n\u001b[1;32m----> <a href='vscode-notebook-cell:/e%3A/Secondary%20File/Study/Python-%20Econik/Machine%20Learning/ScientificComputing/BasicPython/functions.ipynb#X43sZmlsZQ%3D%3D?line=2'>3</a>\u001b[0m     \u001b[39mif\u001b[39;00m num\u001b[39m%\u001b[39;49m\u001b[39m2\u001b[39;49m\u001b[39m==\u001b[39m\u001b[39m0\u001b[39m:\n\u001b[0;32m      <a href='vscode-notebook-cell:/e%3A/Secondary%20File/Study/Python-%20Econik/Machine%20Learning/ScientificComputing/BasicPython/functions.ipynb#X43sZmlsZQ%3D%3D?line=3'>4</a>\u001b[0m         \u001b[39mreturn\u001b[39;00m \u001b[39mTrue\u001b[39;00m\n\u001b[0;32m      <a href='vscode-notebook-cell:/e%3A/Secondary%20File/Study/Python-%20Econik/Machine%20Learning/ScientificComputing/BasicPython/functions.ipynb#X43sZmlsZQ%3D%3D?line=4'>5</a>\u001b[0m     \u001b[39melse\u001b[39;00m:\n",
      "\u001b[1;31mTypeError\u001b[0m: unsupported operand type(s) for %: 'tuple' and 'int'"
     ]
    }
   ],
   "source": [
    "is_even(2,3,4,5,6,7) # This will return error, becasue of tuple & int, need to apply loop"
   ]
  },
  {
   "attachments": {},
   "cell_type": "markdown",
   "metadata": {},
   "source": [
    "### Excercise 2"
   ]
  },
  {
   "cell_type": "code",
   "execution_count": 30,
   "metadata": {},
   "outputs": [],
   "source": [
    "def is_even(*nums:int) -> bool:     \n",
    "    for num in nums:\n",
    "        if num%2==0:\n",
    "            return True\n",
    "        else:\n",
    "            return False"
   ]
  },
  {
   "cell_type": "code",
   "execution_count": 33,
   "metadata": {},
   "outputs": [
    {
     "data": {
      "text/plain": [
       "True"
      ]
     },
     "execution_count": 33,
     "metadata": {},
     "output_type": "execute_result"
    }
   ],
   "source": [
    "is_even(2,3,4,5,6,7)  # Now ok, but retured only one, becasue the reasone is \"Return\" becasue when the Return fn executed then the funtioned will be closed, return means end/ exit of funciton, for this need to create a list"
   ]
  },
  {
   "attachments": {},
   "cell_type": "markdown",
   "metadata": {},
   "source": [
    "### Excercise 3"
   ]
  },
  {
   "cell_type": "code",
   "execution_count": 35,
   "metadata": {},
   "outputs": [],
   "source": [
    "def is_even(*nums:int) -> list:    # instead of bool, will return/ create a list, which will store all nums results\n",
    "    results = []                 # [] square / will store all results\n",
    "    for num in nums:\n",
    "        if num%2==0:\n",
    "            results.append(True)\n",
    "        else:\n",
    "            results.append(False)\n",
    "    return results                 # at the end out of loop we will return results or list of result"
   ]
  },
  {
   "cell_type": "code",
   "execution_count": 36,
   "metadata": {},
   "outputs": [
    {
     "data": {
      "text/plain": [
       "[True, False, True, False, True, False]"
      ]
     },
     "execution_count": 36,
     "metadata": {},
     "output_type": "execute_result"
    }
   ],
   "source": [
    "is_even(2,3,4,5,6,7)"
   ]
  },
  {
   "attachments": {},
   "cell_type": "markdown",
   "metadata": {},
   "source": [
    "## Print vs Return"
   ]
  },
  {
   "cell_type": "code",
   "execution_count": null,
   "metadata": {},
   "outputs": [],
   "source": []
  },
  {
   "attachments": {},
   "cell_type": "markdown",
   "metadata": {},
   "source": [
    "- Print just show the value as you want to see, you can not store the print result, print not return anything\n",
    "- Return is printing something which can be stored too, like someone gives you something at your hand, then you can save it, process it and you can use it whenever you want"
   ]
  },
  {
   "cell_type": "code",
   "execution_count": 20,
   "metadata": {},
   "outputs": [
    {
     "data": {
      "text/plain": [
       "True"
      ]
     },
     "execution_count": 20,
     "metadata": {},
     "output_type": "execute_result"
    }
   ],
   "source": [
    "# Return, stored in var \n",
    "var1 = is_even(4)\n",
    "var1"
   ]
  }
 ],
 "metadata": {
  "kernelspec": {
   "display_name": "Python 3",
   "language": "python",
   "name": "python3"
  },
  "language_info": {
   "codemirror_mode": {
    "name": "ipython",
    "version": 3
   },
   "file_extension": ".py",
   "mimetype": "text/x-python",
   "name": "python",
   "nbconvert_exporter": "python",
   "pygments_lexer": "ipython3",
   "version": "3.10.2"
  },
  "orig_nbformat": 4,
  "vscode": {
   "interpreter": {
    "hash": "c19fa61d258bb2b35aae2ada233c33e2817c1ce895aa48acba720c6bf7cbe3cb"
   }
  }
 },
 "nbformat": 4,
 "nbformat_minor": 2
}
