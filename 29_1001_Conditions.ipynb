{
 "cells": [
  {
   "cell_type": "markdown",
   "id": "8ce4ca11",
   "metadata": {},
   "source": [
    "# Conditions"
   ]
  },
  {
   "cell_type": "markdown",
   "id": "bec685d2",
   "metadata": {},
   "source": [
    "- Ref:291001"
   ]
  },
  {
   "cell_type": "code",
   "execution_count": 4,
   "id": "52ec809b",
   "metadata": {},
   "outputs": [
    {
     "name": "stdout",
     "output_type": "stream",
     "text": [
      "Eligible for Debit Card\n"
     ]
    }
   ],
   "source": [
    "age = 20  # This statement is true, so it will run & execute the conditions\n",
    "\n",
    "if age >=18:\n",
    "    print(\"Eligible for Debit Card\")  \n",
    "# indentation is very important, by this indentation the complier will understand this statement remain under if condition"
   ]
  },
  {
   "cell_type": "code",
   "execution_count": 3,
   "id": "eab553d9",
   "metadata": {},
   "outputs": [],
   "source": [
    "age = 17  # This statement is False, so it will not run & execute the conditions\n",
    "\n",
    "if age >=18:\n",
    "    print(\"Eligible for Debit Card\")  "
   ]
  },
  {
   "cell_type": "code",
   "execution_count": 5,
   "id": "f1d1c354",
   "metadata": {},
   "outputs": [
    {
     "ename": "IndentationError",
     "evalue": "expected an indented block (Temp/ipykernel_13576/2793477595.py, line 4)",
     "output_type": "error",
     "traceback": [
      "\u001b[1;36m  File \u001b[1;32m\"C:\\Users\\Maruf\\AppData\\Local\\Temp/ipykernel_13576/2793477595.py\"\u001b[1;36m, line \u001b[1;32m4\u001b[0m\n\u001b[1;33m    print(\"Eligible for Debit Card\")\u001b[0m\n\u001b[1;37m    ^\u001b[0m\n\u001b[1;31mIndentationError\u001b[0m\u001b[1;31m:\u001b[0m expected an indented block\n"
     ]
    }
   ],
   "source": [
    "age = 17  # Without indentation, it will return indentation error, atleast \"Pass\" can be used\n",
    "\n",
    "if age >=18:\n",
    "print(\"Eligible for Debit Card\")  "
   ]
  },
  {
   "cell_type": "code",
   "execution_count": 7,
   "id": "97c00e6b",
   "metadata": {},
   "outputs": [
    {
     "name": "stdout",
     "output_type": "stream",
     "text": [
      "Eligible for Debit Card\n"
     ]
    }
   ],
   "source": [
    "age = 17  # Without indentation, it will return indentation error, atleast \"Pass\" can be used\n",
    "\n",
    "if age >=18:\n",
    "    pass      # Pass mean do nothing\n",
    "print(\"Eligible for Debit Card\") "
   ]
  },
  {
   "cell_type": "markdown",
   "id": "4c1cbaae",
   "metadata": {},
   "source": [
    "## Comparision Operator , Multiple Conditions"
   ]
  },
  {
   "cell_type": "markdown",
   "id": "2307544c",
   "metadata": {},
   "source": [
    "- Problem 1: Check Debit Card eligiblity with different given age value with the following conditions:\n",
    "- Conditions: A person will be eligible for debit card if the age group between 18 to 60 years old"
   ]
  },
  {
   "cell_type": "markdown",
   "id": "1a96b706",
   "metadata": {},
   "source": [
    "- Hints: In case of and condition both statement must be truth, otherwise it will return nothing, or nothing nothing if any single statement is False\n",
    "- AND: Both Statement must true, Any false no return\n",
    "- Else: Will be executed when false !"
   ]
  },
  {
   "cell_type": "code",
   "execution_count": 4,
   "id": "9b27732f",
   "metadata": {},
   "outputs": [],
   "source": [
    "# Let, Age = 17\n",
    "age = 17\n",
    "if (age >= 18) and (age <= 60):\n",
    "    print('Eligible for Debit Card')"
   ]
  },
  {
   "cell_type": "code",
   "execution_count": 8,
   "id": "e517941b",
   "metadata": {},
   "outputs": [
    {
     "name": "stdout",
     "output_type": "stream",
     "text": [
      "Enter Your Age : 25\n",
      "You are eligible for Debit Card\n"
     ]
    }
   ],
   "source": [
    "# Takes Inputer\n",
    "age = int(input('Enter Your Age : '))\n",
    "if (age >=18) and (age <=60):\n",
    "    print('You are eligible for Debit Card')\n",
    "    \n",
    "else:\n",
    "    print('Sorry! Conditions not satisfied')"
   ]
  },
  {
   "cell_type": "markdown",
   "id": "3d7fc66f",
   "metadata": {},
   "source": [
    " #### Problem 2"
   ]
  },
  {
   "cell_type": "markdown",
   "id": "1e25897b",
   "metadata": {},
   "source": [
    "- <b> Check a person card eligibility with following conditons:</b>\n",
    "1. Age limit for Debit card 18 to 60\n",
    "2. Anybody can get Green Card if Age >= 14"
   ]
  },
  {
   "cell_type": "code",
   "execution_count": 11,
   "id": "b6cecd7e",
   "metadata": {},
   "outputs": [
    {
     "name": "stdout",
     "output_type": "stream",
     "text": [
      "Enter Your Age :14\n",
      "You are eligible for Green Card\n"
     ]
    }
   ],
   "source": [
    "# Solution 2\n",
    "age = int(input('Enter Your Age :'))\n",
    "\n",
    "if (age >=18) and (age<=60):\n",
    "    print('You are eligible for Debit Card')\n",
    "elif age >=14:\n",
    "    print('You are eligible for Green Card')\n",
    "else:\n",
    "    print('Sorry! Conditions not satisfied')"
   ]
  },
  {
   "cell_type": "markdown",
   "id": "f3c09595",
   "metadata": {},
   "source": [
    " #### Problem 3"
   ]
  },
  {
   "cell_type": "markdown",
   "id": "9a40527a",
   "metadata": {},
   "source": [
    "- <b> Check a person card eligibility with following conditons:</b>\n",
    "1. Age limit for Debit card 18 to 60\n",
    "2. Anybody can get Green Card if Age >= 14\n",
    "3. Anybody can get Zero Balance Account if Age >= 10"
   ]
  },
  {
   "cell_type": "code",
   "execution_count": 14,
   "id": "c3d235c7",
   "metadata": {},
   "outputs": [
    {
     "name": "stdout",
     "output_type": "stream",
     "text": [
      "Enter Your Age : 10\n",
      "You are eligible for Zero Balance Card\n"
     ]
    }
   ],
   "source": [
    "# Solution 3\n",
    "age = int(input('Enter Your Age : '))\n",
    "\n",
    "if (age>=18) and (age<=60):\n",
    "    print('You are eligible for Debit Card')\n",
    "elif age >= 14:       # Using Space between  > & = is not recommended!\n",
    "    print('You are eligible for Green Card')\n",
    "elif age >= 10:\n",
    "    print('You are eligible for Zero Balance Card')\n",
    "else:\n",
    "    print('Sorry! Conditions not satisfied')"
   ]
  },
  {
   "cell_type": "markdown",
   "id": "6914cf19",
   "metadata": {},
   "source": [
    "# Nested Conditions"
   ]
  },
  {
   "cell_type": "markdown",
   "id": "38dc2f2e",
   "metadata": {},
   "source": [
    "- It uses when conditions applied inside a condition"
   ]
  },
  {
   "cell_type": "markdown",
   "id": "c52a737f",
   "metadata": {},
   "source": [
    "#### Problem 4"
   ]
  },
  {
   "cell_type": "markdown",
   "id": "db426650",
   "metadata": {},
   "source": [
    "<b> Check Card Eligibility with following conditions: </b>\n",
    "1. Credit Card if salary > 40k\n",
    "2. Otherwise Debit card\n",
    "3. Green Card at least 14 years\n",
    "4. Zero Balance card for at least 10 years"
   ]
  },
  {
   "cell_type": "code",
   "execution_count": 19,
   "id": "cb5f9266",
   "metadata": {},
   "outputs": [
    {
     "name": "stdout",
     "output_type": "stream",
     "text": [
      "Enter Your Age : 40\n",
      "Enter Your Salary : 50000\n",
      "Eligible for Credit Card\n"
     ]
    }
   ],
   "source": [
    "age = int(input('Enter Your Age : '))\n",
    "salary = int(input('Enter Your Salary : '))\n",
    "\n",
    "if (age>=18) and (age<=60):\n",
    "    if salary > 40000:\n",
    "        print('Eligible for Credit Card')\n",
    "    else:\n",
    "        print('Your Salary is less then 40K, You are eligible for Debit Card')\n",
    "elif age >= 14:\n",
    "    print('Eligible for Green Card')\n",
    "elif age >=10:\n",
    "    print('Eligible for Zero Balance Card')\n",
    "else:\n",
    "    print('Sorry! Not Eligible')\n"
   ]
  },
  {
   "cell_type": "markdown",
   "id": "749691f2",
   "metadata": {},
   "source": [
    "#### Problem 5"
   ]
  },
  {
   "cell_type": "markdown",
   "id": "9d57cad3",
   "metadata": {},
   "source": [
    "<b> Check Card Eligibility with following conditions: </b>\n",
    "1. Credit Card if salary > 40k (while salary > 100k Gold Credit Card & if salary < 100k platinum credit card\n",
    "2. Otherwise Debit card\n",
    "3. Green Card at least 14 years\n",
    "4. Zero Balance card for at least 10 years"
   ]
  },
  {
   "cell_type": "code",
   "execution_count": 22,
   "id": "aae9800e",
   "metadata": {},
   "outputs": [
    {
     "name": "stdout",
     "output_type": "stream",
     "text": [
      "Enter Your Age : 40\n",
      "Enter Your Salary : 105000\n",
      "Eligible for Gold Credit Card!\n"
     ]
    }
   ],
   "source": [
    "age = int(input('Enter Your Age : '))\n",
    "salary = int(input('Enter Your Salary : '))\n",
    "\n",
    "if (age >=18) and (age <=60):\n",
    "    if salary >=40000:\n",
    "        if salary >=100000:\n",
    "            print(\"Eligible for Gold Credit Card!\")\n",
    "        else:\n",
    "            print(\"Eligible for Platinum Credit Card!\")\n",
    "    else:\n",
    "        print(\"Eligible for Debit Card!\")\n",
    "elif age >=14:\n",
    "    print(\"Eligible for Green Card!\")\n",
    "elif age >=10:\n",
    "    print(\"Eligible for Zero Balance Card!\")\n",
    "else:\n",
    "    print(\"Sorry, Not Eligible!\")"
   ]
  },
  {
   "cell_type": "markdown",
   "id": "08cfc9e0",
   "metadata": {},
   "source": [
    "#### Problem 6: Check Odd or Even Numbers"
   ]
  },
  {
   "cell_type": "code",
   "execution_count": 25,
   "id": "0f2fa4fa",
   "metadata": {},
   "outputs": [
    {
     "name": "stdout",
     "output_type": "stream",
     "text": [
      "Enter a number : 5\n",
      "This is an Odd Number\n",
      "Else Block Executed\n"
     ]
    }
   ],
   "source": [
    "number = int(input('Enter a number : '))\n",
    "\n",
    "if (number%2==0):\n",
    "    print('This is an Even Number')\n",
    "    print('If Block Executed!')\n",
    "    \n",
    "else:\n",
    "    print('This is an Odd Number')\n",
    "    print('Else Block Executed')"
   ]
  },
  {
   "cell_type": "markdown",
   "id": "e0d9fd78",
   "metadata": {},
   "source": [
    "#### Problem 7: Write a simple program for greetings"
   ]
  },
  {
   "cell_type": "code",
   "execution_count": 28,
   "id": "84582422",
   "metadata": {},
   "outputs": [
    {
     "name": "stdout",
     "output_type": "stream",
     "text": [
      "Enter Your Text : bye\n",
      "bye bye\n",
      "Execution Ended!!\n"
     ]
    }
   ],
   "source": [
    "greeting_text = input('Enter Your Text : ') # default type is text\n",
    "\n",
    "if (greeting_text == 'hello'):\n",
    "    print('Hi')\n",
    "    \n",
    "elif (greeting_text =='good Morning'):\n",
    "    print('Good Morning You too!')\n",
    "    \n",
    "elif (greeting_text =='bye'):\n",
    "    print('bye bye')\n",
    "    \n",
    "else:\n",
    "    print('Can I help You ?')\n",
    "    \n",
    "print('Execution Ended!!')"
   ]
  },
  {
   "attachments": {
    "image.png": {
     "image/png": "[encoded data removed]"
    }
   },
   "cell_type": "markdown",
   "id": "b7fb142b",
   "metadata": {},
   "source": [
    "![image.png](attachment:image.png)"
   ]
  },
  {
   "cell_type": "code",
   "execution_count": 29,
   "id": "e9c6ed11",
   "metadata": {},
   "outputs": [
    {
     "name": "stdout",
     "output_type": "stream",
     "text": [
      "Enter Length : 32.42\n",
      "Enter Width : 22.9\n",
      "Enter Unit Cost : 20\n",
      "Total Area is :  742.418\n",
      "Total Cost is :  14848.36\n"
     ]
    }
   ],
   "source": [
    "# Solution:\n",
    "len = float(input('Enter Length : '))\n",
    "wid = float(input('Enter Width : '))\n",
    "unit_cost = float(input('Enter Unit Cost : '))\n",
    "\n",
    "area = len*wid\n",
    "print('Total Area is : ', area)\n",
    "\n",
    "total_cost = area*unit_cost\n",
    "print('Total Cost is : ', total_cost)"
   ]
  },
  {
   "cell_type": "markdown",
   "id": "1aaa2253",
   "metadata": {},
   "source": [
    "- Float is save, becasue we can present int or purno sonkha by 1.0"
   ]
  },
  {
   "cell_type": "code",
   "execution_count": null,
   "id": "74ed6a78",
   "metadata": {},
   "outputs": [],
   "source": []
  }
 ],
 "metadata": {
  "kernelspec": {
   "display_name": "Python 3 (ipykernel)",
   "language": "python",
   "name": "python3"
  },
  "language_info": {
   "codemirror_mode": {
    "name": "ipython",
    "version": 3
   },
   "file_extension": ".py",
   "mimetype": "text/x-python",
   "name": "python",
   "nbconvert_exporter": "python",
   "pygments_lexer": "ipython3",
   "version": "3.9.7"
  }
 },
 "nbformat": 4,
 "nbformat_minor": 5
}
