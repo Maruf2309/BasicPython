{
 "cells": [
  {
   "cell_type": "code",
   "execution_count": null,
   "metadata": {},
   "outputs": [],
   "source": []
  }
 ],
 "metadata": {
  "kernelspec": {
   "display_name": "Python 3.10.7 ('mldsenv': venv)",
   "language": "python",
   "name": "python3"
  },
  "language_info": {
   "name": "python",
   "version": "3.10.7"
  },
  "orig_nbformat": 4,
  "vscode": {
   "interpreter": {
    "hash": "773a8131a1d2fa232342c3d3a1c8349fe5556c237e75c56d2a3ffbf426882716"
   }
  }
 },
 "nbformat": 4,
 "nbformat_minor": 2
}
