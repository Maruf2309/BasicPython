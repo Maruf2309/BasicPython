{
  "nbformat": 4,
  "nbformat_minor": 0,
  "metadata": {
    "colab": {
      "provenance": []
    },
    "kernelspec": {
      "name": "python3",
      "display_name": "Python 3"
    },
    "language_info": {
      "name": "python"
    }
  },
  "cells": [
    {
      "cell_type": "markdown",
      "source": [
        "# Assigment - AI (JPN)"
      ],
      "metadata": {
        "id": "l7dUK3aBA8nz"
      }
    },
    {
      "cell_type": "markdown",
      "source": [
        "# Test 1"
      ],
      "metadata": {
        "id": "6HN0BWpxA5vO"
      }
    },
    {
      "cell_type": "markdown",
      "source": [
        "* Write a Python program Return multiple values from a function\n",
        "* Input: 100 50"
      ],
      "metadata": {
        "id": "YRhHMj09Asws"
      }
    },
    {
      "cell_type": "code",
      "source": [
        "# Question 1\n",
        "def add_sub(num1, num2):\n",
        "  addition = num1 + num2\n",
        "  subtraction = num1 - num2\n",
        "  return f\"Addition: {addition}\", f\"subtraction: {subtraction}\"\n",
        "\n",
        "add_result, sub_result = add_sub(100, 50)\n",
        "\n",
        "print(add_result)\n",
        "print(sub_result)"
      ],
      "metadata": {
        "colab": {
          "base_uri": "https://localhost:8080/"
        },
        "id": "rndtAmr3AjUH",
        "outputId": "67b8d55e-5ba4-4cab-eb3a-28a2501cc545"
      },
      "execution_count": 7,
      "outputs": [
        {
          "output_type": "stream",
          "name": "stdout",
          "text": [
            "Addition: 150\n",
            "subtraction: 50\n"
          ]
        }
      ]
    },
    {
      "cell_type": "code",
      "execution_count": 1,
      "metadata": {
        "colab": {
          "base_uri": "https://localhost:8080/"
        },
        "id": "i3rl1tS_-12T",
        "outputId": "34c3785f-d807-4f78-b092-ab2c5b6169f8"
      },
      "outputs": [
        {
          "output_type": "stream",
          "name": "stdout",
          "text": [
            "Output: 2, 4, 6, 8, 10, 12, 14, 16, 18, 20\n"
          ]
        }
      ],
      "source": [
        "def generate_even_numbers(start, end):\n",
        "    # Initialize an empty list to store even numbers\n",
        "    even_numbers = []\n",
        "\n",
        "    # Iterate through the range from start to end (inclusive)\n",
        "    for num in range(start, end + 1):\n",
        "        if num % 2 == 0:\n",
        "            even_numbers.append(num)\n",
        "\n",
        "    return even_numbers\n",
        "\n",
        "# Input range\n",
        "start_num = 2\n",
        "end_num = 20\n",
        "\n",
        "# Call the function\n",
        "even_list = generate_even_numbers(start_num, end_num)\n",
        "\n",
        "# Convert the list to a comma-separated string\n",
        "even_numbers_str = ', '.join(map(str, even_list))\n",
        "\n",
        "# Display the output\n",
        "print(f\"Output: {even_numbers_str}\")\n"
      ]
    },
    {
      "cell_type": "markdown",
      "source": [],
      "metadata": {
        "id": "_mb0s6i4_UQa"
      }
    },
    {
      "cell_type": "code",
      "source": [],
      "metadata": {
        "id": "SKQLsUvB_Uut"
      },
      "execution_count": null,
      "outputs": []
    },
    {
      "cell_type": "code",
      "source": [
        "# Method 1: Using a Function (Custom Implementation)\n",
        "def find_largest(num1, num2, num3):\n",
        "    # Compare the numbers to find the largest\n",
        "    if num1 >= num2 and num1 >= num3:\n",
        "        largest = num1\n",
        "    elif num2 >= num1 and num2 >= num3:\n",
        "        largest = num2\n",
        "    else:\n",
        "        largest = num3\n",
        "    return largest\n",
        "\n",
        "# Input values\n",
        "num1 = 40\n",
        "num2 = 37\n",
        "num3 = 53\n",
        "\n",
        "# Call the function\n",
        "result = find_largest(num1, num2, num3)\n",
        "\n",
        "# Display the output\n",
        "print(f\"The largest number is {result}\")\n"
      ],
      "metadata": {
        "colab": {
          "base_uri": "https://localhost:8080/"
        },
        "id": "0gLigPun_VFB",
        "outputId": "4cfc1b40-5a14-4799-f0fa-f02d8327051e"
      },
      "execution_count": 5,
      "outputs": [
        {
          "output_type": "stream",
          "name": "stdout",
          "text": [
            "The largest number is 53\n"
          ]
        }
      ]
    },
    {
      "cell_type": "code",
      "source": [
        "# Method 2: Using python built In Function\n",
        "def find_largest_builtin(num1, num2, num3):\n",
        "    # Use max() to find the largest number\n",
        "    largest = max(num1, num2, num3)\n",
        "    return largest\n",
        "\n",
        "# Input values\n",
        "num1 = 40\n",
        "num2 = 37\n",
        "num3 = 53\n",
        "\n",
        "# Call the function\n",
        "result_builtin = find_largest_builtin(num1, num2, num3)\n",
        "\n",
        "# Display the output\n",
        "print(f\"The largest number (using max()) is {result_builtin}\")\n"
      ],
      "metadata": {
        "colab": {
          "base_uri": "https://localhost:8080/"
        },
        "id": "faMci8G5_Znv",
        "outputId": "8a684082-ee5c-4e39-da02-6e25c63ea819"
      },
      "execution_count": 4,
      "outputs": [
        {
          "output_type": "stream",
          "name": "stdout",
          "text": [
            "The largest number (using max()) is 53\n"
          ]
        }
      ]
    },
    {
      "cell_type": "code",
      "source": [
        "# Question 3\n",
        "def max_num(num1, num2, num3):\n",
        "  if num1 >= num2 and num1 >= num3:\n",
        "    return num1\n",
        "  elif num2 >= num1 and num2 >= num3:\n",
        "    return num2\n",
        "  else:\n",
        "    return num3\n",
        "\n",
        "print(max_num(40,37,53))"
      ],
      "metadata": {
        "colab": {
          "base_uri": "https://localhost:8080/"
        },
        "id": "ai5FO_z7_dcy",
        "outputId": "2cac38bd-92cb-4eed-cae6-e06d6f750e0b"
      },
      "execution_count": 6,
      "outputs": [
        {
          "output_type": "stream",
          "name": "stdout",
          "text": [
            "53\n"
          ]
        }
      ]
    }
  ]
}