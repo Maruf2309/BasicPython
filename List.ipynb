{
 "cells": [
  {
   "cell_type": "markdown",
   "id": "bf6551e6",
   "metadata": {},
   "source": [
    "# Data Structure - List"
   ]
  },
  {
   "cell_type": "markdown",
   "id": "eb794b67",
   "metadata": {},
   "source": [
    "### List Characteristics"
   ]
  },
  {
   "cell_type": "markdown",
   "id": "6ba711d5",
   "metadata": {},
   "source": [
    "- Mutable/ Changeable\n",
    "- Ordered Sequence\n",
    "- Allow Duplicate\n",
    "- Accessible\n",
    "- Different kind of values can be stored\n",
    "- Use Square Bracked [ ] with comma seperation"
   ]
  },
  {
   "cell_type": "markdown",
   "id": "7208af34",
   "metadata": {},
   "source": [
    "### Topic"
   ]
  },
  {
   "cell_type": "markdown",
   "id": "e92f796a",
   "metadata": {},
   "source": [
    "- List Access/ Indexcing\n",
    "- List Method (Append, Extend, Delete, Pop, Remove, Replace, Insert, count, index, Reverse, len, sort, clear, copy )\n",
    "- Shallow Copy Vs Deep Copy\n",
    "- List Constructor\n",
    "- input list from user\n",
    "- List Pairing\n",
    "- indexcing pair list\n",
    "- Multiple values update together"
   ]
  },
  {
   "cell_type": "code",
   "execution_count": 1,
   "id": "532b29a8",
   "metadata": {},
   "outputs": [],
   "source": [
    "l1 = [2,3,4,5,8]"
   ]
  },
  {
   "cell_type": "code",
   "execution_count": 2,
   "id": "efd1d723",
   "metadata": {},
   "outputs": [
    {
     "data": {
      "text/plain": [
       "[2, 3, 4, 5, 8]"
      ]
     },
     "execution_count": 2,
     "metadata": {},
     "output_type": "execute_result"
    }
   ],
   "source": [
    "l1"
   ]
  },
  {
   "cell_type": "code",
   "execution_count": 3,
   "id": "f5d6b0b8",
   "metadata": {},
   "outputs": [
    {
     "data": {
      "text/plain": [
       "list"
      ]
     },
     "execution_count": 3,
     "metadata": {},
     "output_type": "execute_result"
    }
   ],
   "source": [
    "type(l1)"
   ]
  },
  {
   "cell_type": "markdown",
   "id": "afe4d50c",
   "metadata": {},
   "source": [
    "## Indexing / List Slicing"
   ]
  },
  {
   "cell_type": "code",
   "execution_count": 4,
   "id": "bf05b89a",
   "metadata": {},
   "outputs": [
    {
     "data": {
      "text/plain": [
       "2"
      ]
     },
     "execution_count": 4,
     "metadata": {},
     "output_type": "execute_result"
    }
   ],
   "source": [
    "l1[0]"
   ]
  },
  {
   "cell_type": "code",
   "execution_count": 5,
   "id": "d78ca7fa",
   "metadata": {},
   "outputs": [
    {
     "data": {
      "text/plain": [
       "4"
      ]
     },
     "execution_count": 5,
     "metadata": {},
     "output_type": "execute_result"
    }
   ],
   "source": [
    "l1[2]"
   ]
  },
  {
   "cell_type": "code",
   "execution_count": 6,
   "id": "58dd2489",
   "metadata": {},
   "outputs": [
    {
     "data": {
      "text/plain": [
       "8"
      ]
     },
     "execution_count": 6,
     "metadata": {},
     "output_type": "execute_result"
    }
   ],
   "source": [
    "l1[-1] # Negative Indexing"
   ]
  },
  {
   "cell_type": "code",
   "execution_count": 7,
   "id": "c2689738",
   "metadata": {},
   "outputs": [
    {
     "data": {
      "text/plain": [
       "[2, 3]"
      ]
     },
     "execution_count": 7,
     "metadata": {},
     "output_type": "execute_result"
    }
   ],
   "source": [
    "l1[0:2]"
   ]
  },
  {
   "cell_type": "code",
   "execution_count": 8,
   "id": "80b86457",
   "metadata": {},
   "outputs": [
    {
     "data": {
      "text/plain": [
       "[2, 3, 4]"
      ]
     },
     "execution_count": 8,
     "metadata": {},
     "output_type": "execute_result"
    }
   ],
   "source": [
    "l1[0:3]"
   ]
  },
  {
   "cell_type": "code",
   "execution_count": 9,
   "id": "3744765e",
   "metadata": {},
   "outputs": [
    {
     "data": {
      "text/plain": [
       "[2, 3, 4, 5, 8]"
      ]
     },
     "execution_count": 9,
     "metadata": {},
     "output_type": "execute_result"
    }
   ],
   "source": [
    "l1[0:5]"
   ]
  },
  {
   "cell_type": "code",
   "execution_count": 10,
   "id": "214eb355",
   "metadata": {},
   "outputs": [
    {
     "data": {
      "text/plain": [
       "[4, 5]"
      ]
     },
     "execution_count": 10,
     "metadata": {},
     "output_type": "execute_result"
    }
   ],
   "source": [
    "l1[2:4]  # When Accessing 4, 5"
   ]
  },
  {
   "cell_type": "code",
   "execution_count": 11,
   "id": "ea1188d3",
   "metadata": {},
   "outputs": [
    {
     "data": {
      "text/plain": [
       "[5, 8]"
      ]
     },
     "execution_count": 11,
     "metadata": {},
     "output_type": "execute_result"
    }
   ],
   "source": [
    "l1[3:5] # When Accessing 5, 8"
   ]
  },
  {
   "cell_type": "code",
   "execution_count": 12,
   "id": "c728bca9",
   "metadata": {},
   "outputs": [
    {
     "data": {
      "text/plain": [
       "[3, 4]"
      ]
     },
     "execution_count": 12,
     "metadata": {},
     "output_type": "execute_result"
    }
   ],
   "source": [
    "l1[1:3]"
   ]
  },
  {
   "cell_type": "code",
   "execution_count": 13,
   "id": "f6e8c481",
   "metadata": {},
   "outputs": [
    {
     "data": {
      "text/plain": [
       "[3, 4, 5]"
      ]
     },
     "execution_count": 13,
     "metadata": {},
     "output_type": "execute_result"
    }
   ],
   "source": [
    "l1[1:4]"
   ]
  },
  {
   "cell_type": "code",
   "execution_count": 14,
   "id": "27d6ec6f",
   "metadata": {},
   "outputs": [
    {
     "data": {
      "text/plain": [
       "[3, 4, 5, 8]"
      ]
     },
     "execution_count": 14,
     "metadata": {},
     "output_type": "execute_result"
    }
   ],
   "source": [
    "l1[1:5]"
   ]
  },
  {
   "cell_type": "code",
   "execution_count": 15,
   "id": "e099be6d",
   "metadata": {},
   "outputs": [],
   "source": [
    "l1[0] = 'Replace1'"
   ]
  },
  {
   "cell_type": "code",
   "execution_count": 16,
   "id": "3451d2e9",
   "metadata": {},
   "outputs": [
    {
     "data": {
      "text/plain": [
       "['Replace1', 3, 4, 5, 8]"
      ]
     },
     "execution_count": 16,
     "metadata": {},
     "output_type": "execute_result"
    }
   ],
   "source": [
    "l1 # It is mutable"
   ]
  },
  {
   "cell_type": "markdown",
   "id": "dbe8de87",
   "metadata": {},
   "source": [
    "### Append"
   ]
  },
  {
   "cell_type": "code",
   "execution_count": 17,
   "id": "c169e0a8",
   "metadata": {},
   "outputs": [],
   "source": [
    "l1.append('Bangladesh')"
   ]
  },
  {
   "cell_type": "code",
   "execution_count": 18,
   "id": "14d898d4",
   "metadata": {},
   "outputs": [
    {
     "data": {
      "text/plain": [
       "['Replace1', 3, 4, 5, 8, 'Bangladesh']"
      ]
     },
     "execution_count": 18,
     "metadata": {},
     "output_type": "execute_result"
    }
   ],
   "source": [
    "l1"
   ]
  },
  {
   "cell_type": "code",
   "execution_count": 19,
   "id": "c1e88edd",
   "metadata": {},
   "outputs": [],
   "source": [
    "l1.append(5) # Check duplication allow"
   ]
  },
  {
   "cell_type": "code",
   "execution_count": 20,
   "id": "3650838b",
   "metadata": {},
   "outputs": [
    {
     "data": {
      "text/plain": [
       "['Replace1', 3, 4, 5, 8, 'Bangladesh', 5]"
      ]
     },
     "execution_count": 20,
     "metadata": {},
     "output_type": "execute_result"
    }
   ],
   "source": [
    "l1"
   ]
  },
  {
   "cell_type": "markdown",
   "id": "08bb0429",
   "metadata": {},
   "source": [
    "## Memory Size"
   ]
  },
  {
   "cell_type": "code",
   "execution_count": 21,
   "id": "9d0d238e",
   "metadata": {},
   "outputs": [
    {
     "data": {
      "text/plain": [
       "120"
      ]
     },
     "execution_count": 21,
     "metadata": {},
     "output_type": "execute_result"
    }
   ],
   "source": [
    "import sys\n",
    "sys.getsizeof(l1)"
   ]
  },
  {
   "cell_type": "code",
   "execution_count": 22,
   "id": "f79ebe4e",
   "metadata": {},
   "outputs": [
    {
     "data": {
      "text/plain": [
       "5"
      ]
     },
     "execution_count": 22,
     "metadata": {},
     "output_type": "execute_result"
    }
   ],
   "source": [
    "l1.pop()"
   ]
  },
  {
   "cell_type": "code",
   "execution_count": 23,
   "id": "91adda50",
   "metadata": {},
   "outputs": [
    {
     "data": {
      "text/plain": [
       "['Replace1', 3, 4, 5, 8, 'Bangladesh']"
      ]
     },
     "execution_count": 23,
     "metadata": {},
     "output_type": "execute_result"
    }
   ],
   "source": [
    "l1"
   ]
  },
  {
   "cell_type": "markdown",
   "id": "216776dc",
   "metadata": {},
   "source": [
    "## Pop"
   ]
  },
  {
   "cell_type": "code",
   "execution_count": 24,
   "id": "0fc14630",
   "metadata": {},
   "outputs": [
    {
     "data": {
      "text/plain": [
       "'Bangladesh'"
      ]
     },
     "execution_count": 24,
     "metadata": {},
     "output_type": "execute_result"
    }
   ],
   "source": [
    "l1.pop()"
   ]
  },
  {
   "cell_type": "code",
   "execution_count": 25,
   "id": "b3657183",
   "metadata": {},
   "outputs": [
    {
     "data": {
      "text/plain": [
       "['Replace1', 3, 4, 5, 8]"
      ]
     },
     "execution_count": 25,
     "metadata": {},
     "output_type": "execute_result"
    }
   ],
   "source": [
    "l1"
   ]
  },
  {
   "cell_type": "code",
   "execution_count": 26,
   "id": "22e6822d",
   "metadata": {},
   "outputs": [
    {
     "data": {
      "text/plain": [
       "'Replace1'"
      ]
     },
     "execution_count": 26,
     "metadata": {},
     "output_type": "execute_result"
    }
   ],
   "source": [
    "l1.pop(0)"
   ]
  },
  {
   "cell_type": "code",
   "execution_count": 27,
   "id": "16bb5ab2",
   "metadata": {},
   "outputs": [
    {
     "data": {
      "text/plain": [
       "[3, 4, 5, 8]"
      ]
     },
     "execution_count": 27,
     "metadata": {},
     "output_type": "execute_result"
    }
   ],
   "source": [
    "l1"
   ]
  },
  {
   "cell_type": "markdown",
   "id": "ef67eaca",
   "metadata": {},
   "source": [
    "# Creating List by using List Constructor"
   ]
  },
  {
   "cell_type": "code",
   "execution_count": 28,
   "id": "b179a6ba",
   "metadata": {},
   "outputs": [],
   "source": [
    "l2 = list(('ai', 12, (1,2,3,4)))"
   ]
  },
  {
   "cell_type": "code",
   "execution_count": 29,
   "id": "9db65f4b",
   "metadata": {},
   "outputs": [
    {
     "data": {
      "text/plain": [
       "['ai', 12, (1, 2, 3, 4)]"
      ]
     },
     "execution_count": 29,
     "metadata": {},
     "output_type": "execute_result"
    }
   ],
   "source": [
    "l2"
   ]
  },
  {
   "cell_type": "code",
   "execution_count": 30,
   "id": "68118cde",
   "metadata": {},
   "outputs": [
    {
     "data": {
      "text/plain": [
       "list"
      ]
     },
     "execution_count": 30,
     "metadata": {},
     "output_type": "execute_result"
    }
   ],
   "source": [
    "type(l2)"
   ]
  },
  {
   "cell_type": "code",
   "execution_count": 31,
   "id": "e9c58ff5",
   "metadata": {},
   "outputs": [
    {
     "data": {
      "text/plain": [
       "(1, 2, 3, 4)"
      ]
     },
     "execution_count": 31,
     "metadata": {},
     "output_type": "execute_result"
    }
   ],
   "source": [
    "l2[2]"
   ]
  },
  {
   "cell_type": "code",
   "execution_count": 32,
   "id": "e30cc933",
   "metadata": {},
   "outputs": [
    {
     "data": {
      "text/plain": [
       "(1, 2, 3, 4)"
      ]
     },
     "execution_count": 32,
     "metadata": {},
     "output_type": "execute_result"
    }
   ],
   "source": [
    "l2[2][0:4] # alternative  [Start:End]"
   ]
  },
  {
   "cell_type": "code",
   "execution_count": 33,
   "id": "284c852a",
   "metadata": {},
   "outputs": [
    {
     "data": {
      "text/plain": [
       "(3, 4)"
      ]
     },
     "execution_count": 33,
     "metadata": {},
     "output_type": "execute_result"
    }
   ],
   "source": [
    "l2[2][2:4]  # Accessing last two"
   ]
  },
  {
   "cell_type": "code",
   "execution_count": 34,
   "id": "25de2a79",
   "metadata": {},
   "outputs": [
    {
     "data": {
      "text/plain": [
       "'ai'"
      ]
     },
     "execution_count": 34,
     "metadata": {},
     "output_type": "execute_result"
    }
   ],
   "source": [
    "l2[0]"
   ]
  },
  {
   "cell_type": "code",
   "execution_count": 35,
   "id": "862ea3b1",
   "metadata": {},
   "outputs": [
    {
     "data": {
      "text/plain": [
       "12"
      ]
     },
     "execution_count": 35,
     "metadata": {},
     "output_type": "execute_result"
    }
   ],
   "source": [
    "l2[1]"
   ]
  },
  {
   "cell_type": "code",
   "execution_count": 36,
   "id": "6d0425c0",
   "metadata": {},
   "outputs": [
    {
     "data": {
      "text/plain": [
       "(2, 3)"
      ]
     },
     "execution_count": 36,
     "metadata": {},
     "output_type": "execute_result"
    }
   ],
   "source": [
    "l2[2][1:3]"
   ]
  },
  {
   "cell_type": "code",
   "execution_count": 37,
   "id": "e97a731f",
   "metadata": {},
   "outputs": [
    {
     "data": {
      "text/plain": [
       "(2, 3, 4)"
      ]
     },
     "execution_count": 37,
     "metadata": {},
     "output_type": "execute_result"
    }
   ],
   "source": [
    "l2[2][1:4]"
   ]
  },
  {
   "cell_type": "code",
   "execution_count": 38,
   "id": "4e070bac",
   "metadata": {},
   "outputs": [
    {
     "name": "stdout",
     "output_type": "stream",
     "text": [
      "Enter your Total index: 1\n",
      "2\n",
      "['2']\n"
     ]
    }
   ],
   "source": [
    "# Input list from user\n",
    "l3 = []\n",
    "n = int(input('Enter your Total index: '))\n",
    "\n",
    "for i in range(n):\n",
    "    new = input()\n",
    "    l3.append(new)\n",
    "    print(l3)\n",
    "    "
   ]
  },
  {
   "cell_type": "code",
   "execution_count": 39,
   "id": "34ab2f58",
   "metadata": {},
   "outputs": [
    {
     "name": "stdout",
     "output_type": "stream",
     "text": [
      "Enter your Total index: 1\n",
      "2\n",
      "['2']\n"
     ]
    }
   ],
   "source": [
    "# Input list from user\n",
    "l3 = []\n",
    "n = int(input('Enter your Total index: '))\n",
    "\n",
    "for i in range(n):\n",
    "    new = input()\n",
    "    l3.append(new)\n",
    "print(l3)"
   ]
  },
  {
   "cell_type": "code",
   "execution_count": 40,
   "id": "e90f040d",
   "metadata": {},
   "outputs": [],
   "source": [
    "user = ['Rahim', 'Karim','Rita']"
   ]
  },
  {
   "cell_type": "code",
   "execution_count": 41,
   "id": "772149c0",
   "metadata": {},
   "outputs": [
    {
     "data": {
      "text/plain": [
       "['Rahim', 'Karim', 'Rita']"
      ]
     },
     "execution_count": 41,
     "metadata": {},
     "output_type": "execute_result"
    }
   ],
   "source": [
    "user"
   ]
  },
  {
   "cell_type": "code",
   "execution_count": 42,
   "id": "69519271",
   "metadata": {},
   "outputs": [],
   "source": [
    "del user[0]"
   ]
  },
  {
   "cell_type": "code",
   "execution_count": 43,
   "id": "27b8625e",
   "metadata": {},
   "outputs": [
    {
     "data": {
      "text/plain": [
       "['Karim', 'Rita']"
      ]
     },
     "execution_count": 43,
     "metadata": {},
     "output_type": "execute_result"
    }
   ],
   "source": [
    "user"
   ]
  },
  {
   "cell_type": "code",
   "execution_count": 44,
   "id": "2d9427ad",
   "metadata": {},
   "outputs": [
    {
     "data": {
      "text/plain": [
       "2"
      ]
     },
     "execution_count": 44,
     "metadata": {},
     "output_type": "execute_result"
    }
   ],
   "source": [
    "len(user)"
   ]
  },
  {
   "cell_type": "code",
   "execution_count": 45,
   "id": "49b57c2b",
   "metadata": {},
   "outputs": [],
   "source": [
    "user.extend(['Suman', 'Himel', 'Sarwar', 'Ripon'])"
   ]
  },
  {
   "cell_type": "code",
   "execution_count": 46,
   "id": "7dc3979b",
   "metadata": {},
   "outputs": [
    {
     "data": {
      "text/plain": [
       "['Karim', 'Rita', 'Suman', 'Himel', 'Sarwar', 'Ripon']"
      ]
     },
     "execution_count": 46,
     "metadata": {},
     "output_type": "execute_result"
    }
   ],
   "source": [
    "user"
   ]
  },
  {
   "cell_type": "code",
   "execution_count": 49,
   "id": "2ec372c0",
   "metadata": {},
   "outputs": [
    {
     "data": {
      "text/plain": [
       "['Karim', 'Rita', 'Suman']"
      ]
     },
     "execution_count": 49,
     "metadata": {},
     "output_type": "execute_result"
    }
   ],
   "source": [
    "user [0:3]  # [Start: End: Step Size]"
   ]
  },
  {
   "cell_type": "code",
   "execution_count": 50,
   "id": "813b0449",
   "metadata": {},
   "outputs": [
    {
     "data": {
      "text/plain": [
       "['Karim', 'Rita', 'Suman']"
      ]
     },
     "execution_count": 50,
     "metadata": {},
     "output_type": "execute_result"
    }
   ],
   "source": [
    "user [:3]  # alternive, no need to mention zero, just keep blank"
   ]
  },
  {
   "cell_type": "code",
   "execution_count": 51,
   "id": "396961bc",
   "metadata": {},
   "outputs": [
    {
     "data": {
      "text/plain": [
       "['Suman', 'Sarwar']"
      ]
     },
     "execution_count": 51,
     "metadata": {},
     "output_type": "execute_result"
    }
   ],
   "source": [
    "user [2::2]"
   ]
  },
  {
   "cell_type": "code",
   "execution_count": 52,
   "id": "8b69d6de",
   "metadata": {},
   "outputs": [
    {
     "data": {
      "text/plain": [
       "['Suman', 'Ripon']"
      ]
     },
     "execution_count": 52,
     "metadata": {},
     "output_type": "execute_result"
    }
   ],
   "source": [
    "user [2::3]    # [start 0, all element e.g blank: step size=3]"
   ]
  },
  {
   "cell_type": "markdown",
   "id": "b01d9ea6",
   "metadata": {},
   "source": [
    "# Replace"
   ]
  },
  {
   "cell_type": "code",
   "execution_count": 12,
   "id": "18e3cadd",
   "metadata": {},
   "outputs": [
    {
     "data": {
      "text/plain": [
       "['Karim', 'Rupa', 'Rima', 'Kajol', 'Mamun']"
      ]
     },
     "execution_count": 12,
     "metadata": {},
     "output_type": "execute_result"
    }
   ],
   "source": [
    "namelist = ['Karim', 'Rupa', 'Rima', 'Kajol', 'Mamun']\n",
    "namelist"
   ]
  },
  {
   "cell_type": "code",
   "execution_count": 13,
   "id": "d855835e",
   "metadata": {},
   "outputs": [],
   "source": [
    "namelist[1] = 'Jhumur'  # replace rupa which index is 2"
   ]
  },
  {
   "cell_type": "code",
   "execution_count": 14,
   "id": "829267ab",
   "metadata": {},
   "outputs": [
    {
     "data": {
      "text/plain": [
       "['Karim', 'Jhumur', 'Rima', 'Kajol', 'Mamun']"
      ]
     },
     "execution_count": 14,
     "metadata": {},
     "output_type": "execute_result"
    }
   ],
   "source": [
    "namelist"
   ]
  },
  {
   "cell_type": "code",
   "execution_count": 15,
   "id": "d73fbce1",
   "metadata": {},
   "outputs": [],
   "source": [
    "namelist[4] = 'Palash'   # replace rupa which index is 4"
   ]
  },
  {
   "cell_type": "code",
   "execution_count": 16,
   "id": "73e635c2",
   "metadata": {},
   "outputs": [
    {
     "data": {
      "text/plain": [
       "['Karim', 'Jhumur', 'Rima', 'Kajol', 'Palash']"
      ]
     },
     "execution_count": 16,
     "metadata": {},
     "output_type": "execute_result"
    }
   ],
   "source": [
    "namelist"
   ]
  },
  {
   "cell_type": "markdown",
   "id": "04c06e35",
   "metadata": {},
   "source": [
    "# Insert"
   ]
  },
  {
   "cell_type": "code",
   "execution_count": 17,
   "id": "c2b043df",
   "metadata": {},
   "outputs": [
    {
     "data": {
      "text/plain": [
       "['Apple', 'Orange', 'Mango', 'Banana', 'Lichy', 'Pineaple']"
      ]
     },
     "execution_count": 17,
     "metadata": {},
     "output_type": "execute_result"
    }
   ],
   "source": [
    "fruits = ['Apple','Orange','Mango','Banana','Lichy','Pineaple']\n",
    "fruits"
   ]
  },
  {
   "cell_type": "code",
   "execution_count": 18,
   "id": "93d91ec4",
   "metadata": {},
   "outputs": [],
   "source": [
    "fruits.insert(2,'Date')  # insert date before mango, which index is 2"
   ]
  },
  {
   "cell_type": "code",
   "execution_count": 19,
   "id": "cc2019d0",
   "metadata": {},
   "outputs": [
    {
     "data": {
      "text/plain": [
       "['Apple', 'Orange', 'Date', 'Mango', 'Banana', 'Lichy', 'Pineaple']"
      ]
     },
     "execution_count": 19,
     "metadata": {},
     "output_type": "execute_result"
    }
   ],
   "source": [
    "fruits"
   ]
  },
  {
   "cell_type": "code",
   "execution_count": 20,
   "id": "fb3993d2",
   "metadata": {},
   "outputs": [],
   "source": [
    "fruits.insert(3,'Water Melon')"
   ]
  },
  {
   "cell_type": "code",
   "execution_count": 21,
   "id": "fb19f2a7",
   "metadata": {},
   "outputs": [
    {
     "data": {
      "text/plain": [
       "['Apple',\n",
       " 'Orange',\n",
       " 'Date',\n",
       " 'Water Melon',\n",
       " 'Mango',\n",
       " 'Banana',\n",
       " 'Lichy',\n",
       " 'Pineaple']"
      ]
     },
     "execution_count": 21,
     "metadata": {},
     "output_type": "execute_result"
    }
   ],
   "source": [
    "fruits"
   ]
  },
  {
   "cell_type": "code",
   "execution_count": 22,
   "id": "072bfffc",
   "metadata": {},
   "outputs": [
    {
     "name": "stdout",
     "output_type": "stream",
     "text": [
      "['Apple', 'Orange', 'Date', 'Water Melon', 'Mango', 'Banana', 'Lichy', 'Pineaple']\n"
     ]
    }
   ],
   "source": [
    "print(fruits) # alternative"
   ]
  },
  {
   "cell_type": "code",
   "execution_count": 23,
   "id": "561a6492",
   "metadata": {},
   "outputs": [
    {
     "name": "stdout",
     "output_type": "stream",
     "text": [
      "['Apple', 'Orange', 'Date', 'Water Melon', 'Mango', 'Banana', 'Lichy', 'Pineaple'],"
     ]
    }
   ],
   "source": [
    "print(fruits, end=',')"
   ]
  },
  {
   "cell_type": "code",
   "execution_count": 24,
   "id": "6f1a22fa",
   "metadata": {},
   "outputs": [],
   "source": [
    "fruits.insert(5,'Lemon')"
   ]
  },
  {
   "cell_type": "code",
   "execution_count": 26,
   "id": "79d0bbd1",
   "metadata": {},
   "outputs": [
    {
     "name": "stdout",
     "output_type": "stream",
     "text": [
      "['Apple', 'Orange', 'Date', 'Water Melon', 'Mango', 'Lemon', 'Banana', 'Lichy', 'Pineaple']\n"
     ]
    }
   ],
   "source": [
    "print(fruits)"
   ]
  },
  {
   "cell_type": "markdown",
   "id": "035a595f",
   "metadata": {},
   "source": [
    "# Pairing List/ Combine list"
   ]
  },
  {
   "cell_type": "code",
   "execution_count": 27,
   "id": "6575b667",
   "metadata": {},
   "outputs": [],
   "source": [
    "a = ['Rose','WaterLilly','Sunflower','Merigold']"
   ]
  },
  {
   "cell_type": "code",
   "execution_count": 28,
   "id": "359bfdca",
   "metadata": {},
   "outputs": [
    {
     "data": {
      "text/plain": [
       "['Rose', 'WaterLilly', 'Sunflower', 'Merigold']"
      ]
     },
     "execution_count": 28,
     "metadata": {},
     "output_type": "execute_result"
    }
   ],
   "source": [
    "a"
   ]
  },
  {
   "cell_type": "code",
   "execution_count": 29,
   "id": "8cb36bdb",
   "metadata": {},
   "outputs": [],
   "source": [
    "b = ['Patato', 'Cattor','Peper','Bringal']"
   ]
  },
  {
   "cell_type": "code",
   "execution_count": 30,
   "id": "bb95941c",
   "metadata": {},
   "outputs": [
    {
     "data": {
      "text/plain": [
       "['Patato', 'Cattor', 'Peper', 'Bringal']"
      ]
     },
     "execution_count": 30,
     "metadata": {},
     "output_type": "execute_result"
    }
   ],
   "source": [
    "b"
   ]
  },
  {
   "cell_type": "code",
   "execution_count": 31,
   "id": "3c594bab",
   "metadata": {},
   "outputs": [],
   "source": [
    "pairing = [a,b]"
   ]
  },
  {
   "cell_type": "code",
   "execution_count": 32,
   "id": "bab47ecc",
   "metadata": {},
   "outputs": [
    {
     "data": {
      "text/plain": [
       "[['Rose', 'WaterLilly', 'Sunflower', 'Merigold'],\n",
       " ['Patato', 'Cattor', 'Peper', 'Bringal']]"
      ]
     },
     "execution_count": 32,
     "metadata": {},
     "output_type": "execute_result"
    }
   ],
   "source": [
    "pairing"
   ]
  },
  {
   "cell_type": "markdown",
   "id": "f6de704e",
   "metadata": {},
   "source": [
    "### Indexing over pair list"
   ]
  },
  {
   "cell_type": "code",
   "execution_count": 34,
   "id": "bef38331",
   "metadata": {},
   "outputs": [
    {
     "data": {
      "text/plain": [
       "['Patato', 'Cattor', 'Peper', 'Bringal']"
      ]
     },
     "execution_count": 34,
     "metadata": {},
     "output_type": "execute_result"
    }
   ],
   "source": [
    "pairing [1]"
   ]
  },
  {
   "cell_type": "code",
   "execution_count": 35,
   "id": "4f650ab7",
   "metadata": {},
   "outputs": [
    {
     "data": {
      "text/plain": [
       "['Rose', 'WaterLilly', 'Sunflower', 'Merigold']"
      ]
     },
     "execution_count": 35,
     "metadata": {},
     "output_type": "execute_result"
    }
   ],
   "source": [
    "pairing [0]"
   ]
  },
  {
   "cell_type": "code",
   "execution_count": 38,
   "id": "7176a2ea",
   "metadata": {},
   "outputs": [
    {
     "data": {
      "text/plain": [
       "'WaterLilly'"
      ]
     },
     "execution_count": 38,
     "metadata": {},
     "output_type": "execute_result"
    }
   ],
   "source": [
    "pairing [0][1]  # Accessing water lilly which is in 0 & 1 index"
   ]
  },
  {
   "cell_type": "code",
   "execution_count": 39,
   "id": "2e48933c",
   "metadata": {},
   "outputs": [
    {
     "data": {
      "text/plain": [
       "'Sunflower'"
      ]
     },
     "execution_count": 39,
     "metadata": {},
     "output_type": "execute_result"
    }
   ],
   "source": [
    "pairing [0][2]  # access sunflower"
   ]
  },
  {
   "cell_type": "code",
   "execution_count": 40,
   "id": "8007ec4d",
   "metadata": {},
   "outputs": [
    {
     "data": {
      "text/plain": [
       "'Merigold'"
      ]
     },
     "execution_count": 40,
     "metadata": {},
     "output_type": "execute_result"
    }
   ],
   "source": [
    "pairing[0][-1]  # Merigold"
   ]
  },
  {
   "cell_type": "code",
   "execution_count": 41,
   "id": "a8230ac5",
   "metadata": {},
   "outputs": [
    {
     "data": {
      "text/plain": [
       "'Merigold'"
      ]
     },
     "execution_count": 41,
     "metadata": {},
     "output_type": "execute_result"
    }
   ],
   "source": [
    "pairing[0][3] # Merigold alvernative"
   ]
  },
  {
   "cell_type": "code",
   "execution_count": 42,
   "id": "2f2f3078",
   "metadata": {},
   "outputs": [
    {
     "data": {
      "text/plain": [
       "'Peper'"
      ]
     },
     "execution_count": 42,
     "metadata": {},
     "output_type": "execute_result"
    }
   ],
   "source": [
    "pairing[1][2] # access peper"
   ]
  },
  {
   "cell_type": "code",
   "execution_count": 44,
   "id": "f14cfa21",
   "metadata": {},
   "outputs": [
    {
     "data": {
      "text/plain": [
       "'Bringal'"
      ]
     },
     "execution_count": 44,
     "metadata": {},
     "output_type": "execute_result"
    }
   ],
   "source": [
    "pairing [1][-1]"
   ]
  },
  {
   "cell_type": "code",
   "execution_count": 45,
   "id": "b84b0397",
   "metadata": {},
   "outputs": [
    {
     "data": {
      "text/plain": [
       "'Bringal'"
      ]
     },
     "execution_count": 45,
     "metadata": {},
     "output_type": "execute_result"
    }
   ],
   "source": [
    "pairing [1][3]"
   ]
  },
  {
   "cell_type": "code",
   "execution_count": 46,
   "id": "bdfbe24c",
   "metadata": {},
   "outputs": [
    {
     "data": {
      "text/plain": [
       "'Patato'"
      ]
     },
     "execution_count": 46,
     "metadata": {},
     "output_type": "execute_result"
    }
   ],
   "source": [
    "pairing[1][0]"
   ]
  },
  {
   "cell_type": "markdown",
   "id": "3914a046",
   "metadata": {},
   "source": [
    "#### String Method - Counts"
   ]
  },
  {
   "cell_type": "code",
   "execution_count": 3,
   "id": "d37e4a39",
   "metadata": {},
   "outputs": [
    {
     "data": {
      "text/plain": [
       "[5, 5, 5, 15, 7, 9, 4, 6, 4, 5, 72, 5, 6]"
      ]
     },
     "execution_count": 3,
     "metadata": {},
     "output_type": "execute_result"
    }
   ],
   "source": [
    "list10= [5,5,5,15,7,9,4,6,4,5,72,5,6]\n",
    "list10"
   ]
  },
  {
   "cell_type": "code",
   "execution_count": 4,
   "id": "9d1c3795",
   "metadata": {},
   "outputs": [
    {
     "data": {
      "text/plain": [
       "5"
      ]
     },
     "execution_count": 4,
     "metadata": {},
     "output_type": "execute_result"
    }
   ],
   "source": [
    "list10.count(5)"
   ]
  },
  {
   "cell_type": "markdown",
   "id": "00d76b18",
   "metadata": {},
   "source": [
    "#### index position"
   ]
  },
  {
   "cell_type": "code",
   "execution_count": 5,
   "id": "28712ae5",
   "metadata": {},
   "outputs": [
    {
     "data": {
      "text/plain": [
       "3"
      ]
     },
     "execution_count": 5,
     "metadata": {},
     "output_type": "execute_result"
    }
   ],
   "source": [
    "list10.index(15)"
   ]
  },
  {
   "cell_type": "code",
   "execution_count": 6,
   "id": "187b474e",
   "metadata": {},
   "outputs": [
    {
     "data": {
      "text/plain": [
       "0"
      ]
     },
     "execution_count": 6,
     "metadata": {},
     "output_type": "execute_result"
    }
   ],
   "source": [
    "list10.index(5)"
   ]
  },
  {
   "cell_type": "markdown",
   "id": "e50e2b79",
   "metadata": {},
   "source": [
    "#### Remove"
   ]
  },
  {
   "cell_type": "code",
   "execution_count": 10,
   "id": "372c01ca",
   "metadata": {},
   "outputs": [
    {
     "data": {
      "text/plain": [
       "[15, 7, 9, 4, 6, 4, 5, 72, 5, 6]"
      ]
     },
     "execution_count": 10,
     "metadata": {},
     "output_type": "execute_result"
    }
   ],
   "source": [
    "list10.remove(5)   # not remove all similar value together, rather remove a given value one by one\n",
    "list10"
   ]
  },
  {
   "cell_type": "code",
   "execution_count": 9,
   "id": "02ef510a",
   "metadata": {},
   "outputs": [
    {
     "data": {
      "text/plain": [
       "0"
      ]
     },
     "execution_count": 9,
     "metadata": {},
     "output_type": "execute_result"
    }
   ],
   "source": [
    "list10.index(5)"
   ]
  },
  {
   "cell_type": "markdown",
   "id": "e7556d01",
   "metadata": {},
   "source": [
    "#### Reverse"
   ]
  },
  {
   "cell_type": "code",
   "execution_count": 15,
   "id": "1f204d4e",
   "metadata": {},
   "outputs": [
    {
     "data": {
      "text/plain": [
       "[6, 5, 72, 5, 4, 6, 4, 9, 7, 15]"
      ]
     },
     "execution_count": 15,
     "metadata": {},
     "output_type": "execute_result"
    }
   ],
   "source": [
    "list10.reverse()            # reverse is same as code \"list10[::-1]\"\n",
    "list10"
   ]
  },
  {
   "cell_type": "markdown",
   "id": "2746c6f0",
   "metadata": {},
   "source": [
    "#### Lenght"
   ]
  },
  {
   "cell_type": "code",
   "execution_count": 16,
   "id": "8e82dfc4",
   "metadata": {},
   "outputs": [
    {
     "data": {
      "text/plain": [
       "10"
      ]
     },
     "execution_count": 16,
     "metadata": {},
     "output_type": "execute_result"
    }
   ],
   "source": [
    "len(list10) # wnat to know how many elements inside list, this can be applied in str also"
   ]
  },
  {
   "cell_type": "markdown",
   "id": "833fbe56",
   "metadata": {},
   "source": [
    "#### list shorting"
   ]
  },
  {
   "cell_type": "code",
   "execution_count": 18,
   "id": "6de4df37",
   "metadata": {},
   "outputs": [
    {
     "data": {
      "text/plain": [
       "[4, 4, 5, 5, 6, 6, 7, 9, 15, 72]"
      ]
     },
     "execution_count": 18,
     "metadata": {},
     "output_type": "execute_result"
    }
   ],
   "source": [
    "list10.sort()  # Ascending by default\n",
    "list10"
   ]
  },
  {
   "cell_type": "code",
   "execution_count": 20,
   "id": "4e4299e6",
   "metadata": {},
   "outputs": [
    {
     "data": {
      "text/plain": [
       "[72, 15, 9, 7, 6, 6, 5, 5, 4, 4]"
      ]
     },
     "execution_count": 20,
     "metadata": {},
     "output_type": "execute_result"
    }
   ],
   "source": [
    "list10.sort(reverse=True) # Discenting order\n",
    "list10"
   ]
  },
  {
   "cell_type": "markdown",
   "id": "3872bf18",
   "metadata": {},
   "source": [
    "#### Clear"
   ]
  },
  {
   "cell_type": "code",
   "execution_count": 22,
   "id": "fa2b137b",
   "metadata": {},
   "outputs": [
    {
     "data": {
      "text/plain": [
       "[]"
      ]
     },
     "execution_count": 22,
     "metadata": {},
     "output_type": "execute_result"
    }
   ],
   "source": [
    "list10.clear()  # clear all elements/values from list\n",
    "list10"
   ]
  },
  {
   "cell_type": "markdown",
   "id": "974dea26",
   "metadata": {},
   "source": [
    "### Copy (Shallow Copy vs Deep Copy)"
   ]
  },
  {
   "cell_type": "code",
   "execution_count": 32,
   "id": "ab8b0d3e",
   "metadata": {},
   "outputs": [],
   "source": [
    "nums1 = [5,6,7,10]"
   ]
  },
  {
   "cell_type": "markdown",
   "id": "be1da7c5",
   "metadata": {},
   "source": [
    "#### Shallaw Copy"
   ]
  },
  {
   "cell_type": "code",
   "execution_count": 34,
   "id": "022e85ae",
   "metadata": {},
   "outputs": [
    {
     "data": {
      "text/plain": [
       "[5, 6, 7, 10]"
      ]
     },
     "execution_count": 34,
     "metadata": {},
     "output_type": "execute_result"
    }
   ],
   "source": [
    "nums2 = nums1 # Shallow Copy\n",
    "nums2"
   ]
  },
  {
   "cell_type": "markdown",
   "id": "ea34266b",
   "metadata": {},
   "source": [
    "##### Drawbacks in Shallow copy (oring / source file updated when make any change in following list whether you want or not)"
   ]
  },
  {
   "cell_type": "code",
   "execution_count": 36,
   "id": "10c7d299",
   "metadata": {},
   "outputs": [
    {
     "data": {
      "text/plain": [
       "[5, 6, 7, 10, 500]"
      ]
     },
     "execution_count": 36,
     "metadata": {},
     "output_type": "execute_result"
    }
   ],
   "source": [
    "nums2.append(500)\n",
    "nums2"
   ]
  },
  {
   "cell_type": "code",
   "execution_count": 37,
   "id": "3a0414b3",
   "metadata": {},
   "outputs": [
    {
     "data": {
      "text/plain": [
       "[5, 6, 7, 10, 500]"
      ]
     },
     "execution_count": 37,
     "metadata": {},
     "output_type": "execute_result"
    }
   ],
   "source": [
    "nums1  # here is the problem, as I didnt want to update nums1 with append applied in nums2"
   ]
  },
  {
   "cell_type": "markdown",
   "id": "3368f6cd",
   "metadata": {},
   "source": [
    "#### Deep Copy"
   ]
  },
  {
   "cell_type": "code",
   "execution_count": 43,
   "id": "c1db8d7c",
   "metadata": {},
   "outputs": [],
   "source": [
    "nums3 = nums1.copy()  # Deep Copy"
   ]
  },
  {
   "cell_type": "code",
   "execution_count": 44,
   "id": "b42802a4",
   "metadata": {},
   "outputs": [
    {
     "data": {
      "text/plain": [
       "[5, 6, 7, 10, 500, 9999]"
      ]
     },
     "execution_count": 44,
     "metadata": {},
     "output_type": "execute_result"
    }
   ],
   "source": [
    "nums3.append(9999) # source/ original list (nums1) will not be affected by this update, only nums3 will be udpated\n",
    "nums3"
   ]
  },
  {
   "cell_type": "code",
   "execution_count": 45,
   "id": "f9c8ff95",
   "metadata": {},
   "outputs": [
    {
     "data": {
      "text/plain": [
       "[5, 6, 7, 10, 500]"
      ]
     },
     "execution_count": 45,
     "metadata": {},
     "output_type": "execute_result"
    }
   ],
   "source": [
    "nums1  # list1 not being updated by 9999 verified, Deep Copy is more useful"
   ]
  },
  {
   "cell_type": "markdown",
   "id": "69b179a5",
   "metadata": {},
   "source": [
    "#### Multiple values update together"
   ]
  },
  {
   "cell_type": "code",
   "execution_count": 46,
   "id": "49d90f4a",
   "metadata": {},
   "outputs": [
    {
     "data": {
      "text/plain": [
       "[25, 50, 75, 100]"
      ]
     },
     "execution_count": 46,
     "metadata": {},
     "output_type": "execute_result"
    }
   ],
   "source": [
    "list11 = [25,50,75,100]\n",
    "list11"
   ]
  },
  {
   "cell_type": "code",
   "execution_count": 48,
   "id": "e721de46",
   "metadata": {},
   "outputs": [
    {
     "data": {
      "text/plain": [
       "[25, 300, 600, 75, 100]"
      ]
     },
     "execution_count": 48,
     "metadata": {},
     "output_type": "execute_result"
    }
   ],
   "source": [
    "list11[1:2] = 300,600   \n",
    "list11"
   ]
  }
 ],
 "metadata": {
  "kernelspec": {
   "display_name": "Python 3.10.2 64-bit",
   "language": "python",
   "name": "python3"
  },
  "language_info": {
   "codemirror_mode": {
    "name": "ipython",
    "version": 3
   },
   "file_extension": ".py",
   "mimetype": "text/x-python",
   "name": "python",
   "nbconvert_exporter": "python",
   "pygments_lexer": "ipython3",
   "version": "3.10.2"
  },
  "vscode": {
   "interpreter": {
    "hash": "c19fa61d258bb2b35aae2ada233c33e2817c1ce895aa48acba720c6bf7cbe3cb"
   }
  }
 },
 "nbformat": 4,
 "nbformat_minor": 5
}
