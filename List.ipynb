{
 "cells": [
  {
   "cell_type": "markdown",
   "id": "bf6551e6",
   "metadata": {},
   "source": [
    "# Data Structure - List"
   ]
  },
  {
   "cell_type": "markdown",
   "id": "eb794b67",
   "metadata": {},
   "source": [
    "### List Characteristics"
   ]
  },
  {
   "cell_type": "markdown",
   "id": "6ba711d5",
   "metadata": {},
   "source": [
    "- Mutable/ Changeable\n",
    "- Ordered Sequence\n",
    "- Allow Duplicate\n",
    "- Accessible\n",
    "- Different kind of values can be stored\n",
    "- Use Square Bracked []"
   ]
  },
  {
   "cell_type": "markdown",
   "id": "7208af34",
   "metadata": {},
   "source": [
    "### Topic"
   ]
  },
  {
   "cell_type": "markdown",
   "id": "e92f796a",
   "metadata": {},
   "source": [
    "- List Access/ Indexcing\n",
    "- Append\n",
    "- Extend\n",
    "- delete\n",
    "- pop\n",
    "- List Constructor\n",
    "- input list from user\n",
    "- Replace\n",
    "- Insert\n",
    "- List Pairing\n",
    "- indexcing pair list"
   ]
  },
  {
   "cell_type": "code",
   "execution_count": 1,
   "id": "532b29a8",
   "metadata": {},
   "outputs": [],
   "source": [
    "l1 = [2,3,4,5,8]"
   ]
  },
  {
   "cell_type": "code",
   "execution_count": 2,
   "id": "efd1d723",
   "metadata": {},
   "outputs": [
    {
     "data": {
      "text/plain": [
       "[2, 3, 4, 5, 8]"
      ]
     },
     "execution_count": 2,
     "metadata": {},
     "output_type": "execute_result"
    }
   ],
   "source": [
    "l1"
   ]
  },
  {
   "cell_type": "code",
   "execution_count": 3,
   "id": "f5d6b0b8",
   "metadata": {},
   "outputs": [
    {
     "data": {
      "text/plain": [
       "list"
      ]
     },
     "execution_count": 3,
     "metadata": {},
     "output_type": "execute_result"
    }
   ],
   "source": [
    "type(l1)"
   ]
  },
  {
   "cell_type": "markdown",
   "id": "afe4d50c",
   "metadata": {},
   "source": [
    "## Indexing / List Slicing"
   ]
  },
  {
   "cell_type": "code",
   "execution_count": 4,
   "id": "bf05b89a",
   "metadata": {},
   "outputs": [
    {
     "data": {
      "text/plain": [
       "2"
      ]
     },
     "execution_count": 4,
     "metadata": {},
     "output_type": "execute_result"
    }
   ],
   "source": [
    "l1[0]"
   ]
  },
  {
   "cell_type": "code",
   "execution_count": 5,
   "id": "d78ca7fa",
   "metadata": {},
   "outputs": [
    {
     "data": {
      "text/plain": [
       "4"
      ]
     },
     "execution_count": 5,
     "metadata": {},
     "output_type": "execute_result"
    }
   ],
   "source": [
    "l1[2]"
   ]
  },
  {
   "cell_type": "code",
   "execution_count": 6,
   "id": "58dd2489",
   "metadata": {},
   "outputs": [
    {
     "data": {
      "text/plain": [
       "8"
      ]
     },
     "execution_count": 6,
     "metadata": {},
     "output_type": "execute_result"
    }
   ],
   "source": [
    "l1[-1] # Negative Indexing"
   ]
  },
  {
   "cell_type": "code",
   "execution_count": 7,
   "id": "c2689738",
   "metadata": {},
   "outputs": [
    {
     "data": {
      "text/plain": [
       "[2, 3]"
      ]
     },
     "execution_count": 7,
     "metadata": {},
     "output_type": "execute_result"
    }
   ],
   "source": [
    "l1[0:2]"
   ]
  },
  {
   "cell_type": "code",
   "execution_count": 8,
   "id": "80b86457",
   "metadata": {},
   "outputs": [
    {
     "data": {
      "text/plain": [
       "[2, 3, 4]"
      ]
     },
     "execution_count": 8,
     "metadata": {},
     "output_type": "execute_result"
    }
   ],
   "source": [
    "l1[0:3]"
   ]
  },
  {
   "cell_type": "code",
   "execution_count": 9,
   "id": "3744765e",
   "metadata": {},
   "outputs": [
    {
     "data": {
      "text/plain": [
       "[2, 3, 4, 5, 8]"
      ]
     },
     "execution_count": 9,
     "metadata": {},
     "output_type": "execute_result"
    }
   ],
   "source": [
    "l1[0:5]"
   ]
  },
  {
   "cell_type": "code",
   "execution_count": 10,
   "id": "214eb355",
   "metadata": {},
   "outputs": [
    {
     "data": {
      "text/plain": [
       "[4, 5]"
      ]
     },
     "execution_count": 10,
     "metadata": {},
     "output_type": "execute_result"
    }
   ],
   "source": [
    "l1[2:4]  # When Accessing 4, 5"
   ]
  },
  {
   "cell_type": "code",
   "execution_count": 11,
   "id": "ea1188d3",
   "metadata": {},
   "outputs": [
    {
     "data": {
      "text/plain": [
       "[5, 8]"
      ]
     },
     "execution_count": 11,
     "metadata": {},
     "output_type": "execute_result"
    }
   ],
   "source": [
    "l1[3:5] # When Accessing 5, 8"
   ]
  },
  {
   "cell_type": "code",
   "execution_count": 12,
   "id": "c728bca9",
   "metadata": {},
   "outputs": [
    {
     "data": {
      "text/plain": [
       "[3, 4]"
      ]
     },
     "execution_count": 12,
     "metadata": {},
     "output_type": "execute_result"
    }
   ],
   "source": [
    "l1[1:3]"
   ]
  },
  {
   "cell_type": "code",
   "execution_count": 13,
   "id": "f6e8c481",
   "metadata": {},
   "outputs": [
    {
     "data": {
      "text/plain": [
       "[3, 4, 5]"
      ]
     },
     "execution_count": 13,
     "metadata": {},
     "output_type": "execute_result"
    }
   ],
   "source": [
    "l1[1:4]"
   ]
  },
  {
   "cell_type": "code",
   "execution_count": 14,
   "id": "27d6ec6f",
   "metadata": {},
   "outputs": [
    {
     "data": {
      "text/plain": [
       "[3, 4, 5, 8]"
      ]
     },
     "execution_count": 14,
     "metadata": {},
     "output_type": "execute_result"
    }
   ],
   "source": [
    "l1[1:5]"
   ]
  },
  {
   "cell_type": "code",
   "execution_count": 15,
   "id": "e099be6d",
   "metadata": {},
   "outputs": [],
   "source": [
    "l1[0] = 'Replace1'"
   ]
  },
  {
   "cell_type": "code",
   "execution_count": 16,
   "id": "3451d2e9",
   "metadata": {},
   "outputs": [
    {
     "data": {
      "text/plain": [
       "['Replace1', 3, 4, 5, 8]"
      ]
     },
     "execution_count": 16,
     "metadata": {},
     "output_type": "execute_result"
    }
   ],
   "source": [
    "l1 # It is mutable"
   ]
  },
  {
   "cell_type": "markdown",
   "id": "dbe8de87",
   "metadata": {},
   "source": [
    "### Append"
   ]
  },
  {
   "cell_type": "code",
   "execution_count": 17,
   "id": "c169e0a8",
   "metadata": {},
   "outputs": [],
   "source": [
    "l1.append('Bangladesh')"
   ]
  },
  {
   "cell_type": "code",
   "execution_count": 18,
   "id": "14d898d4",
   "metadata": {},
   "outputs": [
    {
     "data": {
      "text/plain": [
       "['Replace1', 3, 4, 5, 8, 'Bangladesh']"
      ]
     },
     "execution_count": 18,
     "metadata": {},
     "output_type": "execute_result"
    }
   ],
   "source": [
    "l1"
   ]
  },
  {
   "cell_type": "code",
   "execution_count": 19,
   "id": "c1e88edd",
   "metadata": {},
   "outputs": [],
   "source": [
    "l1.append(5) # Check duplication allow"
   ]
  },
  {
   "cell_type": "code",
   "execution_count": 20,
   "id": "3650838b",
   "metadata": {},
   "outputs": [
    {
     "data": {
      "text/plain": [
       "['Replace1', 3, 4, 5, 8, 'Bangladesh', 5]"
      ]
     },
     "execution_count": 20,
     "metadata": {},
     "output_type": "execute_result"
    }
   ],
   "source": [
    "l1"
   ]
  },
  {
   "cell_type": "markdown",
   "id": "08bb0429",
   "metadata": {},
   "source": [
    "## Memory Size"
   ]
  },
  {
   "cell_type": "code",
   "execution_count": 21,
   "id": "9d0d238e",
   "metadata": {},
   "outputs": [
    {
     "data": {
      "text/plain": [
       "120"
      ]
     },
     "execution_count": 21,
     "metadata": {},
     "output_type": "execute_result"
    }
   ],
   "source": [
    "import sys\n",
    "sys.getsizeof(l1)"
   ]
  },
  {
   "cell_type": "code",
   "execution_count": 22,
   "id": "f79ebe4e",
   "metadata": {},
   "outputs": [
    {
     "data": {
      "text/plain": [
       "5"
      ]
     },
     "execution_count": 22,
     "metadata": {},
     "output_type": "execute_result"
    }
   ],
   "source": [
    "l1.pop()"
   ]
  },
  {
   "cell_type": "code",
   "execution_count": 23,
   "id": "91adda50",
   "metadata": {},
   "outputs": [
    {
     "data": {
      "text/plain": [
       "['Replace1', 3, 4, 5, 8, 'Bangladesh']"
      ]
     },
     "execution_count": 23,
     "metadata": {},
     "output_type": "execute_result"
    }
   ],
   "source": [
    "l1"
   ]
  },
  {
   "cell_type": "markdown",
   "id": "216776dc",
   "metadata": {},
   "source": [
    "## Pop"
   ]
  },
  {
   "cell_type": "code",
   "execution_count": 24,
   "id": "0fc14630",
   "metadata": {},
   "outputs": [
    {
     "data": {
      "text/plain": [
       "'Bangladesh'"
      ]
     },
     "execution_count": 24,
     "metadata": {},
     "output_type": "execute_result"
    }
   ],
   "source": [
    "l1.pop()"
   ]
  },
  {
   "cell_type": "code",
   "execution_count": 25,
   "id": "b3657183",
   "metadata": {},
   "outputs": [
    {
     "data": {
      "text/plain": [
       "['Replace1', 3, 4, 5, 8]"
      ]
     },
     "execution_count": 25,
     "metadata": {},
     "output_type": "execute_result"
    }
   ],
   "source": [
    "l1"
   ]
  },
  {
   "cell_type": "code",
   "execution_count": 26,
   "id": "22e6822d",
   "metadata": {},
   "outputs": [
    {
     "data": {
      "text/plain": [
       "'Replace1'"
      ]
     },
     "execution_count": 26,
     "metadata": {},
     "output_type": "execute_result"
    }
   ],
   "source": [
    "l1.pop(0)"
   ]
  },
  {
   "cell_type": "code",
   "execution_count": 27,
   "id": "16bb5ab2",
   "metadata": {},
   "outputs": [
    {
     "data": {
      "text/plain": [
       "[3, 4, 5, 8]"
      ]
     },
     "execution_count": 27,
     "metadata": {},
     "output_type": "execute_result"
    }
   ],
   "source": [
    "l1"
   ]
  },
  {
   "cell_type": "markdown",
   "id": "ef67eaca",
   "metadata": {},
   "source": [
    "# Creating List by using List Constructor"
   ]
  },
  {
   "cell_type": "code",
   "execution_count": 28,
   "id": "b179a6ba",
   "metadata": {},
   "outputs": [],
   "source": [
    "l2 = list(('ai', 12, (1,2,3,4)))"
   ]
  },
  {
   "cell_type": "code",
   "execution_count": 29,
   "id": "9db65f4b",
   "metadata": {},
   "outputs": [
    {
     "data": {
      "text/plain": [
       "['ai', 12, (1, 2, 3, 4)]"
      ]
     },
     "execution_count": 29,
     "metadata": {},
     "output_type": "execute_result"
    }
   ],
   "source": [
    "l2"
   ]
  },
  {
   "cell_type": "code",
   "execution_count": 30,
   "id": "68118cde",
   "metadata": {},
   "outputs": [
    {
     "data": {
      "text/plain": [
       "list"
      ]
     },
     "execution_count": 30,
     "metadata": {},
     "output_type": "execute_result"
    }
   ],
   "source": [
    "type(l2)"
   ]
  },
  {
   "cell_type": "code",
   "execution_count": 31,
   "id": "e9c58ff5",
   "metadata": {},
   "outputs": [
    {
     "data": {
      "text/plain": [
       "(1, 2, 3, 4)"
      ]
     },
     "execution_count": 31,
     "metadata": {},
     "output_type": "execute_result"
    }
   ],
   "source": [
    "l2[2]"
   ]
  },
  {
   "cell_type": "code",
   "execution_count": 32,
   "id": "e30cc933",
   "metadata": {},
   "outputs": [
    {
     "data": {
      "text/plain": [
       "(1, 2, 3, 4)"
      ]
     },
     "execution_count": 32,
     "metadata": {},
     "output_type": "execute_result"
    }
   ],
   "source": [
    "l2[2][0:4] # alternative  [Start:End]"
   ]
  },
  {
   "cell_type": "code",
   "execution_count": 33,
   "id": "284c852a",
   "metadata": {},
   "outputs": [
    {
     "data": {
      "text/plain": [
       "(3, 4)"
      ]
     },
     "execution_count": 33,
     "metadata": {},
     "output_type": "execute_result"
    }
   ],
   "source": [
    "l2[2][2:4]  # Accessing last two"
   ]
  },
  {
   "cell_type": "code",
   "execution_count": 34,
   "id": "25de2a79",
   "metadata": {},
   "outputs": [
    {
     "data": {
      "text/plain": [
       "'ai'"
      ]
     },
     "execution_count": 34,
     "metadata": {},
     "output_type": "execute_result"
    }
   ],
   "source": [
    "l2[0]"
   ]
  },
  {
   "cell_type": "code",
   "execution_count": 35,
   "id": "862ea3b1",
   "metadata": {},
   "outputs": [
    {
     "data": {
      "text/plain": [
       "12"
      ]
     },
     "execution_count": 35,
     "metadata": {},
     "output_type": "execute_result"
    }
   ],
   "source": [
    "l2[1]"
   ]
  },
  {
   "cell_type": "code",
   "execution_count": 36,
   "id": "6d0425c0",
   "metadata": {},
   "outputs": [
    {
     "data": {
      "text/plain": [
       "(2, 3)"
      ]
     },
     "execution_count": 36,
     "metadata": {},
     "output_type": "execute_result"
    }
   ],
   "source": [
    "l2[2][1:3]"
   ]
  },
  {
   "cell_type": "code",
   "execution_count": 37,
   "id": "e97a731f",
   "metadata": {},
   "outputs": [
    {
     "data": {
      "text/plain": [
       "(2, 3, 4)"
      ]
     },
     "execution_count": 37,
     "metadata": {},
     "output_type": "execute_result"
    }
   ],
   "source": [
    "l2[2][1:4]"
   ]
  },
  {
   "cell_type": "code",
   "execution_count": 38,
   "id": "4e070bac",
   "metadata": {},
   "outputs": [
    {
     "name": "stdout",
     "output_type": "stream",
     "text": [
      "Enter your Total index: 1\n",
      "2\n",
      "['2']\n"
     ]
    }
   ],
   "source": [
    "# Input list from user\n",
    "l3 = []\n",
    "n = int(input('Enter your Total index: '))\n",
    "\n",
    "for i in range(n):\n",
    "    new = input()\n",
    "    l3.append(new)\n",
    "    print(l3)\n",
    "    "
   ]
  },
  {
   "cell_type": "code",
   "execution_count": 39,
   "id": "34ab2f58",
   "metadata": {},
   "outputs": [
    {
     "name": "stdout",
     "output_type": "stream",
     "text": [
      "Enter your Total index: 1\n",
      "2\n",
      "['2']\n"
     ]
    }
   ],
   "source": [
    "# Input list from user\n",
    "l3 = []\n",
    "n = int(input('Enter your Total index: '))\n",
    "\n",
    "for i in range(n):\n",
    "    new = input()\n",
    "    l3.append(new)\n",
    "print(l3)"
   ]
  },
  {
   "cell_type": "code",
   "execution_count": 40,
   "id": "e90f040d",
   "metadata": {},
   "outputs": [],
   "source": [
    "user = ['Rahim', 'Karim','Rita']"
   ]
  },
  {
   "cell_type": "code",
   "execution_count": 41,
   "id": "772149c0",
   "metadata": {},
   "outputs": [
    {
     "data": {
      "text/plain": [
       "['Rahim', 'Karim', 'Rita']"
      ]
     },
     "execution_count": 41,
     "metadata": {},
     "output_type": "execute_result"
    }
   ],
   "source": [
    "user"
   ]
  },
  {
   "cell_type": "code",
   "execution_count": 42,
   "id": "69519271",
   "metadata": {},
   "outputs": [],
   "source": [
    "del user[0]"
   ]
  },
  {
   "cell_type": "code",
   "execution_count": 43,
   "id": "27b8625e",
   "metadata": {},
   "outputs": [
    {
     "data": {
      "text/plain": [
       "['Karim', 'Rita']"
      ]
     },
     "execution_count": 43,
     "metadata": {},
     "output_type": "execute_result"
    }
   ],
   "source": [
    "user"
   ]
  },
  {
   "cell_type": "code",
   "execution_count": 44,
   "id": "2d9427ad",
   "metadata": {},
   "outputs": [
    {
     "data": {
      "text/plain": [
       "2"
      ]
     },
     "execution_count": 44,
     "metadata": {},
     "output_type": "execute_result"
    }
   ],
   "source": [
    "len(user)"
   ]
  },
  {
   "cell_type": "code",
   "execution_count": 45,
   "id": "49b57c2b",
   "metadata": {},
   "outputs": [],
   "source": [
    "user.extend(['Suman', 'Himel', 'Sarwar', 'Ripon'])"
   ]
  },
  {
   "cell_type": "code",
   "execution_count": 46,
   "id": "7dc3979b",
   "metadata": {},
   "outputs": [
    {
     "data": {
      "text/plain": [
       "['Karim', 'Rita', 'Suman', 'Himel', 'Sarwar', 'Ripon']"
      ]
     },
     "execution_count": 46,
     "metadata": {},
     "output_type": "execute_result"
    }
   ],
   "source": [
    "user"
   ]
  },
  {
   "cell_type": "code",
   "execution_count": 49,
   "id": "2ec372c0",
   "metadata": {},
   "outputs": [
    {
     "data": {
      "text/plain": [
       "['Karim', 'Rita', 'Suman']"
      ]
     },
     "execution_count": 49,
     "metadata": {},
     "output_type": "execute_result"
    }
   ],
   "source": [
    "user [0:3]  # [Start: End: Step Size]"
   ]
  },
  {
   "cell_type": "code",
   "execution_count": 50,
   "id": "813b0449",
   "metadata": {},
   "outputs": [
    {
     "data": {
      "text/plain": [
       "['Karim', 'Rita', 'Suman']"
      ]
     },
     "execution_count": 50,
     "metadata": {},
     "output_type": "execute_result"
    }
   ],
   "source": [
    "user [:3]  # alternive, no need to mention zero, just keep blank"
   ]
  },
  {
   "cell_type": "code",
   "execution_count": 51,
   "id": "396961bc",
   "metadata": {},
   "outputs": [
    {
     "data": {
      "text/plain": [
       "['Suman', 'Sarwar']"
      ]
     },
     "execution_count": 51,
     "metadata": {},
     "output_type": "execute_result"
    }
   ],
   "source": [
    "user [2::2]"
   ]
  },
  {
   "cell_type": "code",
   "execution_count": 52,
   "id": "8b69d6de",
   "metadata": {},
   "outputs": [
    {
     "data": {
      "text/plain": [
       "['Suman', 'Ripon']"
      ]
     },
     "execution_count": 52,
     "metadata": {},
     "output_type": "execute_result"
    }
   ],
   "source": [
    "user [2::3]    # [start 0, all element e.g blank: step size=3]"
   ]
  },
  {
   "cell_type": "markdown",
   "id": "5506059b",
   "metadata": {},
   "source": [
    "# Replace"
   ]
  },
  {
   "cell_type": "code",
   "execution_count": 12,
   "id": "63b2c7e0",
   "metadata": {},
   "outputs": [
    {
     "data": {
      "text/plain": [
       "['Karim', 'Rupa', 'Rima', 'Kajol', 'Mamun']"
      ]
     },
     "execution_count": 12,
     "metadata": {},
     "output_type": "execute_result"
    }
   ],
   "source": [
    "namelist = ['Karim', 'Rupa', 'Rima', 'Kajol', 'Mamun']\n",
    "namelist"
   ]
  },
  {
   "cell_type": "code",
   "execution_count": 13,
   "id": "8d8f3e34",
   "metadata": {},
   "outputs": [],
   "source": [
    "namelist[1] = 'Jhumur'  # replace rupa which index is 2"
   ]
  },
  {
   "cell_type": "code",
   "execution_count": 14,
   "id": "beeb6b6c",
   "metadata": {},
   "outputs": [
    {
     "data": {
      "text/plain": [
       "['Karim', 'Jhumur', 'Rima', 'Kajol', 'Mamun']"
      ]
     },
     "execution_count": 14,
     "metadata": {},
     "output_type": "execute_result"
    }
   ],
   "source": [
    "namelist"
   ]
  },
  {
   "cell_type": "code",
   "execution_count": 15,
   "id": "3a680054",
   "metadata": {},
   "outputs": [],
   "source": [
    "namelist[4] = 'Palash'   # replace rupa which index is 4"
   ]
  },
  {
   "cell_type": "code",
   "execution_count": 16,
   "id": "eb0ed066",
   "metadata": {},
   "outputs": [
    {
     "data": {
      "text/plain": [
       "['Karim', 'Jhumur', 'Rima', 'Kajol', 'Palash']"
      ]
     },
     "execution_count": 16,
     "metadata": {},
     "output_type": "execute_result"
    }
   ],
   "source": [
    "namelist"
   ]
  },
  {
   "cell_type": "markdown",
   "id": "6dff61a5",
   "metadata": {},
   "source": [
    "# Insert"
   ]
  },
  {
   "cell_type": "code",
   "execution_count": 17,
   "id": "08172ec4",
   "metadata": {},
   "outputs": [
    {
     "data": {
      "text/plain": [
       "['Apple', 'Orange', 'Mango', 'Banana', 'Lichy', 'Pineaple']"
      ]
     },
     "execution_count": 17,
     "metadata": {},
     "output_type": "execute_result"
    }
   ],
   "source": [
    "fruits = ['Apple','Orange','Mango','Banana','Lichy','Pineaple']\n",
    "fruits"
   ]
  },
  {
   "cell_type": "code",
   "execution_count": 18,
   "id": "728baf55",
   "metadata": {},
   "outputs": [],
   "source": [
    "fruits.insert(2,'Date')  # insert date before mango, which index is 2"
   ]
  },
  {
   "cell_type": "code",
   "execution_count": 19,
   "id": "c528fccd",
   "metadata": {},
   "outputs": [
    {
     "data": {
      "text/plain": [
       "['Apple', 'Orange', 'Date', 'Mango', 'Banana', 'Lichy', 'Pineaple']"
      ]
     },
     "execution_count": 19,
     "metadata": {},
     "output_type": "execute_result"
    }
   ],
   "source": [
    "fruits"
   ]
  },
  {
   "cell_type": "code",
   "execution_count": 20,
   "id": "551907d7",
   "metadata": {},
   "outputs": [],
   "source": [
    "fruits.insert(3,'Water Melon')"
   ]
  },
  {
   "cell_type": "code",
   "execution_count": 21,
   "id": "262695be",
   "metadata": {},
   "outputs": [
    {
     "data": {
      "text/plain": [
       "['Apple',\n",
       " 'Orange',\n",
       " 'Date',\n",
       " 'Water Melon',\n",
       " 'Mango',\n",
       " 'Banana',\n",
       " 'Lichy',\n",
       " 'Pineaple']"
      ]
     },
     "execution_count": 21,
     "metadata": {},
     "output_type": "execute_result"
    }
   ],
   "source": [
    "fruits"
   ]
  },
  {
   "cell_type": "code",
   "execution_count": 22,
   "id": "49de2330",
   "metadata": {},
   "outputs": [
    {
     "name": "stdout",
     "output_type": "stream",
     "text": [
      "['Apple', 'Orange', 'Date', 'Water Melon', 'Mango', 'Banana', 'Lichy', 'Pineaple']\n"
     ]
    }
   ],
   "source": [
    "print(fruits) # alternative"
   ]
  },
  {
   "cell_type": "code",
   "execution_count": 23,
   "id": "636af89f",
   "metadata": {},
   "outputs": [
    {
     "name": "stdout",
     "output_type": "stream",
     "text": [
      "['Apple', 'Orange', 'Date', 'Water Melon', 'Mango', 'Banana', 'Lichy', 'Pineaple'],"
     ]
    }
   ],
   "source": [
    "print(fruits, end=',')"
   ]
  },
  {
   "cell_type": "code",
   "execution_count": 24,
   "id": "5a1eed5b",
   "metadata": {},
   "outputs": [],
   "source": [
    "fruits.insert(5,'Lemon')"
   ]
  },
  {
   "cell_type": "code",
   "execution_count": 26,
   "id": "b1f2a441",
   "metadata": {},
   "outputs": [
    {
     "name": "stdout",
     "output_type": "stream",
     "text": [
      "['Apple', 'Orange', 'Date', 'Water Melon', 'Mango', 'Lemon', 'Banana', 'Lichy', 'Pineaple']\n"
     ]
    }
   ],
   "source": [
    "print(fruits)"
   ]
  },
  {
   "cell_type": "markdown",
   "id": "1a0bbf3c",
   "metadata": {},
   "source": [
    "# Pairing List/ Combine list"
   ]
  },
  {
   "cell_type": "code",
   "execution_count": 27,
   "id": "bccefd2c",
   "metadata": {},
   "outputs": [],
   "source": [
    "a = ['Rose','WaterLilly','Sunflower','Merigold']"
   ]
  },
  {
   "cell_type": "code",
   "execution_count": 28,
   "id": "34af0bf5",
   "metadata": {},
   "outputs": [
    {
     "data": {
      "text/plain": [
       "['Rose', 'WaterLilly', 'Sunflower', 'Merigold']"
      ]
     },
     "execution_count": 28,
     "metadata": {},
     "output_type": "execute_result"
    }
   ],
   "source": [
    "a"
   ]
  },
  {
   "cell_type": "code",
   "execution_count": 29,
   "id": "47c29abc",
   "metadata": {},
   "outputs": [],
   "source": [
    "b = ['Patato', 'Cattor','Peper','Bringal']"
   ]
  },
  {
   "cell_type": "code",
   "execution_count": 30,
   "id": "8671e7f4",
   "metadata": {},
   "outputs": [
    {
     "data": {
      "text/plain": [
       "['Patato', 'Cattor', 'Peper', 'Bringal']"
      ]
     },
     "execution_count": 30,
     "metadata": {},
     "output_type": "execute_result"
    }
   ],
   "source": [
    "b"
   ]
  },
  {
   "cell_type": "code",
   "execution_count": 31,
   "id": "82508152",
   "metadata": {},
   "outputs": [],
   "source": [
    "pairing = [a,b]"
   ]
  },
  {
   "cell_type": "code",
   "execution_count": 32,
   "id": "65ebffcb",
   "metadata": {},
   "outputs": [
    {
     "data": {
      "text/plain": [
       "[['Rose', 'WaterLilly', 'Sunflower', 'Merigold'],\n",
       " ['Patato', 'Cattor', 'Peper', 'Bringal']]"
      ]
     },
     "execution_count": 32,
     "metadata": {},
     "output_type": "execute_result"
    }
   ],
   "source": [
    "pairing"
   ]
  },
  {
   "cell_type": "markdown",
   "id": "f2d13b2e",
   "metadata": {},
   "source": [
    "### Indexing over pair list"
   ]
  },
  {
   "cell_type": "code",
   "execution_count": 34,
   "id": "d0258a8b",
   "metadata": {},
   "outputs": [
    {
     "data": {
      "text/plain": [
       "['Patato', 'Cattor', 'Peper', 'Bringal']"
      ]
     },
     "execution_count": 34,
     "metadata": {},
     "output_type": "execute_result"
    }
   ],
   "source": [
    "pairing [1]"
   ]
  },
  {
   "cell_type": "code",
   "execution_count": 35,
   "id": "c9455bef",
   "metadata": {},
   "outputs": [
    {
     "data": {
      "text/plain": [
       "['Rose', 'WaterLilly', 'Sunflower', 'Merigold']"
      ]
     },
     "execution_count": 35,
     "metadata": {},
     "output_type": "execute_result"
    }
   ],
   "source": [
    "pairing [0]"
   ]
  },
  {
   "cell_type": "code",
   "execution_count": 38,
   "id": "7e93f8f9",
   "metadata": {},
   "outputs": [
    {
     "data": {
      "text/plain": [
       "'WaterLilly'"
      ]
     },
     "execution_count": 38,
     "metadata": {},
     "output_type": "execute_result"
    }
   ],
   "source": [
    "pairing [0][1]  # Accessing water lilly which is in 0 & 1 index"
   ]
  },
  {
   "cell_type": "code",
   "execution_count": 39,
   "id": "6810d939",
   "metadata": {},
   "outputs": [
    {
     "data": {
      "text/plain": [
       "'Sunflower'"
      ]
     },
     "execution_count": 39,
     "metadata": {},
     "output_type": "execute_result"
    }
   ],
   "source": [
    "pairing [0][2]  # access sunflower"
   ]
  },
  {
   "cell_type": "code",
   "execution_count": 40,
   "id": "15f67fd5",
   "metadata": {},
   "outputs": [
    {
     "data": {
      "text/plain": [
       "'Merigold'"
      ]
     },
     "execution_count": 40,
     "metadata": {},
     "output_type": "execute_result"
    }
   ],
   "source": [
    "pairing[0][-1]  # Merigold"
   ]
  },
  {
   "cell_type": "code",
   "execution_count": 41,
   "id": "6eec9110",
   "metadata": {},
   "outputs": [
    {
     "data": {
      "text/plain": [
       "'Merigold'"
      ]
     },
     "execution_count": 41,
     "metadata": {},
     "output_type": "execute_result"
    }
   ],
   "source": [
    "pairing[0][3] # Merigold alvernative"
   ]
  },
  {
   "cell_type": "code",
   "execution_count": 42,
   "id": "66868858",
   "metadata": {},
   "outputs": [
    {
     "data": {
      "text/plain": [
       "'Peper'"
      ]
     },
     "execution_count": 42,
     "metadata": {},
     "output_type": "execute_result"
    }
   ],
   "source": [
    "pairing[1][2] # access peper"
   ]
  },
  {
   "cell_type": "code",
   "execution_count": 44,
   "id": "c2fb5fd0",
   "metadata": {},
   "outputs": [
    {
     "data": {
      "text/plain": [
       "'Bringal'"
      ]
     },
     "execution_count": 44,
     "metadata": {},
     "output_type": "execute_result"
    }
   ],
   "source": [
    "pairing [1][-1]"
   ]
  },
  {
   "cell_type": "code",
   "execution_count": 45,
   "id": "146929e4",
   "metadata": {},
   "outputs": [
    {
     "data": {
      "text/plain": [
       "'Bringal'"
      ]
     },
     "execution_count": 45,
     "metadata": {},
     "output_type": "execute_result"
    }
   ],
   "source": [
    "pairing [1][3]"
   ]
  },
  {
   "cell_type": "code",
   "execution_count": 46,
   "id": "c50724a3",
   "metadata": {},
   "outputs": [
    {
     "data": {
      "text/plain": [
       "'Patato'"
      ]
     },
     "execution_count": 46,
     "metadata": {},
     "output_type": "execute_result"
    }
   ],
   "source": [
    "pairing[1][0]"
   ]
  }
 ],
 "metadata": {
  "kernelspec": {
   "display_name": "Python 3 (ipykernel)",
   "language": "python",
   "name": "python3"
  },
  "language_info": {
   "codemirror_mode": {
    "name": "ipython",
    "version": 3
   },
   "file_extension": ".py",
   "mimetype": "text/x-python",
   "name": "python",
   "nbconvert_exporter": "python",
   "pygments_lexer": "ipython3",
   "version": "3.9.7"
  }
 },
 "nbformat": 4,
 "nbformat_minor": 5
}
