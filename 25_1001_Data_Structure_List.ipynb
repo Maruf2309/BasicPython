{
 "cells": [
  {
   "cell_type": "markdown",
   "id": "bf6551e6",
   "metadata": {},
   "source": [
    "# Data Structure - List"
   ]
  },
  {
   "cell_type": "markdown",
   "id": "0aac0368",
   "metadata": {},
   "source": [
    "- Ref 25_1001_list"
   ]
  },
  {
   "cell_type": "markdown",
   "id": "eb794b67",
   "metadata": {},
   "source": [
    "### List Characteristics"
   ]
  },
  {
   "cell_type": "markdown",
   "id": "6ba711d5",
   "metadata": {},
   "source": [
    "- Mutable/ Changeable\n",
    "- Ordered Sequence\n",
    "- Allow Duplicate\n",
    "- Accessible\n",
    "- Different kind of values can be stored\n",
    "- Use Square Bracked [ ] with comma seperation"
   ]
  },
  {
   "cell_type": "markdown",
   "id": "7208af34",
   "metadata": {},
   "source": [
    "### Topic"
   ]
  },
  {
   "cell_type": "markdown",
   "id": "e92f796a",
   "metadata": {},
   "source": [
    "- List Access/ Indexcing\n",
    "- List Method (Append, Extend, Delete, Pop, Remove, Replace, Insert, count, index, Reverse, len, sort, clear, copy )\n",
    "- Shallow Copy Vs Deep Copy\n",
    "- List Constructor\n",
    "- input list from user\n",
    "- List Pairing\n",
    "- indexcing pair list\n",
    "- Multiple values update together"
   ]
  },
  {
   "cell_type": "code",
   "execution_count": 1,
   "id": "532b29a8",
   "metadata": {},
   "outputs": [],
   "source": [
    "l1 = [2,3,4,5,8]"
   ]
  },
  {
   "cell_type": "code",
   "execution_count": 2,
   "id": "efd1d723",
   "metadata": {},
   "outputs": [
    {
     "data": {
      "text/plain": [
       "[2, 3, 4, 5, 8]"
      ]
     },
     "execution_count": 2,
     "metadata": {},
     "output_type": "execute_result"
    }
   ],
   "source": [
    "l1"
   ]
  },
  {
   "cell_type": "code",
   "execution_count": 3,
   "id": "f5d6b0b8",
   "metadata": {},
   "outputs": [
    {
     "data": {
      "text/plain": [
       "list"
      ]
     },
     "execution_count": 3,
     "metadata": {},
     "output_type": "execute_result"
    }
   ],
   "source": [
    "type(l1)"
   ]
  },
  {
   "cell_type": "markdown",
   "id": "020e0205",
   "metadata": {},
   "source": [
    "## Test 2: List"
   ]
  },
  {
   "cell_type": "code",
   "execution_count": 101,
   "id": "a905909a",
   "metadata": {},
   "outputs": [
    {
     "data": {
      "text/plain": [
       "[4, 4.55, 3, 3, 6, 8, 2, True, 'Str', (3+5j)]"
      ]
     },
     "execution_count": 101,
     "metadata": {},
     "output_type": "execute_result"
    }
   ],
   "source": [
    "data = [4, 4.55, 3, 3, 6, 8, 2, True, \"Str\", 3+5j]\n",
    "data"
   ]
  },
  {
   "cell_type": "code",
   "execution_count": 105,
   "id": "b25beeee",
   "metadata": {},
   "outputs": [
    {
     "data": {
      "text/plain": [
       "[(3+5j), 'Str', True, 2, 8, 6, 3, 3, 4.55, 4]"
      ]
     },
     "execution_count": 105,
     "metadata": {},
     "output_type": "execute_result"
    }
   ],
   "source": [
    "# Indexcing\n",
    "data[0]\n",
    "data[-1]  # last one\n",
    "data[::] # all\n",
    "data[::-1]  # reverse"
   ]
  },
  {
   "cell_type": "code",
   "execution_count": 107,
   "id": "122250c9",
   "metadata": {},
   "outputs": [
    {
     "data": {
      "text/plain": [
       "[44, 4.55, 3, 3, 6, 8, 2, True, 'Str', (3+5j)]"
      ]
     },
     "execution_count": 107,
     "metadata": {},
     "output_type": "execute_result"
    }
   ],
   "source": [
    "# update\n",
    "data[0] = 44  # first index updatated by 44\n",
    "data"
   ]
  },
  {
   "cell_type": "code",
   "execution_count": 108,
   "id": "34a4e744",
   "metadata": {},
   "outputs": [
    {
     "data": {
      "text/plain": [
       "[44, 4.55, 10, 10, 6, 8, 2, True, 'Str', (3+5j)]"
      ]
     },
     "execution_count": 108,
     "metadata": {},
     "output_type": "execute_result"
    }
   ],
   "source": [
    "data[2:4] = 10,10\n",
    "data"
   ]
  },
  {
   "cell_type": "markdown",
   "id": "afe4d50c",
   "metadata": {},
   "source": [
    "## Indexing / List Slicing"
   ]
  },
  {
   "cell_type": "code",
   "execution_count": 4,
   "id": "bf05b89a",
   "metadata": {},
   "outputs": [
    {
     "data": {
      "text/plain": [
       "2"
      ]
     },
     "execution_count": 4,
     "metadata": {},
     "output_type": "execute_result"
    }
   ],
   "source": [
    "l1[0]"
   ]
  },
  {
   "cell_type": "code",
   "execution_count": 5,
   "id": "d78ca7fa",
   "metadata": {},
   "outputs": [
    {
     "data": {
      "text/plain": [
       "4"
      ]
     },
     "execution_count": 5,
     "metadata": {},
     "output_type": "execute_result"
    }
   ],
   "source": [
    "l1[2]"
   ]
  },
  {
   "cell_type": "code",
   "execution_count": 6,
   "id": "58dd2489",
   "metadata": {},
   "outputs": [
    {
     "data": {
      "text/plain": [
       "8"
      ]
     },
     "execution_count": 6,
     "metadata": {},
     "output_type": "execute_result"
    }
   ],
   "source": [
    "l1[-1] # Negative Indexing"
   ]
  },
  {
   "cell_type": "code",
   "execution_count": 7,
   "id": "c2689738",
   "metadata": {},
   "outputs": [
    {
     "data": {
      "text/plain": [
       "[2, 3]"
      ]
     },
     "execution_count": 7,
     "metadata": {},
     "output_type": "execute_result"
    }
   ],
   "source": [
    "l1[0:2]"
   ]
  },
  {
   "cell_type": "code",
   "execution_count": 8,
   "id": "80b86457",
   "metadata": {},
   "outputs": [
    {
     "data": {
      "text/plain": [
       "[2, 3, 4]"
      ]
     },
     "execution_count": 8,
     "metadata": {},
     "output_type": "execute_result"
    }
   ],
   "source": [
    "l1[0:3]"
   ]
  },
  {
   "cell_type": "code",
   "execution_count": 9,
   "id": "3744765e",
   "metadata": {},
   "outputs": [
    {
     "data": {
      "text/plain": [
       "[2, 3, 4, 5, 8]"
      ]
     },
     "execution_count": 9,
     "metadata": {},
     "output_type": "execute_result"
    }
   ],
   "source": [
    "l1[0:5]"
   ]
  },
  {
   "cell_type": "code",
   "execution_count": 10,
   "id": "214eb355",
   "metadata": {},
   "outputs": [
    {
     "data": {
      "text/plain": [
       "[4, 5]"
      ]
     },
     "execution_count": 10,
     "metadata": {},
     "output_type": "execute_result"
    }
   ],
   "source": [
    "l1[2:4]  # When Accessing 4, 5"
   ]
  },
  {
   "cell_type": "code",
   "execution_count": 11,
   "id": "ea1188d3",
   "metadata": {},
   "outputs": [
    {
     "data": {
      "text/plain": [
       "[5, 8]"
      ]
     },
     "execution_count": 11,
     "metadata": {},
     "output_type": "execute_result"
    }
   ],
   "source": [
    "l1[3:5] # When Accessing 5, 8"
   ]
  },
  {
   "cell_type": "code",
   "execution_count": 12,
   "id": "c728bca9",
   "metadata": {},
   "outputs": [
    {
     "data": {
      "text/plain": [
       "[3, 4]"
      ]
     },
     "execution_count": 12,
     "metadata": {},
     "output_type": "execute_result"
    }
   ],
   "source": [
    "l1[1:3]"
   ]
  },
  {
   "cell_type": "code",
   "execution_count": 13,
   "id": "f6e8c481",
   "metadata": {},
   "outputs": [
    {
     "data": {
      "text/plain": [
       "[3, 4, 5]"
      ]
     },
     "execution_count": 13,
     "metadata": {},
     "output_type": "execute_result"
    }
   ],
   "source": [
    "l1[1:4]"
   ]
  },
  {
   "cell_type": "code",
   "execution_count": 14,
   "id": "27d6ec6f",
   "metadata": {},
   "outputs": [
    {
     "data": {
      "text/plain": [
       "[3, 4, 5, 8]"
      ]
     },
     "execution_count": 14,
     "metadata": {},
     "output_type": "execute_result"
    }
   ],
   "source": [
    "l1[1:5]"
   ]
  },
  {
   "cell_type": "code",
   "execution_count": 15,
   "id": "e099be6d",
   "metadata": {},
   "outputs": [],
   "source": [
    "l1[0] = 'Replace1'"
   ]
  },
  {
   "cell_type": "code",
   "execution_count": 16,
   "id": "3451d2e9",
   "metadata": {},
   "outputs": [
    {
     "data": {
      "text/plain": [
       "['Replace1', 3, 4, 5, 8]"
      ]
     },
     "execution_count": 16,
     "metadata": {},
     "output_type": "execute_result"
    }
   ],
   "source": [
    "l1 # It is mutable"
   ]
  },
  {
   "cell_type": "markdown",
   "id": "dbe8de87",
   "metadata": {},
   "source": [
    "### Append"
   ]
  },
  {
   "cell_type": "code",
   "execution_count": 17,
   "id": "c169e0a8",
   "metadata": {},
   "outputs": [],
   "source": [
    "l1.append('Bangladesh')"
   ]
  },
  {
   "cell_type": "code",
   "execution_count": 18,
   "id": "14d898d4",
   "metadata": {},
   "outputs": [
    {
     "data": {
      "text/plain": [
       "['Replace1', 3, 4, 5, 8, 'Bangladesh']"
      ]
     },
     "execution_count": 18,
     "metadata": {},
     "output_type": "execute_result"
    }
   ],
   "source": [
    "l1"
   ]
  },
  {
   "cell_type": "code",
   "execution_count": 19,
   "id": "c1e88edd",
   "metadata": {},
   "outputs": [],
   "source": [
    "l1.append(5) # Check duplication allow"
   ]
  },
  {
   "cell_type": "code",
   "execution_count": 20,
   "id": "3650838b",
   "metadata": {},
   "outputs": [
    {
     "data": {
      "text/plain": [
       "['Replace1', 3, 4, 5, 8, 'Bangladesh', 5]"
      ]
     },
     "execution_count": 20,
     "metadata": {},
     "output_type": "execute_result"
    }
   ],
   "source": [
    "l1"
   ]
  },
  {
   "cell_type": "markdown",
   "id": "08bb0429",
   "metadata": {},
   "source": [
    "## Memory Size"
   ]
  },
  {
   "cell_type": "code",
   "execution_count": 21,
   "id": "9d0d238e",
   "metadata": {},
   "outputs": [
    {
     "data": {
      "text/plain": [
       "120"
      ]
     },
     "execution_count": 21,
     "metadata": {},
     "output_type": "execute_result"
    }
   ],
   "source": [
    "import sys\n",
    "sys.getsizeof(l1)"
   ]
  },
  {
   "cell_type": "code",
   "execution_count": 22,
   "id": "f79ebe4e",
   "metadata": {},
   "outputs": [
    {
     "data": {
      "text/plain": [
       "5"
      ]
     },
     "execution_count": 22,
     "metadata": {},
     "output_type": "execute_result"
    }
   ],
   "source": [
    "l1.pop()"
   ]
  },
  {
   "cell_type": "code",
   "execution_count": 23,
   "id": "91adda50",
   "metadata": {},
   "outputs": [
    {
     "data": {
      "text/plain": [
       "['Replace1', 3, 4, 5, 8, 'Bangladesh']"
      ]
     },
     "execution_count": 23,
     "metadata": {},
     "output_type": "execute_result"
    }
   ],
   "source": [
    "l1"
   ]
  },
  {
   "cell_type": "markdown",
   "id": "216776dc",
   "metadata": {},
   "source": [
    "## Pop"
   ]
  },
  {
   "cell_type": "code",
   "execution_count": 24,
   "id": "0fc14630",
   "metadata": {},
   "outputs": [
    {
     "data": {
      "text/plain": [
       "'Bangladesh'"
      ]
     },
     "execution_count": 24,
     "metadata": {},
     "output_type": "execute_result"
    }
   ],
   "source": [
    "l1.pop()"
   ]
  },
  {
   "cell_type": "code",
   "execution_count": 25,
   "id": "b3657183",
   "metadata": {},
   "outputs": [
    {
     "data": {
      "text/plain": [
       "['Replace1', 3, 4, 5, 8]"
      ]
     },
     "execution_count": 25,
     "metadata": {},
     "output_type": "execute_result"
    }
   ],
   "source": [
    "l1"
   ]
  },
  {
   "cell_type": "code",
   "execution_count": 26,
   "id": "22e6822d",
   "metadata": {},
   "outputs": [
    {
     "data": {
      "text/plain": [
       "'Replace1'"
      ]
     },
     "execution_count": 26,
     "metadata": {},
     "output_type": "execute_result"
    }
   ],
   "source": [
    "l1.pop(0)"
   ]
  },
  {
   "cell_type": "code",
   "execution_count": 27,
   "id": "16bb5ab2",
   "metadata": {},
   "outputs": [
    {
     "data": {
      "text/plain": [
       "[3, 4, 5, 8]"
      ]
     },
     "execution_count": 27,
     "metadata": {},
     "output_type": "execute_result"
    }
   ],
   "source": [
    "l1"
   ]
  },
  {
   "cell_type": "markdown",
   "id": "ef67eaca",
   "metadata": {},
   "source": [
    "# Creating List by using List Constructor"
   ]
  },
  {
   "cell_type": "code",
   "execution_count": 28,
   "id": "b179a6ba",
   "metadata": {},
   "outputs": [],
   "source": [
    "l2 = list(('ai', 12, (1,2,3,4)))"
   ]
  },
  {
   "cell_type": "code",
   "execution_count": 29,
   "id": "9db65f4b",
   "metadata": {},
   "outputs": [
    {
     "data": {
      "text/plain": [
       "['ai', 12, (1, 2, 3, 4)]"
      ]
     },
     "execution_count": 29,
     "metadata": {},
     "output_type": "execute_result"
    }
   ],
   "source": [
    "l2"
   ]
  },
  {
   "cell_type": "code",
   "execution_count": 30,
   "id": "68118cde",
   "metadata": {},
   "outputs": [
    {
     "data": {
      "text/plain": [
       "list"
      ]
     },
     "execution_count": 30,
     "metadata": {},
     "output_type": "execute_result"
    }
   ],
   "source": [
    "type(l2)"
   ]
  },
  {
   "cell_type": "code",
   "execution_count": 31,
   "id": "e9c58ff5",
   "metadata": {},
   "outputs": [
    {
     "data": {
      "text/plain": [
       "(1, 2, 3, 4)"
      ]
     },
     "execution_count": 31,
     "metadata": {},
     "output_type": "execute_result"
    }
   ],
   "source": [
    "l2[2]"
   ]
  },
  {
   "cell_type": "code",
   "execution_count": 32,
   "id": "e30cc933",
   "metadata": {},
   "outputs": [
    {
     "data": {
      "text/plain": [
       "(1, 2, 3, 4)"
      ]
     },
     "execution_count": 32,
     "metadata": {},
     "output_type": "execute_result"
    }
   ],
   "source": [
    "l2[2][0:4] # alternative  [Start:End]"
   ]
  },
  {
   "cell_type": "code",
   "execution_count": 33,
   "id": "284c852a",
   "metadata": {},
   "outputs": [
    {
     "data": {
      "text/plain": [
       "(3, 4)"
      ]
     },
     "execution_count": 33,
     "metadata": {},
     "output_type": "execute_result"
    }
   ],
   "source": [
    "l2[2][2:4]  # Accessing last two"
   ]
  },
  {
   "cell_type": "code",
   "execution_count": 34,
   "id": "25de2a79",
   "metadata": {},
   "outputs": [
    {
     "data": {
      "text/plain": [
       "'ai'"
      ]
     },
     "execution_count": 34,
     "metadata": {},
     "output_type": "execute_result"
    }
   ],
   "source": [
    "l2[0]"
   ]
  },
  {
   "cell_type": "code",
   "execution_count": 35,
   "id": "862ea3b1",
   "metadata": {},
   "outputs": [
    {
     "data": {
      "text/plain": [
       "12"
      ]
     },
     "execution_count": 35,
     "metadata": {},
     "output_type": "execute_result"
    }
   ],
   "source": [
    "l2[1]"
   ]
  },
  {
   "cell_type": "code",
   "execution_count": 36,
   "id": "6d0425c0",
   "metadata": {},
   "outputs": [
    {
     "data": {
      "text/plain": [
       "(2, 3)"
      ]
     },
     "execution_count": 36,
     "metadata": {},
     "output_type": "execute_result"
    }
   ],
   "source": [
    "l2[2][1:3]"
   ]
  },
  {
   "cell_type": "code",
   "execution_count": 37,
   "id": "e97a731f",
   "metadata": {},
   "outputs": [
    {
     "data": {
      "text/plain": [
       "(2, 3, 4)"
      ]
     },
     "execution_count": 37,
     "metadata": {},
     "output_type": "execute_result"
    }
   ],
   "source": [
    "l2[2][1:4]"
   ]
  },
  {
   "cell_type": "code",
   "execution_count": 38,
   "id": "4e070bac",
   "metadata": {},
   "outputs": [
    {
     "name": "stdout",
     "output_type": "stream",
     "text": [
      "Enter your Total index: 5\n",
      "5\n",
      "['5']\n",
      "2\n",
      "['5', '2']\n",
      "2\n",
      "['5', '2', '2']\n",
      "2\n",
      "['5', '2', '2', '2']\n",
      "2\n",
      "['5', '2', '2', '2', '2']\n"
     ]
    }
   ],
   "source": [
    "# Input list from user\n",
    "l3 = []\n",
    "n = int(input('Enter your Total index: '))\n",
    "\n",
    "for i in range(n):\n",
    "    new = input()\n",
    "    l3.append(new)\n",
    "    print(l3)\n",
    "    "
   ]
  },
  {
   "cell_type": "code",
   "execution_count": 39,
   "id": "34ab2f58",
   "metadata": {},
   "outputs": [
    {
     "name": "stdout",
     "output_type": "stream",
     "text": [
      "Enter your Total index: 1\n",
      "1\n",
      "['1']\n"
     ]
    }
   ],
   "source": [
    "# Input list from user\n",
    "l3 = []\n",
    "n = int(input('Enter your Total index: '))\n",
    "\n",
    "for i in range(n):\n",
    "    new = input()\n",
    "    l3.append(new)\n",
    "print(l3)"
   ]
  },
  {
   "cell_type": "code",
   "execution_count": 40,
   "id": "e90f040d",
   "metadata": {},
   "outputs": [],
   "source": [
    "user = ['Rahim', 'Karim','Rita']"
   ]
  },
  {
   "cell_type": "code",
   "execution_count": 41,
   "id": "772149c0",
   "metadata": {},
   "outputs": [
    {
     "data": {
      "text/plain": [
       "['Rahim', 'Karim', 'Rita']"
      ]
     },
     "execution_count": 41,
     "metadata": {},
     "output_type": "execute_result"
    }
   ],
   "source": [
    "user"
   ]
  },
  {
   "cell_type": "code",
   "execution_count": 42,
   "id": "69519271",
   "metadata": {},
   "outputs": [],
   "source": [
    "del user[0]"
   ]
  },
  {
   "cell_type": "code",
   "execution_count": 43,
   "id": "27b8625e",
   "metadata": {},
   "outputs": [
    {
     "data": {
      "text/plain": [
       "['Karim', 'Rita']"
      ]
     },
     "execution_count": 43,
     "metadata": {},
     "output_type": "execute_result"
    }
   ],
   "source": [
    "user"
   ]
  },
  {
   "cell_type": "code",
   "execution_count": 44,
   "id": "2d9427ad",
   "metadata": {},
   "outputs": [
    {
     "data": {
      "text/plain": [
       "2"
      ]
     },
     "execution_count": 44,
     "metadata": {},
     "output_type": "execute_result"
    }
   ],
   "source": [
    "len(user)"
   ]
  },
  {
   "cell_type": "code",
   "execution_count": 45,
   "id": "49b57c2b",
   "metadata": {},
   "outputs": [],
   "source": [
    "user.extend(['Suman', 'Himel', 'Sarwar', 'Ripon'])"
   ]
  },
  {
   "cell_type": "code",
   "execution_count": 46,
   "id": "7dc3979b",
   "metadata": {},
   "outputs": [
    {
     "data": {
      "text/plain": [
       "['Karim', 'Rita', 'Suman', 'Himel', 'Sarwar', 'Ripon']"
      ]
     },
     "execution_count": 46,
     "metadata": {},
     "output_type": "execute_result"
    }
   ],
   "source": [
    "user"
   ]
  },
  {
   "cell_type": "code",
   "execution_count": 47,
   "id": "2ec372c0",
   "metadata": {},
   "outputs": [
    {
     "data": {
      "text/plain": [
       "['Karim', 'Rita', 'Suman']"
      ]
     },
     "execution_count": 47,
     "metadata": {},
     "output_type": "execute_result"
    }
   ],
   "source": [
    "user [0:3]  # [Start: End: Step Size]"
   ]
  },
  {
   "cell_type": "code",
   "execution_count": 48,
   "id": "813b0449",
   "metadata": {},
   "outputs": [
    {
     "data": {
      "text/plain": [
       "['Karim', 'Rita', 'Suman']"
      ]
     },
     "execution_count": 48,
     "metadata": {},
     "output_type": "execute_result"
    }
   ],
   "source": [
    "user [:3]  # alternive, no need to mention zero, just keep blank"
   ]
  },
  {
   "cell_type": "code",
   "execution_count": 49,
   "id": "396961bc",
   "metadata": {},
   "outputs": [
    {
     "data": {
      "text/plain": [
       "['Suman', 'Sarwar']"
      ]
     },
     "execution_count": 49,
     "metadata": {},
     "output_type": "execute_result"
    }
   ],
   "source": [
    "user [2::2]"
   ]
  },
  {
   "cell_type": "code",
   "execution_count": 50,
   "id": "8b69d6de",
   "metadata": {},
   "outputs": [
    {
     "data": {
      "text/plain": [
       "['Suman', 'Ripon']"
      ]
     },
     "execution_count": 50,
     "metadata": {},
     "output_type": "execute_result"
    }
   ],
   "source": [
    "user [2::3]    # [start 0, all element e.g blank: step size=3]"
   ]
  },
  {
   "cell_type": "markdown",
   "id": "b01d9ea6",
   "metadata": {},
   "source": [
    "# Replace"
   ]
  },
  {
   "cell_type": "code",
   "execution_count": 51,
   "id": "18e3cadd",
   "metadata": {},
   "outputs": [
    {
     "data": {
      "text/plain": [
       "['Karim', 'Rupa', 'Rima', 'Kajol', 'Mamun']"
      ]
     },
     "execution_count": 51,
     "metadata": {},
     "output_type": "execute_result"
    }
   ],
   "source": [
    "namelist = ['Karim', 'Rupa', 'Rima', 'Kajol', 'Mamun']\n",
    "namelist"
   ]
  },
  {
   "cell_type": "code",
   "execution_count": 52,
   "id": "d855835e",
   "metadata": {},
   "outputs": [],
   "source": [
    "namelist[1] = 'Jhumur'  # replace rupa which index is 2"
   ]
  },
  {
   "cell_type": "code",
   "execution_count": 53,
   "id": "829267ab",
   "metadata": {},
   "outputs": [
    {
     "data": {
      "text/plain": [
       "['Karim', 'Jhumur', 'Rima', 'Kajol', 'Mamun']"
      ]
     },
     "execution_count": 53,
     "metadata": {},
     "output_type": "execute_result"
    }
   ],
   "source": [
    "namelist"
   ]
  },
  {
   "cell_type": "code",
   "execution_count": 54,
   "id": "d73fbce1",
   "metadata": {},
   "outputs": [],
   "source": [
    "namelist[4] = 'Palash'   # replace rupa which index is 4"
   ]
  },
  {
   "cell_type": "code",
   "execution_count": 55,
   "id": "73e635c2",
   "metadata": {},
   "outputs": [
    {
     "data": {
      "text/plain": [
       "['Karim', 'Jhumur', 'Rima', 'Kajol', 'Palash']"
      ]
     },
     "execution_count": 55,
     "metadata": {},
     "output_type": "execute_result"
    }
   ],
   "source": [
    "namelist"
   ]
  },
  {
   "cell_type": "markdown",
   "id": "04c06e35",
   "metadata": {},
   "source": [
    "# Insert"
   ]
  },
  {
   "cell_type": "code",
   "execution_count": 56,
   "id": "c2b043df",
   "metadata": {},
   "outputs": [
    {
     "data": {
      "text/plain": [
       "['Apple', 'Orange', 'Mango', 'Banana', 'Lichy', 'Pineaple']"
      ]
     },
     "execution_count": 56,
     "metadata": {},
     "output_type": "execute_result"
    }
   ],
   "source": [
    "fruits = ['Apple','Orange','Mango','Banana','Lichy','Pineaple']\n",
    "fruits"
   ]
  },
  {
   "cell_type": "code",
   "execution_count": 57,
   "id": "93d91ec4",
   "metadata": {},
   "outputs": [],
   "source": [
    "fruits.insert(2,'Date')  # insert date before mango, which index is 2"
   ]
  },
  {
   "cell_type": "code",
   "execution_count": 58,
   "id": "cc2019d0",
   "metadata": {},
   "outputs": [
    {
     "data": {
      "text/plain": [
       "['Apple', 'Orange', 'Date', 'Mango', 'Banana', 'Lichy', 'Pineaple']"
      ]
     },
     "execution_count": 58,
     "metadata": {},
     "output_type": "execute_result"
    }
   ],
   "source": [
    "fruits"
   ]
  },
  {
   "cell_type": "code",
   "execution_count": 59,
   "id": "fb3993d2",
   "metadata": {},
   "outputs": [],
   "source": [
    "fruits.insert(3,'Water Melon')"
   ]
  },
  {
   "cell_type": "code",
   "execution_count": 60,
   "id": "fb19f2a7",
   "metadata": {},
   "outputs": [
    {
     "data": {
      "text/plain": [
       "['Apple',\n",
       " 'Orange',\n",
       " 'Date',\n",
       " 'Water Melon',\n",
       " 'Mango',\n",
       " 'Banana',\n",
       " 'Lichy',\n",
       " 'Pineaple']"
      ]
     },
     "execution_count": 60,
     "metadata": {},
     "output_type": "execute_result"
    }
   ],
   "source": [
    "fruits"
   ]
  },
  {
   "cell_type": "code",
   "execution_count": 61,
   "id": "072bfffc",
   "metadata": {},
   "outputs": [
    {
     "name": "stdout",
     "output_type": "stream",
     "text": [
      "['Apple', 'Orange', 'Date', 'Water Melon', 'Mango', 'Banana', 'Lichy', 'Pineaple']\n"
     ]
    }
   ],
   "source": [
    "print(fruits) # alternative"
   ]
  },
  {
   "cell_type": "code",
   "execution_count": 62,
   "id": "561a6492",
   "metadata": {},
   "outputs": [
    {
     "name": "stdout",
     "output_type": "stream",
     "text": [
      "['Apple', 'Orange', 'Date', 'Water Melon', 'Mango', 'Banana', 'Lichy', 'Pineaple'],"
     ]
    }
   ],
   "source": [
    "print(fruits, end=',')"
   ]
  },
  {
   "cell_type": "code",
   "execution_count": 63,
   "id": "6f1a22fa",
   "metadata": {},
   "outputs": [],
   "source": [
    "fruits.insert(5,'Lemon')"
   ]
  },
  {
   "cell_type": "code",
   "execution_count": 64,
   "id": "79d0bbd1",
   "metadata": {},
   "outputs": [
    {
     "name": "stdout",
     "output_type": "stream",
     "text": [
      "['Apple', 'Orange', 'Date', 'Water Melon', 'Mango', 'Lemon', 'Banana', 'Lichy', 'Pineaple']\n"
     ]
    }
   ],
   "source": [
    "print(fruits)"
   ]
  },
  {
   "cell_type": "markdown",
   "id": "035a595f",
   "metadata": {},
   "source": [
    "# Pairing List/ Combine list"
   ]
  },
  {
   "cell_type": "code",
   "execution_count": 65,
   "id": "6575b667",
   "metadata": {},
   "outputs": [],
   "source": [
    "a = ['Rose','WaterLilly','Sunflower','Merigold']"
   ]
  },
  {
   "cell_type": "code",
   "execution_count": 66,
   "id": "359bfdca",
   "metadata": {},
   "outputs": [
    {
     "data": {
      "text/plain": [
       "['Rose', 'WaterLilly', 'Sunflower', 'Merigold']"
      ]
     },
     "execution_count": 66,
     "metadata": {},
     "output_type": "execute_result"
    }
   ],
   "source": [
    "a"
   ]
  },
  {
   "cell_type": "code",
   "execution_count": 67,
   "id": "8cb36bdb",
   "metadata": {},
   "outputs": [],
   "source": [
    "b = ['Patato', 'Cattor','Peper','Bringal']"
   ]
  },
  {
   "cell_type": "code",
   "execution_count": 68,
   "id": "bb95941c",
   "metadata": {},
   "outputs": [
    {
     "data": {
      "text/plain": [
       "['Patato', 'Cattor', 'Peper', 'Bringal']"
      ]
     },
     "execution_count": 68,
     "metadata": {},
     "output_type": "execute_result"
    }
   ],
   "source": [
    "b"
   ]
  },
  {
   "cell_type": "code",
   "execution_count": 69,
   "id": "3c594bab",
   "metadata": {},
   "outputs": [],
   "source": [
    "pairing = [a,b]"
   ]
  },
  {
   "cell_type": "code",
   "execution_count": 70,
   "id": "bab47ecc",
   "metadata": {},
   "outputs": [
    {
     "data": {
      "text/plain": [
       "[['Rose', 'WaterLilly', 'Sunflower', 'Merigold'],\n",
       " ['Patato', 'Cattor', 'Peper', 'Bringal']]"
      ]
     },
     "execution_count": 70,
     "metadata": {},
     "output_type": "execute_result"
    }
   ],
   "source": [
    "pairing"
   ]
  },
  {
   "cell_type": "markdown",
   "id": "f6de704e",
   "metadata": {},
   "source": [
    "### Indexing over pair list"
   ]
  },
  {
   "cell_type": "code",
   "execution_count": 71,
   "id": "bef38331",
   "metadata": {},
   "outputs": [
    {
     "data": {
      "text/plain": [
       "['Patato', 'Cattor', 'Peper', 'Bringal']"
      ]
     },
     "execution_count": 71,
     "metadata": {},
     "output_type": "execute_result"
    }
   ],
   "source": [
    "pairing [1]"
   ]
  },
  {
   "cell_type": "code",
   "execution_count": 72,
   "id": "4f650ab7",
   "metadata": {},
   "outputs": [
    {
     "data": {
      "text/plain": [
       "['Rose', 'WaterLilly', 'Sunflower', 'Merigold']"
      ]
     },
     "execution_count": 72,
     "metadata": {},
     "output_type": "execute_result"
    }
   ],
   "source": [
    "pairing [0]"
   ]
  },
  {
   "cell_type": "code",
   "execution_count": 73,
   "id": "7176a2ea",
   "metadata": {},
   "outputs": [
    {
     "data": {
      "text/plain": [
       "'WaterLilly'"
      ]
     },
     "execution_count": 73,
     "metadata": {},
     "output_type": "execute_result"
    }
   ],
   "source": [
    "pairing [0][1]  # Accessing water lilly which is in 0 & 1 index"
   ]
  },
  {
   "cell_type": "code",
   "execution_count": 74,
   "id": "2e48933c",
   "metadata": {},
   "outputs": [
    {
     "data": {
      "text/plain": [
       "'Sunflower'"
      ]
     },
     "execution_count": 74,
     "metadata": {},
     "output_type": "execute_result"
    }
   ],
   "source": [
    "pairing [0][2]  # access sunflower"
   ]
  },
  {
   "cell_type": "code",
   "execution_count": 75,
   "id": "8007ec4d",
   "metadata": {},
   "outputs": [
    {
     "data": {
      "text/plain": [
       "'Merigold'"
      ]
     },
     "execution_count": 75,
     "metadata": {},
     "output_type": "execute_result"
    }
   ],
   "source": [
    "pairing[0][-1]  # Merigold"
   ]
  },
  {
   "cell_type": "code",
   "execution_count": 76,
   "id": "a8230ac5",
   "metadata": {},
   "outputs": [
    {
     "data": {
      "text/plain": [
       "'Merigold'"
      ]
     },
     "execution_count": 76,
     "metadata": {},
     "output_type": "execute_result"
    }
   ],
   "source": [
    "pairing[0][3] # Merigold alvernative"
   ]
  },
  {
   "cell_type": "code",
   "execution_count": 77,
   "id": "2f2f3078",
   "metadata": {},
   "outputs": [
    {
     "data": {
      "text/plain": [
       "'Peper'"
      ]
     },
     "execution_count": 77,
     "metadata": {},
     "output_type": "execute_result"
    }
   ],
   "source": [
    "pairing[1][2] # access peper"
   ]
  },
  {
   "cell_type": "code",
   "execution_count": 78,
   "id": "f14cfa21",
   "metadata": {},
   "outputs": [
    {
     "data": {
      "text/plain": [
       "'Bringal'"
      ]
     },
     "execution_count": 78,
     "metadata": {},
     "output_type": "execute_result"
    }
   ],
   "source": [
    "pairing [1][-1]"
   ]
  },
  {
   "cell_type": "code",
   "execution_count": 79,
   "id": "b84b0397",
   "metadata": {},
   "outputs": [
    {
     "data": {
      "text/plain": [
       "'Bringal'"
      ]
     },
     "execution_count": 79,
     "metadata": {},
     "output_type": "execute_result"
    }
   ],
   "source": [
    "pairing [1][3]"
   ]
  },
  {
   "cell_type": "code",
   "execution_count": 80,
   "id": "bdfbe24c",
   "metadata": {},
   "outputs": [
    {
     "data": {
      "text/plain": [
       "'Patato'"
      ]
     },
     "execution_count": 80,
     "metadata": {},
     "output_type": "execute_result"
    }
   ],
   "source": [
    "pairing[1][0]"
   ]
  },
  {
   "cell_type": "markdown",
   "id": "3914a046",
   "metadata": {},
   "source": [
    "#### String Method - Counts"
   ]
  },
  {
   "cell_type": "code",
   "execution_count": 81,
   "id": "d37e4a39",
   "metadata": {},
   "outputs": [
    {
     "data": {
      "text/plain": [
       "[5, 5, 5, 15, 7, 9, 4, 6, 4, 5, 72, 5, 6]"
      ]
     },
     "execution_count": 81,
     "metadata": {},
     "output_type": "execute_result"
    }
   ],
   "source": [
    "list10= [5,5,5,15,7,9,4,6,4,5,72,5,6]\n",
    "list10"
   ]
  },
  {
   "cell_type": "code",
   "execution_count": 82,
   "id": "9d1c3795",
   "metadata": {},
   "outputs": [
    {
     "data": {
      "text/plain": [
       "5"
      ]
     },
     "execution_count": 82,
     "metadata": {},
     "output_type": "execute_result"
    }
   ],
   "source": [
    "list10.count(5)"
   ]
  },
  {
   "cell_type": "markdown",
   "id": "00d76b18",
   "metadata": {},
   "source": [
    "#### index position"
   ]
  },
  {
   "cell_type": "code",
   "execution_count": 83,
   "id": "28712ae5",
   "metadata": {},
   "outputs": [
    {
     "data": {
      "text/plain": [
       "3"
      ]
     },
     "execution_count": 83,
     "metadata": {},
     "output_type": "execute_result"
    }
   ],
   "source": [
    "list10.index(15)"
   ]
  },
  {
   "cell_type": "code",
   "execution_count": 84,
   "id": "187b474e",
   "metadata": {},
   "outputs": [
    {
     "data": {
      "text/plain": [
       "0"
      ]
     },
     "execution_count": 84,
     "metadata": {},
     "output_type": "execute_result"
    }
   ],
   "source": [
    "list10.index(5)"
   ]
  },
  {
   "cell_type": "markdown",
   "id": "e50e2b79",
   "metadata": {},
   "source": [
    "#### Remove"
   ]
  },
  {
   "cell_type": "code",
   "execution_count": 85,
   "id": "372c01ca",
   "metadata": {},
   "outputs": [
    {
     "data": {
      "text/plain": [
       "[5, 5, 15, 7, 9, 4, 6, 4, 5, 72, 5, 6]"
      ]
     },
     "execution_count": 85,
     "metadata": {},
     "output_type": "execute_result"
    }
   ],
   "source": [
    "list10.remove(5)   # not remove all similar value together, rather remove a given value one by one\n",
    "list10"
   ]
  },
  {
   "cell_type": "code",
   "execution_count": 86,
   "id": "02ef510a",
   "metadata": {},
   "outputs": [
    {
     "data": {
      "text/plain": [
       "0"
      ]
     },
     "execution_count": 86,
     "metadata": {},
     "output_type": "execute_result"
    }
   ],
   "source": [
    "list10.index(5)"
   ]
  },
  {
   "cell_type": "markdown",
   "id": "e7556d01",
   "metadata": {},
   "source": [
    "#### Reverse"
   ]
  },
  {
   "cell_type": "code",
   "execution_count": 87,
   "id": "1f204d4e",
   "metadata": {},
   "outputs": [
    {
     "data": {
      "text/plain": [
       "[6, 5, 72, 5, 4, 6, 4, 9, 7, 15, 5, 5]"
      ]
     },
     "execution_count": 87,
     "metadata": {},
     "output_type": "execute_result"
    }
   ],
   "source": [
    "list10.reverse()            # reverse is same as code \"list10[::-1]\"\n",
    "list10"
   ]
  },
  {
   "cell_type": "markdown",
   "id": "2746c6f0",
   "metadata": {},
   "source": [
    "#### Lenght"
   ]
  },
  {
   "cell_type": "code",
   "execution_count": 88,
   "id": "8e82dfc4",
   "metadata": {},
   "outputs": [
    {
     "data": {
      "text/plain": [
       "12"
      ]
     },
     "execution_count": 88,
     "metadata": {},
     "output_type": "execute_result"
    }
   ],
   "source": [
    "len(list10) # wnat to know how many elements inside list, this can be applied in str also"
   ]
  },
  {
   "cell_type": "markdown",
   "id": "833fbe56",
   "metadata": {},
   "source": [
    "#### list shorting"
   ]
  },
  {
   "cell_type": "code",
   "execution_count": 89,
   "id": "6de4df37",
   "metadata": {},
   "outputs": [
    {
     "data": {
      "text/plain": [
       "[4, 4, 5, 5, 5, 5, 6, 6, 7, 9, 15, 72]"
      ]
     },
     "execution_count": 89,
     "metadata": {},
     "output_type": "execute_result"
    }
   ],
   "source": [
    "list10.sort()  # Ascending by default\n",
    "list10"
   ]
  },
  {
   "cell_type": "code",
   "execution_count": 90,
   "id": "4e4299e6",
   "metadata": {},
   "outputs": [
    {
     "data": {
      "text/plain": [
       "[72, 15, 9, 7, 6, 6, 5, 5, 5, 5, 4, 4]"
      ]
     },
     "execution_count": 90,
     "metadata": {},
     "output_type": "execute_result"
    }
   ],
   "source": [
    "list10.sort(reverse=True) # Discenting order\n",
    "list10"
   ]
  },
  {
   "cell_type": "markdown",
   "id": "3872bf18",
   "metadata": {},
   "source": [
    "#### Clear"
   ]
  },
  {
   "cell_type": "code",
   "execution_count": 91,
   "id": "fa2b137b",
   "metadata": {},
   "outputs": [
    {
     "data": {
      "text/plain": [
       "[]"
      ]
     },
     "execution_count": 91,
     "metadata": {},
     "output_type": "execute_result"
    }
   ],
   "source": [
    "list10.clear()  # clear all elements/values from list\n",
    "list10"
   ]
  },
  {
   "cell_type": "markdown",
   "id": "974dea26",
   "metadata": {},
   "source": [
    "### Copy (Shallow Copy vs Deep Copy)"
   ]
  },
  {
   "cell_type": "code",
   "execution_count": 92,
   "id": "ab8b0d3e",
   "metadata": {},
   "outputs": [],
   "source": [
    "nums1 = [5,6,7,10]"
   ]
  },
  {
   "cell_type": "markdown",
   "id": "be1da7c5",
   "metadata": {},
   "source": [
    "#### Shallaw Copy"
   ]
  },
  {
   "cell_type": "code",
   "execution_count": 93,
   "id": "022e85ae",
   "metadata": {},
   "outputs": [
    {
     "data": {
      "text/plain": [
       "[5, 6, 7, 10]"
      ]
     },
     "execution_count": 93,
     "metadata": {},
     "output_type": "execute_result"
    }
   ],
   "source": [
    "nums2 = nums1 # Shallow Copy\n",
    "nums2"
   ]
  },
  {
   "cell_type": "markdown",
   "id": "ea34266b",
   "metadata": {},
   "source": [
    "##### Drawbacks in Shallow copy (oring / source file updated when make any change in following list whether you want or not)"
   ]
  },
  {
   "cell_type": "code",
   "execution_count": 94,
   "id": "10c7d299",
   "metadata": {},
   "outputs": [
    {
     "data": {
      "text/plain": [
       "[5, 6, 7, 10, 500]"
      ]
     },
     "execution_count": 94,
     "metadata": {},
     "output_type": "execute_result"
    }
   ],
   "source": [
    "nums2.append(500)\n",
    "nums2"
   ]
  },
  {
   "cell_type": "code",
   "execution_count": 95,
   "id": "3a0414b3",
   "metadata": {},
   "outputs": [
    {
     "data": {
      "text/plain": [
       "[5, 6, 7, 10, 500]"
      ]
     },
     "execution_count": 95,
     "metadata": {},
     "output_type": "execute_result"
    }
   ],
   "source": [
    "nums1  # here is the problem, as I didnt want to update nums1 with append applied in nums2"
   ]
  },
  {
   "cell_type": "markdown",
   "id": "3368f6cd",
   "metadata": {},
   "source": [
    "#### Deep Copy"
   ]
  },
  {
   "cell_type": "code",
   "execution_count": 96,
   "id": "c1db8d7c",
   "metadata": {},
   "outputs": [],
   "source": [
    "nums3 = nums1.copy()  # Deep Copy"
   ]
  },
  {
   "cell_type": "code",
   "execution_count": 97,
   "id": "b42802a4",
   "metadata": {},
   "outputs": [
    {
     "data": {
      "text/plain": [
       "[5, 6, 7, 10, 500, 9999]"
      ]
     },
     "execution_count": 97,
     "metadata": {},
     "output_type": "execute_result"
    }
   ],
   "source": [
    "nums3.append(9999) # source/ original list (nums1) will not be affected by this update, only nums3 will be udpated\n",
    "nums3"
   ]
  },
  {
   "cell_type": "code",
   "execution_count": 98,
   "id": "f9c8ff95",
   "metadata": {},
   "outputs": [
    {
     "data": {
      "text/plain": [
       "[5, 6, 7, 10, 500]"
      ]
     },
     "execution_count": 98,
     "metadata": {},
     "output_type": "execute_result"
    }
   ],
   "source": [
    "nums1  # list1 not being updated by 9999 verified, Deep Copy is more useful"
   ]
  },
  {
   "cell_type": "markdown",
   "id": "69b179a5",
   "metadata": {},
   "source": [
    "#### Multiple values update together"
   ]
  },
  {
   "cell_type": "code",
   "execution_count": 99,
   "id": "49d90f4a",
   "metadata": {},
   "outputs": [
    {
     "data": {
      "text/plain": [
       "[25, 50, 75, 100]"
      ]
     },
     "execution_count": 99,
     "metadata": {},
     "output_type": "execute_result"
    }
   ],
   "source": [
    "list11 = [25,50,75,100]\n",
    "list11"
   ]
  },
  {
   "cell_type": "code",
   "execution_count": 100,
   "id": "e721de46",
   "metadata": {},
   "outputs": [
    {
     "data": {
      "text/plain": [
       "[25, 300, 600, 75, 100]"
      ]
     },
     "execution_count": 100,
     "metadata": {},
     "output_type": "execute_result"
    }
   ],
   "source": [
    "list11[1:2] = 300,600   \n",
    "list11"
   ]
  },
  {
   "cell_type": "markdown",
   "id": "ccc450ed",
   "metadata": {},
   "source": [
    "# Excercise 2"
   ]
  },
  {
   "cell_type": "markdown",
   "id": "a6715998",
   "metadata": {},
   "source": [
    "## List Method"
   ]
  },
  {
   "cell_type": "code",
   "execution_count": 110,
   "id": "9111ab24",
   "metadata": {},
   "outputs": [
    {
     "data": {
      "text/plain": [
       "[3, 45, 6, 3, 7, 3, 78, 3, 788, 6]"
      ]
     },
     "execution_count": 110,
     "metadata": {},
     "output_type": "execute_result"
    }
   ],
   "source": [
    "nums = [3,45,6,3,7,3,78,3,788,6]\n",
    "nums"
   ]
  },
  {
   "cell_type": "code",
   "execution_count": 112,
   "id": "e0c5f7f8",
   "metadata": {},
   "outputs": [
    {
     "data": {
      "text/plain": [
       "[3, 45, 6, 3, 7, 3, 78, 3, 788, 6, 99, 99]"
      ]
     },
     "execution_count": 112,
     "metadata": {},
     "output_type": "execute_result"
    }
   ],
   "source": [
    "nums.append(99)  # append add from last by every click\n",
    "nums"
   ]
  },
  {
   "cell_type": "code",
   "execution_count": 115,
   "id": "1acbdf04",
   "metadata": {},
   "outputs": [
    {
     "data": {
      "text/plain": [
       "[3, -99, -99, 45, 6, 3, 7, 3, 78, 3, 788, 6, 99, 99]"
      ]
     },
     "execution_count": 115,
     "metadata": {},
     "output_type": "execute_result"
    }
   ],
   "source": [
    "nums.insert(1,-99)  # first index location, which will be replace by following"
   ]
  },
  {
   "cell_type": "code",
   "execution_count": 116,
   "id": "6974d2c3",
   "metadata": {},
   "outputs": [
    {
     "data": {
      "text/plain": [
       "[22, 21, 25, 26, 55]"
      ]
     },
     "execution_count": 116,
     "metadata": {},
     "output_type": "execute_result"
    }
   ],
   "source": [
    "list_2 = [22,21,25,26,55]\n",
    "list_2"
   ]
  },
  {
   "cell_type": "code",
   "execution_count": 117,
   "id": "61952b47",
   "metadata": {},
   "outputs": [
    {
     "data": {
      "text/plain": [
       "[22, 21, 25, 26, 55, 50, 60]"
      ]
     },
     "execution_count": 117,
     "metadata": {},
     "output_type": "execute_result"
    }
   ],
   "source": [
    "list_2.extend([50,60]) # added from last\n",
    "list_2"
   ]
  },
  {
   "cell_type": "code",
   "execution_count": 119,
   "id": "1c148e36",
   "metadata": {},
   "outputs": [
    {
     "data": {
      "text/plain": [
       "0"
      ]
     },
     "execution_count": 119,
     "metadata": {},
     "output_type": "execute_result"
    }
   ],
   "source": [
    "list_2.count(3) # There is no 3 values in the list_2"
   ]
  },
  {
   "cell_type": "code",
   "execution_count": 120,
   "id": "c35b4429",
   "metadata": {},
   "outputs": [
    {
     "data": {
      "text/plain": [
       "1"
      ]
     },
     "execution_count": 120,
     "metadata": {},
     "output_type": "execute_result"
    }
   ],
   "source": [
    "list_2.count(25) # values 25 comes 1 times in the list"
   ]
  },
  {
   "cell_type": "code",
   "execution_count": 124,
   "id": "b0f87682",
   "metadata": {},
   "outputs": [
    {
     "data": {
      "text/plain": [
       "1"
      ]
     },
     "execution_count": 124,
     "metadata": {},
     "output_type": "execute_result"
    }
   ],
   "source": [
    "list_2.index(21) # Return index number/position of the given value"
   ]
  },
  {
   "cell_type": "code",
   "execution_count": 128,
   "id": "33785d60",
   "metadata": {},
   "outputs": [
    {
     "data": {
      "text/plain": [
       "[2, 2, 41, 53, 12, 52, 50, 50]"
      ]
     },
     "execution_count": 128,
     "metadata": {},
     "output_type": "execute_result"
    }
   ],
   "source": [
    "list_3 = [2,2,41,53,12,52,50,50]\n",
    "list_3"
   ]
  },
  {
   "cell_type": "code",
   "execution_count": 129,
   "id": "902c2864",
   "metadata": {},
   "outputs": [
    {
     "data": {
      "text/plain": [
       "2"
      ]
     },
     "execution_count": 129,
     "metadata": {},
     "output_type": "execute_result"
    }
   ],
   "source": [
    "list_3.pop(1)  # delete values from first"
   ]
  },
  {
   "cell_type": "code",
   "execution_count": 130,
   "id": "526f3527",
   "metadata": {},
   "outputs": [
    {
     "data": {
      "text/plain": [
       "[2, 41, 53, 12, 52, 50, 50]"
      ]
     },
     "execution_count": 130,
     "metadata": {},
     "output_type": "execute_result"
    }
   ],
   "source": [
    "list_3"
   ]
  },
  {
   "cell_type": "code",
   "execution_count": 131,
   "id": "b4b19084",
   "metadata": {},
   "outputs": [],
   "source": [
    "list_3.remove(52) # remove given values from the list"
   ]
  },
  {
   "cell_type": "code",
   "execution_count": 132,
   "id": "b46140bf",
   "metadata": {},
   "outputs": [
    {
     "data": {
      "text/plain": [
       "[2, 41, 53, 12, 50, 50]"
      ]
     },
     "execution_count": 132,
     "metadata": {},
     "output_type": "execute_result"
    }
   ],
   "source": [
    "list_3"
   ]
  },
  {
   "cell_type": "code",
   "execution_count": 133,
   "id": "3b07c16a",
   "metadata": {},
   "outputs": [],
   "source": [
    "list_3.reverse() # swap/ revese"
   ]
  },
  {
   "cell_type": "code",
   "execution_count": 134,
   "id": "e3b9d93e",
   "metadata": {},
   "outputs": [
    {
     "data": {
      "text/plain": [
       "[50, 50, 12, 53, 41, 2]"
      ]
     },
     "execution_count": 134,
     "metadata": {},
     "output_type": "execute_result"
    }
   ],
   "source": [
    "list_3  "
   ]
  },
  {
   "cell_type": "code",
   "execution_count": 135,
   "id": "27b450b4",
   "metadata": {},
   "outputs": [
    {
     "data": {
      "text/plain": [
       "6"
      ]
     },
     "execution_count": 135,
     "metadata": {},
     "output_type": "execute_result"
    }
   ],
   "source": [
    "len(list_3)"
   ]
  },
  {
   "cell_type": "code",
   "execution_count": 136,
   "id": "315b6ee8",
   "metadata": {},
   "outputs": [],
   "source": [
    "list_3.sort()"
   ]
  },
  {
   "cell_type": "code",
   "execution_count": 137,
   "id": "7d6e1b08",
   "metadata": {},
   "outputs": [
    {
     "data": {
      "text/plain": [
       "[2, 12, 41, 50, 50, 53]"
      ]
     },
     "execution_count": 137,
     "metadata": {},
     "output_type": "execute_result"
    }
   ],
   "source": [
    "list_3"
   ]
  },
  {
   "cell_type": "code",
   "execution_count": 138,
   "id": "183745d7",
   "metadata": {},
   "outputs": [],
   "source": [
    "list_3.sort(reverse=True)"
   ]
  },
  {
   "cell_type": "code",
   "execution_count": 139,
   "id": "f1a8663f",
   "metadata": {},
   "outputs": [
    {
     "data": {
      "text/plain": [
       "[53, 50, 50, 41, 12, 2]"
      ]
     },
     "execution_count": 139,
     "metadata": {},
     "output_type": "execute_result"
    }
   ],
   "source": [
    "list_3"
   ]
  },
  {
   "cell_type": "code",
   "execution_count": 142,
   "id": "98aec6f1",
   "metadata": {},
   "outputs": [],
   "source": [
    "list_3.clear() # remove full list"
   ]
  },
  {
   "cell_type": "code",
   "execution_count": 141,
   "id": "c0a78600",
   "metadata": {},
   "outputs": [
    {
     "data": {
      "text/plain": [
       "[]"
      ]
     },
     "execution_count": 141,
     "metadata": {},
     "output_type": "execute_result"
    }
   ],
   "source": [
    "list_3"
   ]
  },
  {
   "cell_type": "code",
   "execution_count": null,
   "id": "f4bdbbed",
   "metadata": {},
   "outputs": [],
   "source": []
  }
 ],
 "metadata": {
  "kernelspec": {
   "display_name": "Python 3 (ipykernel)",
   "language": "python",
   "name": "python3"
  },
  "language_info": {
   "codemirror_mode": {
    "name": "ipython",
    "version": 3
   },
   "file_extension": ".py",
   "mimetype": "text/x-python",
   "name": "python",
   "nbconvert_exporter": "python",
   "pygments_lexer": "ipython3",
   "version": "3.9.12"
  },
  "vscode": {
   "interpreter": {
    "hash": "c19fa61d258bb2b35aae2ada233c33e2817c1ce895aa48acba720c6bf7cbe3cb"
   }
  }
 },
 "nbformat": 4,
 "nbformat_minor": 5
}
