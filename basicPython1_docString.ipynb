{
  "nbformat": 4,
  "nbformat_minor": 0,
  "metadata": {
    "colab": {
      "provenance": []
    },
    "kernelspec": {
      "name": "python3",
      "display_name": "Python 3"
    },
    "language_info": {
      "name": "python"
    }
  },
  "cells": [
    {
      "cell_type": "markdown",
      "source": [
        "### Doc String & Function"
      ],
      "metadata": {
        "id": "7X9TjgBP7--x"
      }
    },
    {
      "cell_type": "markdown",
      "source": [
        "### fuction with doc string"
      ],
      "metadata": {
        "id": "scLDN9ZG_mpA"
      }
    },
    {
      "cell_type": "code",
      "execution_count": 2,
      "metadata": {
        "colab": {
          "base_uri": "https://localhost:8080/"
        },
        "id": "hsu_h5uq73Up",
        "outputId": "ff67d62c-f1ae-4df5-b67a-ea62f79b96fa"
      },
      "outputs": [
        {
          "output_type": "stream",
          "name": "stdout",
          "text": [
            "15\n"
          ]
        }
      ],
      "source": [
        "## Doc String-1\n",
        "'''\n",
        "Take Two parameters\n",
        "Return Sum\n",
        "'''\n",
        "\n",
        "def add_number(a,b):  # just give param by comma only\n",
        "  return a + b        # Mention operation i.g +\n",
        "\n",
        "print(add_number(5,10))  # Print statment must  be without identation"
      ]
    },
    {
      "cell_type": "code",
      "source": [
        "## Doc String-2 (inside code)\n",
        "\n",
        "def add_number(a,b):\n",
        "  '''\n",
        "  Take Two parameters\n",
        "  Return Sum\n",
        "\n",
        "  '''\n",
        "  return a + b\n",
        "\n",
        "print(add_number(5,10))\n",
        "\n",
        "# If you hover over fun name, doc / doc str will be visision, you can also print doc str"
      ],
      "metadata": {
        "colab": {
          "base_uri": "https://localhost:8080/"
        },
        "id": "nZLpbRTW9Tl2",
        "outputId": "ee6008d2-7e47-483b-e6af-e74e7002c093"
      },
      "execution_count": 8,
      "outputs": [
        {
          "output_type": "stream",
          "name": "stdout",
          "text": [
            "15\n"
          ]
        }
      ]
    },
    {
      "cell_type": "code",
      "source": [
        "## print doc str\n",
        "def add_number (a, b):\n",
        "  '''\n",
        "  Take two parameters\n",
        "  Return Sum\n",
        "  '''\n",
        "  return a + b\n",
        "\n",
        "print(add_number(10,5))\n",
        "print(add_number.__doc__)  # Print doc str  after fun use  . & double underscore doc & doube underscore"
      ],
      "metadata": {
        "colab": {
          "base_uri": "https://localhost:8080/"
        },
        "id": "XZ8phLHB-UAx",
        "outputId": "64c90706-4fb9-4a71-f846-60784f4e1fe8"
      },
      "execution_count": 10,
      "outputs": [
        {
          "output_type": "stream",
          "name": "stdout",
          "text": [
            "15\n",
            "\n",
            "  Take two parameters\n",
            "  Return Sum\n",
            "  \n"
          ]
        }
      ]
    }
  ]
}