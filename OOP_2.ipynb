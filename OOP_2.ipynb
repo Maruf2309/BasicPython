{
  "nbformat": 4,
  "nbformat_minor": 0,
  "metadata": {
    "colab": {
      "provenance": []
    },
    "kernelspec": {
      "name": "python3",
      "display_name": "Python 3"
    },
    "language_info": {
      "name": "python"
    }
  },
  "cells": [
    {
      "cell_type": "markdown",
      "source": [
        "## OOP"
      ],
      "metadata": {
        "id": "Yi3_Agfqd3TG"
      }
    },
    {
      "cell_type": "code",
      "execution_count": 1,
      "metadata": {
        "id": "XbPdi1etd0ZB"
      },
      "outputs": [],
      "source": [
        "# Create Class\n",
        "class Animal :\n",
        "  Age = \"\"\n",
        "  Food = \"\"\n",
        "  Color = \"\""
      ]
    },
    {
      "cell_type": "code",
      "source": [
        "# Create Object\n",
        "Dog = Animal()\n",
        "Dog.Age = 2\n",
        "Dog.Food = \"Chicken\"\n",
        "Dog.Color = \"Red\"\n",
        "print(f\"Age :{Dog.Age}, Food:{Dog.Food}, Color: {Dog.Color}\")"
      ],
      "metadata": {
        "colab": {
          "base_uri": "https://localhost:8080/"
        },
        "id": "gkzBNdGceSbD",
        "outputId": "4909906e-577f-4b04-9381-386706b00ff0"
      },
      "execution_count": 2,
      "outputs": [
        {
          "output_type": "stream",
          "name": "stdout",
          "text": [
            "Age :2, Food:Chicken, Color: Red\n"
          ]
        }
      ]
    },
    {
      "cell_type": "code",
      "source": [
        "# Method (function writting inside class, called method)\n",
        "class animal2:\n",
        "  ### create function (method) for taking values\n",
        "  def get_value(self, age, food, color):\n",
        "    self.age = age  # defining this age will be that age as per taken input\n",
        "    self.food = food # this food will be that foor as per teken input\n",
        "    self.color = color # defining color as that will be taken as per input\n",
        "    ## New take another function so that for each print no need to print every time\n",
        "  def printall(self):   # Creating fuction which will help to reduce print for each time\n",
        "    print(f\"Age : {self.age}, Food:{self.food}, Color:{self.color}\")\n",
        "\n",
        "# Object\n",
        "Tiger = animal2()\n",
        "Tiger.get_value(5, 'Meat','Black & White')\n",
        "Tiger.printall()\n",
        "\n",
        "\n",
        "\n"
      ],
      "metadata": {
        "colab": {
          "base_uri": "https://localhost:8080/"
        },
        "id": "Oth7SPipe6ms",
        "outputId": "d09b3931-c2a7-4b17-d2ad-c8beaad93ce2"
      },
      "execution_count": 3,
      "outputs": [
        {
          "output_type": "stream",
          "name": "stdout",
          "text": [
            "Age : 5, Food:Meat, Color:Black & White\n"
          ]
        }
      ]
    },
    {
      "cell_type": "markdown",
      "source": [
        "1. One method for storing variable another for printing\n",
        "2. Last create object and called by by that object. better code managment"
      ],
      "metadata": {
        "id": "2Zmr9uw7r1YC"
      }
    },
    {
      "cell_type": "markdown",
      "source": [
        "<b> Method </b> : Method is a function that written under class"
      ],
      "metadata": {
        "id": "Pp8tI6TWsuHS"
      }
    },
    {
      "cell_type": "markdown",
      "source": [
        "## Self"
      ],
      "metadata": {
        "id": "Ok7-bNAyvJuo"
      }
    },
    {
      "cell_type": "markdown",
      "source": [
        "- Whenever declaired method, its always start with self\n",
        "- We will initiate the variable with self, so that we can access by this"
      ],
      "metadata": {
        "id": "dDUhaN17vMFa"
      }
    },
    {
      "cell_type": "markdown",
      "source": [
        "#### Q. Why use self in python?"
      ],
      "metadata": {
        "id": "TIwr-Sqxuxd8"
      }
    },
    {
      "cell_type": "markdown",
      "source": [
        "- When you define a method within a class, the first parameter is automatically passed as the instance of that class. By convention, this parameter is named self\n",
        "- The self parameter allows you to access instance attributes and methods within the class.\n",
        "-In summary, self is not magical; it’s just another object. Its presence ensures that methods can access instance-specific data and maintain consistency with regular functions. So, embrace self—it’s your trusty companion in Python’s OOP journey!"
      ],
      "metadata": {
        "id": "dHVqW-uyuTgK"
      }
    },
    {
      "cell_type": "code",
      "source": [
        "class animal2:\n",
        "  def get_value(self, age, food, color):\n",
        "    self.age = age\n",
        "    self.food = food\n",
        "    self.color = color\n",
        "\n",
        "  def printall(self):\n",
        "    print(f\"Age:{self.age}, Food:{self.food}, Color:{self.color}\")\n",
        "\n",
        "# Object\n",
        "Tiger = animal2()\n",
        "Tiger.get_value(10, \"Meat\", \"Yellow\")\n",
        "Tiger.printall()\n",
        "\n",
        "Dog = animal2()\n",
        "Dog.get_value(5,\"Meat\", \"Black\")\n",
        "Dog.printall()\n",
        "\n",
        "Cat = animal2()\n",
        "Cat.get_value(2, \"Milk\", \"White\")\n",
        "Cat.printall()\n",
        "\n",
        "Magpie = animal2()\n",
        "Magpie.get_value(3, 'feed','Green')\n",
        "Magpie.printall()"
      ],
      "metadata": {
        "colab": {
          "base_uri": "https://localhost:8080/"
        },
        "id": "JFdJQsdB7C8l",
        "outputId": "346874b2-de8e-4cbc-f56b-6b46041ddb1b"
      },
      "execution_count": 4,
      "outputs": [
        {
          "output_type": "stream",
          "name": "stdout",
          "text": [
            "Age:10, Food:Meat, Color:Yellow\n",
            "Age:5, Food:Meat, Color:Black\n",
            "Age:2, Food:Milk, Color:White\n",
            "Age:3, Food:feed, Color:Green\n"
          ]
        }
      ]
    },
    {
      "cell_type": "markdown",
      "source": [
        "- This code can better represnet using Constructor"
      ],
      "metadata": {
        "id": "ln0z5tv1-ewM"
      }
    },
    {
      "cell_type": "markdown",
      "source": [
        "### Constructor"
      ],
      "metadata": {
        "id": "oiXN5cdLg0_9"
      }
    },
    {
      "cell_type": "code",
      "source": [
        "class animal3:\n",
        "  def __init__(self, name, age, food, color):\n",
        "    self.name = name\n",
        "    self.age = age\n",
        "    self.food = food\n",
        "    self.color = color\n",
        "\n",
        "  def printall(self):\n",
        "    print(f\"Name:{self.name},Age:{self.age}, Food:{self.food}, Color:{self.color}\")\n",
        "\n",
        "# Object\n",
        "Tiger = animal3(\"Tiger \", 10, \"Meat\", \"Yellow\")\n",
        "Tiger.printall()\n",
        "\n",
        "Dog = animal3(\"Dog \", 5,\"Meat\", \"Black\")\n",
        "Dog.printall()\n",
        "\n",
        "Cat = animal3(\"Cat \", 2, \"Milk\", \"White\")\n",
        "Cat.printall()\n",
        "\n",
        "Magpie = animal3(\"Magpie \", 3, 'feed','Green')\n",
        "Magpie.printall()"
      ],
      "metadata": {
        "colab": {
          "base_uri": "https://localhost:8080/"
        },
        "id": "caTvErfz-naU",
        "outputId": "ebc5a846-7d8c-4efa-d4ff-8d457c886fc7"
      },
      "execution_count": 5,
      "outputs": [
        {
          "output_type": "stream",
          "name": "stdout",
          "text": [
            "Name:Tiger ,Age:10, Food:Meat, Color:Yellow\n",
            "Name:Dog ,Age:5, Food:Meat, Color:Black\n",
            "Name:Cat ,Age:2, Food:Milk, Color:White\n",
            "Name:Magpie ,Age:3, Food:feed, Color:Green\n"
          ]
        }
      ]
    },
    {
      "cell_type": "markdown",
      "source": [
        "# Task: Add Two value using oop concept"
      ],
      "metadata": {
        "id": "TK-L0mIsiW_5"
      }
    },
    {
      "cell_type": "code",
      "source": [
        "# Test 1\n",
        "class Adder:\n",
        "    def __init__(self, value1, value2):\n",
        "        self.value1 = value1\n",
        "        self.value2 = value2\n",
        "\n",
        "    def add(self):\n",
        "        return self.value1 + self.value2\n",
        "\n",
        "# Usage\n",
        "value1 = 5\n",
        "value2 = 7\n",
        "adder_instance = Adder(value1, value2)\n",
        "result = adder_instance.add()\n",
        "\n",
        "print(f\"The sum of {value1} and {value2} is: {result}\")"
      ],
      "metadata": {
        "colab": {
          "base_uri": "https://localhost:8080/"
        },
        "id": "hf2bnzS4iQrD",
        "outputId": "2bfacca5-31a3-4c19-8f90-849943108bc3"
      },
      "execution_count": 6,
      "outputs": [
        {
          "output_type": "stream",
          "name": "stdout",
          "text": [
            "The sum of 5 and 7 is: 12\n"
          ]
        }
      ]
    },
    {
      "cell_type": "code",
      "source": [
        "# Test 2\n",
        "class Calculator:\n",
        "  def __init__(self, num1, num2):\n",
        "    self.num1 = num1\n",
        "    self.num2 = num2\n",
        "\n",
        "  def add(self):\n",
        "    return self.num1 + self.num2\n",
        "\n",
        "# Object\n",
        "num1 = 10\n",
        "num2 = 15\n",
        "calculator = Calculator(num1, num2)\n",
        "result = calculator.add()\n",
        "print(\"Sum of\", num1, \"and\", num2, \"is :\", result)\n",
        "\n",
        "\n"
      ],
      "metadata": {
        "id": "oJ0I7Y72iQoI",
        "colab": {
          "base_uri": "https://localhost:8080/"
        },
        "outputId": "94753ac0-5313-4354-e47c-91e407a94b1a"
      },
      "execution_count": 14,
      "outputs": [
        {
          "output_type": "stream",
          "name": "stdout",
          "text": [
            "Sum of 10 and 15 is : 25\n"
          ]
        }
      ]
    },
    {
      "cell_type": "code",
      "source": [
        "# Test 3\n",
        "class Adding:\n",
        "  def __init__(self, num1, num2) -> None:\n",
        "    self.num1 = num1\n",
        "    self.num2 = num2\n",
        "\n",
        "  def calculator(self):\n",
        "    result = self.num1 + self.num2\n",
        "    print(\"Result : \", result )\n",
        "\n",
        "object1 = Adding(10, 15)\n",
        "object1.calculator()"
      ],
      "metadata": {
        "colab": {
          "base_uri": "https://localhost:8080/"
        },
        "id": "D6PGT7li3DCY",
        "outputId": "b8982342-4a77-4f69-9884-804d598ecb7c"
      },
      "execution_count": 16,
      "outputs": [
        {
          "output_type": "stream",
          "name": "stdout",
          "text": [
            "Result :  25\n"
          ]
        }
      ]
    },
    {
      "cell_type": "code",
      "source": [
        "# Test 4\n",
        "class Adding:\n",
        "  def __init__(self, num1, num2) -> None:\n",
        "    self.num1 = num1\n",
        "    self.num2 = num2\n",
        "    result = self.num1+ self.num2\n",
        "    print(\"Result : \", result)\n",
        "\n",
        "#Object\n",
        "see = Adding(10, 15)"
      ],
      "metadata": {
        "colab": {
          "base_uri": "https://localhost:8080/"
        },
        "id": "V2DOy7ln37Vj",
        "outputId": "4a781109-2d53-4b0c-fcc5-d74046354608"
      },
      "execution_count": 18,
      "outputs": [
        {
          "output_type": "stream",
          "name": "stdout",
          "text": [
            "Result :  25\n"
          ]
        }
      ]
    }
  ]
}