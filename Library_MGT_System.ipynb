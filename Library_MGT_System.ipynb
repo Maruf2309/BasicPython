{
  "nbformat": 4,
  "nbformat_minor": 0,
  "metadata": {
    "colab": {
      "provenance": []
    },
    "kernelspec": {
      "name": "python3",
      "display_name": "Python 3"
    },
    "language_info": {
      "name": "python"
    }
  },
  "cells": [
    {
      "cell_type": "code",
      "execution_count": null,
      "metadata": {
        "colab": {
          "base_uri": "https://localhost:8080/"
        },
        "id": "0A2gnov8xOCk",
        "outputId": "29eb8ee2-a3a1-41b3-a66d-1a10d7382a19"
      },
      "outputs": [
        {
          "output_type": "stream",
          "name": "stdout",
          "text": [
            "Book added successfully!\n",
            "Book lent successfully!\n",
            "Book returned successfully!\n",
            "Book Name: The Great Gatsby, Author: F. Scott Fitzgerald\n"
          ]
        }
      ],
      "source": [
        "#Certainly! Let’s create a simple Library Management System in Python. We’ll use the Tkinter library for the graphical user interface (GUI) and SQLite3 for the database. Below is a basic example of how you can implement the requested features:\n",
        "\n",
        "#Python\n",
        "\n",
        "# Import necessary modules\n",
        "import sqlite3\n",
        "from tkinter import *\n",
        "import tkinter.ttk as ttk\n",
        "import tkinter.messagebox as mb\n",
        "import tkinter.simpledialog as sd\n",
        "\n",
        "# Connect to the database\n",
        "connector = sqlite3.connect('library.db')\n",
        "cursor = connector.cursor()\n",
        "\n",
        "# Create the Library table if it doesn't exist\n",
        "cursor.execute('CREATE TABLE IF NOT EXISTS Library (BK_NAME TEXT, BK_ID TEXT PRIMARY KEY NOT NULL, AUTHOR_NAME TEXT, BK_STATUS TEXT, CARD_ID TEXT)')\n",
        "\n",
        "# Function to display available books\n",
        "def display_books():\n",
        "    # Fetch all books from the database\n",
        "    cursor.execute('SELECT BK_NAME, AUTHOR_NAME FROM Library')\n",
        "    books = cursor.fetchall()\n",
        "    for book in books:\n",
        "        print(f\"Book Name: {book[0]}, Author: {book[1]}\")\n",
        "\n",
        "# Function to lend a book to a user\n",
        "def lend_book(book_id, card_id):\n",
        "    cursor.execute('UPDATE Library SET BK_STATUS = \"Lent\", CARD_ID = ? WHERE BK_ID = ?', (card_id, book_id))\n",
        "    connector.commit()\n",
        "    print(\"Book lent successfully!\")\n",
        "\n",
        "# Function to add a book to the library\n",
        "def add_book(book_name, book_id, author_name):\n",
        "    cursor.execute('INSERT INTO Library (BK_NAME, BK_ID, AUTHOR_NAME, BK_STATUS, CARD_ID) VALUES (?, ?, ?, \"Available\", NULL)', (book_name, book_id, author_name))\n",
        "    connector.commit()\n",
        "    print(\"Book added successfully!\")\n",
        "\n",
        "# Function to return a book to the library\n",
        "def return_book(book_id):\n",
        "    cursor.execute('UPDATE Library SET BK_STATUS = \"Available\", CARD_ID = NULL WHERE BK_ID = ?', (book_id,))\n",
        "    connector.commit()\n",
        "    print(\"Book returned successfully!\")\n",
        "\n",
        "# Example usage\n",
        "add_book(\"The Great Gatsby\", \"12345\", \"F. Scott Fitzgerald\")\n",
        "lend_book(\"12345\", \"A123\")\n",
        "return_book(\"12345\")\n",
        "display_books()\n",
        "\n",
        "# Close the database connection\n",
        "connector.close()\n"
      ]
    },
    {
      "cell_type": "markdown",
      "source": [
        "AI-generated code. Review and use carefully. More info on FAQ.\n",
        "Explanation:\n",
        "\n",
        "We create a Library table with columns for book name, book ID, author name, book status, and card ID.\n",
        "The functions display_books(), lend_book(), add_book(), and return_book() perform the requested actions.\n",
        "You can customize and expand this code to suit your specific requirements.\n",
        "Remember to install the SQLite3 library using python -m pip install sqlite if you haven’t already. Feel free to enhance this system further as needed! 📚🔍\n",
        "\n",
        "For a more comprehensive project, you can explore other libraries like Flask or Django to build a web-based library management system12345."
      ],
      "metadata": {
        "id": "Iv_WwWMMxk-K"
      }
    },
    {
      "cell_type": "code",
      "source": [],
      "metadata": {
        "id": "JTyGM-aAxmlX"
      },
      "execution_count": null,
      "outputs": []
    }
  ]
}