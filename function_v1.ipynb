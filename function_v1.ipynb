{
  "nbformat": 4,
  "nbformat_minor": 0,
  "metadata": {
    "colab": {
      "provenance": []
    },
    "kernelspec": {
      "name": "python3",
      "display_name": "Python 3"
    },
    "language_info": {
      "name": "python"
    }
  },
  "cells": [
    {
      "cell_type": "markdown",
      "source": [
        "### Topic"
      ],
      "metadata": {
        "id": "PbkDL6ayX4yj"
      }
    },
    {
      "cell_type": "markdown",
      "source": [
        "# 1.0 Doc String & Function"
      ],
      "metadata": {
        "id": "7X9TjgBP7--x"
      }
    },
    {
      "cell_type": "markdown",
      "source": [
        "Function Blueprint\n",
        "1. def\n",
        "2. fun name\n",
        "3. arguement (inside bracke, example in 2.2 it will take number which must be int)\n",
        "4. if you mention to return something e.g bool\n",
        "4. func body with indentation\n",
        "5. Return type (Giving something in return like if it is mentioned as bool)\n",
        "6. calling fun by its name - out of loop/ without indentation"
      ],
      "metadata": {
        "id": "7TSBwZ_YbwAm"
      }
    },
    {
      "cell_type": "markdown",
      "source": [
        "### 1.1 Doc String with fucn"
      ],
      "metadata": {
        "id": "scLDN9ZG_mpA"
      }
    },
    {
      "cell_type": "code",
      "execution_count": 1,
      "metadata": {
        "colab": {
          "base_uri": "https://localhost:8080/"
        },
        "id": "hsu_h5uq73Up",
        "outputId": "521941a1-a4a6-4f37-b698-f76b002f85bb"
      },
      "outputs": [
        {
          "output_type": "stream",
          "name": "stdout",
          "text": [
            "15\n"
          ]
        }
      ],
      "source": [
        "## Doc String-1\n",
        "'''\n",
        "Take Two parameters\n",
        "Return Sum\n",
        "'''\n",
        "\n",
        "def add_number(a,b):  # just give param by comma only\n",
        "  return a + b        # Mention operation i.g additiona +\n",
        "\n",
        "print(add_number(5,10))  # Print statment must  be without identation"
      ]
    },
    {
      "cell_type": "code",
      "source": [
        "## Doc String-2 (inside code)\n",
        "\n",
        "def add_number(a,b):\n",
        "  '''\n",
        "  Take Two parameters\n",
        "  Return Sum\n",
        "\n",
        "  '''\n",
        "  return a + b\n",
        "\n",
        "print(add_number(5,10))\n",
        "\n",
        "# If you hover over fun name, doc / doc str will be visision, you can also print doc str"
      ],
      "metadata": {
        "colab": {
          "base_uri": "https://localhost:8080/"
        },
        "id": "nZLpbRTW9Tl2",
        "outputId": "216ce553-829c-48ba-f325-fdbc525c512b"
      },
      "execution_count": 2,
      "outputs": [
        {
          "output_type": "stream",
          "name": "stdout",
          "text": [
            "15\n"
          ]
        }
      ]
    },
    {
      "cell_type": "code",
      "source": [
        "## print doc str\n",
        "def add_number (a, b):\n",
        "  '''\n",
        "  Take two parameters\n",
        "  Return Sum\n",
        "  '''\n",
        "  return a + b\n",
        "\n",
        "print(add_number(10,5))\n",
        "print(add_number.__doc__)  # Print doc str  after fun use  . & double underscore doc & doube underscore"
      ],
      "metadata": {
        "colab": {
          "base_uri": "https://localhost:8080/"
        },
        "id": "XZ8phLHB-UAx",
        "outputId": "abe7b791-18fc-4b7d-ddb1-cd9f27af00ea"
      },
      "execution_count": 3,
      "outputs": [
        {
          "output_type": "stream",
          "name": "stdout",
          "text": [
            "15\n",
            "\n",
            "  Take two parameters\n",
            "  Return Sum\n",
            "  \n"
          ]
        }
      ]
    },
    {
      "cell_type": "markdown",
      "source": [
        "# 2.0 Function"
      ],
      "metadata": {
        "id": "1KKtIytm-bsP"
      }
    },
    {
      "cell_type": "markdown",
      "source": [
        "## 2.1 Simple/ Static Function"
      ],
      "metadata": {
        "id": "ncv3J7Va8OgS"
      }
    },
    {
      "cell_type": "code",
      "source": [
        "# Simple Function without args\n",
        "def greet():\n",
        "  print('Good Morning')\n",
        "  print('Welcome!')\n",
        "  print('How may help you?')\n",
        "\n",
        "greet()          # Calling function"
      ],
      "metadata": {
        "colab": {
          "base_uri": "https://localhost:8080/"
        },
        "id": "eXCa4jvG8QV3",
        "outputId": "a8d08081-63b0-4a1e-85d7-906fc04c2036"
      },
      "execution_count": 4,
      "outputs": [
        {
          "output_type": "stream",
          "name": "stdout",
          "text": [
            "Good Morning\n",
            "Welcome!\n",
            "How may help you?\n"
          ]
        }
      ]
    },
    {
      "cell_type": "code",
      "source": [
        "greet()"
      ],
      "metadata": {
        "colab": {
          "base_uri": "https://localhost:8080/"
        },
        "id": "mcoVy-fn8vfW",
        "outputId": "f127d68f-abb6-485b-bb08-9672a699a287"
      },
      "execution_count": 5,
      "outputs": [
        {
          "output_type": "stream",
          "name": "stdout",
          "text": [
            "Good Morning\n",
            "Welcome!\n",
            "How may help you?\n"
          ]
        }
      ]
    },
    {
      "cell_type": "markdown",
      "source": [
        "## 2.2 Function with args"
      ],
      "metadata": {
        "id": "hrR8kN4S83VQ"
      }
    },
    {
      "cell_type": "code",
      "source": [
        "# Checking number wether is odd or number\n",
        "def is_even(num:int) -> bool:  # inside () or after fun name inside parantheis that passed is called params\n",
        "  if num%2 == 0:\n",
        "    return True\n",
        "  else:\n",
        "    return False"
      ],
      "metadata": {
        "id": "n6z0B8uM8zil"
      },
      "execution_count": 6,
      "outputs": []
    },
    {
      "cell_type": "code",
      "source": [
        "is_even(11) # given args (here it is called args) must be int since its mentioned inside fn paranthesis"
      ],
      "metadata": {
        "colab": {
          "base_uri": "https://localhost:8080/"
        },
        "id": "ZFowkKl497eM",
        "outputId": "02742a5b-14bd-4931-dc62-3d33862714c5"
      },
      "execution_count": 7,
      "outputs": [
        {
          "output_type": "execute_result",
          "data": {
            "text/plain": [
              "False"
            ]
          },
          "metadata": {},
          "execution_count": 7
        }
      ]
    },
    {
      "cell_type": "code",
      "source": [
        "# 2.3 Function can be store [ we can store the value that return a fucn ]\n",
        "## but if print the value, that can be stored\n",
        "var = is_even(20)\n",
        "var"
      ],
      "metadata": {
        "colab": {
          "base_uri": "https://localhost:8080/"
        },
        "id": "ZkK4H0Zycjke",
        "outputId": "003cded3-d6f3-4e7a-d209-b9898439670b"
      },
      "execution_count": 8,
      "outputs": [
        {
          "output_type": "execute_result",
          "data": {
            "text/plain": [
              "True"
            ]
          },
          "metadata": {},
          "execution_count": 8
        }
      ]
    },
    {
      "cell_type": "code",
      "source": [
        "# 2.4\n",
        "# Checking number wether is odd or number\n",
        "def is_even(num:int) -> bool:\n",
        "  if num%2 == 0:\n",
        "    print(True)       # print can not be stored\n",
        "  else:\n",
        "    print(False)\n",
        "is_even(5)"
      ],
      "metadata": {
        "colab": {
          "base_uri": "https://localhost:8080/"
        },
        "id": "dvdX01ficjh4",
        "outputId": "e50a6a2c-0f67-4b61-fdce-cc42c1310c92"
      },
      "execution_count": 9,
      "outputs": [
        {
          "output_type": "stream",
          "name": "stdout",
          "text": [
            "False\n"
          ]
        }
      ]
    },
    {
      "cell_type": "code",
      "source": [
        "is_even(10)"
      ],
      "metadata": {
        "colab": {
          "base_uri": "https://localhost:8080/"
        },
        "id": "sZX8DCOtcje4",
        "outputId": "a5d5d945-6638-44d5-b189-0ae960ed28f8"
      },
      "execution_count": 10,
      "outputs": [
        {
          "output_type": "stream",
          "name": "stdout",
          "text": [
            "True\n"
          ]
        }
      ]
    },
    {
      "cell_type": "markdown",
      "source": [
        "Note 2.2:\n",
        "1. Function could be data/ variable / even we could give func inside func here we use data i.g (num:int)\n",
        "2. (num:int) is the door of the function"
      ],
      "metadata": {
        "id": "EF4MVE1dbqbd"
      }
    },
    {
      "cell_type": "code",
      "source": [
        "# it will give a type error, which can be solved with dynamic args with * sign\n",
        "# is_even(19, 20)"
      ],
      "metadata": {
        "id": "R-6WT-Dscjb4"
      },
      "execution_count": 11,
      "outputs": []
    },
    {
      "cell_type": "markdown",
      "source": [
        "# 3.0 Function with Dynamic Args"
      ],
      "metadata": {
        "id": "PYAa2-jnYUKO"
      }
    },
    {
      "cell_type": "code",
      "source": [
        "# 3.1: Test\n",
        "def is_even (*num:int) -> bool:  #\n",
        "  print(num)                     # tuple, in 'num' multiple values are there, that why this operator not working\n",
        "  if num%2 == 0:                 # number : tuple form that why through error, here 2 is integar & number in tuple form\n",
        "    return True\n",
        "  else:\n",
        "    return False"
      ],
      "metadata": {
        "id": "RBPDPVu4cjY2"
      },
      "execution_count": 12,
      "outputs": []
    },
    {
      "cell_type": "code",
      "source": [
        "# 3.1 > it will return TypeError\n",
        "# is_even(3, 4, 5, 6, 7, 8, 9)   # This is an iterable, so we can use for loop!"
      ],
      "metadata": {
        "id": "77PDe7OGcjVq"
      },
      "execution_count": 16,
      "outputs": []
    },
    {
      "cell_type": "code",
      "source": [
        "# 3.2: Addtion for loop\n",
        "def is_even (*nums:int) -> bool:\n",
        "  for num in nums:\n",
        "    if num%2 == 0:\n",
        "      return True\n",
        "    else:\n",
        "      return False"
      ],
      "metadata": {
        "id": "1JgKe0FJcjSs"
      },
      "execution_count": 15,
      "outputs": []
    },
    {
      "cell_type": "code",
      "source": [
        "is_even(2, 3, 4, 5, 6, 7, 8, 9) # still its returning only one, the reason it Return, becasue then return executed fun closed here, return mean end / close of func"
      ],
      "metadata": {
        "id": "sxG_NVLZa063"
      },
      "execution_count": null,
      "outputs": []
    },
    {
      "cell_type": "markdown",
      "source": [
        "- To get the full list need to return list & append, since return ends the func"
      ],
      "metadata": {
        "id": "P8OSJi0hb1m3"
      }
    },
    {
      "cell_type": "code",
      "source": [
        "# 3.3: Return list\n",
        "def is_even(*nums:int) -> list:  # asteric helps to print multiple values at a time/ dynamic\n",
        "  results = []                   # result must be wiht = sing\n",
        "  for num in nums:\n",
        "    if num%2 == 0:\n",
        "      results.append(True)      # append True values\n",
        "    else:\n",
        "      results.append(False)     # append False values\n",
        "  return results              # at the end, close the func by return statement\n"
      ],
      "metadata": {
        "id": "9wtQwDdu9-V6"
      },
      "execution_count": 17,
      "outputs": []
    },
    {
      "cell_type": "code",
      "source": [
        "is_even(2, 3, 4, 5, 6, 7, 8, 9)  # now we are getting list of results"
      ],
      "metadata": {
        "colab": {
          "base_uri": "https://localhost:8080/"
        },
        "id": "Dtip0EsIcqUI",
        "outputId": "460bc46e-181d-48e7-875d-a5619a6ff576"
      },
      "execution_count": 18,
      "outputs": [
        {
          "output_type": "execute_result",
          "data": {
            "text/plain": [
              "[True, False, True, False, True, False, True, False]"
            ]
          },
          "metadata": {},
          "execution_count": 18
        }
      ]
    },
    {
      "cell_type": "markdown",
      "source": [
        "# 4.0 Divisible Function"
      ],
      "metadata": {
        "id": "jc_taVUhd8-X"
      }
    },
    {
      "cell_type": "code",
      "source": [
        "# 4.1\n",
        "def is_divisible(num:int, divisor:int) -> bool:\n",
        "  if num%divisor == 0:\n",
        "    return True\n",
        "  else:\n",
        "    return False\n",
        "is_divisible(50, 32)\n"
      ],
      "metadata": {
        "id": "fP04qRhrct_P",
        "colab": {
          "base_uri": "https://localhost:8080/"
        },
        "outputId": "dc6966bf-0919-4231-8d37-4b16b68b36d0"
      },
      "execution_count": 19,
      "outputs": [
        {
          "output_type": "execute_result",
          "data": {
            "text/plain": [
              "False"
            ]
          },
          "metadata": {},
          "execution_count": 19
        }
      ]
    },
    {
      "cell_type": "code",
      "source": [
        "is_divisible(50, 5) # two args needed to pass here"
      ],
      "metadata": {
        "colab": {
          "base_uri": "https://localhost:8080/"
        },
        "id": "ddRkJF5PmEGy",
        "outputId": "6bd84a4a-d371-4272-f0a5-960fb184e19d"
      },
      "execution_count": 20,
      "outputs": [
        {
          "output_type": "execute_result",
          "data": {
            "text/plain": [
              "True"
            ]
          },
          "metadata": {},
          "execution_count": 20
        }
      ]
    },
    {
      "cell_type": "code",
      "source": [
        "# is_divisible(50) # Return Type Error due to positional args"
      ],
      "metadata": {
        "id": "fxdap_ZEmMLy"
      },
      "execution_count": 23,
      "outputs": []
    },
    {
      "cell_type": "markdown",
      "source": [
        "Problem: Lets say byfault it will check divisible by given number i.g 2, then it will check if user give any values in args!"
      ],
      "metadata": {
        "id": "GoDYlZEsmyHc"
      }
    },
    {
      "cell_type": "code",
      "source": [
        "# 4.2 Positional Args - Key word Agrs\n",
        "# Key word agrs   divisor:int:2\n",
        "def is_divisible(num:int, divisor: int=2) -> bool:\n",
        "  if num%divisor == 0:\n",
        "    return True\n",
        "  else:\n",
        "    return False\n",
        "is_divisible(50, 32) # it will take 2 as default args if no other values given by user, if user provide any args value then default will skipped and user's one will be choosen!\n",
        "# in keyword args, a default value provided as divisor"
      ],
      "metadata": {
        "colab": {
          "base_uri": "https://localhost:8080/"
        },
        "id": "APy8033XmfuI",
        "outputId": "6fd829dd-6331-4b67-9283-965028698ac4"
      },
      "execution_count": 24,
      "outputs": [
        {
          "output_type": "execute_result",
          "data": {
            "text/plain": [
              "False"
            ]
          },
          "metadata": {},
          "execution_count": 24
        }
      ]
    },
    {
      "cell_type": "code",
      "source": [
        "is_divisible(50, 5)"
      ],
      "metadata": {
        "id": "4cDhDYj5nuds"
      },
      "execution_count": null,
      "outputs": []
    },
    {
      "cell_type": "code",
      "source": [
        "is_divisible (50, divisor=7)  # alternative way to write Key word args"
      ],
      "metadata": {
        "id": "aVWpHhIBocvG"
      },
      "execution_count": null,
      "outputs": []
    },
    {
      "cell_type": "code",
      "source": [
        "# Problem, Lets say we would like to check whether 60 is divisible by 12, but we wrote the code in wrong way as:\n",
        "is_divisible (12, 60)  # wrongly written as inverse, here 12 written as num & 60 written as divisor position. order not maintained here"
      ],
      "metadata": {
        "id": "QeKXIFnnoipC"
      },
      "execution_count": null,
      "outputs": []
    },
    {
      "cell_type": "markdown",
      "source": [
        "In case of positional arguments, maintaining oder is must!"
      ],
      "metadata": {
        "id": "NtkVaTrxp3nh"
      }
    },
    {
      "cell_type": "markdown",
      "source": [
        "### We can also ignor maintaining oder"
      ],
      "metadata": {
        "id": "hz-rdqxTlw6B"
      }
    },
    {
      "cell_type": "code",
      "source": [
        "is_divisible(divisor=12, num=60)"
      ],
      "metadata": {
        "id": "kw8m1yHepUKA",
        "colab": {
          "base_uri": "https://localhost:8080/"
        },
        "outputId": "b3120445-81dc-48ae-b810-a362fa054eef"
      },
      "execution_count": 25,
      "outputs": [
        {
          "output_type": "execute_result",
          "data": {
            "text/plain": [
              "True"
            ]
          },
          "metadata": {},
          "execution_count": 25
        }
      ]
    },
    {
      "cell_type": "markdown",
      "source": [
        "# 4.1 Key word arguments"
      ],
      "metadata": {
        "id": "bs1Rx5D7BdfJ"
      }
    },
    {
      "cell_type": "code",
      "source": [
        "# One num, one divisor\n",
        "def is_divisible(num: int=4, divisor: int=2) -> bool:\n",
        "  if num%divisor == 0:\n",
        "    return True\n",
        "  else:\n",
        "    return False\n",
        "\n",
        "# calling fun  > when nothing mentioned, it will check whether default num is divisible by default divisor\n",
        "is_divisible()"
      ],
      "metadata": {
        "id": "QC9gSWWzmEqJ",
        "colab": {
          "base_uri": "https://localhost:8080/"
        },
        "outputId": "e5c201ee-2bfd-4bd5-e699-a279a9086b08"
      },
      "execution_count": 26,
      "outputs": [
        {
          "output_type": "execute_result",
          "data": {
            "text/plain": [
              "True"
            ]
          },
          "metadata": {},
          "execution_count": 26
        }
      ]
    },
    {
      "cell_type": "code",
      "source": [
        "is_divisible(60, 12) # whether 12 is divible by 12, still  need to follow position, but we can avoid it by following"
      ],
      "metadata": {
        "colab": {
          "base_uri": "https://localhost:8080/"
        },
        "id": "jtCBjn0RB_QE",
        "outputId": "88505c69-b727-44df-bbfd-7cd8849d819a"
      },
      "execution_count": 27,
      "outputs": [
        {
          "output_type": "execute_result",
          "data": {
            "text/plain": [
              "True"
            ]
          },
          "metadata": {},
          "execution_count": 27
        }
      ]
    },
    {
      "cell_type": "code",
      "source": [
        "# ignore order\n",
        "is_divisible(divisor=12, num=60)"
      ],
      "metadata": {
        "colab": {
          "base_uri": "https://localhost:8080/"
        },
        "id": "HoPNmnxICsmh",
        "outputId": "1cf59343-28e6-4c0c-8f8d-5df15e5e0d17"
      },
      "execution_count": 28,
      "outputs": [
        {
          "output_type": "execute_result",
          "data": {
            "text/plain": [
              "True"
            ]
          },
          "metadata": {},
          "execution_count": 28
        }
      ]
    },
    {
      "cell_type": "markdown",
      "source": [
        "- <b> Problem </b>: I would like to give a list of numbers and need to check whether is divisible by a single number!\n",
        "- would like to check list of 10 number & check by one! <b> Dynamic Key Word Args </b>"
      ],
      "metadata": {
        "id": "YjPJrykNDTSg"
      }
    },
    {
      "cell_type": "markdown",
      "source": [
        "# 5.0 Dynamic Keyword Arguments"
      ],
      "metadata": {
        "id": "gEho1emxD8wr"
      }
    },
    {
      "cell_type": "markdown",
      "source": [
        "- Example: I want to check a login, the info given that will be shown after login the system"
      ],
      "metadata": {
        "id": "B94Z6h2_BPTK"
      }
    },
    {
      "cell_type": "code",
      "source": [
        "# Test 5.1: Simple function, return nothin it will just print\n",
        "def login(name, email, phone):\n",
        "  print(\"Name :\", name)\n",
        "  print(\"Email: \", email)\n",
        "  print(\"Phone :\", phone)\n",
        "\n",
        "# Case 1: Someone login and instead of name, give email, then what happen ? # order not follow\n",
        "login('user@email.com', '0248588', 'John')"
      ],
      "metadata": {
        "id": "fmlrghR6C_rJ",
        "colab": {
          "base_uri": "https://localhost:8080/"
        },
        "outputId": "07f70822-bbc7-4272-ef46-d5239913c908"
      },
      "execution_count": 32,
      "outputs": [
        {
          "output_type": "stream",
          "name": "stdout",
          "text": [
            "Name : user@email.com\n",
            "Email:  0248588\n",
            "Phone : John\n"
          ]
        }
      ]
    },
    {
      "cell_type": "code",
      "source": [
        "# Test 5.2 :\n",
        "# Case 2:User may provides others information, we dont know actually, on that time we can use Key word args to manage the order\n",
        "# Case 2: When lots of params (user name, email, phone, city, country etc) may provided, that we dont know actually, then we can use kewword args\n",
        "# Case 2: Where instead of all params we can use (**kwargs) or after ** any name can be provided, but this standard, see test 5.2\n",
        "# case 2: here in case of fun calling or when user login then info need to pass as per func calling pattern, as dictionary form"
      ],
      "metadata": {
        "id": "E8a9aJh7B69l"
      },
      "execution_count": null,
      "outputs": []
    },
    {
      "cell_type": "code",
      "source": [
        "# Test 5.2 (Example)\n",
        "def login(**kwargs):\n",
        "  print(kwargs)\n",
        "\n",
        "# calling fun\n",
        "login(name='John', email='john@gmail.com', phone='0245844')"
      ],
      "metadata": {
        "colab": {
          "base_uri": "https://localhost:8080/"
        },
        "id": "eyzF8k-kEEIW",
        "outputId": "0825a2ff-b059-47fc-e776-f1852bb165b6"
      },
      "execution_count": 34,
      "outputs": [
        {
          "output_type": "stream",
          "name": "stdout",
          "text": [
            "{'name': 'John', 'email': 'john@gmail.com', 'phone': '0245844'}\n"
          ]
        }
      ]
    },
    {
      "cell_type": "code",
      "source": [
        "# 5.2 case 3: Here we can iterate\n",
        "def login(**kwargs):   # first star for Key, second star for values\n",
        "  for key, value in kwargs.items():\n",
        "    print(key, \"=>\", value)\n",
        "\n",
        "# calling fuction, can pass n number of info, using ** we can handle this that wasnt possible earlier\n",
        "login(name='Jovan', email='jovan@gmail.com', phone='0245844', city='USA', profession='Doctor', age=34, hoby='Coding')"
      ],
      "metadata": {
        "colab": {
          "base_uri": "https://localhost:8080/"
        },
        "id": "wMjCca_iERiG",
        "outputId": "99302cf9-e09f-4c00-a2a3-8099caf1b907"
      },
      "execution_count": 39,
      "outputs": [
        {
          "output_type": "stream",
          "name": "stdout",
          "text": [
            "name => Jovan\n",
            "email => jovan@gmail.com\n",
            "phone => 0245844\n",
            "city => USA\n",
            "profession => Doctor\n",
            "age => 34\n",
            "hoby => Coding\n"
          ]
        }
      ]
    },
    {
      "cell_type": "code",
      "source": [
        "# case 4: lets say in case I need use both of dynamic args & dynamic kwargs at a time!"
      ],
      "metadata": {
        "id": "ObCIKAIVFpt6"
      },
      "execution_count": null,
      "outputs": []
    },
    {
      "cell_type": "code",
      "source": [
        "# 5.2 case 4:\n",
        "def login(*nums, **kwargs):   # first dynamic args, 2nd dynamic kwargs(maintaining the order is must)\n",
        "  for key, value in kwargs.items():\n",
        "    print(key, \"=>\", value)\n",
        "\n",
        "# calling fuction\n",
        "login(name='Jovan', email='jovan@gmail.com', phone='0245844', city='USA', profession='Doctor', age=34, hoby='Coding')"
      ],
      "metadata": {
        "colab": {
          "base_uri": "https://localhost:8080/"
        },
        "id": "8Zg712Z4HHp1",
        "outputId": "ccb70eee-e1bf-472f-cf33-4062870ae321"
      },
      "execution_count": 40,
      "outputs": [
        {
          "output_type": "stream",
          "name": "stdout",
          "text": [
            "name => Jovan\n",
            "email => jovan@gmail.com\n",
            "phone => 0245844\n",
            "city => USA\n",
            "profession => Doctor\n",
            "age => 34\n",
            "hoby => Coding\n"
          ]
        }
      ]
    },
    {
      "cell_type": "markdown",
      "source": [
        "- Still it will work, because *nums, is optional to provide"
      ],
      "metadata": {
        "id": "hATbSeVQICS5"
      }
    },
    {
      "cell_type": "code",
      "source": [
        "# 5.2: wrong format\n",
        "'''\n",
        "def login(**kwargs, *nums):   # must return error due to wrong order\n",
        "  for key, value in kwargs.items():\n",
        "    print(key, \"=>\", value)\n",
        "# calling fuction\n",
        "login(name='Jovan', email='jovan@gmail.com', phone='0245844', city='USA', profession='Doctor', age=34, hoby='Coding')\n",
        "'''"
      ],
      "metadata": {
        "colab": {
          "base_uri": "https://localhost:8080/",
          "height": 53
        },
        "id": "UsIvKyEDIJjL",
        "outputId": "914cd4c9-c3a0-4fa4-b470-4de9c0748908"
      },
      "execution_count": 42,
      "outputs": [
        {
          "output_type": "execute_result",
          "data": {
            "text/plain": [
              "'\\ndef login(**kwargs, *nums):   # must return error due to wrong order\\n  for key, value in kwargs.items():\\n    print(key, \"=>\", value)\\n# calling fuction\\nlogin(name=\\'Jovan\\', email=\\'jovan@gmail.com\\', phone=\\'0245844\\', city=\\'USA\\', profession=\\'Doctor\\', age=34, hoby=\\'Coding\\')\\n'"
            ],
            "application/vnd.google.colaboratory.intrinsic+json": {
              "type": "string"
            }
          },
          "metadata": {},
          "execution_count": 42
        }
      ]
    },
    {
      "cell_type": "markdown",
      "source": [
        "<center> <h1> End of Fuction- V1 </h1> </center>\n",
        "\n"
      ],
      "metadata": {
        "id": "QE-kaTrNI58p"
      }
    }
  ]
}