{
 "cells": [
  {
   "attachments": {},
   "cell_type": "markdown",
   "metadata": {},
   "source": [
    "# Object Oriented Programming"
   ]
  },
  {
   "attachments": {},
   "cell_type": "markdown",
   "metadata": {},
   "source": [
    "# Class & Object"
   ]
  },
  {
   "cell_type": "code",
   "execution_count": 5,
   "metadata": {},
   "outputs": [
    {
     "name": "stdout",
     "output_type": "stream",
     "text": [
      "Roll : 71, GPA : 3.75 \n"
     ]
    }
   ],
   "source": [
    "# Class Creation\n",
    "class Student:\n",
    "    roll= \"\"             # Class Member / variable / function\n",
    "    gpa = \"\"\n",
    "\n",
    "# Object Creation\n",
    "rahim = Student()\n",
    "\n",
    "# Value Assign to Class Member\n",
    "rahim.roll = 71\n",
    "rahim.gpa = 3.75\n",
    "\n",
    "# Print, value call by object\n",
    "print(f\"Roll : {rahim.roll}, GPA : {rahim.gpa} \")\n",
    "\n"
   ]
  },
  {
   "cell_type": "code",
   "execution_count": 6,
   "metadata": {},
   "outputs": [
    {
     "name": "stdout",
     "output_type": "stream",
     "text": [
      "True\n"
     ]
    }
   ],
   "source": [
    "# Object Creation Verification, Return True when created\n",
    "print(isinstance(rahim, Student))"
   ]
  },
  {
   "cell_type": "code",
   "execution_count": 7,
   "metadata": {},
   "outputs": [
    {
     "name": "stdout",
     "output_type": "stream",
     "text": [
      "Roll : 72, GPA : 4.0 \n"
     ]
    }
   ],
   "source": [
    "karim = Student()\n",
    "karim.roll = 72\n",
    "karim.gpa = 4.00\n",
    "\n",
    "print(f\"Roll : {karim.roll}, GPA : {karim.gpa} \")"
   ]
  },
  {
   "attachments": {},
   "cell_type": "markdown",
   "metadata": {},
   "source": [
    "- Rahim & Karim is the object of Student Class, so they can use class variable of Student"
   ]
  },
  {
   "cell_type": "code",
   "execution_count": 10,
   "metadata": {},
   "outputs": [
    {
     "name": "stdout",
     "output_type": "stream",
     "text": [
      "Roll : 71, GPA : 3.75 \n",
      "Roll : 72, GPA : 4.0 \n"
     ]
    }
   ],
   "source": [
    "print(f\"Roll : {rahim.roll}, GPA : {rahim.gpa} \")\n",
    "print(f\"Roll : {karim.roll}, GPA : {karim.gpa} \")"
   ]
  },
  {
   "attachments": {},
   "cell_type": "markdown",
   "metadata": {},
   "source": [
    "# Introducing Method"
   ]
  },
  {
   "cell_type": "code",
   "execution_count": null,
   "metadata": {},
   "outputs": [],
   "source": []
  },
  {
   "cell_type": "code",
   "execution_count": null,
   "metadata": {},
   "outputs": [],
   "source": []
  },
  {
   "cell_type": "code",
   "execution_count": null,
   "metadata": {},
   "outputs": [],
   "source": []
  },
  {
   "cell_type": "code",
   "execution_count": null,
   "metadata": {},
   "outputs": [],
   "source": []
  },
  {
   "cell_type": "code",
   "execution_count": null,
   "metadata": {},
   "outputs": [],
   "source": []
  },
  {
   "cell_type": "code",
   "execution_count": null,
   "metadata": {},
   "outputs": [],
   "source": []
  },
  {
   "cell_type": "markdown",
   "metadata": {},
   "source": [
    "# Object Oriented Progammnig - 2"
   ]
  },
  {
   "cell_type": "markdown",
   "metadata": {},
   "source": [
    "# Inheritance"
   ]
  },
  {
   "cell_type": "markdown",
   "metadata": {},
   "source": [
    "- Inheritance is a process by which a class characteristic transferred to another class\n",
    "- Example- Mom & Daughter: Some properties of mom inherits by her daughter"
   ]
  },
  {
   "cell_type": "markdown",
   "metadata": {},
   "source": [
    "### Excercise 1: There are two method in Phone Class & Three methods in Sumsung Class"
   ]
  },
  {
   "cell_type": "markdown",
   "metadata": {},
   "source": [
    "#### Class & Method Declaration"
   ]
  },
  {
   "cell_type": "code",
   "execution_count": 1,
   "metadata": {},
   "outputs": [
    {
     "name": "stdout",
     "output_type": "stream",
     "text": [
      "You can call\n",
      "You can message\n",
      "You can call\n",
      "You can message\n",
      "You can take photo\n"
     ]
    }
   ],
   "source": [
    "class Phone:\n",
    "    def  call(self):\n",
    "        print('You can call')\n",
    "\n",
    "    def message (self):\n",
    "        print('You can message')\n",
    "\n",
    "class Sumsung:\n",
    "    def  call(self):\n",
    "        print('You can call')\n",
    "\n",
    "    def message (message):\n",
    "        print('You can message')\n",
    "\n",
    "    def photo (self):\n",
    "        print('You can take photo')\n",
    "\n",
    "# Create Object of Phone & Sumsung to call methods\n",
    "p = Phone()\n",
    "s = Sumsung()\n",
    "\n",
    "# As per earlier declaration, P will allow to call two methods  (call & message)\n",
    "p.call()\n",
    "p.message()\n",
    "\n",
    "# As per earlier declaration, S will allow to call three methods (call, message & photo) only declared\n",
    "s.call()\n",
    "s.message()\n",
    "s.photo()\n"
   ]
  },
  {
   "cell_type": "markdown",
   "metadata": {},
   "source": [
    "- Two Methods call & message is common in both class, so here is the ineritance application\n",
    "- When inheritance applied then no need to write call & message in Sumsung Class explicitly"
   ]
  },
  {
   "cell_type": "markdown",
   "metadata": {},
   "source": [
    "# Excercise: Inheritance"
   ]
  },
  {
   "cell_type": "markdown",
   "metadata": {},
   "source": [
    "- Inherits when a class passed into another class inside () / function\n",
    "- Phone (Parents Class / Super Class or Base Class)\n",
    "- Sumgsung (Clild Class / Sub Class / Derieved Class); here Sumgsung is sub or clild class of Phone\n",
    "- The objective of inheritance is to re-use the codes"
   ]
  },
  {
   "cell_type": "code",
   "execution_count": 2,
   "metadata": {},
   "outputs": [
    {
     "name": "stdout",
     "output_type": "stream",
     "text": [
      "You can call\n",
      "You can message\n",
      "You can take photo\n"
     ]
    }
   ],
   "source": [
    "class Phone:\n",
    "    def  call(self):\n",
    "        print('You can call')\n",
    "\n",
    "    def message (self):\n",
    "        print('You can message')\n",
    "\n",
    "class Sumsung (Phone):          # Inheritance, where phone class passed into Sumsung Class, by which Sumsung class inherits all attributes from Phone Class. Its inherits Call & Message\n",
    "        def photo (self):\n",
    "            print('You can take photo')\n",
    "\n",
    "# Create Object of Phone & Sumsung to call methods\n",
    "s = Sumsung()\n",
    "\n",
    "# As per earlier declaration, S will allow to call three methods (call, message & photo) only declared\n",
    "s.call()\n",
    "s.message()\n",
    "s.photo()"
   ]
  },
  {
   "cell_type": "code",
   "execution_count": 3,
   "metadata": {},
   "outputs": [
    {
     "name": "stdout",
     "output_type": "stream",
     "text": [
      "True\n"
     ]
    }
   ],
   "source": [
    "# Verify wether \"Sumsung\" is Sub Class of \"Phone\" Class\n",
    "print (issubclass(Sumsung, Phone))"
   ]
  },
  {
   "cell_type": "code",
   "execution_count": 4,
   "metadata": {},
   "outputs": [
    {
     "name": "stdout",
     "output_type": "stream",
     "text": [
      "False\n"
     ]
    }
   ],
   "source": [
    "print (issubclass(Phone, Sumsung))"
   ]
  },
  {
   "cell_type": "markdown",
   "metadata": {},
   "source": [
    "## Triangle Area Calculation"
   ]
  },
  {
   "cell_type": "code",
   "execution_count": 5,
   "metadata": {},
   "outputs": [
    {
     "name": "stdout",
     "output_type": "stream",
     "text": [
      "Area :  100.0\n",
      "Area :  300.0\n"
     ]
    }
   ],
   "source": [
    "class Triangle:                                     # Class Declaration\n",
    "    def __init__(self, length, height):             # constructor declaration, init requires to pass param e.g base & height, self is default \n",
    "        self.length = length\n",
    "        self.height = height\n",
    "\n",
    "    def calculate_area (self):                      # define a method to cal area with no params, it will cal area with given object values\n",
    "        area = .50 * self.length * self.height      # Area calculation formula\n",
    "        print(\"Area : \", area)\n",
    "\n",
    "t1 = Triangle(10, 20)                               # object Creation\n",
    "t2 = Triangle(20,30)                                # Object Creation\n",
    "\n",
    "t1.calculate_area()                                 # Method Calling to calculate area | Print\n",
    "t2.calculate_area()                                 # Method Calling to calculate area | Print\n"
   ]
  }
 ],
 "metadata": {
  "kernelspec": {
   "display_name": "Python 3 (ipykernel)",
   "language": "python",
   "name": "python3"
  },
  "language_info": {
   "codemirror_mode": {
    "name": "ipython",
    "version": 3
   },
   "file_extension": ".py",
   "mimetype": "text/x-python",
   "name": "python",
   "nbconvert_exporter": "python",
   "pygments_lexer": "ipython3",
   "version": "3.10.7"
  },
  "vscode": {
   "interpreter": {
    "hash": "c19fa61d258bb2b35aae2ada233c33e2817c1ce895aa48acba720c6bf7cbe3cb"
   }
  }
 },
 "nbformat": 4,
 "nbformat_minor": 2
}
