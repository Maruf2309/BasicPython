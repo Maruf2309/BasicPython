{
 "cells": [
  {
   "cell_type": "markdown",
   "id": "ecf75d78",
   "metadata": {},
   "source": [
    "# Python String Method for Case Manupulation"
   ]
  },
  {
   "cell_type": "markdown",
   "id": "06d4cfa3",
   "metadata": {},
   "source": [
    "- Ref: 27_1001"
   ]
  },
  {
   "cell_type": "markdown",
   "id": "a3e95844",
   "metadata": {},
   "source": [
    "### Capitalize"
   ]
  },
  {
   "cell_type": "markdown",
   "id": "e960ba19",
   "metadata": {},
   "source": [
    "Returns a copy of the string with first characters capitalized and rest in lower case"
   ]
  },
  {
   "cell_type": "code",
   "execution_count": 10,
   "id": "0e005a25",
   "metadata": {},
   "outputs": [
    {
     "name": "stdout",
     "output_type": "stream",
     "text": [
      "Hello world\n"
     ]
    }
   ],
   "source": [
    "text = \"hello world\"\n",
    "print(text.capitalize())"
   ]
  },
  {
   "cell_type": "code",
   "execution_count": 11,
   "id": "c0d340e9",
   "metadata": {},
   "outputs": [
    {
     "data": {
      "text/plain": [
       "'Hello world'"
      ]
     },
     "execution_count": 11,
     "metadata": {},
     "output_type": "execute_result"
    }
   ],
   "source": [
    "text='hELLO wORLD'\n",
    "text.capitalize()"
   ]
  },
  {
   "cell_type": "code",
   "execution_count": 12,
   "id": "69762248",
   "metadata": {},
   "outputs": [
    {
     "data": {
      "text/plain": [
       "'123abc'"
      ]
     },
     "execution_count": 12,
     "metadata": {},
     "output_type": "execute_result"
    }
   ],
   "source": [
    "text = \"123abc\"\n",
    "text.capitalize()"
   ]
  },
  {
   "cell_type": "markdown",
   "id": "3ff048f6",
   "metadata": {},
   "source": [
    "### Casefold"
   ]
  },
  {
   "cell_type": "markdown",
   "id": "8a8025f2",
   "metadata": {},
   "source": [
    "Returns a copy of the string with all characters converted to lower case, useful for case-insensitive comparisions"
   ]
  },
  {
   "cell_type": "code",
   "execution_count": 4,
   "id": "ca080203",
   "metadata": {},
   "outputs": [
    {
     "data": {
      "text/plain": [
       "'hello world'"
      ]
     },
     "execution_count": 4,
     "metadata": {},
     "output_type": "execute_result"
    }
   ],
   "source": [
    "text2 = \"HELLO WORLD\"\n",
    "text2.casefold()"
   ]
  },
  {
   "cell_type": "markdown",
   "id": "225f090f",
   "metadata": {},
   "source": [
    "### Lower"
   ]
  },
  {
   "cell_type": "markdown",
   "id": "f3cc040d",
   "metadata": {},
   "source": [
    "Returns a copy of the string with all characters converted to lower case"
   ]
  },
  {
   "cell_type": "code",
   "execution_count": 6,
   "id": "9439ab32",
   "metadata": {},
   "outputs": [
    {
     "data": {
      "text/plain": [
       "'hello world'"
      ]
     },
     "execution_count": 6,
     "metadata": {},
     "output_type": "execute_result"
    }
   ],
   "source": [
    "text3 = \"HELLO WORLD\"\n",
    "text3.lower()"
   ]
  },
  {
   "cell_type": "markdown",
   "id": "cbe139fa",
   "metadata": {},
   "source": [
    "### Swapcase"
   ]
  },
  {
   "cell_type": "markdown",
   "id": "bdf6a2e5",
   "metadata": {},
   "source": [
    "Returns a copy of the string with uppercase character converted to lowercase and vice-versa"
   ]
  },
  {
   "cell_type": "code",
   "execution_count": 7,
   "id": "52e5ada0",
   "metadata": {},
   "outputs": [
    {
     "data": {
      "text/plain": [
       "'hELLO wORLD'"
      ]
     },
     "execution_count": 7,
     "metadata": {},
     "output_type": "execute_result"
    }
   ],
   "source": [
    "text4 = \"Hello World\"\n",
    "text4.swapcase()"
   ]
  },
  {
   "cell_type": "code",
   "execution_count": 13,
   "id": "8e018c9b",
   "metadata": {},
   "outputs": [
    {
     "data": {
      "text/plain": [
       "'Hello World'"
      ]
     },
     "execution_count": 13,
     "metadata": {},
     "output_type": "execute_result"
    }
   ],
   "source": [
    "text='hELLO wORLD'\n",
    "text.swapcase()"
   ]
  },
  {
   "cell_type": "markdown",
   "id": "e6774a19",
   "metadata": {},
   "source": [
    "### Title"
   ]
  },
  {
   "cell_type": "markdown",
   "id": "070fb7ae",
   "metadata": {},
   "source": [
    "Returns a copy of the string with first character of each word capitalized and rest in lowercase"
   ]
  },
  {
   "cell_type": "code",
   "execution_count": 8,
   "id": "a59722b1",
   "metadata": {},
   "outputs": [
    {
     "data": {
      "text/plain": [
       "'Hello World'"
      ]
     },
     "execution_count": 8,
     "metadata": {},
     "output_type": "execute_result"
    }
   ],
   "source": [
    "text5 = 'hello world'\n",
    "text5.title()"
   ]
  },
  {
   "cell_type": "markdown",
   "id": "580274f0",
   "metadata": {},
   "source": [
    "### Upper"
   ]
  },
  {
   "cell_type": "markdown",
   "id": "d024bd9e",
   "metadata": {},
   "source": [
    "Returns a copy of the string with all characters converted to uppercase"
   ]
  },
  {
   "cell_type": "code",
   "execution_count": 9,
   "id": "02af6789",
   "metadata": {},
   "outputs": [
    {
     "data": {
      "text/plain": [
       "'HELLO WORLD'"
      ]
     },
     "execution_count": 9,
     "metadata": {},
     "output_type": "execute_result"
    }
   ],
   "source": [
    "text6 = \"hello world\"\n",
    "text6.upper()"
   ]
  }
 ],
 "metadata": {
  "kernelspec": {
   "display_name": "Python 3 (ipykernel)",
   "language": "python",
   "name": "python3"
  },
  "language_info": {
   "codemirror_mode": {
    "name": "ipython",
    "version": 3
   },
   "file_extension": ".py",
   "mimetype": "text/x-python",
   "name": "python",
   "nbconvert_exporter": "python",
   "pygments_lexer": "ipython3",
   "version": "3.9.12"
  }
 },
 "nbformat": 4,
 "nbformat_minor": 5
}
