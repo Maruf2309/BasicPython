{
 "cells": [
  {
   "cell_type": "markdown",
   "id": "bdd8bf34",
   "metadata": {},
   "source": [
    "<h1> Introduction to Python"
   ]
  },
  {
   "cell_type": "markdown",
   "id": "a44e4291",
   "metadata": {},
   "source": [
    "- Variable\n",
    "- Operators\n",
    "- Comperision\n",
    "- Data Type\n",
    "- Conditional Statement\n",
    "- DateTime\n",
    "- Function\n",
    "- List"
   ]
  },
  {
   "cell_type": "markdown",
   "id": "d465d4a9",
   "metadata": {},
   "source": [
    "# Variable"
   ]
  },
  {
   "cell_type": "code",
   "execution_count": 10,
   "id": "89fa9ca4",
   "metadata": {},
   "outputs": [],
   "source": [
    "# Single varible\n",
    "x = 1"
   ]
  },
  {
   "cell_type": "code",
   "execution_count": 11,
   "id": "378d6104",
   "metadata": {},
   "outputs": [
    {
     "data": {
      "text/plain": [
       "1"
      ]
     },
     "execution_count": 11,
     "metadata": {},
     "output_type": "execute_result"
    }
   ],
   "source": [
    "x"
   ]
  },
  {
   "cell_type": "code",
   "execution_count": 12,
   "id": "0aa2d2e1",
   "metadata": {},
   "outputs": [
    {
     "name": "stdout",
     "output_type": "stream",
     "text": [
      "1\n"
     ]
    }
   ],
   "source": [
    "print(x)"
   ]
  },
  {
   "cell_type": "markdown",
   "id": "f669aa39",
   "metadata": {},
   "source": [
    "## Multiple Varible"
   ]
  },
  {
   "cell_type": "code",
   "execution_count": 13,
   "id": "ff2a0344",
   "metadata": {},
   "outputs": [],
   "source": [
    "x,y = 92, 100"
   ]
  },
  {
   "cell_type": "code",
   "execution_count": 14,
   "id": "a0013c75",
   "metadata": {},
   "outputs": [
    {
     "data": {
      "text/plain": [
       "92"
      ]
     },
     "execution_count": 14,
     "metadata": {},
     "output_type": "execute_result"
    }
   ],
   "source": [
    "x"
   ]
  },
  {
   "cell_type": "code",
   "execution_count": 15,
   "id": "6af1165f",
   "metadata": {},
   "outputs": [
    {
     "data": {
      "text/plain": [
       "100"
      ]
     },
     "execution_count": 15,
     "metadata": {},
     "output_type": "execute_result"
    }
   ],
   "source": [
    "y"
   ]
  },
  {
   "cell_type": "code",
   "execution_count": 16,
   "id": "36268165",
   "metadata": {},
   "outputs": [
    {
     "ename": "ValueError",
     "evalue": "too many values to unpack (expected 2)",
     "output_type": "error",
     "traceback": [
      "\u001b[1;31m---------------------------------------------------------------------------\u001b[0m",
      "\u001b[1;31mValueError\u001b[0m                                Traceback (most recent call last)",
      "\u001b[1;32m~\\AppData\\Local\\Temp/ipykernel_5688/986855546.py\u001b[0m in \u001b[0;36m<module>\u001b[1;34m\u001b[0m\n\u001b[1;32m----> 1\u001b[1;33m \u001b[0mx\u001b[0m\u001b[1;33m,\u001b[0m\u001b[0my\u001b[0m \u001b[1;33m=\u001b[0m \u001b[1;36m92\u001b[0m\u001b[1;33m,\u001b[0m \u001b[1;36m100\u001b[0m\u001b[1;33m,\u001b[0m \u001b[1;36m150\u001b[0m \u001b[1;31m# will return an error\u001b[0m\u001b[1;33m\u001b[0m\u001b[1;33m\u001b[0m\u001b[0m\n\u001b[0m",
      "\u001b[1;31mValueError\u001b[0m: too many values to unpack (expected 2)"
     ]
    }
   ],
   "source": [
    "x,y = 92, 100, 150 # will return an error"
   ]
  },
  {
   "cell_type": "code",
   "execution_count": 17,
   "id": "d3c2f03e",
   "metadata": {},
   "outputs": [],
   "source": [
    "x,y,z = 92, 100, 150"
   ]
  },
  {
   "cell_type": "code",
   "execution_count": 18,
   "id": "173e9171",
   "metadata": {},
   "outputs": [
    {
     "data": {
      "text/plain": [
       "(92, 100, 150)"
      ]
     },
     "execution_count": 18,
     "metadata": {},
     "output_type": "execute_result"
    }
   ],
   "source": [
    "x,y,z"
   ]
  },
  {
   "cell_type": "code",
   "execution_count": 19,
   "id": "be18daaa",
   "metadata": {},
   "outputs": [
    {
     "data": {
      "text/plain": [
       "150"
      ]
     },
     "execution_count": 19,
     "metadata": {},
     "output_type": "execute_result"
    }
   ],
   "source": [
    "# return the last one\n",
    "x\n",
    "y\n",
    "z"
   ]
  },
  {
   "cell_type": "code",
   "execution_count": 20,
   "id": "4eaad6cb",
   "metadata": {},
   "outputs": [
    {
     "name": "stdout",
     "output_type": "stream",
     "text": [
      "92\n",
      "100\n",
      "150\n"
     ]
    }
   ],
   "source": [
    "# return all as per declartion by print fn\n",
    "print(x)\n",
    "print(y)\n",
    "print(z)"
   ]
  },
  {
   "cell_type": "markdown",
   "id": "dc5ea0d0",
   "metadata": {},
   "source": [
    "# Data Types"
   ]
  },
  {
   "cell_type": "code",
   "execution_count": 21,
   "id": "b7982592",
   "metadata": {},
   "outputs": [],
   "source": [
    "x1 = 4.3"
   ]
  },
  {
   "cell_type": "code",
   "execution_count": 22,
   "id": "d3e0b3c2",
   "metadata": {},
   "outputs": [
    {
     "data": {
      "text/plain": [
       "4.3"
      ]
     },
     "execution_count": 22,
     "metadata": {},
     "output_type": "execute_result"
    }
   ],
   "source": [
    "x1"
   ]
  },
  {
   "cell_type": "code",
   "execution_count": 23,
   "id": "87823abd",
   "metadata": {},
   "outputs": [
    {
     "data": {
      "text/plain": [
       "float"
      ]
     },
     "execution_count": 23,
     "metadata": {},
     "output_type": "execute_result"
    }
   ],
   "source": [
    "type(x1)"
   ]
  },
  {
   "cell_type": "code",
   "execution_count": 24,
   "id": "62667870",
   "metadata": {},
   "outputs": [
    {
     "data": {
      "text/plain": [
       "str"
      ]
     },
     "execution_count": 24,
     "metadata": {},
     "output_type": "execute_result"
    }
   ],
   "source": [
    "x2= \"abc\"\n",
    "type(x2)"
   ]
  },
  {
   "cell_type": "code",
   "execution_count": 25,
   "id": "866e59a8",
   "metadata": {},
   "outputs": [
    {
     "name": "stdout",
     "output_type": "stream",
     "text": [
      "14\n"
     ]
    }
   ],
   "source": [
    "x3 = 7\n",
    "print(x3+7)"
   ]
  },
  {
   "cell_type": "code",
   "execution_count": 26,
   "id": "f8b9e94e",
   "metadata": {},
   "outputs": [
    {
     "ename": "TypeError",
     "evalue": "can only concatenate str (not \"int\") to str",
     "output_type": "error",
     "traceback": [
      "\u001b[1;31m---------------------------------------------------------------------------\u001b[0m",
      "\u001b[1;31mTypeError\u001b[0m                                 Traceback (most recent call last)",
      "\u001b[1;32m~\\AppData\\Local\\Temp/ipykernel_5688/309653839.py\u001b[0m in \u001b[0;36m<module>\u001b[1;34m\u001b[0m\n\u001b[0;32m      1\u001b[0m \u001b[0mx3\u001b[0m \u001b[1;33m=\u001b[0m \u001b[1;34m'7'\u001b[0m\u001b[1;33m\u001b[0m\u001b[1;33m\u001b[0m\u001b[0m\n\u001b[1;32m----> 2\u001b[1;33m \u001b[0mprint\u001b[0m\u001b[1;33m(\u001b[0m\u001b[0mx3\u001b[0m\u001b[1;33m+\u001b[0m\u001b[1;36m7\u001b[0m\u001b[1;33m)\u001b[0m \u001b[1;31m# will return an error\u001b[0m\u001b[1;33m\u001b[0m\u001b[1;33m\u001b[0m\u001b[0m\n\u001b[0m",
      "\u001b[1;31mTypeError\u001b[0m: can only concatenate str (not \"int\") to str"
     ]
    }
   ],
   "source": [
    "x3 = '7'\n",
    "print(x3+7) # will return an error"
   ]
  },
  {
   "cell_type": "code",
   "execution_count": 27,
   "id": "fe7e5226",
   "metadata": {},
   "outputs": [
    {
     "name": "stdout",
     "output_type": "stream",
     "text": [
      "75\n"
     ]
    }
   ],
   "source": [
    "x3 = '7'\n",
    "print(x3+'5') # it will concatinate 7 & 5"
   ]
  },
  {
   "cell_type": "code",
   "execution_count": 28,
   "id": "6f803355",
   "metadata": {},
   "outputs": [
    {
     "name": "stdout",
     "output_type": "stream",
     "text": [
      " My Country Name is Bangladesh\n"
     ]
    }
   ],
   "source": [
    "x3 = 'Bangladesh'\n",
    "x4 = ' My Country Name is '\n",
    "print(x4+x3)"
   ]
  },
  {
   "cell_type": "code",
   "execution_count": 29,
   "id": "a5c7735f",
   "metadata": {},
   "outputs": [
    {
     "data": {
      "text/plain": [
       "bool"
      ]
     },
     "execution_count": 29,
     "metadata": {},
     "output_type": "execute_result"
    }
   ],
   "source": [
    "x5 = True\n",
    "x6 = False\n",
    "type(x5)"
   ]
  },
  {
   "cell_type": "code",
   "execution_count": 30,
   "id": "3d3ed1c2",
   "metadata": {},
   "outputs": [
    {
     "name": "stdout",
     "output_type": "stream",
     "text": [
      "<class 'bool'>\n",
      "<class 'bool'>\n"
     ]
    }
   ],
   "source": [
    "print(type(x5))\n",
    "print(type(x6))"
   ]
  },
  {
   "cell_type": "code",
   "execution_count": 31,
   "id": "0efab205",
   "metadata": {},
   "outputs": [
    {
     "name": "stdout",
     "output_type": "stream",
     "text": [
      "This number is 4\n"
     ]
    }
   ],
   "source": [
    "x7 = 4\n",
    "print ('This number is '+str(x7))"
   ]
  },
  {
   "cell_type": "markdown",
   "id": "29e6eab7",
   "metadata": {},
   "source": [
    "# Operator"
   ]
  },
  {
   "cell_type": "code",
   "execution_count": 32,
   "id": "cfbb0e78",
   "metadata": {},
   "outputs": [
    {
     "name": "stdout",
     "output_type": "stream",
     "text": [
      "9\n",
      "6\n",
      "64\n",
      "2.0\n",
      "1\n"
     ]
    }
   ],
   "source": [
    "y = 4+5      #addition\n",
    "ya = 9-3     #Substraction\n",
    "yb = 8*8     #Multiplication\n",
    "yc= 8/4      #Division\n",
    "yd = 9%2     #Modulo\n",
    "print(y)\n",
    "print(ya)\n",
    "print(yb)\n",
    "print(yc)\n",
    "print(yd)"
   ]
  },
  {
   "cell_type": "code",
   "execution_count": 33,
   "id": "cee201bd",
   "metadata": {},
   "outputs": [
    {
     "name": "stdout",
     "output_type": "stream",
     "text": [
      "25\n",
      "4\n",
      "1\n"
     ]
    }
   ],
   "source": [
    "x8 = 5**2 # square\n",
    "x9 = 9// 2  \n",
    "x10 = 9%2  \n",
    "\n",
    "print(x8)\n",
    "print (x9)\n",
    "print(x10)"
   ]
  },
  {
   "cell_type": "code",
   "execution_count": 34,
   "id": "f593333d",
   "metadata": {},
   "outputs": [
    {
     "name": "stdout",
     "output_type": "stream",
     "text": [
      "False\n"
     ]
    }
   ],
   "source": [
    "y = 10\n",
    "x = (y == 5) # is y equal to x actually, answer is no, that why its returned False \n",
    "print(x)"
   ]
  },
  {
   "cell_type": "code",
   "execution_count": 35,
   "id": "f4af9f78",
   "metadata": {},
   "outputs": [
    {
     "data": {
      "text/plain": [
       "True"
      ]
     },
     "execution_count": 35,
     "metadata": {},
     "output_type": "execute_result"
    }
   ],
   "source": [
    "5 == 5  # is 5 is equal to 5, answer is yes, return True"
   ]
  },
  {
   "cell_type": "markdown",
   "id": "f15bfcb9",
   "metadata": {},
   "source": [
    "# Comparison Operator"
   ]
  },
  {
   "cell_type": "code",
   "execution_count": 36,
   "id": "afa11899",
   "metadata": {},
   "outputs": [
    {
     "data": {
      "text/plain": [
       "True"
      ]
     },
     "execution_count": 36,
     "metadata": {},
     "output_type": "execute_result"
    }
   ],
   "source": [
    "10 == 20/2  # Return boolean"
   ]
  },
  {
   "cell_type": "code",
   "execution_count": 37,
   "id": "ebbcb728",
   "metadata": {},
   "outputs": [
    {
     "data": {
      "text/plain": [
       "True"
      ]
     },
     "execution_count": 37,
     "metadata": {},
     "output_type": "execute_result"
    }
   ],
   "source": [
    "10 != 5   # not equal"
   ]
  },
  {
   "cell_type": "code",
   "execution_count": 38,
   "id": "7ebf3012",
   "metadata": {},
   "outputs": [
    {
     "data": {
      "text/plain": [
       "False"
      ]
     },
     "execution_count": 38,
     "metadata": {},
     "output_type": "execute_result"
    }
   ],
   "source": [
    "10 > 10  # <  >"
   ]
  },
  {
   "cell_type": "code",
   "execution_count": 39,
   "id": "03f0ddb6",
   "metadata": {},
   "outputs": [
    {
     "data": {
      "text/plain": [
       "False"
      ]
     },
     "execution_count": 39,
     "metadata": {},
     "output_type": "execute_result"
    }
   ],
   "source": [
    "10 <=9"
   ]
  },
  {
   "cell_type": "code",
   "execution_count": 40,
   "id": "c2f7588c",
   "metadata": {},
   "outputs": [
    {
     "data": {
      "text/plain": [
       "True"
      ]
     },
     "execution_count": 40,
     "metadata": {},
     "output_type": "execute_result"
    }
   ],
   "source": [
    "True and True"
   ]
  },
  {
   "cell_type": "code",
   "execution_count": 41,
   "id": "b87d4ec3",
   "metadata": {},
   "outputs": [
    {
     "data": {
      "text/plain": [
       "True"
      ]
     },
     "execution_count": 41,
     "metadata": {},
     "output_type": "execute_result"
    }
   ],
   "source": [
    "True & True"
   ]
  },
  {
   "cell_type": "code",
   "execution_count": 42,
   "id": "764bdfac",
   "metadata": {},
   "outputs": [
    {
     "data": {
      "text/plain": [
       "False"
      ]
     },
     "execution_count": 42,
     "metadata": {},
     "output_type": "execute_result"
    }
   ],
   "source": [
    "True & False"
   ]
  },
  {
   "cell_type": "code",
   "execution_count": 43,
   "id": "e5ffac57",
   "metadata": {},
   "outputs": [
    {
     "data": {
      "text/plain": [
       "False"
      ]
     },
     "execution_count": 43,
     "metadata": {},
     "output_type": "execute_result"
    }
   ],
   "source": [
    "False & False"
   ]
  },
  {
   "cell_type": "code",
   "execution_count": 44,
   "id": "55e012ef",
   "metadata": {},
   "outputs": [
    {
     "data": {
      "text/plain": [
       "False"
      ]
     },
     "execution_count": 44,
     "metadata": {},
     "output_type": "execute_result"
    }
   ],
   "source": [
    "False & True"
   ]
  },
  {
   "cell_type": "code",
   "execution_count": 45,
   "id": "4a72c0db",
   "metadata": {},
   "outputs": [
    {
     "data": {
      "text/plain": [
       "True"
      ]
     },
     "execution_count": 45,
     "metadata": {},
     "output_type": "execute_result"
    }
   ],
   "source": [
    "True or True"
   ]
  },
  {
   "cell_type": "code",
   "execution_count": 46,
   "id": "a3743831",
   "metadata": {},
   "outputs": [
    {
     "data": {
      "text/plain": [
       "True"
      ]
     },
     "execution_count": 46,
     "metadata": {},
     "output_type": "execute_result"
    }
   ],
   "source": [
    "True or False"
   ]
  },
  {
   "cell_type": "code",
   "execution_count": 47,
   "id": "850d696b",
   "metadata": {},
   "outputs": [
    {
     "data": {
      "text/plain": [
       "True"
      ]
     },
     "execution_count": 47,
     "metadata": {},
     "output_type": "execute_result"
    }
   ],
   "source": [
    "False or True"
   ]
  },
  {
   "cell_type": "code",
   "execution_count": 48,
   "id": "e46b8425",
   "metadata": {},
   "outputs": [
    {
     "data": {
      "text/plain": [
       "False"
      ]
     },
     "execution_count": 48,
     "metadata": {},
     "output_type": "execute_result"
    }
   ],
   "source": [
    "False or False"
   ]
  },
  {
   "cell_type": "code",
   "execution_count": 49,
   "id": "8ccdfdf2",
   "metadata": {},
   "outputs": [
    {
     "data": {
      "text/plain": [
       "True"
      ]
     },
     "execution_count": 49,
     "metadata": {},
     "output_type": "execute_result"
    }
   ],
   "source": [
    "True ^ False  # XOR"
   ]
  },
  {
   "cell_type": "code",
   "execution_count": 50,
   "id": "45b963b2",
   "metadata": {},
   "outputs": [
    {
     "data": {
      "text/plain": [
       "False"
      ]
     },
     "execution_count": 50,
     "metadata": {},
     "output_type": "execute_result"
    }
   ],
   "source": [
    "False ^ False"
   ]
  },
  {
   "cell_type": "code",
   "execution_count": 51,
   "id": "eed5db29",
   "metadata": {},
   "outputs": [
    {
     "name": "stderr",
     "output_type": "stream",
     "text": [
      "<>:1: SyntaxWarning: \"is\" with a literal. Did you mean \"==\"?\n",
      "<>:1: SyntaxWarning: \"is\" with a literal. Did you mean \"==\"?\n",
      "C:\\Users\\Maruf\\AppData\\Local\\Temp/ipykernel_5688/1746752968.py:1: SyntaxWarning: \"is\" with a literal. Did you mean \"==\"?\n",
      "  5 is 6  # is 5 within 6, answer is no, that why false. this is alternative of 5 == 6\n"
     ]
    },
    {
     "data": {
      "text/plain": [
       "False"
      ]
     },
     "execution_count": 51,
     "metadata": {},
     "output_type": "execute_result"
    }
   ],
   "source": [
    "5 is 6  # is 5 within 6, answer is no, that why false. this is alternative of 5 == 6"
   ]
  },
  {
   "cell_type": "code",
   "execution_count": 52,
   "id": "bf04f381",
   "metadata": {},
   "outputs": [
    {
     "data": {
      "text/plain": [
       "False"
      ]
     },
     "execution_count": 52,
     "metadata": {},
     "output_type": "execute_result"
    }
   ],
   "source": [
    "5 == 6"
   ]
  },
  {
   "cell_type": "code",
   "execution_count": 53,
   "id": "2d629335",
   "metadata": {},
   "outputs": [
    {
     "name": "stderr",
     "output_type": "stream",
     "text": [
      "<>:1: SyntaxWarning: \"is\" with a literal. Did you mean \"==\"?\n",
      "<>:1: SyntaxWarning: \"is\" with a literal. Did you mean \"==\"?\n",
      "C:\\Users\\Maruf\\AppData\\Local\\Temp/ipykernel_5688/3010810752.py:1: SyntaxWarning: \"is\" with a literal. Did you mean \"==\"?\n",
      "  5 is 5\n"
     ]
    },
    {
     "data": {
      "text/plain": [
       "True"
      ]
     },
     "execution_count": 53,
     "metadata": {},
     "output_type": "execute_result"
    }
   ],
   "source": [
    "5 is 5  "
   ]
  },
  {
   "cell_type": "code",
   "execution_count": 54,
   "id": "df85147b",
   "metadata": {},
   "outputs": [
    {
     "name": "stderr",
     "output_type": "stream",
     "text": [
      "<>:1: SyntaxWarning: \"is\" with a literal. Did you mean \"==\"?\n",
      "<>:1: SyntaxWarning: \"is\" with a literal. Did you mean \"==\"?\n",
      "C:\\Users\\Maruf\\AppData\\Local\\Temp/ipykernel_5688/171648558.py:1: SyntaxWarning: \"is\" with a literal. Did you mean \"==\"?\n",
      "  5 is 4\n"
     ]
    },
    {
     "data": {
      "text/plain": [
       "False"
      ]
     },
     "execution_count": 54,
     "metadata": {},
     "output_type": "execute_result"
    }
   ],
   "source": [
    "5 is 4"
   ]
  },
  {
   "cell_type": "code",
   "execution_count": 55,
   "id": "ac89ca27",
   "metadata": {},
   "outputs": [
    {
     "name": "stderr",
     "output_type": "stream",
     "text": [
      "<>:1: SyntaxWarning: \"is not\" with a literal. Did you mean \"!=\"?\n",
      "<>:1: SyntaxWarning: \"is not\" with a literal. Did you mean \"!=\"?\n",
      "C:\\Users\\Maruf\\AppData\\Local\\Temp/ipykernel_5688/4068411564.py:1: SyntaxWarning: \"is not\" with a literal. Did you mean \"!=\"?\n",
      "  5 is not 6   # alternative of 5!=6\n"
     ]
    },
    {
     "data": {
      "text/plain": [
       "True"
      ]
     },
     "execution_count": 55,
     "metadata": {},
     "output_type": "execute_result"
    }
   ],
   "source": [
    "5 is not 6   # alternative of 5!=6"
   ]
  },
  {
   "cell_type": "code",
   "execution_count": 56,
   "id": "5501796d",
   "metadata": {},
   "outputs": [
    {
     "data": {
      "text/plain": [
       "True"
      ]
     },
     "execution_count": 56,
     "metadata": {},
     "output_type": "execute_result"
    }
   ],
   "source": [
    "5 != 6"
   ]
  },
  {
   "cell_type": "markdown",
   "id": "e0d50f82",
   "metadata": {},
   "source": [
    "# Conditional Statement"
   ]
  },
  {
   "cell_type": "code",
   "execution_count": 57,
   "id": "38c40a97",
   "metadata": {},
   "outputs": [
    {
     "name": "stdout",
     "output_type": "stream",
     "text": [
      "Welcome\n"
     ]
    }
   ],
   "source": [
    "if 5== 5:  # Conditionally is cheaking boolean\n",
    "    print('Welcome')\n",
    "else:\n",
    "    print('GoodBye')"
   ]
  },
  {
   "cell_type": "code",
   "execution_count": 58,
   "id": "775ff284",
   "metadata": {},
   "outputs": [
    {
     "name": "stdout",
     "output_type": "stream",
     "text": [
      "GoodBye\n"
     ]
    }
   ],
   "source": [
    "if 5 == 6:\n",
    "    print('Welcome')\n",
    "else:\n",
    "    print('GoodBye')"
   ]
  },
  {
   "cell_type": "code",
   "execution_count": 59,
   "id": "f0c3dcf3",
   "metadata": {},
   "outputs": [
    {
     "name": "stdout",
     "output_type": "stream",
     "text": [
      "Bye\n"
     ]
    }
   ],
   "source": [
    "y = 5\n",
    "if y==10:\n",
    "    print('Welcome')\n",
    "else:\n",
    "    print('Bye')"
   ]
  },
  {
   "cell_type": "code",
   "execution_count": 60,
   "id": "63db7ffe",
   "metadata": {},
   "outputs": [
    {
     "name": "stdout",
     "output_type": "stream",
     "text": [
      "Good Morning\n"
     ]
    }
   ],
   "source": [
    "y = 6\n",
    "if y == 5:\n",
    "    print('Welcome')\n",
    "elif y > 5:\n",
    "    print('Good Morning')\n",
    "else:\n",
    "    print('Bye')\n",
    "        "
   ]
  },
  {
   "cell_type": "code",
   "execution_count": 61,
   "id": "37dc00c5",
   "metadata": {},
   "outputs": [
    {
     "name": "stdout",
     "output_type": "stream",
     "text": [
      "Good Night\n"
     ]
    }
   ],
   "source": [
    "time = 23\n",
    "if (time > 5 and time <=11):\n",
    "    print ('Good Morning!')\n",
    "elif (time >11 and time <=15):\n",
    "    print('Good Noon!')\n",
    "elif (time> 15 and time <=17):\n",
    "    print('Good Afternoon!')\n",
    "elif (time> 17 and time <=23):\n",
    "    print('Good Night')\n",
    "else:\n",
    "    print('Bye')\n",
    "    "
   ]
  },
  {
   "cell_type": "markdown",
   "id": "78248f52",
   "metadata": {},
   "source": [
    "### Datetime"
   ]
  },
  {
   "cell_type": "code",
   "execution_count": 62,
   "id": "e79a8c28",
   "metadata": {},
   "outputs": [
    {
     "name": "stdout",
     "output_type": "stream",
     "text": [
      "Current Time = 22:54:35\n"
     ]
    }
   ],
   "source": [
    "from datetime import datetime\n",
    "now = datetime.now()\n",
    "current_time = now.strftime(\"%H:%M:%S\")\n",
    "print('Current Time =', current_time)"
   ]
  },
  {
   "cell_type": "markdown",
   "id": "6adfb943",
   "metadata": {},
   "source": [
    "# Function"
   ]
  },
  {
   "cell_type": "code",
   "execution_count": 63,
   "id": "3ba10c9a",
   "metadata": {},
   "outputs": [
    {
     "name": "stdout",
     "output_type": "stream",
     "text": [
      "11\n"
     ]
    }
   ],
   "source": [
    "# f(x) = x+1\n",
    "\n",
    "def plusOne(x):  # plusOne is fn name, any name can be given as fn\n",
    "    print(x+1)\n",
    "    \n",
    "plusOne(10)    # calling the fn by giving x value 10, so 10+1 = 11"
   ]
  },
  {
   "cell_type": "code",
   "execution_count": 64,
   "id": "501ba2a3",
   "metadata": {},
   "outputs": [
    {
     "name": "stdout",
     "output_type": "stream",
     "text": [
      "25\n"
     ]
    }
   ],
   "source": [
    "def square_cal(y):\n",
    "    print(y**2)\n",
    "    \n",
    "square_cal(5)"
   ]
  },
  {
   "cell_type": "code",
   "execution_count": 65,
   "id": "1985f794",
   "metadata": {},
   "outputs": [
    {
     "name": "stdout",
     "output_type": "stream",
     "text": [
      "10000\n"
     ]
    }
   ],
   "source": [
    "def square_macine(y):\n",
    "    print(y**2)\n",
    "    \n",
    "square_macine(100)"
   ]
  },
  {
   "cell_type": "markdown",
   "id": "d83670b7",
   "metadata": {},
   "source": [
    "### Condition apply in function"
   ]
  },
  {
   "cell_type": "code",
   "execution_count": 66,
   "id": "26856804",
   "metadata": {},
   "outputs": [
    {
     "data": {
      "text/plain": [
       "'Save More'"
      ]
     },
     "execution_count": 66,
     "metadata": {},
     "output_type": "execute_result"
    }
   ],
   "source": [
    "def add_10(x):\n",
    "    \n",
    "    if x >=100:\n",
    "        x = x+10\n",
    "        return x\n",
    "    else:\n",
    "        return \"Save More\"\n",
    "    \n",
    "add_10(99)\n",
    "        "
   ]
  },
  {
   "cell_type": "code",
   "execution_count": 67,
   "id": "99217a30",
   "metadata": {},
   "outputs": [
    {
     "name": "stdout",
     "output_type": "stream",
     "text": [
      "Save More\n"
     ]
    }
   ],
   "source": [
    "def add_10(x):\n",
    "    \n",
    "    if x >=100:\n",
    "        x = x+10\n",
    "        return x\n",
    "    else:\n",
    "        return \"Save More\"\n",
    "    \n",
    "print(add_10(99))"
   ]
  },
  {
   "cell_type": "markdown",
   "id": "c235df0b",
   "metadata": {},
   "source": [
    "#### Python built in Function"
   ]
  },
  {
   "cell_type": "code",
   "execution_count": 68,
   "id": "9a15fec9",
   "metadata": {},
   "outputs": [
    {
     "data": {
      "text/plain": [
       "int"
      ]
     },
     "execution_count": 68,
     "metadata": {},
     "output_type": "execute_result"
    }
   ],
   "source": [
    "type(4)"
   ]
  },
  {
   "cell_type": "code",
   "execution_count": 69,
   "id": "1fd26509",
   "metadata": {},
   "outputs": [
    {
     "data": {
      "text/plain": [
       "float"
      ]
     },
     "execution_count": 69,
     "metadata": {},
     "output_type": "execute_result"
    }
   ],
   "source": [
    "type(4.5)"
   ]
  },
  {
   "cell_type": "code",
   "execution_count": 70,
   "id": "3537b7da",
   "metadata": {},
   "outputs": [
    {
     "data": {
      "text/plain": [
       "int"
      ]
     },
     "execution_count": 70,
     "metadata": {},
     "output_type": "execute_result"
    }
   ],
   "source": [
    "type(int('5'))"
   ]
  },
  {
   "cell_type": "code",
   "execution_count": 71,
   "id": "5ad133cc",
   "metadata": {},
   "outputs": [
    {
     "data": {
      "text/plain": [
       "str"
      ]
     },
     "execution_count": 71,
     "metadata": {},
     "output_type": "execute_result"
    }
   ],
   "source": [
    "type(str(5))"
   ]
  },
  {
   "cell_type": "code",
   "execution_count": 72,
   "id": "f8b5672a",
   "metadata": {},
   "outputs": [
    {
     "data": {
      "text/plain": [
       "100"
      ]
     },
     "execution_count": 72,
     "metadata": {},
     "output_type": "execute_result"
    }
   ],
   "source": [
    "max(10,20,50,35,80,100)"
   ]
  },
  {
   "cell_type": "code",
   "execution_count": 73,
   "id": "75884f16",
   "metadata": {},
   "outputs": [
    {
     "data": {
      "text/plain": [
       "10"
      ]
     },
     "execution_count": 73,
     "metadata": {},
     "output_type": "execute_result"
    }
   ],
   "source": [
    "min(10,20,50,35,80,100)"
   ]
  },
  {
   "cell_type": "code",
   "execution_count": 74,
   "id": "0b2c7cf9",
   "metadata": {},
   "outputs": [
    {
     "data": {
      "text/plain": [
       "50"
      ]
     },
     "execution_count": 74,
     "metadata": {},
     "output_type": "execute_result"
    }
   ],
   "source": [
    "abs(-50)  # abs- absolute, whatever negative, it return positive number, it will not process more than 1 value"
   ]
  },
  {
   "cell_type": "code",
   "execution_count": 75,
   "id": "b9da0fd2",
   "metadata": {},
   "outputs": [
    {
     "data": {
      "text/plain": [
       "4"
      ]
     },
     "execution_count": 75,
     "metadata": {},
     "output_type": "execute_result"
    }
   ],
   "source": [
    "round(3.984645)"
   ]
  },
  {
   "cell_type": "code",
   "execution_count": 76,
   "id": "8a192a0c",
   "metadata": {},
   "outputs": [
    {
     "data": {
      "text/plain": [
       "100"
      ]
     },
     "execution_count": 76,
     "metadata": {},
     "output_type": "execute_result"
    }
   ],
   "source": [
    "sum((50,50))"
   ]
  },
  {
   "cell_type": "code",
   "execution_count": 77,
   "id": "3579ccea",
   "metadata": {},
   "outputs": [
    {
     "data": {
      "text/plain": [
       "4"
      ]
     },
     "execution_count": 77,
     "metadata": {},
     "output_type": "execute_result"
    }
   ],
   "source": [
    "2**2"
   ]
  },
  {
   "cell_type": "code",
   "execution_count": 78,
   "id": "c29fab06",
   "metadata": {},
   "outputs": [
    {
     "data": {
      "text/plain": [
       "8"
      ]
     },
     "execution_count": 78,
     "metadata": {},
     "output_type": "execute_result"
    }
   ],
   "source": [
    "pow(2,3)  # 2^3 = 8"
   ]
  },
  {
   "cell_type": "code",
   "execution_count": 79,
   "id": "62f44a42",
   "metadata": {},
   "outputs": [
    {
     "data": {
      "text/plain": [
       "10"
      ]
     },
     "execution_count": 79,
     "metadata": {},
     "output_type": "execute_result"
    }
   ],
   "source": [
    "len(\"Bangladesh\")"
   ]
  },
  {
   "cell_type": "markdown",
   "id": "d70f2b8f",
   "metadata": {},
   "source": [
    "# List"
   ]
  },
  {
   "cell_type": "code",
   "execution_count": 80,
   "id": "1a7642b9",
   "metadata": {},
   "outputs": [
    {
     "name": "stdout",
     "output_type": "stream",
     "text": [
      "['Arif', 'Jony', 'Tony', 'Akash', 'Enamul']\n"
     ]
    }
   ],
   "source": [
    "user = ['Arif','Jony','Tony','Akash','Enamul']\n",
    "print(user)"
   ]
  },
  {
   "cell_type": "markdown",
   "id": "a3968d2b",
   "metadata": {},
   "source": [
    "### List Slicing"
   ]
  },
  {
   "cell_type": "code",
   "execution_count": 81,
   "id": "741b5ad0",
   "metadata": {},
   "outputs": [
    {
     "data": {
      "text/plain": [
       "'Arif'"
      ]
     },
     "execution_count": 81,
     "metadata": {},
     "output_type": "execute_result"
    }
   ],
   "source": [
    "user[0]"
   ]
  },
  {
   "cell_type": "code",
   "execution_count": 82,
   "id": "370ece9c",
   "metadata": {},
   "outputs": [
    {
     "data": {
      "text/plain": [
       "'Tony'"
      ]
     },
     "execution_count": 82,
     "metadata": {},
     "output_type": "execute_result"
    }
   ],
   "source": [
    "user[2]"
   ]
  },
  {
   "cell_type": "code",
   "execution_count": 83,
   "id": "97554c71",
   "metadata": {},
   "outputs": [
    {
     "data": {
      "text/plain": [
       "'Jony'"
      ]
     },
     "execution_count": 83,
     "metadata": {},
     "output_type": "execute_result"
    }
   ],
   "source": [
    "user[1]"
   ]
  },
  {
   "cell_type": "code",
   "execution_count": 84,
   "id": "bc14df17",
   "metadata": {},
   "outputs": [
    {
     "data": {
      "text/plain": [
       "'Akash'"
      ]
     },
     "execution_count": 84,
     "metadata": {},
     "output_type": "execute_result"
    }
   ],
   "source": [
    "user[3]"
   ]
  },
  {
   "cell_type": "code",
   "execution_count": 85,
   "id": "c9fc5c37",
   "metadata": {},
   "outputs": [
    {
     "data": {
      "text/plain": [
       "'Enamul'"
      ]
     },
     "execution_count": 85,
     "metadata": {},
     "output_type": "execute_result"
    }
   ],
   "source": [
    "user[4]"
   ]
  },
  {
   "cell_type": "code",
   "execution_count": 86,
   "id": "1ffbc278",
   "metadata": {},
   "outputs": [
    {
     "data": {
      "text/plain": [
       "'Enamul'"
      ]
     },
     "execution_count": 86,
     "metadata": {},
     "output_type": "execute_result"
    }
   ],
   "source": [
    "user[-1]"
   ]
  },
  {
   "cell_type": "code",
   "execution_count": 87,
   "id": "f35ae301",
   "metadata": {},
   "outputs": [
    {
     "data": {
      "text/plain": [
       "'Akash'"
      ]
     },
     "execution_count": 87,
     "metadata": {},
     "output_type": "execute_result"
    }
   ],
   "source": [
    "user[-2]"
   ]
  },
  {
   "cell_type": "code",
   "execution_count": 88,
   "id": "446800c1",
   "metadata": {},
   "outputs": [
    {
     "data": {
      "text/plain": [
       "'Tony'"
      ]
     },
     "execution_count": 88,
     "metadata": {},
     "output_type": "execute_result"
    }
   ],
   "source": [
    "user[-3]"
   ]
  },
  {
   "cell_type": "code",
   "execution_count": 89,
   "id": "e78c1eaa",
   "metadata": {},
   "outputs": [],
   "source": [
    "user2 = ['Rakib','San','Jeem','Peter','John']"
   ]
  },
  {
   "cell_type": "code",
   "execution_count": 90,
   "id": "03315a0b",
   "metadata": {},
   "outputs": [],
   "source": [
    "del user2[1]"
   ]
  },
  {
   "cell_type": "code",
   "execution_count": 91,
   "id": "ae11f9c4",
   "metadata": {},
   "outputs": [
    {
     "data": {
      "text/plain": [
       "['Rakib', 'Jeem', 'Peter', 'John']"
      ]
     },
     "execution_count": 91,
     "metadata": {},
     "output_type": "execute_result"
    }
   ],
   "source": [
    "user2"
   ]
  },
  {
   "cell_type": "code",
   "execution_count": 92,
   "id": "ad876ee1",
   "metadata": {},
   "outputs": [],
   "source": [
    "# Adding in list\n",
    "user2.append('James')  # add from last"
   ]
  },
  {
   "cell_type": "code",
   "execution_count": 93,
   "id": "ef8dfb18",
   "metadata": {},
   "outputs": [
    {
     "data": {
      "text/plain": [
       "['Rakib', 'Jeem', 'Peter', 'John', 'James']"
      ]
     },
     "execution_count": 93,
     "metadata": {},
     "output_type": "execute_result"
    }
   ],
   "source": [
    "user2"
   ]
  },
  {
   "cell_type": "code",
   "execution_count": 94,
   "id": "23ec6543",
   "metadata": {},
   "outputs": [],
   "source": [
    "user2.append('Thomas')"
   ]
  },
  {
   "cell_type": "code",
   "execution_count": 95,
   "id": "f62a25d9",
   "metadata": {},
   "outputs": [
    {
     "data": {
      "text/plain": [
       "['Rakib', 'Jeem', 'Peter', 'John', 'James', 'Thomas']"
      ]
     },
     "execution_count": 95,
     "metadata": {},
     "output_type": "execute_result"
    }
   ],
   "source": [
    "user2"
   ]
  },
  {
   "cell_type": "code",
   "execution_count": 96,
   "id": "02f0754b",
   "metadata": {},
   "outputs": [],
   "source": [
    "user2.extend(['Maruf','Ashraful','Riyad', 'Rifat','Mantasha','Munna'])"
   ]
  },
  {
   "cell_type": "code",
   "execution_count": 97,
   "id": "84138a99",
   "metadata": {},
   "outputs": [
    {
     "data": {
      "text/plain": [
       "['Rakib',\n",
       " 'Jeem',\n",
       " 'Peter',\n",
       " 'John',\n",
       " 'James',\n",
       " 'Thomas',\n",
       " 'Maruf',\n",
       " 'Ashraful',\n",
       " 'Riyad',\n",
       " 'Rifat',\n",
       " 'Mantasha',\n",
       " 'Munna']"
      ]
     },
     "execution_count": 97,
     "metadata": {},
     "output_type": "execute_result"
    }
   ],
   "source": [
    "user2"
   ]
  },
  {
   "cell_type": "code",
   "execution_count": 98,
   "id": "ece36ed4",
   "metadata": {},
   "outputs": [
    {
     "data": {
      "text/plain": [
       "12"
      ]
     },
     "execution_count": 98,
     "metadata": {},
     "output_type": "execute_result"
    }
   ],
   "source": [
    "len(user2)"
   ]
  },
  {
   "cell_type": "code",
   "execution_count": 99,
   "id": "9f345bef",
   "metadata": {},
   "outputs": [
    {
     "data": {
      "text/plain": [
       "'i'"
      ]
     },
     "execution_count": 99,
     "metadata": {},
     "output_type": "execute_result"
    }
   ],
   "source": [
    "a = 'Asif'\n",
    "a\n",
    "len(a)\n",
    "a[2]\n",
    "# a.append('r') # will return an error"
   ]
  },
  {
   "cell_type": "code",
   "execution_count": 100,
   "id": "e07fc8b7",
   "metadata": {},
   "outputs": [
    {
     "data": {
      "text/plain": [
       "'s'"
      ]
     },
     "execution_count": 100,
     "metadata": {},
     "output_type": "execute_result"
    }
   ],
   "source": [
    "a[1]  # tuple"
   ]
  },
  {
   "cell_type": "code",
   "execution_count": 101,
   "id": "282fd4da",
   "metadata": {},
   "outputs": [
    {
     "data": {
      "text/plain": [
       "['Rakib',\n",
       " 'Jeem',\n",
       " 'Peter',\n",
       " 'John',\n",
       " 'James',\n",
       " 'Thomas',\n",
       " 'Maruf',\n",
       " 'Ashraful',\n",
       " 'Riyad',\n",
       " 'Rifat',\n",
       " 'Mantasha',\n",
       " 'Munna']"
      ]
     },
     "execution_count": 101,
     "metadata": {},
     "output_type": "execute_result"
    }
   ],
   "source": [
    "user2"
   ]
  },
  {
   "cell_type": "code",
   "execution_count": 102,
   "id": "065fb160",
   "metadata": {},
   "outputs": [
    {
     "data": {
      "text/plain": [
       "['Rakib', 'Jeem', 'Peter', 'John']"
      ]
     },
     "execution_count": 102,
     "metadata": {},
     "output_type": "execute_result"
    }
   ],
   "source": [
    "# start:end:jump\n",
    "\n",
    "user2 [0:4]  # start:end, exclude last one, first ZERO is Optional"
   ]
  },
  {
   "cell_type": "code",
   "execution_count": 103,
   "id": "942e2f62",
   "metadata": {},
   "outputs": [
    {
     "data": {
      "text/plain": [
       "['Rakib', 'Jeem', 'Peter', 'John']"
      ]
     },
     "execution_count": 103,
     "metadata": {},
     "output_type": "execute_result"
    }
   ],
   "source": [
    "user2[:4] # alternavie"
   ]
  },
  {
   "cell_type": "code",
   "execution_count": 104,
   "id": "3278f69e",
   "metadata": {},
   "outputs": [
    {
     "data": {
      "text/plain": [
       "['Peter', 'John']"
      ]
     },
     "execution_count": 104,
     "metadata": {},
     "output_type": "execute_result"
    }
   ],
   "source": [
    "user2 [2:4]"
   ]
  },
  {
   "cell_type": "code",
   "execution_count": 105,
   "id": "deeedb73",
   "metadata": {},
   "outputs": [
    {
     "data": {
      "text/plain": [
       "['John', 'James', 'Thomas']"
      ]
     },
     "execution_count": 105,
     "metadata": {},
     "output_type": "execute_result"
    }
   ],
   "source": [
    "user2[3:6]"
   ]
  },
  {
   "cell_type": "code",
   "execution_count": 106,
   "id": "0d6b0b34",
   "metadata": {},
   "outputs": [
    {
     "data": {
      "text/plain": [
       "['Peter', 'James', 'Maruf']"
      ]
     },
     "execution_count": 106,
     "metadata": {},
     "output_type": "execute_result"
    }
   ],
   "source": [
    "user2[2:7:2]  # start:end:jump, jump or step size 2"
   ]
  },
  {
   "cell_type": "code",
   "execution_count": 107,
   "id": "34cf4825",
   "metadata": {},
   "outputs": [
    {
     "data": {
      "text/plain": [
       "['Rakib',\n",
       " 'Jeem',\n",
       " 'Peter',\n",
       " 'John',\n",
       " 'James',\n",
       " 'Thomas',\n",
       " 'Maruf',\n",
       " 'Ashraful',\n",
       " 'Riyad',\n",
       " 'Rifat',\n",
       " 'Mantasha',\n",
       " 'Munna']"
      ]
     },
     "execution_count": 107,
     "metadata": {},
     "output_type": "execute_result"
    }
   ],
   "source": [
    "user2"
   ]
  },
  {
   "cell_type": "code",
   "execution_count": 108,
   "id": "0728fb22",
   "metadata": {},
   "outputs": [
    {
     "data": {
      "text/plain": [
       "['Rakib', 'Peter', 'James', 'Maruf', 'Riyad', 'Mantasha']"
      ]
     },
     "execution_count": 108,
     "metadata": {},
     "output_type": "execute_result"
    }
   ],
   "source": [
    "user2[::2]  # Star:End:Jump , 0- start from first, 0-default upto last and step size 2"
   ]
  },
  {
   "cell_type": "code",
   "execution_count": 109,
   "id": "db653a7d",
   "metadata": {},
   "outputs": [
    {
     "data": {
      "text/plain": [
       "['Rakib', 'Peter', 'James', 'Maruf']"
      ]
     },
     "execution_count": 109,
     "metadata": {},
     "output_type": "execute_result"
    }
   ],
   "source": [
    "user2[:7:2] # start:end:jump, upto to Ashrafu"
   ]
  },
  {
   "cell_type": "code",
   "execution_count": 110,
   "id": "5873ae09",
   "metadata": {},
   "outputs": [
    {
     "data": {
      "text/plain": [
       "['John', 'Ashraful', 'Munna']"
      ]
     },
     "execution_count": 110,
     "metadata": {},
     "output_type": "execute_result"
    }
   ],
   "source": [
    "user2[3::4] # start from 3, upto last & step size 4"
   ]
  },
  {
   "cell_type": "code",
   "execution_count": 111,
   "id": "ee6bed6e",
   "metadata": {},
   "outputs": [
    {
     "data": {
      "text/plain": [
       "['Padma', 'Meghna']"
      ]
     },
     "execution_count": 111,
     "metadata": {},
     "output_type": "execute_result"
    }
   ],
   "source": [
    "river = ['Padma', 'Meghna', 'Jamuna']\n",
    "river[:2] # return first two"
   ]
  },
  {
   "cell_type": "code",
   "execution_count": 112,
   "id": "5b878d46",
   "metadata": {},
   "outputs": [
    {
     "data": {
      "text/plain": [
       "['Padma', 'Meghna', 'Jamuna']"
      ]
     },
     "execution_count": 112,
     "metadata": {},
     "output_type": "execute_result"
    }
   ],
   "source": [
    "river[:3] # last one not excluded "
   ]
  },
  {
   "cell_type": "code",
   "execution_count": 113,
   "id": "c1157038",
   "metadata": {},
   "outputs": [],
   "source": [
    "# Replace Jamumna by Titas\n",
    "river[2] = 'Titas'  # Jamuna's index is 2"
   ]
  },
  {
   "cell_type": "code",
   "execution_count": 114,
   "id": "7f50c7f9",
   "metadata": {},
   "outputs": [
    {
     "data": {
      "text/plain": [
       "['Padma', 'Meghna', 'Titas']"
      ]
     },
     "execution_count": 114,
     "metadata": {},
     "output_type": "execute_result"
    }
   ],
   "source": [
    "river"
   ]
  },
  {
   "cell_type": "code",
   "execution_count": 115,
   "id": "2b6f5b1c",
   "metadata": {},
   "outputs": [
    {
     "data": {
      "text/plain": [
       "['Padma', 'Karnaphuli', 'Meghna', 'Titas']"
      ]
     },
     "execution_count": 115,
     "metadata": {},
     "output_type": "execute_result"
    }
   ],
   "source": [
    "river.insert(1,'Karnaphuli')\n",
    "river"
   ]
  },
  {
   "cell_type": "code",
   "execution_count": 116,
   "id": "0ddea604",
   "metadata": {},
   "outputs": [],
   "source": [
    "river.insert(3,'Surma')"
   ]
  },
  {
   "cell_type": "code",
   "execution_count": 117,
   "id": "ea1186df",
   "metadata": {},
   "outputs": [
    {
     "data": {
      "text/plain": [
       "['Padma', 'Karnaphuli', 'Meghna', 'Surma', 'Titas']"
      ]
     },
     "execution_count": 117,
     "metadata": {},
     "output_type": "execute_result"
    }
   ],
   "source": [
    "river"
   ]
  },
  {
   "cell_type": "code",
   "execution_count": 118,
   "id": "2f9c7489",
   "metadata": {},
   "outputs": [
    {
     "data": {
      "text/plain": [
       "['Rakib',\n",
       " 'Jeem',\n",
       " 'Peter',\n",
       " 'John',\n",
       " 'James',\n",
       " 'Thomas',\n",
       " 'Maruf',\n",
       " 'Ashraful',\n",
       " 'Riyad',\n",
       " 'Rifat',\n",
       " 'Mantasha',\n",
       " 'Munna']"
      ]
     },
     "execution_count": 118,
     "metadata": {},
     "output_type": "execute_result"
    }
   ],
   "source": [
    "user2"
   ]
  },
  {
   "cell_type": "code",
   "execution_count": 119,
   "id": "20006aac",
   "metadata": {},
   "outputs": [],
   "source": [
    "# Combing user2 with river\n",
    "list_1 = [user2,river]"
   ]
  },
  {
   "cell_type": "code",
   "execution_count": 120,
   "id": "a618f9c8",
   "metadata": {},
   "outputs": [
    {
     "data": {
      "text/plain": [
       "[['Rakib',\n",
       "  'Jeem',\n",
       "  'Peter',\n",
       "  'John',\n",
       "  'James',\n",
       "  'Thomas',\n",
       "  'Maruf',\n",
       "  'Ashraful',\n",
       "  'Riyad',\n",
       "  'Rifat',\n",
       "  'Mantasha',\n",
       "  'Munna'],\n",
       " ['Padma', 'Karnaphuli', 'Meghna', 'Surma', 'Titas']]"
      ]
     },
     "execution_count": 120,
     "metadata": {},
     "output_type": "execute_result"
    }
   ],
   "source": [
    "list_1  # at combination return 2D array, Now there are 2 elements of list_1. 0 = user2, 1 = river"
   ]
  },
  {
   "cell_type": "code",
   "execution_count": 121,
   "id": "4a5594b1",
   "metadata": {},
   "outputs": [
    {
     "data": {
      "text/plain": [
       "['Padma', 'Karnaphuli', 'Meghna', 'Surma', 'Titas']"
      ]
     },
     "execution_count": 121,
     "metadata": {},
     "output_type": "execute_result"
    }
   ],
   "source": [
    "list_1[1]"
   ]
  },
  {
   "cell_type": "code",
   "execution_count": 122,
   "id": "16def05c",
   "metadata": {},
   "outputs": [
    {
     "data": {
      "text/plain": [
       "'Meghna'"
      ]
     },
     "execution_count": 122,
     "metadata": {},
     "output_type": "execute_result"
    }
   ],
   "source": [
    "# now accessing Meghna\n",
    "list_1[1][2]"
   ]
  },
  {
   "cell_type": "code",
   "execution_count": 123,
   "id": "00702449",
   "metadata": {},
   "outputs": [
    {
     "data": {
      "text/plain": [
       "'Peter'"
      ]
     },
     "execution_count": 123,
     "metadata": {},
     "output_type": "execute_result"
    }
   ],
   "source": [
    "# Accesing Peter\n",
    "list_1[0][2]"
   ]
  },
  {
   "cell_type": "code",
   "execution_count": 124,
   "id": "97764dd3",
   "metadata": {},
   "outputs": [
    {
     "data": {
      "text/plain": [
       "'Padma'"
      ]
     },
     "execution_count": 124,
     "metadata": {},
     "output_type": "execute_result"
    }
   ],
   "source": [
    "# Accesing Padma\n",
    "list_1[1][0]"
   ]
  },
  {
   "cell_type": "code",
   "execution_count": 126,
   "id": "bea7252f",
   "metadata": {},
   "outputs": [
    {
     "data": {
      "text/plain": [
       "'Munna'"
      ]
     },
     "execution_count": 126,
     "metadata": {},
     "output_type": "execute_result"
    }
   ],
   "source": [
    "# Accesing Munna\n",
    "list_1[0][-1]"
   ]
  },
  {
   "cell_type": "code",
   "execution_count": null,
   "id": "de7ad76f",
   "metadata": {},
   "outputs": [],
   "source": []
  }
 ],
 "metadata": {
  "kernelspec": {
   "display_name": "Python 3 (ipykernel)",
   "language": "python",
   "name": "python3"
  },
  "language_info": {
   "codemirror_mode": {
    "name": "ipython",
    "version": 3
   },
   "file_extension": ".py",
   "mimetype": "text/x-python",
   "name": "python",
   "nbconvert_exporter": "python",
   "pygments_lexer": "ipython3",
   "version": "3.9.7"
  }
 },
 "nbformat": 4,
 "nbformat_minor": 5
}
