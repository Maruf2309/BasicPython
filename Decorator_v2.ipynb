{
 "cells": [
  {
   "cell_type": "markdown",
   "id": "0d071a58",
   "metadata": {},
   "source": [
    "# Decorator_v2"
   ]
  },
  {
   "cell_type": "markdown",
   "id": "a0c1bf20",
   "metadata": {},
   "source": [
    "### Excericse 1: Placing Order"
   ]
  },
  {
   "cell_type": "code",
   "execution_count": 1,
   "id": "3c82f281",
   "metadata": {},
   "outputs": [],
   "source": [
    "# a : loggedIn\n",
    "def loggedIn(function):\n",
    "    logged_in = True\n",
    "    \n",
    "    # define the inner function\n",
    "    def wrapper(*args, **kwagrs):\n",
    "        if logged_in:\n",
    "            f = function(*args, **kwargs)\n",
    "            return f\n",
    "        else:\n",
    "            return False\n",
    "    return wrapper"
   ]
  },
  {
   "cell_type": "code",
   "execution_count": 5,
   "id": "4a99afd1",
   "metadata": {},
   "outputs": [
    {
     "name": "stdout",
     "output_type": "stream",
     "text": [
      "Order : Phone\n",
      "Order placed succesfully !\n"
     ]
    }
   ],
   "source": [
    "# b: now define a function to order something\n",
    "\n",
    "def order(product_name):           # def a function 'order' which will take product name\n",
    "    print(\"Order :\", product_name) # print1\n",
    "    print(\"Order placed succesfully !\")   # print2\n",
    "    \n",
    "# calling funciton\n",
    "order('Phone')"
   ]
  },
  {
   "cell_type": "markdown",
   "id": "ab1d1e7f",
   "metadata": {},
   "source": [
    "1. This is the normal approach where block a han't influence over block b, while block b is working normal without decorator concept\n"
   ]
  },
  {
   "cell_type": "markdown",
   "id": "81c85be1",
   "metadata": {},
   "source": [
    "### Excercise 2: Placing Order"
   ]
  },
  {
   "cell_type": "code",
   "execution_count": 7,
   "id": "671f123d",
   "metadata": {},
   "outputs": [],
   "source": [
    "# a : loggedIn\n",
    "def loggedIn(function):\n",
    "    global logged_in    # defing to search outside of the function\n",
    "    \n",
    "    # define the inner function\n",
    "    def wrapper(*args, **kwargs):\n",
    "        if logged_in:\n",
    "            f = function(*args, **kwargs)\n",
    "            return f\n",
    "        else:\n",
    "            return False\n",
    "    return wrapper\n",
    "        "
   ]
  },
  {
   "cell_type": "code",
   "execution_count": 8,
   "id": "4cee153d",
   "metadata": {},
   "outputs": [
    {
     "name": "stdout",
     "output_type": "stream",
     "text": [
      "Order : Phone\n",
      "Order placed succesfully !\n"
     ]
    }
   ],
   "source": [
    "# b: now define a function to order something\n",
    "\n",
    "logged_in = False                  # user not logged in the system\n",
    "def order(product_name):           # def a function 'order' which will take product name\n",
    "    print(\"Order :\", product_name) # print1\n",
    "    print(\"Order placed succesfully !\")   # print2\n",
    "    \n",
    "# calling funciton\n",
    "order('Phone')"
   ]
  },
  {
   "cell_type": "code",
   "execution_count": null,
   "id": "5d0d1526",
   "metadata": {},
   "outputs": [],
   "source": []
  },
  {
   "cell_type": "code",
   "execution_count": null,
   "id": "ed5b18d9",
   "metadata": {},
   "outputs": [],
   "source": []
  },
  {
   "cell_type": "code",
   "execution_count": null,
   "id": "9e1fb22a",
   "metadata": {},
   "outputs": [],
   "source": []
  }
 ],
 "metadata": {
  "kernelspec": {
   "display_name": "Python 3 (ipykernel)",
   "language": "python",
   "name": "python3"
  },
  "language_info": {
   "codemirror_mode": {
    "name": "ipython",
    "version": 3
   },
   "file_extension": ".py",
   "mimetype": "text/x-python",
   "name": "python",
   "nbconvert_exporter": "python",
   "pygments_lexer": "ipython3",
   "version": "3.10.7"
  }
 },
 "nbformat": 4,
 "nbformat_minor": 5
}
