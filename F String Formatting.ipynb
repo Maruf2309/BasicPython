{
 "cells": [
  {
   "cell_type": "markdown",
   "id": "b2e1eb17",
   "metadata": {},
   "source": [
    "## F String Formatting"
   ]
  },
  {
   "cell_type": "code",
   "execution_count": 5,
   "id": "8db47738",
   "metadata": {},
   "outputs": [
    {
     "name": "stdout",
     "output_type": "stream",
     "text": [
      "My Name is Sohel & My Age is 33\n"
     ]
    }
   ],
   "source": [
    "a = \"My Name is Sohel & My Age is 33\"\n",
    "print(a)"
   ]
  },
  {
   "cell_type": "code",
   "execution_count": 6,
   "id": "ccf46c77",
   "metadata": {},
   "outputs": [
    {
     "data": {
      "text/plain": [
       "'My Name is Sohel & My Age is 33'"
      ]
     },
     "execution_count": 6,
     "metadata": {},
     "output_type": "execute_result"
    }
   ],
   "source": [
    "a = \"My Name is Sohel & My Age is 33\"\n",
    "a"
   ]
  },
  {
   "cell_type": "code",
   "execution_count": 8,
   "id": "1ad17d24",
   "metadata": {},
   "outputs": [
    {
     "name": "stdout",
     "output_type": "stream",
     "text": [
      "My Name is Sujan Mia & My Age is 35\n"
     ]
    }
   ],
   "source": [
    "# Substitution\n",
    "a = \"My Name is %s & My Age is %d\"\n",
    "print(a %(\"Sujan Mia\", 35))"
   ]
  },
  {
   "cell_type": "code",
   "execution_count": 9,
   "id": "dce56a28",
   "metadata": {},
   "outputs": [
    {
     "name": "stdout",
     "output_type": "stream",
     "text": [
      "My name is Mitu and Age is 28\n"
     ]
    }
   ],
   "source": [
    "# Format\n",
    "name = \"Munna\"\n",
    "age = 23\n",
    "a = \"My name is {:s} and Age is {:d}\"\n",
    "print(a.format(\"Mitu\", 28))"
   ]
  },
  {
   "cell_type": "code",
   "execution_count": 10,
   "id": "a4e5d26e",
   "metadata": {},
   "outputs": [
    {
     "name": "stdout",
     "output_type": "stream",
     "text": [
      "My name is Munna and Age is 23\n"
     ]
    }
   ],
   "source": [
    "print(a.format(name, age))"
   ]
  },
  {
   "cell_type": "code",
   "execution_count": 13,
   "id": "e1898c27",
   "metadata": {},
   "outputs": [
    {
     "name": "stdout",
     "output_type": "stream",
     "text": [
      "My name is Kamal, and age 50\n"
     ]
    }
   ],
   "source": [
    "#f-string formating\n",
    "#a=\"My name is Kamal and age 50\"\n",
    "\n",
    "name = \"Kamal\"\n",
    "age = 50\n",
    "weight = 65\n",
    "\n",
    "a = f\"My name is {name}, and age {age}\"\n",
    "print(a)"
   ]
  },
  {
   "cell_type": "code",
   "execution_count": 17,
   "id": "a206e833",
   "metadata": {},
   "outputs": [
    {
     "name": "stdout",
     "output_type": "stream",
     "text": [
      "Total          10          and price=100\n",
      "quantity*price=1000 \n"
     ]
    }
   ],
   "source": [
    "quantity=10\n",
    "price=100\n",
    "\n",
    "#print(quantity*price)\n",
    "\n",
    "#a=f\"Total {quantity=} {quantity:<20} and {price=} \\n {quantity*price=}\" # Total price=1000\n",
    "\n",
    "\n",
    "a = f\"Total {quantity:^20} and {price=}\\n{quantity*price=} \"  # Total Price\n",
    "\n",
    "print(a)\n"
   ]
  },
  {
   "cell_type": "code",
   "execution_count": 18,
   "id": "4a999d42",
   "metadata": {},
   "outputs": [
    {
     "name": "stdout",
     "output_type": "stream",
     "text": [
      "My Name is Kamal and age 5.200000e+01\n"
     ]
    }
   ],
   "source": [
    "weight=52\n",
    "\n",
    "a=f\"My Name is {name} and age {weight:e}\"\n",
    "print(a)"
   ]
  }
 ],
 "metadata": {
  "kernelspec": {
   "display_name": "Python 3 (ipykernel)",
   "language": "python",
   "name": "python3"
  },
  "language_info": {
   "codemirror_mode": {
    "name": "ipython",
    "version": 3
   },
   "file_extension": ".py",
   "mimetype": "text/x-python",
   "name": "python",
   "nbconvert_exporter": "python",
   "pygments_lexer": "ipython3",
   "version": "3.9.12"
  }
 },
 "nbformat": 4,
 "nbformat_minor": 5
}
