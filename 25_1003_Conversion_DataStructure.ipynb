{
 "cells": [
  {
   "cell_type": "markdown",
   "id": "ec09d252",
   "metadata": {},
   "source": [
    "# Conversion/ Type Conversion / Object Conversion"
   ]
  },
  {
   "cell_type": "markdown",
   "id": "590cf45a",
   "metadata": {},
   "source": [
    "- Ref: 25_2003"
   ]
  },
  {
   "cell_type": "code",
   "execution_count": 1,
   "id": "4dff61ba",
   "metadata": {},
   "outputs": [
    {
     "data": {
      "text/plain": [
       "(2, 3, 5, 7, 8)"
      ]
     },
     "execution_count": 1,
     "metadata": {},
     "output_type": "execute_result"
    }
   ],
   "source": [
    "# List\n",
    "list = (2, 3, 5, 7, 8)\n",
    "list"
   ]
  },
  {
   "cell_type": "code",
   "execution_count": 2,
   "id": "e5604c79",
   "metadata": {},
   "outputs": [
    {
     "data": {
      "text/plain": [
       "(2, 3, 5, 7, 8)"
      ]
     },
     "execution_count": 2,
     "metadata": {},
     "output_type": "execute_result"
    }
   ],
   "source": [
    "# Conversion : list to Tuple\n",
    "tuple(list)"
   ]
  },
  {
   "cell_type": "code",
   "execution_count": 3,
   "id": "a4f5bc51",
   "metadata": {},
   "outputs": [
    {
     "ename": "TypeError",
     "evalue": "cannot convert dictionary update sequence element #0 to a sequence",
     "output_type": "error",
     "traceback": [
      "\u001b[1;31m---------------------------------------------------------------------------\u001b[0m",
      "\u001b[1;31mTypeError\u001b[0m                                 Traceback (most recent call last)",
      "\u001b[1;32m~\\AppData\\Local\\Temp/ipykernel_8484/3245863152.py\u001b[0m in \u001b[0;36m<module>\u001b[1;34m\u001b[0m\n\u001b[0;32m      1\u001b[0m \u001b[1;31m# Conversion : list to Dictionary (Error)\u001b[0m\u001b[1;33m\u001b[0m\u001b[1;33m\u001b[0m\u001b[0m\n\u001b[1;32m----> 2\u001b[1;33m \u001b[0mdict\u001b[0m\u001b[1;33m(\u001b[0m\u001b[0mlist\u001b[0m\u001b[1;33m)\u001b[0m\u001b[1;33m\u001b[0m\u001b[1;33m\u001b[0m\u001b[0m\n\u001b[0m",
      "\u001b[1;31mTypeError\u001b[0m: cannot convert dictionary update sequence element #0 to a sequence"
     ]
    }
   ],
   "source": [
    "# Conversion : list to Dictionary (Error), dict required key:value pair\n",
    "dict(list)"
   ]
  },
  {
   "cell_type": "code",
   "execution_count": 6,
   "id": "f39fa2a5",
   "metadata": {},
   "outputs": [
    {
     "ename": "TypeError",
     "evalue": "'type' object is not iterable",
     "output_type": "error",
     "traceback": [
      "\u001b[1;31m---------------------------------------------------------------------------\u001b[0m",
      "\u001b[1;31mTypeError\u001b[0m                                 Traceback (most recent call last)",
      "\u001b[1;32m~\\AppData\\Local\\Temp/ipykernel_8484/3992594633.py\u001b[0m in \u001b[0;36m<module>\u001b[1;34m\u001b[0m\n\u001b[1;32m----> 1\u001b[1;33m \u001b[0mset\u001b[0m\u001b[1;33m(\u001b[0m\u001b[0mtuple\u001b[0m\u001b[1;33m)\u001b[0m\u001b[1;33m\u001b[0m\u001b[1;33m\u001b[0m\u001b[0m\n\u001b[0m",
      "\u001b[1;31mTypeError\u001b[0m: 'type' object is not iterable"
     ]
    }
   ],
   "source": [
    "set(tuple) # tuple is immutable"
   ]
  },
  {
   "cell_type": "code",
   "execution_count": 7,
   "id": "7ce85f23",
   "metadata": {},
   "outputs": [
    {
     "data": {
      "text/plain": [
       "{2, 3, 5, 7, 8}"
      ]
     },
     "execution_count": 7,
     "metadata": {},
     "output_type": "execute_result"
    }
   ],
   "source": [
    "# Convert: list to set\n",
    "set(list)"
   ]
  },
  {
   "cell_type": "markdown",
   "id": "8fe555e0",
   "metadata": {},
   "source": [
    "- This way we can convert data between each other except dict, but we can do in different way"
   ]
  },
  {
   "cell_type": "code",
   "execution_count": 10,
   "id": "774d88a2",
   "metadata": {},
   "outputs": [
    {
     "data": {
      "text/plain": [
       "{1: 1, 2: 4, 3: 3}"
      ]
     },
     "execution_count": 10,
     "metadata": {},
     "output_type": "execute_result"
    }
   ],
   "source": [
    "# Conversion: Dict by tuple inside tuple\n",
    "dict(((1,1), (2,4), (3,3)))   # tuple inside tuple(e.g key & value), This way we can do this"
   ]
  },
  {
   "cell_type": "markdown",
   "id": "e9490e5d",
   "metadata": {},
   "source": [
    "- In Dict: We cannot do indexcing, but we can iterate over it(loop)"
   ]
  },
  {
   "cell_type": "code",
   "execution_count": 14,
   "id": "5faef77c",
   "metadata": {},
   "outputs": [
    {
     "data": {
      "text/plain": [
       "{1: 1, 2: 4, 3: 3}"
      ]
     },
     "execution_count": 14,
     "metadata": {},
     "output_type": "execute_result"
    }
   ],
   "source": [
    "dict([[1,1], [2,4], [3,3]]) # This is also possibe, but we prefer tuple because its immutable, new value cant add into it, where as in set new value can be added"
   ]
  },
  {
   "cell_type": "markdown",
   "id": "0cf7dcdb",
   "metadata": {},
   "source": [
    "- tuple is preferable, because of immutable, which is secured for mapping"
   ]
  }
 ],
 "metadata": {
  "kernelspec": {
   "display_name": "Python 3 (ipykernel)",
   "language": "python",
   "name": "python3"
  },
  "language_info": {
   "codemirror_mode": {
    "name": "ipython",
    "version": 3
   },
   "file_extension": ".py",
   "mimetype": "text/x-python",
   "name": "python",
   "nbconvert_exporter": "python",
   "pygments_lexer": "ipython3",
   "version": "3.9.12"
  }
 },
 "nbformat": 4,
 "nbformat_minor": 5
}
