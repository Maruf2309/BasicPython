{
 "cells": [
  {
   "cell_type": "markdown",
   "id": "bf6551e6",
   "metadata": {},
   "source": [
    "# Data Structure"
   ]
  },
  {
   "cell_type": "markdown",
   "id": "0aac0368",
   "metadata": {},
   "source": [
    "- Ref 25_1001_list\n",
    "- Ref 25_1002_Nested Data Structure\n",
    "- Ref 25_1003_Conversion"
   ]
  },
  {
   "cell_type": "markdown",
   "id": "aa7e39ae",
   "metadata": {},
   "source": [
    "https://github.com/Maruf2309"
   ]
  },
  {
   "cell_type": "markdown",
   "id": "2a4ab7a7",
   "metadata": {},
   "source": [
    "Maruf Hossain"
   ]
  },
  {
   "cell_type": "markdown",
   "id": "84e90dda",
   "metadata": {},
   "source": [
    "\n",
    "\n",
    "### List Characteristics"
   ]
  },
  {
   "cell_type": "markdown",
   "id": "6ba711d5",
   "metadata": {},
   "source": [
    "- Mutable/ Changeable\n",
    "- Ordered Sequence\n",
    "- Allow Duplicate\n",
    "- Accessible\n",
    "- Different kind of values can be stored\n",
    "- Use Square Bracked [ ] with comma seperation"
   ]
  },
  {
   "cell_type": "markdown",
   "id": "7208af34",
   "metadata": {},
   "source": [
    "### Topic"
   ]
  },
  {
   "cell_type": "markdown",
   "id": "e92f796a",
   "metadata": {},
   "source": [
    "- List Access/ Indexcing\n",
    "- List Method (Append, Extend, Delete, Pop, Remove, Replace, Insert, count, index, Reverse, len, sort, clear, copy )\n",
    "- Shallow Copy Vs Deep Copy\n",
    "- List Constructor\n",
    "- input list from user\n",
    "- List Pairing\n",
    "- indexcing pair list\n",
    "- Multiple values update together\n",
    "- Set\n",
    "- Dictionary\n",
    "- Nested Data Structure\n",
    "- Object/ Type Conversion"
   ]
  },
  {
   "cell_type": "code",
   "execution_count": 1,
   "id": "532b29a8",
   "metadata": {},
   "outputs": [],
   "source": [
    "l1 = [2,3,4,5,8]"
   ]
  },
  {
   "cell_type": "code",
   "execution_count": 2,
   "id": "efd1d723",
   "metadata": {},
   "outputs": [
    {
     "data": {
      "text/plain": [
       "[2, 3, 4, 5, 8]"
      ]
     },
     "execution_count": 2,
     "metadata": {},
     "output_type": "execute_result"
    }
   ],
   "source": [
    "l1"
   ]
  },
  {
   "cell_type": "code",
   "execution_count": 3,
   "id": "f5d6b0b8",
   "metadata": {},
   "outputs": [
    {
     "data": {
      "text/plain": [
       "list"
      ]
     },
     "execution_count": 3,
     "metadata": {},
     "output_type": "execute_result"
    }
   ],
   "source": [
    "type(l1)"
   ]
  },
  {
   "cell_type": "markdown",
   "id": "020e0205",
   "metadata": {},
   "source": [
    "## Test 2: List"
   ]
  },
  {
   "cell_type": "code",
   "execution_count": 101,
   "id": "a905909a",
   "metadata": {},
   "outputs": [
    {
     "data": {
      "text/plain": [
       "[4, 4.55, 3, 3, 6, 8, 2, True, 'Str', (3+5j)]"
      ]
     },
     "execution_count": 101,
     "metadata": {},
     "output_type": "execute_result"
    }
   ],
   "source": [
    "data = [4, 4.55, 3, 3, 6, 8, 2, True, \"Str\", 3+5j]\n",
    "data"
   ]
  },
  {
   "cell_type": "code",
   "execution_count": 105,
   "id": "b25beeee",
   "metadata": {},
   "outputs": [
    {
     "data": {
      "text/plain": [
       "[(3+5j), 'Str', True, 2, 8, 6, 3, 3, 4.55, 4]"
      ]
     },
     "execution_count": 105,
     "metadata": {},
     "output_type": "execute_result"
    }
   ],
   "source": [
    "# Indexcing\n",
    "data[0]\n",
    "data[-1]  # last one\n",
    "data[::] # all\n",
    "data[::-1]  # reverse"
   ]
  },
  {
   "cell_type": "code",
   "execution_count": 107,
   "id": "122250c9",
   "metadata": {},
   "outputs": [
    {
     "data": {
      "text/plain": [
       "[44, 4.55, 3, 3, 6, 8, 2, True, 'Str', (3+5j)]"
      ]
     },
     "execution_count": 107,
     "metadata": {},
     "output_type": "execute_result"
    }
   ],
   "source": [
    "# update\n",
    "data[0] = 44  # first index updatated by 44\n",
    "data"
   ]
  },
  {
   "cell_type": "code",
   "execution_count": 108,
   "id": "34a4e744",
   "metadata": {},
   "outputs": [
    {
     "data": {
      "text/plain": [
       "[44, 4.55, 10, 10, 6, 8, 2, True, 'Str', (3+5j)]"
      ]
     },
     "execution_count": 108,
     "metadata": {},
     "output_type": "execute_result"
    }
   ],
   "source": [
    "data[2:4] = 10,10\n",
    "data"
   ]
  },
  {
   "cell_type": "markdown",
   "id": "afe4d50c",
   "metadata": {},
   "source": [
    "## Indexing / List Slicing"
   ]
  },
  {
   "cell_type": "code",
   "execution_count": 4,
   "id": "bf05b89a",
   "metadata": {},
   "outputs": [
    {
     "data": {
      "text/plain": [
       "2"
      ]
     },
     "execution_count": 4,
     "metadata": {},
     "output_type": "execute_result"
    }
   ],
   "source": [
    "l1[0]"
   ]
  },
  {
   "cell_type": "code",
   "execution_count": 5,
   "id": "d78ca7fa",
   "metadata": {},
   "outputs": [
    {
     "data": {
      "text/plain": [
       "4"
      ]
     },
     "execution_count": 5,
     "metadata": {},
     "output_type": "execute_result"
    }
   ],
   "source": [
    "l1[2]"
   ]
  },
  {
   "cell_type": "code",
   "execution_count": 6,
   "id": "58dd2489",
   "metadata": {},
   "outputs": [
    {
     "data": {
      "text/plain": [
       "8"
      ]
     },
     "execution_count": 6,
     "metadata": {},
     "output_type": "execute_result"
    }
   ],
   "source": [
    "l1[-1] # Negative Indexing"
   ]
  },
  {
   "cell_type": "code",
   "execution_count": 7,
   "id": "c2689738",
   "metadata": {},
   "outputs": [
    {
     "data": {
      "text/plain": [
       "[2, 3]"
      ]
     },
     "execution_count": 7,
     "metadata": {},
     "output_type": "execute_result"
    }
   ],
   "source": [
    "l1[0:2]"
   ]
  },
  {
   "cell_type": "code",
   "execution_count": 8,
   "id": "80b86457",
   "metadata": {},
   "outputs": [
    {
     "data": {
      "text/plain": [
       "[2, 3, 4]"
      ]
     },
     "execution_count": 8,
     "metadata": {},
     "output_type": "execute_result"
    }
   ],
   "source": [
    "l1[0:3]"
   ]
  },
  {
   "cell_type": "code",
   "execution_count": 9,
   "id": "3744765e",
   "metadata": {},
   "outputs": [
    {
     "data": {
      "text/plain": [
       "[2, 3, 4, 5, 8]"
      ]
     },
     "execution_count": 9,
     "metadata": {},
     "output_type": "execute_result"
    }
   ],
   "source": [
    "l1[0:5]"
   ]
  },
  {
   "cell_type": "code",
   "execution_count": 10,
   "id": "214eb355",
   "metadata": {},
   "outputs": [
    {
     "data": {
      "text/plain": [
       "[4, 5]"
      ]
     },
     "execution_count": 10,
     "metadata": {},
     "output_type": "execute_result"
    }
   ],
   "source": [
    "l1[2:4]  # When Accessing 4, 5"
   ]
  },
  {
   "cell_type": "code",
   "execution_count": 11,
   "id": "ea1188d3",
   "metadata": {},
   "outputs": [
    {
     "data": {
      "text/plain": [
       "[5, 8]"
      ]
     },
     "execution_count": 11,
     "metadata": {},
     "output_type": "execute_result"
    }
   ],
   "source": [
    "l1[3:5] # When Accessing 5, 8"
   ]
  },
  {
   "cell_type": "code",
   "execution_count": 12,
   "id": "c728bca9",
   "metadata": {},
   "outputs": [
    {
     "data": {
      "text/plain": [
       "[3, 4]"
      ]
     },
     "execution_count": 12,
     "metadata": {},
     "output_type": "execute_result"
    }
   ],
   "source": [
    "l1[1:3]"
   ]
  },
  {
   "cell_type": "code",
   "execution_count": 13,
   "id": "f6e8c481",
   "metadata": {},
   "outputs": [
    {
     "data": {
      "text/plain": [
       "[3, 4, 5]"
      ]
     },
     "execution_count": 13,
     "metadata": {},
     "output_type": "execute_result"
    }
   ],
   "source": [
    "l1[1:4]"
   ]
  },
  {
   "cell_type": "code",
   "execution_count": 14,
   "id": "27d6ec6f",
   "metadata": {},
   "outputs": [
    {
     "data": {
      "text/plain": [
       "[3, 4, 5, 8]"
      ]
     },
     "execution_count": 14,
     "metadata": {},
     "output_type": "execute_result"
    }
   ],
   "source": [
    "l1[1:5]"
   ]
  },
  {
   "cell_type": "code",
   "execution_count": 15,
   "id": "e099be6d",
   "metadata": {},
   "outputs": [],
   "source": [
    "l1[0] = 'Replace1'"
   ]
  },
  {
   "cell_type": "code",
   "execution_count": 16,
   "id": "3451d2e9",
   "metadata": {},
   "outputs": [
    {
     "data": {
      "text/plain": [
       "['Replace1', 3, 4, 5, 8]"
      ]
     },
     "execution_count": 16,
     "metadata": {},
     "output_type": "execute_result"
    }
   ],
   "source": [
    "l1 # It is mutable"
   ]
  },
  {
   "cell_type": "markdown",
   "id": "dbe8de87",
   "metadata": {},
   "source": [
    "### Append"
   ]
  },
  {
   "cell_type": "code",
   "execution_count": 17,
   "id": "c169e0a8",
   "metadata": {},
   "outputs": [],
   "source": [
    "l1.append('Bangladesh')"
   ]
  },
  {
   "cell_type": "code",
   "execution_count": 18,
   "id": "14d898d4",
   "metadata": {},
   "outputs": [
    {
     "data": {
      "text/plain": [
       "['Replace1', 3, 4, 5, 8, 'Bangladesh']"
      ]
     },
     "execution_count": 18,
     "metadata": {},
     "output_type": "execute_result"
    }
   ],
   "source": [
    "l1"
   ]
  },
  {
   "cell_type": "code",
   "execution_count": 19,
   "id": "c1e88edd",
   "metadata": {},
   "outputs": [],
   "source": [
    "l1.append(5) # Check duplication allow"
   ]
  },
  {
   "cell_type": "code",
   "execution_count": 20,
   "id": "3650838b",
   "metadata": {},
   "outputs": [
    {
     "data": {
      "text/plain": [
       "['Replace1', 3, 4, 5, 8, 'Bangladesh', 5]"
      ]
     },
     "execution_count": 20,
     "metadata": {},
     "output_type": "execute_result"
    }
   ],
   "source": [
    "l1"
   ]
  },
  {
   "cell_type": "markdown",
   "id": "08bb0429",
   "metadata": {},
   "source": [
    "## Memory Size"
   ]
  },
  {
   "cell_type": "code",
   "execution_count": 21,
   "id": "9d0d238e",
   "metadata": {},
   "outputs": [
    {
     "data": {
      "text/plain": [
       "120"
      ]
     },
     "execution_count": 21,
     "metadata": {},
     "output_type": "execute_result"
    }
   ],
   "source": [
    "import sys\n",
    "sys.getsizeof(l1)"
   ]
  },
  {
   "cell_type": "code",
   "execution_count": 22,
   "id": "f79ebe4e",
   "metadata": {},
   "outputs": [
    {
     "data": {
      "text/plain": [
       "5"
      ]
     },
     "execution_count": 22,
     "metadata": {},
     "output_type": "execute_result"
    }
   ],
   "source": [
    "l1.pop()"
   ]
  },
  {
   "cell_type": "code",
   "execution_count": 23,
   "id": "91adda50",
   "metadata": {},
   "outputs": [
    {
     "data": {
      "text/plain": [
       "['Replace1', 3, 4, 5, 8, 'Bangladesh']"
      ]
     },
     "execution_count": 23,
     "metadata": {},
     "output_type": "execute_result"
    }
   ],
   "source": [
    "l1"
   ]
  },
  {
   "cell_type": "markdown",
   "id": "216776dc",
   "metadata": {},
   "source": [
    "## Pop"
   ]
  },
  {
   "cell_type": "code",
   "execution_count": 24,
   "id": "0fc14630",
   "metadata": {},
   "outputs": [
    {
     "data": {
      "text/plain": [
       "'Bangladesh'"
      ]
     },
     "execution_count": 24,
     "metadata": {},
     "output_type": "execute_result"
    }
   ],
   "source": [
    "l1.pop()"
   ]
  },
  {
   "cell_type": "code",
   "execution_count": 25,
   "id": "b3657183",
   "metadata": {},
   "outputs": [
    {
     "data": {
      "text/plain": [
       "['Replace1', 3, 4, 5, 8]"
      ]
     },
     "execution_count": 25,
     "metadata": {},
     "output_type": "execute_result"
    }
   ],
   "source": [
    "l1"
   ]
  },
  {
   "cell_type": "code",
   "execution_count": 26,
   "id": "22e6822d",
   "metadata": {},
   "outputs": [
    {
     "data": {
      "text/plain": [
       "'Replace1'"
      ]
     },
     "execution_count": 26,
     "metadata": {},
     "output_type": "execute_result"
    }
   ],
   "source": [
    "l1.pop(0)"
   ]
  },
  {
   "cell_type": "code",
   "execution_count": 27,
   "id": "16bb5ab2",
   "metadata": {},
   "outputs": [
    {
     "data": {
      "text/plain": [
       "[3, 4, 5, 8]"
      ]
     },
     "execution_count": 27,
     "metadata": {},
     "output_type": "execute_result"
    }
   ],
   "source": [
    "l1"
   ]
  },
  {
   "cell_type": "markdown",
   "id": "ef67eaca",
   "metadata": {},
   "source": [
    "# Creating List by using List Constructor"
   ]
  },
  {
   "cell_type": "code",
   "execution_count": 28,
   "id": "b179a6ba",
   "metadata": {},
   "outputs": [],
   "source": [
    "l2 = list(('ai', 12, (1,2,3,4)))"
   ]
  },
  {
   "cell_type": "code",
   "execution_count": 29,
   "id": "9db65f4b",
   "metadata": {},
   "outputs": [
    {
     "data": {
      "text/plain": [
       "['ai', 12, (1, 2, 3, 4)]"
      ]
     },
     "execution_count": 29,
     "metadata": {},
     "output_type": "execute_result"
    }
   ],
   "source": [
    "l2"
   ]
  },
  {
   "cell_type": "code",
   "execution_count": 30,
   "id": "68118cde",
   "metadata": {},
   "outputs": [
    {
     "data": {
      "text/plain": [
       "list"
      ]
     },
     "execution_count": 30,
     "metadata": {},
     "output_type": "execute_result"
    }
   ],
   "source": [
    "type(l2)"
   ]
  },
  {
   "cell_type": "code",
   "execution_count": 31,
   "id": "e9c58ff5",
   "metadata": {},
   "outputs": [
    {
     "data": {
      "text/plain": [
       "(1, 2, 3, 4)"
      ]
     },
     "execution_count": 31,
     "metadata": {},
     "output_type": "execute_result"
    }
   ],
   "source": [
    "l2[2]"
   ]
  },
  {
   "cell_type": "code",
   "execution_count": 32,
   "id": "e30cc933",
   "metadata": {},
   "outputs": [
    {
     "data": {
      "text/plain": [
       "(1, 2, 3, 4)"
      ]
     },
     "execution_count": 32,
     "metadata": {},
     "output_type": "execute_result"
    }
   ],
   "source": [
    "l2[2][0:4] # alternative  [Start:End]"
   ]
  },
  {
   "cell_type": "code",
   "execution_count": 33,
   "id": "284c852a",
   "metadata": {},
   "outputs": [
    {
     "data": {
      "text/plain": [
       "(3, 4)"
      ]
     },
     "execution_count": 33,
     "metadata": {},
     "output_type": "execute_result"
    }
   ],
   "source": [
    "l2[2][2:4]  # Accessing last two"
   ]
  },
  {
   "cell_type": "code",
   "execution_count": 34,
   "id": "25de2a79",
   "metadata": {},
   "outputs": [
    {
     "data": {
      "text/plain": [
       "'ai'"
      ]
     },
     "execution_count": 34,
     "metadata": {},
     "output_type": "execute_result"
    }
   ],
   "source": [
    "l2[0]"
   ]
  },
  {
   "cell_type": "code",
   "execution_count": 35,
   "id": "862ea3b1",
   "metadata": {},
   "outputs": [
    {
     "data": {
      "text/plain": [
       "12"
      ]
     },
     "execution_count": 35,
     "metadata": {},
     "output_type": "execute_result"
    }
   ],
   "source": [
    "l2[1]"
   ]
  },
  {
   "cell_type": "code",
   "execution_count": 36,
   "id": "6d0425c0",
   "metadata": {},
   "outputs": [
    {
     "data": {
      "text/plain": [
       "(2, 3)"
      ]
     },
     "execution_count": 36,
     "metadata": {},
     "output_type": "execute_result"
    }
   ],
   "source": [
    "l2[2][1:3]"
   ]
  },
  {
   "cell_type": "code",
   "execution_count": 37,
   "id": "e97a731f",
   "metadata": {},
   "outputs": [
    {
     "data": {
      "text/plain": [
       "(2, 3, 4)"
      ]
     },
     "execution_count": 37,
     "metadata": {},
     "output_type": "execute_result"
    }
   ],
   "source": [
    "l2[2][1:4]"
   ]
  },
  {
   "cell_type": "code",
   "execution_count": 38,
   "id": "4e070bac",
   "metadata": {},
   "outputs": [
    {
     "name": "stdout",
     "output_type": "stream",
     "text": [
      "Enter your Total index: 5\n",
      "5\n",
      "['5']\n",
      "2\n",
      "['5', '2']\n",
      "2\n",
      "['5', '2', '2']\n",
      "2\n",
      "['5', '2', '2', '2']\n",
      "2\n",
      "['5', '2', '2', '2', '2']\n"
     ]
    }
   ],
   "source": [
    "# Input list from user\n",
    "l3 = []\n",
    "n = int(input('Enter your Total index: '))\n",
    "\n",
    "for i in range(n):\n",
    "    new = input()\n",
    "    l3.append(new)\n",
    "    print(l3)\n",
    "    "
   ]
  },
  {
   "cell_type": "code",
   "execution_count": 39,
   "id": "34ab2f58",
   "metadata": {},
   "outputs": [
    {
     "name": "stdout",
     "output_type": "stream",
     "text": [
      "Enter your Total index: 1\n",
      "1\n",
      "['1']\n"
     ]
    }
   ],
   "source": [
    "# Input list from user\n",
    "l3 = []\n",
    "n = int(input('Enter your Total index: '))\n",
    "\n",
    "for i in range(n):\n",
    "    new = input()\n",
    "    l3.append(new)\n",
    "print(l3)"
   ]
  },
  {
   "cell_type": "code",
   "execution_count": 40,
   "id": "e90f040d",
   "metadata": {},
   "outputs": [],
   "source": [
    "user = ['Rahim', 'Karim','Rita']"
   ]
  },
  {
   "cell_type": "code",
   "execution_count": 41,
   "id": "772149c0",
   "metadata": {},
   "outputs": [
    {
     "data": {
      "text/plain": [
       "['Rahim', 'Karim', 'Rita']"
      ]
     },
     "execution_count": 41,
     "metadata": {},
     "output_type": "execute_result"
    }
   ],
   "source": [
    "user"
   ]
  },
  {
   "cell_type": "code",
   "execution_count": 42,
   "id": "69519271",
   "metadata": {},
   "outputs": [],
   "source": [
    "del user[0]"
   ]
  },
  {
   "cell_type": "code",
   "execution_count": 43,
   "id": "27b8625e",
   "metadata": {},
   "outputs": [
    {
     "data": {
      "text/plain": [
       "['Karim', 'Rita']"
      ]
     },
     "execution_count": 43,
     "metadata": {},
     "output_type": "execute_result"
    }
   ],
   "source": [
    "user"
   ]
  },
  {
   "cell_type": "code",
   "execution_count": 44,
   "id": "2d9427ad",
   "metadata": {},
   "outputs": [
    {
     "data": {
      "text/plain": [
       "2"
      ]
     },
     "execution_count": 44,
     "metadata": {},
     "output_type": "execute_result"
    }
   ],
   "source": [
    "len(user)"
   ]
  },
  {
   "cell_type": "code",
   "execution_count": 45,
   "id": "49b57c2b",
   "metadata": {},
   "outputs": [],
   "source": [
    "user.extend(['Suman', 'Himel', 'Sarwar', 'Ripon'])"
   ]
  },
  {
   "cell_type": "code",
   "execution_count": 46,
   "id": "7dc3979b",
   "metadata": {},
   "outputs": [
    {
     "data": {
      "text/plain": [
       "['Karim', 'Rita', 'Suman', 'Himel', 'Sarwar', 'Ripon']"
      ]
     },
     "execution_count": 46,
     "metadata": {},
     "output_type": "execute_result"
    }
   ],
   "source": [
    "user"
   ]
  },
  {
   "cell_type": "code",
   "execution_count": 47,
   "id": "2ec372c0",
   "metadata": {},
   "outputs": [
    {
     "data": {
      "text/plain": [
       "['Karim', 'Rita', 'Suman']"
      ]
     },
     "execution_count": 47,
     "metadata": {},
     "output_type": "execute_result"
    }
   ],
   "source": [
    "user [0:3]  # [Start: End: Step Size]"
   ]
  },
  {
   "cell_type": "code",
   "execution_count": 48,
   "id": "813b0449",
   "metadata": {},
   "outputs": [
    {
     "data": {
      "text/plain": [
       "['Karim', 'Rita', 'Suman']"
      ]
     },
     "execution_count": 48,
     "metadata": {},
     "output_type": "execute_result"
    }
   ],
   "source": [
    "user [:3]  # alternive, no need to mention zero, just keep blank"
   ]
  },
  {
   "cell_type": "code",
   "execution_count": 49,
   "id": "396961bc",
   "metadata": {},
   "outputs": [
    {
     "data": {
      "text/plain": [
       "['Suman', 'Sarwar']"
      ]
     },
     "execution_count": 49,
     "metadata": {},
     "output_type": "execute_result"
    }
   ],
   "source": [
    "user [2::2]"
   ]
  },
  {
   "cell_type": "code",
   "execution_count": 50,
   "id": "8b69d6de",
   "metadata": {},
   "outputs": [
    {
     "data": {
      "text/plain": [
       "['Suman', 'Ripon']"
      ]
     },
     "execution_count": 50,
     "metadata": {},
     "output_type": "execute_result"
    }
   ],
   "source": [
    "user [2::3]    # [start 0, all element e.g blank: step size=3]"
   ]
  },
  {
   "cell_type": "markdown",
   "id": "b01d9ea6",
   "metadata": {},
   "source": [
    "# Replace"
   ]
  },
  {
   "cell_type": "code",
   "execution_count": 51,
   "id": "18e3cadd",
   "metadata": {},
   "outputs": [
    {
     "data": {
      "text/plain": [
       "['Karim', 'Rupa', 'Rima', 'Kajol', 'Mamun']"
      ]
     },
     "execution_count": 51,
     "metadata": {},
     "output_type": "execute_result"
    }
   ],
   "source": [
    "namelist = ['Karim', 'Rupa', 'Rima', 'Kajol', 'Mamun']\n",
    "namelist"
   ]
  },
  {
   "cell_type": "code",
   "execution_count": 52,
   "id": "d855835e",
   "metadata": {},
   "outputs": [],
   "source": [
    "namelist[1] = 'Jhumur'  # replace rupa which index is 2"
   ]
  },
  {
   "cell_type": "code",
   "execution_count": 53,
   "id": "829267ab",
   "metadata": {},
   "outputs": [
    {
     "data": {
      "text/plain": [
       "['Karim', 'Jhumur', 'Rima', 'Kajol', 'Mamun']"
      ]
     },
     "execution_count": 53,
     "metadata": {},
     "output_type": "execute_result"
    }
   ],
   "source": [
    "namelist"
   ]
  },
  {
   "cell_type": "code",
   "execution_count": 54,
   "id": "d73fbce1",
   "metadata": {},
   "outputs": [],
   "source": [
    "namelist[4] = 'Palash'   # replace rupa which index is 4"
   ]
  },
  {
   "cell_type": "code",
   "execution_count": 55,
   "id": "73e635c2",
   "metadata": {},
   "outputs": [
    {
     "data": {
      "text/plain": [
       "['Karim', 'Jhumur', 'Rima', 'Kajol', 'Palash']"
      ]
     },
     "execution_count": 55,
     "metadata": {},
     "output_type": "execute_result"
    }
   ],
   "source": [
    "namelist"
   ]
  },
  {
   "cell_type": "markdown",
   "id": "04c06e35",
   "metadata": {},
   "source": [
    "# Insert"
   ]
  },
  {
   "cell_type": "code",
   "execution_count": 56,
   "id": "c2b043df",
   "metadata": {},
   "outputs": [
    {
     "data": {
      "text/plain": [
       "['Apple', 'Orange', 'Mango', 'Banana', 'Lichy', 'Pineaple']"
      ]
     },
     "execution_count": 56,
     "metadata": {},
     "output_type": "execute_result"
    }
   ],
   "source": [
    "fruits = ['Apple','Orange','Mango','Banana','Lichy','Pineaple']\n",
    "fruits"
   ]
  },
  {
   "cell_type": "code",
   "execution_count": 57,
   "id": "93d91ec4",
   "metadata": {},
   "outputs": [],
   "source": [
    "fruits.insert(2,'Date')  # insert date before mango, which index is 2"
   ]
  },
  {
   "cell_type": "code",
   "execution_count": 58,
   "id": "cc2019d0",
   "metadata": {},
   "outputs": [
    {
     "data": {
      "text/plain": [
       "['Apple', 'Orange', 'Date', 'Mango', 'Banana', 'Lichy', 'Pineaple']"
      ]
     },
     "execution_count": 58,
     "metadata": {},
     "output_type": "execute_result"
    }
   ],
   "source": [
    "fruits"
   ]
  },
  {
   "cell_type": "code",
   "execution_count": 59,
   "id": "fb3993d2",
   "metadata": {},
   "outputs": [],
   "source": [
    "fruits.insert(3,'Water Melon')"
   ]
  },
  {
   "cell_type": "code",
   "execution_count": 60,
   "id": "fb19f2a7",
   "metadata": {},
   "outputs": [
    {
     "data": {
      "text/plain": [
       "['Apple',\n",
       " 'Orange',\n",
       " 'Date',\n",
       " 'Water Melon',\n",
       " 'Mango',\n",
       " 'Banana',\n",
       " 'Lichy',\n",
       " 'Pineaple']"
      ]
     },
     "execution_count": 60,
     "metadata": {},
     "output_type": "execute_result"
    }
   ],
   "source": [
    "fruits"
   ]
  },
  {
   "cell_type": "code",
   "execution_count": 61,
   "id": "072bfffc",
   "metadata": {},
   "outputs": [
    {
     "name": "stdout",
     "output_type": "stream",
     "text": [
      "['Apple', 'Orange', 'Date', 'Water Melon', 'Mango', 'Banana', 'Lichy', 'Pineaple']\n"
     ]
    }
   ],
   "source": [
    "print(fruits) # alternative"
   ]
  },
  {
   "cell_type": "code",
   "execution_count": 62,
   "id": "561a6492",
   "metadata": {},
   "outputs": [
    {
     "name": "stdout",
     "output_type": "stream",
     "text": [
      "['Apple', 'Orange', 'Date', 'Water Melon', 'Mango', 'Banana', 'Lichy', 'Pineaple'],"
     ]
    }
   ],
   "source": [
    "print(fruits, end=',')"
   ]
  },
  {
   "cell_type": "code",
   "execution_count": 63,
   "id": "6f1a22fa",
   "metadata": {},
   "outputs": [],
   "source": [
    "fruits.insert(5,'Lemon')"
   ]
  },
  {
   "cell_type": "code",
   "execution_count": 64,
   "id": "79d0bbd1",
   "metadata": {},
   "outputs": [
    {
     "name": "stdout",
     "output_type": "stream",
     "text": [
      "['Apple', 'Orange', 'Date', 'Water Melon', 'Mango', 'Lemon', 'Banana', 'Lichy', 'Pineaple']\n"
     ]
    }
   ],
   "source": [
    "print(fruits)"
   ]
  },
  {
   "cell_type": "markdown",
   "id": "035a595f",
   "metadata": {},
   "source": [
    "# Pairing List/ Combine list"
   ]
  },
  {
   "cell_type": "code",
   "execution_count": 65,
   "id": "6575b667",
   "metadata": {},
   "outputs": [],
   "source": [
    "a = ['Rose','WaterLilly','Sunflower','Merigold']"
   ]
  },
  {
   "cell_type": "code",
   "execution_count": 66,
   "id": "359bfdca",
   "metadata": {},
   "outputs": [
    {
     "data": {
      "text/plain": [
       "['Rose', 'WaterLilly', 'Sunflower', 'Merigold']"
      ]
     },
     "execution_count": 66,
     "metadata": {},
     "output_type": "execute_result"
    }
   ],
   "source": [
    "a"
   ]
  },
  {
   "cell_type": "code",
   "execution_count": 67,
   "id": "8cb36bdb",
   "metadata": {},
   "outputs": [],
   "source": [
    "b = ['Patato', 'Cattor','Peper','Bringal']"
   ]
  },
  {
   "cell_type": "code",
   "execution_count": 68,
   "id": "bb95941c",
   "metadata": {},
   "outputs": [
    {
     "data": {
      "text/plain": [
       "['Patato', 'Cattor', 'Peper', 'Bringal']"
      ]
     },
     "execution_count": 68,
     "metadata": {},
     "output_type": "execute_result"
    }
   ],
   "source": [
    "b"
   ]
  },
  {
   "cell_type": "code",
   "execution_count": 69,
   "id": "3c594bab",
   "metadata": {},
   "outputs": [],
   "source": [
    "pairing = [a,b]"
   ]
  },
  {
   "cell_type": "code",
   "execution_count": 70,
   "id": "bab47ecc",
   "metadata": {},
   "outputs": [
    {
     "data": {
      "text/plain": [
       "[['Rose', 'WaterLilly', 'Sunflower', 'Merigold'],\n",
       " ['Patato', 'Cattor', 'Peper', 'Bringal']]"
      ]
     },
     "execution_count": 70,
     "metadata": {},
     "output_type": "execute_result"
    }
   ],
   "source": [
    "pairing"
   ]
  },
  {
   "cell_type": "markdown",
   "id": "f6de704e",
   "metadata": {},
   "source": [
    "### Indexing over pair list"
   ]
  },
  {
   "cell_type": "code",
   "execution_count": 71,
   "id": "bef38331",
   "metadata": {},
   "outputs": [
    {
     "data": {
      "text/plain": [
       "['Patato', 'Cattor', 'Peper', 'Bringal']"
      ]
     },
     "execution_count": 71,
     "metadata": {},
     "output_type": "execute_result"
    }
   ],
   "source": [
    "pairing [1]"
   ]
  },
  {
   "cell_type": "code",
   "execution_count": 72,
   "id": "4f650ab7",
   "metadata": {},
   "outputs": [
    {
     "data": {
      "text/plain": [
       "['Rose', 'WaterLilly', 'Sunflower', 'Merigold']"
      ]
     },
     "execution_count": 72,
     "metadata": {},
     "output_type": "execute_result"
    }
   ],
   "source": [
    "pairing [0]"
   ]
  },
  {
   "cell_type": "code",
   "execution_count": 73,
   "id": "7176a2ea",
   "metadata": {},
   "outputs": [
    {
     "data": {
      "text/plain": [
       "'WaterLilly'"
      ]
     },
     "execution_count": 73,
     "metadata": {},
     "output_type": "execute_result"
    }
   ],
   "source": [
    "pairing [0][1]  # Accessing water lilly which is in 0 & 1 index"
   ]
  },
  {
   "cell_type": "code",
   "execution_count": 74,
   "id": "2e48933c",
   "metadata": {},
   "outputs": [
    {
     "data": {
      "text/plain": [
       "'Sunflower'"
      ]
     },
     "execution_count": 74,
     "metadata": {},
     "output_type": "execute_result"
    }
   ],
   "source": [
    "pairing [0][2]  # access sunflower"
   ]
  },
  {
   "cell_type": "code",
   "execution_count": 75,
   "id": "8007ec4d",
   "metadata": {},
   "outputs": [
    {
     "data": {
      "text/plain": [
       "'Merigold'"
      ]
     },
     "execution_count": 75,
     "metadata": {},
     "output_type": "execute_result"
    }
   ],
   "source": [
    "pairing[0][-1]  # Merigold"
   ]
  },
  {
   "cell_type": "code",
   "execution_count": 76,
   "id": "a8230ac5",
   "metadata": {},
   "outputs": [
    {
     "data": {
      "text/plain": [
       "'Merigold'"
      ]
     },
     "execution_count": 76,
     "metadata": {},
     "output_type": "execute_result"
    }
   ],
   "source": [
    "pairing[0][3] # Merigold alvernative"
   ]
  },
  {
   "cell_type": "code",
   "execution_count": 77,
   "id": "2f2f3078",
   "metadata": {},
   "outputs": [
    {
     "data": {
      "text/plain": [
       "'Peper'"
      ]
     },
     "execution_count": 77,
     "metadata": {},
     "output_type": "execute_result"
    }
   ],
   "source": [
    "pairing[1][2] # access peper"
   ]
  },
  {
   "cell_type": "code",
   "execution_count": 78,
   "id": "f14cfa21",
   "metadata": {},
   "outputs": [
    {
     "data": {
      "text/plain": [
       "'Bringal'"
      ]
     },
     "execution_count": 78,
     "metadata": {},
     "output_type": "execute_result"
    }
   ],
   "source": [
    "pairing [1][-1]"
   ]
  },
  {
   "cell_type": "code",
   "execution_count": 79,
   "id": "b84b0397",
   "metadata": {},
   "outputs": [
    {
     "data": {
      "text/plain": [
       "'Bringal'"
      ]
     },
     "execution_count": 79,
     "metadata": {},
     "output_type": "execute_result"
    }
   ],
   "source": [
    "pairing [1][3]"
   ]
  },
  {
   "cell_type": "code",
   "execution_count": 80,
   "id": "bdfbe24c",
   "metadata": {},
   "outputs": [
    {
     "data": {
      "text/plain": [
       "'Patato'"
      ]
     },
     "execution_count": 80,
     "metadata": {},
     "output_type": "execute_result"
    }
   ],
   "source": [
    "pairing[1][0]"
   ]
  },
  {
   "cell_type": "markdown",
   "id": "3914a046",
   "metadata": {},
   "source": [
    "#### String Method - Counts"
   ]
  },
  {
   "cell_type": "code",
   "execution_count": 81,
   "id": "d37e4a39",
   "metadata": {},
   "outputs": [
    {
     "data": {
      "text/plain": [
       "[5, 5, 5, 15, 7, 9, 4, 6, 4, 5, 72, 5, 6]"
      ]
     },
     "execution_count": 81,
     "metadata": {},
     "output_type": "execute_result"
    }
   ],
   "source": [
    "list10= [5,5,5,15,7,9,4,6,4,5,72,5,6]\n",
    "list10"
   ]
  },
  {
   "cell_type": "code",
   "execution_count": 82,
   "id": "9d1c3795",
   "metadata": {},
   "outputs": [
    {
     "data": {
      "text/plain": [
       "5"
      ]
     },
     "execution_count": 82,
     "metadata": {},
     "output_type": "execute_result"
    }
   ],
   "source": [
    "list10.count(5)"
   ]
  },
  {
   "cell_type": "markdown",
   "id": "00d76b18",
   "metadata": {},
   "source": [
    "#### index position"
   ]
  },
  {
   "cell_type": "code",
   "execution_count": 83,
   "id": "28712ae5",
   "metadata": {},
   "outputs": [
    {
     "data": {
      "text/plain": [
       "3"
      ]
     },
     "execution_count": 83,
     "metadata": {},
     "output_type": "execute_result"
    }
   ],
   "source": [
    "list10.index(15)"
   ]
  },
  {
   "cell_type": "code",
   "execution_count": 84,
   "id": "187b474e",
   "metadata": {},
   "outputs": [
    {
     "data": {
      "text/plain": [
       "0"
      ]
     },
     "execution_count": 84,
     "metadata": {},
     "output_type": "execute_result"
    }
   ],
   "source": [
    "list10.index(5)"
   ]
  },
  {
   "cell_type": "markdown",
   "id": "e50e2b79",
   "metadata": {},
   "source": [
    "#### Remove"
   ]
  },
  {
   "cell_type": "code",
   "execution_count": 85,
   "id": "372c01ca",
   "metadata": {},
   "outputs": [
    {
     "data": {
      "text/plain": [
       "[5, 5, 15, 7, 9, 4, 6, 4, 5, 72, 5, 6]"
      ]
     },
     "execution_count": 85,
     "metadata": {},
     "output_type": "execute_result"
    }
   ],
   "source": [
    "list10.remove(5)   # not remove all similar value together, rather remove a given value one by one\n",
    "list10"
   ]
  },
  {
   "cell_type": "code",
   "execution_count": 86,
   "id": "02ef510a",
   "metadata": {},
   "outputs": [
    {
     "data": {
      "text/plain": [
       "0"
      ]
     },
     "execution_count": 86,
     "metadata": {},
     "output_type": "execute_result"
    }
   ],
   "source": [
    "list10.index(5)"
   ]
  },
  {
   "cell_type": "markdown",
   "id": "e7556d01",
   "metadata": {},
   "source": [
    "#### Reverse"
   ]
  },
  {
   "cell_type": "code",
   "execution_count": 87,
   "id": "1f204d4e",
   "metadata": {},
   "outputs": [
    {
     "data": {
      "text/plain": [
       "[6, 5, 72, 5, 4, 6, 4, 9, 7, 15, 5, 5]"
      ]
     },
     "execution_count": 87,
     "metadata": {},
     "output_type": "execute_result"
    }
   ],
   "source": [
    "list10.reverse()            # reverse is same as code \"list10[::-1]\"\n",
    "list10"
   ]
  },
  {
   "cell_type": "markdown",
   "id": "2746c6f0",
   "metadata": {},
   "source": [
    "#### Lenght"
   ]
  },
  {
   "cell_type": "code",
   "execution_count": 88,
   "id": "8e82dfc4",
   "metadata": {},
   "outputs": [
    {
     "data": {
      "text/plain": [
       "12"
      ]
     },
     "execution_count": 88,
     "metadata": {},
     "output_type": "execute_result"
    }
   ],
   "source": [
    "len(list10) # wnat to know how many elements inside list, this can be applied in str also"
   ]
  },
  {
   "cell_type": "markdown",
   "id": "833fbe56",
   "metadata": {},
   "source": [
    "#### list shorting"
   ]
  },
  {
   "cell_type": "code",
   "execution_count": 89,
   "id": "6de4df37",
   "metadata": {},
   "outputs": [
    {
     "data": {
      "text/plain": [
       "[4, 4, 5, 5, 5, 5, 6, 6, 7, 9, 15, 72]"
      ]
     },
     "execution_count": 89,
     "metadata": {},
     "output_type": "execute_result"
    }
   ],
   "source": [
    "list10.sort()  # Ascending by default\n",
    "list10"
   ]
  },
  {
   "cell_type": "code",
   "execution_count": 90,
   "id": "4e4299e6",
   "metadata": {},
   "outputs": [
    {
     "data": {
      "text/plain": [
       "[72, 15, 9, 7, 6, 6, 5, 5, 5, 5, 4, 4]"
      ]
     },
     "execution_count": 90,
     "metadata": {},
     "output_type": "execute_result"
    }
   ],
   "source": [
    "list10.sort(reverse=True) # Discenting order\n",
    "list10"
   ]
  },
  {
   "cell_type": "markdown",
   "id": "3872bf18",
   "metadata": {},
   "source": [
    "#### Clear"
   ]
  },
  {
   "cell_type": "code",
   "execution_count": 91,
   "id": "fa2b137b",
   "metadata": {},
   "outputs": [
    {
     "data": {
      "text/plain": [
       "[]"
      ]
     },
     "execution_count": 91,
     "metadata": {},
     "output_type": "execute_result"
    }
   ],
   "source": [
    "list10.clear()  # clear all elements/values from list\n",
    "list10"
   ]
  },
  {
   "cell_type": "markdown",
   "id": "974dea26",
   "metadata": {},
   "source": [
    "### Copy (Shallow Copy vs Deep Copy)"
   ]
  },
  {
   "cell_type": "code",
   "execution_count": 92,
   "id": "ab8b0d3e",
   "metadata": {},
   "outputs": [],
   "source": [
    "nums1 = [5,6,7,10]"
   ]
  },
  {
   "cell_type": "markdown",
   "id": "be1da7c5",
   "metadata": {},
   "source": [
    "#### Shallaw Copy"
   ]
  },
  {
   "cell_type": "code",
   "execution_count": 93,
   "id": "022e85ae",
   "metadata": {},
   "outputs": [
    {
     "data": {
      "text/plain": [
       "[5, 6, 7, 10]"
      ]
     },
     "execution_count": 93,
     "metadata": {},
     "output_type": "execute_result"
    }
   ],
   "source": [
    "nums2 = nums1 # Shallow Copy\n",
    "nums2"
   ]
  },
  {
   "cell_type": "markdown",
   "id": "ea34266b",
   "metadata": {},
   "source": [
    "##### Drawbacks in Shallow copy (oring / source file updated when make any change in following list whether you want or not)"
   ]
  },
  {
   "cell_type": "code",
   "execution_count": 94,
   "id": "10c7d299",
   "metadata": {},
   "outputs": [
    {
     "data": {
      "text/plain": [
       "[5, 6, 7, 10, 500]"
      ]
     },
     "execution_count": 94,
     "metadata": {},
     "output_type": "execute_result"
    }
   ],
   "source": [
    "nums2.append(500)\n",
    "nums2"
   ]
  },
  {
   "cell_type": "code",
   "execution_count": 95,
   "id": "3a0414b3",
   "metadata": {},
   "outputs": [
    {
     "data": {
      "text/plain": [
       "[5, 6, 7, 10, 500]"
      ]
     },
     "execution_count": 95,
     "metadata": {},
     "output_type": "execute_result"
    }
   ],
   "source": [
    "nums1  # here is the problem, as I didnt want to update nums1 with append applied in nums2"
   ]
  },
  {
   "cell_type": "markdown",
   "id": "3368f6cd",
   "metadata": {},
   "source": [
    "#### Deep Copy"
   ]
  },
  {
   "cell_type": "code",
   "execution_count": 96,
   "id": "c1db8d7c",
   "metadata": {},
   "outputs": [],
   "source": [
    "nums3 = nums1.copy()  # Deep Copy"
   ]
  },
  {
   "cell_type": "code",
   "execution_count": 97,
   "id": "b42802a4",
   "metadata": {},
   "outputs": [
    {
     "data": {
      "text/plain": [
       "[5, 6, 7, 10, 500, 9999]"
      ]
     },
     "execution_count": 97,
     "metadata": {},
     "output_type": "execute_result"
    }
   ],
   "source": [
    "nums3.append(9999) # source/ original list (nums1) will not be affected by this update, only nums3 will be udpated\n",
    "nums3"
   ]
  },
  {
   "cell_type": "code",
   "execution_count": 98,
   "id": "f9c8ff95",
   "metadata": {},
   "outputs": [
    {
     "data": {
      "text/plain": [
       "[5, 6, 7, 10, 500]"
      ]
     },
     "execution_count": 98,
     "metadata": {},
     "output_type": "execute_result"
    }
   ],
   "source": [
    "nums1  # list1 not being updated by 9999 verified, Deep Copy is more useful"
   ]
  },
  {
   "cell_type": "markdown",
   "id": "69b179a5",
   "metadata": {},
   "source": [
    "#### Multiple values update together"
   ]
  },
  {
   "cell_type": "code",
   "execution_count": 99,
   "id": "49d90f4a",
   "metadata": {},
   "outputs": [
    {
     "data": {
      "text/plain": [
       "[25, 50, 75, 100]"
      ]
     },
     "execution_count": 99,
     "metadata": {},
     "output_type": "execute_result"
    }
   ],
   "source": [
    "list11 = [25,50,75,100]\n",
    "list11"
   ]
  },
  {
   "cell_type": "code",
   "execution_count": 100,
   "id": "e721de46",
   "metadata": {},
   "outputs": [
    {
     "data": {
      "text/plain": [
       "[25, 300, 600, 75, 100]"
      ]
     },
     "execution_count": 100,
     "metadata": {},
     "output_type": "execute_result"
    }
   ],
   "source": [
    "list11[1:2] = 300,600   \n",
    "list11"
   ]
  },
  {
   "cell_type": "markdown",
   "id": "ccc450ed",
   "metadata": {},
   "source": [
    "# Excercise 2"
   ]
  },
  {
   "cell_type": "markdown",
   "id": "a6715998",
   "metadata": {},
   "source": [
    "## List Method"
   ]
  },
  {
   "cell_type": "code",
   "execution_count": 110,
   "id": "9111ab24",
   "metadata": {},
   "outputs": [
    {
     "data": {
      "text/plain": [
       "[3, 45, 6, 3, 7, 3, 78, 3, 788, 6]"
      ]
     },
     "execution_count": 110,
     "metadata": {},
     "output_type": "execute_result"
    }
   ],
   "source": [
    "nums = [3,45,6,3,7,3,78,3,788,6]\n",
    "nums"
   ]
  },
  {
   "cell_type": "code",
   "execution_count": 112,
   "id": "e0c5f7f8",
   "metadata": {},
   "outputs": [
    {
     "data": {
      "text/plain": [
       "[3, 45, 6, 3, 7, 3, 78, 3, 788, 6, 99, 99]"
      ]
     },
     "execution_count": 112,
     "metadata": {},
     "output_type": "execute_result"
    }
   ],
   "source": [
    "nums.append(99)  # append add from last by every click\n",
    "nums"
   ]
  },
  {
   "cell_type": "code",
   "execution_count": 115,
   "id": "1acbdf04",
   "metadata": {},
   "outputs": [
    {
     "data": {
      "text/plain": [
       "[3, -99, -99, 45, 6, 3, 7, 3, 78, 3, 788, 6, 99, 99]"
      ]
     },
     "execution_count": 115,
     "metadata": {},
     "output_type": "execute_result"
    }
   ],
   "source": [
    "nums.insert(1,-99)  # first index location, which will be replace by following"
   ]
  },
  {
   "cell_type": "code",
   "execution_count": 116,
   "id": "6974d2c3",
   "metadata": {},
   "outputs": [
    {
     "data": {
      "text/plain": [
       "[22, 21, 25, 26, 55]"
      ]
     },
     "execution_count": 116,
     "metadata": {},
     "output_type": "execute_result"
    }
   ],
   "source": [
    "list_2 = [22,21,25,26,55]\n",
    "list_2"
   ]
  },
  {
   "cell_type": "code",
   "execution_count": 117,
   "id": "61952b47",
   "metadata": {},
   "outputs": [
    {
     "data": {
      "text/plain": [
       "[22, 21, 25, 26, 55, 50, 60]"
      ]
     },
     "execution_count": 117,
     "metadata": {},
     "output_type": "execute_result"
    }
   ],
   "source": [
    "list_2.extend([50,60]) # added from last\n",
    "list_2"
   ]
  },
  {
   "cell_type": "code",
   "execution_count": 119,
   "id": "1c148e36",
   "metadata": {},
   "outputs": [
    {
     "data": {
      "text/plain": [
       "0"
      ]
     },
     "execution_count": 119,
     "metadata": {},
     "output_type": "execute_result"
    }
   ],
   "source": [
    "list_2.count(3) # There is no 3 values in the list_2"
   ]
  },
  {
   "cell_type": "code",
   "execution_count": 120,
   "id": "c35b4429",
   "metadata": {},
   "outputs": [
    {
     "data": {
      "text/plain": [
       "1"
      ]
     },
     "execution_count": 120,
     "metadata": {},
     "output_type": "execute_result"
    }
   ],
   "source": [
    "list_2.count(25) # values 25 comes 1 times in the list"
   ]
  },
  {
   "cell_type": "code",
   "execution_count": 124,
   "id": "b0f87682",
   "metadata": {},
   "outputs": [
    {
     "data": {
      "text/plain": [
       "1"
      ]
     },
     "execution_count": 124,
     "metadata": {},
     "output_type": "execute_result"
    }
   ],
   "source": [
    "list_2.index(21) # Return index number/position of the given value"
   ]
  },
  {
   "cell_type": "code",
   "execution_count": 128,
   "id": "33785d60",
   "metadata": {},
   "outputs": [
    {
     "data": {
      "text/plain": [
       "[2, 2, 41, 53, 12, 52, 50, 50]"
      ]
     },
     "execution_count": 128,
     "metadata": {},
     "output_type": "execute_result"
    }
   ],
   "source": [
    "list_3 = [2,2,41,53,12,52,50,50]\n",
    "list_3"
   ]
  },
  {
   "cell_type": "code",
   "execution_count": 129,
   "id": "902c2864",
   "metadata": {},
   "outputs": [
    {
     "data": {
      "text/plain": [
       "2"
      ]
     },
     "execution_count": 129,
     "metadata": {},
     "output_type": "execute_result"
    }
   ],
   "source": [
    "list_3.pop(1)  # delete values from first"
   ]
  },
  {
   "cell_type": "code",
   "execution_count": 130,
   "id": "526f3527",
   "metadata": {},
   "outputs": [
    {
     "data": {
      "text/plain": [
       "[2, 41, 53, 12, 52, 50, 50]"
      ]
     },
     "execution_count": 130,
     "metadata": {},
     "output_type": "execute_result"
    }
   ],
   "source": [
    "list_3"
   ]
  },
  {
   "cell_type": "code",
   "execution_count": 131,
   "id": "b4b19084",
   "metadata": {},
   "outputs": [],
   "source": [
    "list_3.remove(52) # remove given values from the list"
   ]
  },
  {
   "cell_type": "code",
   "execution_count": 132,
   "id": "b46140bf",
   "metadata": {},
   "outputs": [
    {
     "data": {
      "text/plain": [
       "[2, 41, 53, 12, 50, 50]"
      ]
     },
     "execution_count": 132,
     "metadata": {},
     "output_type": "execute_result"
    }
   ],
   "source": [
    "list_3"
   ]
  },
  {
   "cell_type": "code",
   "execution_count": 133,
   "id": "3b07c16a",
   "metadata": {},
   "outputs": [],
   "source": [
    "list_3.reverse() # swap/ revese"
   ]
  },
  {
   "cell_type": "code",
   "execution_count": 134,
   "id": "e3b9d93e",
   "metadata": {},
   "outputs": [
    {
     "data": {
      "text/plain": [
       "[50, 50, 12, 53, 41, 2]"
      ]
     },
     "execution_count": 134,
     "metadata": {},
     "output_type": "execute_result"
    }
   ],
   "source": [
    "list_3  "
   ]
  },
  {
   "cell_type": "code",
   "execution_count": 135,
   "id": "27b450b4",
   "metadata": {},
   "outputs": [
    {
     "data": {
      "text/plain": [
       "6"
      ]
     },
     "execution_count": 135,
     "metadata": {},
     "output_type": "execute_result"
    }
   ],
   "source": [
    "len(list_3)"
   ]
  },
  {
   "cell_type": "code",
   "execution_count": 136,
   "id": "315b6ee8",
   "metadata": {},
   "outputs": [],
   "source": [
    "list_3.sort()"
   ]
  },
  {
   "cell_type": "code",
   "execution_count": 137,
   "id": "7d6e1b08",
   "metadata": {},
   "outputs": [
    {
     "data": {
      "text/plain": [
       "[2, 12, 41, 50, 50, 53]"
      ]
     },
     "execution_count": 137,
     "metadata": {},
     "output_type": "execute_result"
    }
   ],
   "source": [
    "list_3"
   ]
  },
  {
   "cell_type": "code",
   "execution_count": 138,
   "id": "183745d7",
   "metadata": {},
   "outputs": [],
   "source": [
    "list_3.sort(reverse=True)"
   ]
  },
  {
   "cell_type": "code",
   "execution_count": 139,
   "id": "f1a8663f",
   "metadata": {},
   "outputs": [
    {
     "data": {
      "text/plain": [
       "[53, 50, 50, 41, 12, 2]"
      ]
     },
     "execution_count": 139,
     "metadata": {},
     "output_type": "execute_result"
    }
   ],
   "source": [
    "list_3"
   ]
  },
  {
   "cell_type": "code",
   "execution_count": 142,
   "id": "98aec6f1",
   "metadata": {},
   "outputs": [],
   "source": [
    "list_3.clear() # remove full list"
   ]
  },
  {
   "cell_type": "code",
   "execution_count": 141,
   "id": "c0a78600",
   "metadata": {},
   "outputs": [
    {
     "data": {
      "text/plain": [
       "[]"
      ]
     },
     "execution_count": 141,
     "metadata": {},
     "output_type": "execute_result"
    }
   ],
   "source": [
    "list_3"
   ]
  },
  {
   "cell_type": "markdown",
   "id": "f05b8945",
   "metadata": {},
   "source": [
    "# Set"
   ]
  },
  {
   "cell_type": "markdown",
   "id": "1ad94fdb",
   "metadata": {},
   "source": [
    "- Use { } / curly brackets or braces\n",
    "- Not allow duplicate values \n",
    "- Whether duplicate values store or not, output will return distinct/Unique values only, not duplication returned\n",
    "- Output renerally returned in sorted form\n",
    "- indexing not possible/ not subscriptable , because if any new value added first/ stored in fist, that will not show first in output, output will shows in order form only\n",
    "- not maintain the order of  insertion\n"
   ]
  },
  {
   "cell_type": "code",
   "execution_count": 1,
   "id": "8b43ef24",
   "metadata": {},
   "outputs": [
    {
     "data": {
      "text/plain": [
       "{2, 3, 4, 5, 6}"
      ]
     },
     "execution_count": 1,
     "metadata": {},
     "output_type": "execute_result"
    }
   ],
   "source": [
    "s1 = {2,3,4,2,4,3,5,6} # returned in order, duplication in input, but no duplication in output\n",
    "s1"
   ]
  },
  {
   "cell_type": "code",
   "execution_count": 2,
   "id": "293dc417",
   "metadata": {},
   "outputs": [
    {
     "data": {
      "text/plain": [
       "{2, 3, 4, 5, 6, 9}"
      ]
     },
     "execution_count": 2,
     "metadata": {},
     "output_type": "execute_result"
    }
   ],
   "source": [
    "s2 = {9,2,3,4,2,4,3,5,6} # add a new value as 9 in first, still output in sorted form\n",
    "s2"
   ]
  },
  {
   "cell_type": "code",
   "execution_count": 5,
   "id": "0af1b30d",
   "metadata": {},
   "outputs": [
    {
     "data": {
      "text/plain": [
       "{2, 3, 4, 5, 6, 33}"
      ]
     },
     "execution_count": 5,
     "metadata": {},
     "output_type": "execute_result"
    }
   ],
   "source": [
    "s1.add(33)\n",
    "s1"
   ]
  },
  {
   "cell_type": "code",
   "execution_count": 7,
   "id": "409a2435",
   "metadata": {},
   "outputs": [
    {
     "data": {
      "text/plain": [
       "{2, 3, 4, 5, 6, 33}"
      ]
     },
     "execution_count": 7,
     "metadata": {},
     "output_type": "execute_result"
    }
   ],
   "source": [
    "s1.discard(9)\n",
    "s1"
   ]
  },
  {
   "cell_type": "code",
   "execution_count": 10,
   "id": "4c657bff",
   "metadata": {},
   "outputs": [
    {
     "data": {
      "text/plain": [
       "{3, 4, 6, 33}"
      ]
     },
     "execution_count": 10,
     "metadata": {},
     "output_type": "execute_result"
    }
   ],
   "source": [
    "s1.remove(5)\n",
    "s1"
   ]
  },
  {
   "cell_type": "code",
   "execution_count": 11,
   "id": "3f61c2f3",
   "metadata": {},
   "outputs": [
    {
     "data": {
      "text/plain": [
       "{3, 4, 6}"
      ]
     },
     "execution_count": 11,
     "metadata": {},
     "output_type": "execute_result"
    }
   ],
   "source": [
    "s1.pop() # remove from right\n",
    "s1"
   ]
  },
  {
   "cell_type": "code",
   "execution_count": 12,
   "id": "3a663ec1",
   "metadata": {},
   "outputs": [],
   "source": [
    "set1 = {2, 3, 4, 5, 6}\n",
    "set2 = {7, 3, 4, 8, 9}"
   ]
  },
  {
   "cell_type": "code",
   "execution_count": 13,
   "id": "dfe71450",
   "metadata": {},
   "outputs": [
    {
     "data": {
      "text/plain": [
       "{2, 3, 4, 5, 6, 7, 8, 9}"
      ]
     },
     "execution_count": 13,
     "metadata": {},
     "output_type": "execute_result"
    }
   ],
   "source": [
    "set1.union(set2)  # adding set together"
   ]
  },
  {
   "cell_type": "code",
   "execution_count": 14,
   "id": "11a70753",
   "metadata": {},
   "outputs": [
    {
     "data": {
      "text/plain": [
       "{3, 4}"
      ]
     },
     "execution_count": 14,
     "metadata": {},
     "output_type": "execute_result"
    }
   ],
   "source": [
    "set1 = {2, 3, 4, 5, 6}\n",
    "set2 = {7, 3, 4, 8, 9}\n",
    "set1.intersection(set2)  # Return common values between sets"
   ]
  },
  {
   "cell_type": "code",
   "execution_count": 16,
   "id": "1cffd728",
   "metadata": {},
   "outputs": [
    {
     "data": {
      "text/plain": [
       "{2, 5, 6}"
      ]
     },
     "execution_count": 16,
     "metadata": {},
     "output_type": "execute_result"
    }
   ],
   "source": [
    "set1 = {2, 3, 4, 5, 6}\n",
    "set2 = {7, 3, 4, 8, 9}\n",
    "set1.difference(set2)  # Return differece value of set 1 from set 2 - A\n"
   ]
  },
  {
   "cell_type": "code",
   "execution_count": 17,
   "id": "4e3acc80",
   "metadata": {},
   "outputs": [
    {
     "data": {
      "text/plain": [
       "{7, 8, 9}"
      ]
     },
     "execution_count": 17,
     "metadata": {},
     "output_type": "execute_result"
    }
   ],
   "source": [
    "set2.difference(set1)  # Return differece value of set 2 from set 1 - B"
   ]
  },
  {
   "cell_type": "code",
   "execution_count": 18,
   "id": "32823043",
   "metadata": {},
   "outputs": [
    {
     "data": {
      "text/plain": [
       "{2, 5, 6, 7, 8, 9}"
      ]
     },
     "execution_count": 18,
     "metadata": {},
     "output_type": "execute_result"
    }
   ],
   "source": [
    "set1.symmetric_difference(set2) # return both (A & B), ignore common values between sets"
   ]
  },
  {
   "cell_type": "code",
   "execution_count": 19,
   "id": "49de38cb",
   "metadata": {},
   "outputs": [
    {
     "data": {
      "text/plain": [
       "{2, 5, 6, 7, 8, 9}"
      ]
     },
     "execution_count": 19,
     "metadata": {},
     "output_type": "execute_result"
    }
   ],
   "source": [
    "set1.symmetric_difference(set2) # return both (A & B) & update original set1, similarly update avaible for union, intersection,difference"
   ]
  },
  {
   "cell_type": "code",
   "execution_count": 20,
   "id": "ed1606c8",
   "metadata": {},
   "outputs": [
    {
     "data": {
      "text/plain": [
       "{2, 3, 4, 5, 6}"
      ]
     },
     "execution_count": 20,
     "metadata": {},
     "output_type": "execute_result"
    }
   ],
   "source": [
    "set1"
   ]
  },
  {
   "cell_type": "markdown",
   "id": "8f9686c9",
   "metadata": {},
   "source": [
    "# Dictionary"
   ]
  },
  {
   "cell_type": "markdown",
   "id": "45005648",
   "metadata": {},
   "source": [
    "- Its very useful data structure\n",
    "- Keys must be unique, duplicate not allowed\n",
    "- Keys may be int, float or str, if str that must be case sensitive"
   ]
  },
  {
   "cell_type": "code",
   "execution_count": 2,
   "id": "09de913f",
   "metadata": {},
   "outputs": [
    {
     "data": {
      "text/plain": [
       "'John'"
      ]
     },
     "execution_count": 2,
     "metadata": {},
     "output_type": "execute_result"
    }
   ],
   "source": [
    "students = {1:\"John\", 2:\"Alexa\", 3:\"Tessa\"}  # Key:Values\n",
    "students[1] # accessing roll#2"
   ]
  },
  {
   "cell_type": "code",
   "execution_count": 5,
   "id": "f0125117",
   "metadata": {},
   "outputs": [
    {
     "data": {
      "text/plain": [
       "'Tessa'"
      ]
     },
     "execution_count": 5,
     "metadata": {},
     "output_type": "execute_result"
    }
   ],
   "source": [
    "students[3]"
   ]
  },
  {
   "cell_type": "code",
   "execution_count": 7,
   "id": "c071eda0",
   "metadata": {},
   "outputs": [
    {
     "data": {
      "text/plain": [
       "'Alexa Smith'"
      ]
     },
     "execution_count": 7,
     "metadata": {},
     "output_type": "execute_result"
    }
   ],
   "source": [
    "# Updating Values:\n",
    "students[2] = \"Alexa Smith\"  # Update Alexa as Alexa Smith\n",
    "students[2]"
   ]
  },
  {
   "cell_type": "code",
   "execution_count": 8,
   "id": "e0ed6501",
   "metadata": {},
   "outputs": [
    {
     "data": {
      "text/plain": [
       "{1: 'John', 2: 'Alexa Smith', 3: 'Tessa'}"
      ]
     },
     "execution_count": 8,
     "metadata": {},
     "output_type": "execute_result"
    }
   ],
   "source": [
    "students"
   ]
  },
  {
   "cell_type": "code",
   "execution_count": 10,
   "id": "51c255af",
   "metadata": {},
   "outputs": [
    {
     "data": {
      "text/plain": [
       "{1: 'John', 2: 'Alexa Smith', 3: 'Tessa', 4: 'Hardin'}"
      ]
     },
     "execution_count": 10,
     "metadata": {},
     "output_type": "execute_result"
    }
   ],
   "source": [
    "# Adding values in existence dictionary\n",
    "students[4] = \"Hardin\"   # adding key4 and  values \"Hardin\"\n",
    "students"
   ]
  },
  {
   "cell_type": "code",
   "execution_count": 14,
   "id": "8b4cb818",
   "metadata": {},
   "outputs": [
    {
     "ename": "KeyError",
     "evalue": "5",
     "output_type": "error",
     "traceback": [
      "\u001b[1;31m---------------------------------------------------------------------------\u001b[0m",
      "\u001b[1;31mKeyError\u001b[0m                                  Traceback (most recent call last)",
      "Input \u001b[1;32mIn [14]\u001b[0m, in \u001b[0;36m<cell line: 2>\u001b[1;34m()\u001b[0m\n\u001b[0;32m      1\u001b[0m \u001b[38;5;66;03m# Keyword Error Handling\u001b[39;00m\n\u001b[1;32m----> 2\u001b[0m \u001b[38;5;28mprint\u001b[39m(\u001b[43mstudents\u001b[49m\u001b[43m[\u001b[49m\u001b[38;5;241;43m5\u001b[39;49m\u001b[43m]\u001b[49m)\n\u001b[0;32m      3\u001b[0m \u001b[38;5;28mprint\u001b[39m(students\u001b[38;5;241m.\u001b[39mget(\u001b[38;5;241m5\u001b[39m))\n",
      "\u001b[1;31mKeyError\u001b[0m: 5"
     ]
    }
   ],
   "source": [
    "# Key Error, return error when key not available in dictionary\n",
    "students[5]  "
   ]
  },
  {
   "cell_type": "code",
   "execution_count": 15,
   "id": "0dee43e4",
   "metadata": {},
   "outputs": [],
   "source": [
    "# Key Error Handling/ Another ways of accessing values\n",
    "students.get(5)   # return nothing when key unavailable in dictionary"
   ]
  },
  {
   "cell_type": "code",
   "execution_count": 16,
   "id": "948012ae",
   "metadata": {},
   "outputs": [
    {
     "data": {
      "text/plain": [
       "'Hardin'"
      ]
     },
     "execution_count": 16,
     "metadata": {},
     "output_type": "execute_result"
    }
   ],
   "source": [
    "students.get(4) "
   ]
  },
  {
   "cell_type": "code",
   "execution_count": 26,
   "id": "feab514b",
   "metadata": {},
   "outputs": [
    {
     "name": "stdout",
     "output_type": "stream",
     "text": [
      "dict_keys([1, 2, 3, 4])\n",
      "dict_values(['John', 'Alexa Smith', 'Tessa', 'Hardin'])\n",
      "dict_items([(1, 'John'), (2, 'Alexa Smith'), (3, 'Tessa'), (4, 'Hardin')])\n"
     ]
    }
   ],
   "source": [
    "# Accessing differently\n",
    "print(students.keys())      # Only Keys        \n",
    "print(students.values())    # Only Values\n",
    "print(students.items())     # Keys & Values together"
   ]
  },
  {
   "cell_type": "code",
   "execution_count": 28,
   "id": "ccbec54a",
   "metadata": {},
   "outputs": [],
   "source": [
    "students2 = {1:\"John\", 2:\"Alexa\", 3:\"Tessa\"}"
   ]
  },
  {
   "cell_type": "code",
   "execution_count": 30,
   "id": "102570ce",
   "metadata": {},
   "outputs": [
    {
     "data": {
      "text/plain": [
       "{}"
      ]
     },
     "execution_count": 30,
     "metadata": {},
     "output_type": "execute_result"
    }
   ],
   "source": [
    "# clear, remove all from disctionany\n",
    "students2.clear() \n",
    "students2"
   ]
  },
  {
   "cell_type": "code",
   "execution_count": 35,
   "id": "89defb68",
   "metadata": {},
   "outputs": [
    {
     "data": {
      "text/plain": [
       "{1: 'John', 2: 'Alexa Smith', 3: 'Tessa', 4: 'Hardin'}"
      ]
     },
     "execution_count": 35,
     "metadata": {},
     "output_type": "execute_result"
    }
   ],
   "source": [
    "students"
   ]
  },
  {
   "cell_type": "code",
   "execution_count": 36,
   "id": "965e4238",
   "metadata": {},
   "outputs": [
    {
     "data": {
      "text/plain": [
       "'John'"
      ]
     },
     "execution_count": 36,
     "metadata": {},
     "output_type": "execute_result"
    }
   ],
   "source": [
    "# Pop\n",
    "students.pop(1) # remove keys & value for given key(1)"
   ]
  },
  {
   "cell_type": "code",
   "execution_count": 37,
   "id": "453e7f36",
   "metadata": {},
   "outputs": [
    {
     "data": {
      "text/plain": [
       "{2: 'Alexa Smith', 3: 'Tessa', 4: 'Hardin'}"
      ]
     },
     "execution_count": 37,
     "metadata": {},
     "output_type": "execute_result"
    }
   ],
   "source": [
    "students"
   ]
  },
  {
   "cell_type": "code",
   "execution_count": 38,
   "id": "855b049f",
   "metadata": {},
   "outputs": [
    {
     "data": {
      "text/plain": [
       "(4, 'Hardin')"
      ]
     },
     "execution_count": 38,
     "metadata": {},
     "output_type": "execute_result"
    }
   ],
   "source": [
    "# Pop itmes\n",
    "students.popitem() # it will not take any param, remove/delete from the end, pop last key & values"
   ]
  },
  {
   "cell_type": "code",
   "execution_count": 39,
   "id": "641950d7",
   "metadata": {},
   "outputs": [
    {
     "data": {
      "text/plain": [
       "{2: 'Alexa Smith', 3: 'Tessa'}"
      ]
     },
     "execution_count": 39,
     "metadata": {},
     "output_type": "execute_result"
    }
   ],
   "source": [
    "students"
   ]
  },
  {
   "cell_type": "code",
   "execution_count": 41,
   "id": "2b7f7634",
   "metadata": {},
   "outputs": [
    {
     "data": {
      "text/plain": [
       "{2: 'Alexa Smith', 3: 'Tessa', 5: 'Sen', 6: 'Mitu'}"
      ]
     },
     "execution_count": 41,
     "metadata": {},
     "output_type": "execute_result"
    }
   ],
   "source": [
    "# Update [ it merged two dictionary ]\n",
    "students.update({5:\"Sen\", 6:\"Mitu\"})  # new dictionary to be added with primary dictionary\n",
    "students"
   ]
  },
  {
   "cell_type": "markdown",
   "id": "28e6277d",
   "metadata": {},
   "source": [
    "#### FromKeys"
   ]
  },
  {
   "cell_type": "markdown",
   "id": "59259cb5",
   "metadata": {},
   "source": [
    "- Creating dummy dictionary\n",
    "- Not affect original dictionary\n",
    "- Here, iterable value of keys are given\n",
    "- For example, students names are unknown, were rolls (keys) provided with a default value of \"NA\" for all\n",
    "- Use fromkeys to generate something (new dummy dictionary)\n",
    "- This is basically example of Class Method, that returns a dictionary class, but not affect original class/object"
   ]
  },
  {
   "cell_type": "code",
   "execution_count": 43,
   "id": "2445c468",
   "metadata": {},
   "outputs": [
    {
     "data": {
      "text/plain": [
       "{7: 'NA', 8: 'NA', 9: 'NA'}"
      ]
     },
     "execution_count": 43,
     "metadata": {},
     "output_type": "execute_result"
    }
   ],
   "source": [
    "students.fromkeys([7,8,9], \"NA\") "
   ]
  },
  {
   "cell_type": "code",
   "execution_count": 44,
   "id": "109a3401",
   "metadata": {},
   "outputs": [
    {
     "data": {
      "text/plain": [
       "{2: 'Alexa Smith', 3: 'Tessa', 5: 'Sen', 6: 'Mitu'}"
      ]
     },
     "execution_count": 44,
     "metadata": {},
     "output_type": "execute_result"
    }
   ],
   "source": [
    "students  # not affected"
   ]
  },
  {
   "cell_type": "code",
   "execution_count": 45,
   "id": "5adb091a",
   "metadata": {},
   "outputs": [
    {
     "data": {
      "text/plain": [
       "'AB'"
      ]
     },
     "execution_count": 45,
     "metadata": {},
     "output_type": "execute_result"
    }
   ],
   "source": [
    "# Set Default, majonly not preferable, rather students[4]=\"Hardin\" is more preferable\n",
    "students.setdefault(10,\"AB\") # it will affect original object(students), this like similar as: students[4]=\"Hardin\" "
   ]
  },
  {
   "cell_type": "code",
   "execution_count": 46,
   "id": "151f6623",
   "metadata": {},
   "outputs": [
    {
     "data": {
      "text/plain": [
       "{2: 'Alexa Smith', 3: 'Tessa', 5: 'Sen', 6: 'Mitu', 10: 'AB'}"
      ]
     },
     "execution_count": 46,
     "metadata": {},
     "output_type": "execute_result"
    }
   ],
   "source": [
    "students"
   ]
  },
  {
   "cell_type": "code",
   "execution_count": 48,
   "id": "e727bcc4",
   "metadata": {},
   "outputs": [
    {
     "data": {
      "text/plain": [
       "'John'"
      ]
     },
     "execution_count": 48,
     "metadata": {},
     "output_type": "execute_result"
    }
   ],
   "source": [
    "# str Key\n",
    "p1 = {\"Name\": \"John\", \"Age\":25} \n",
    "p1['Name']"
   ]
  },
  {
   "cell_type": "code",
   "execution_count": 50,
   "id": "7ffc7ad4",
   "metadata": {},
   "outputs": [
    {
     "ename": "KeyError",
     "evalue": "'name'",
     "output_type": "error",
     "traceback": [
      "\u001b[1;31m---------------------------------------------------------------------------\u001b[0m",
      "\u001b[1;31mKeyError\u001b[0m                                  Traceback (most recent call last)",
      "Input \u001b[1;32mIn [50]\u001b[0m, in \u001b[0;36m<cell line: 1>\u001b[1;34m()\u001b[0m\n\u001b[1;32m----> 1\u001b[0m \u001b[43mp1\u001b[49m\u001b[43m[\u001b[49m\u001b[38;5;124;43m'\u001b[39;49m\u001b[38;5;124;43mname\u001b[39;49m\u001b[38;5;124;43m'\u001b[39;49m\u001b[43m]\u001b[49m\n",
      "\u001b[1;31mKeyError\u001b[0m: 'name'"
     ]
    }
   ],
   "source": [
    "p1['name']  # value error due to case sensitive"
   ]
  },
  {
   "cell_type": "code",
   "execution_count": 51,
   "id": "fdf5639a",
   "metadata": {},
   "outputs": [
    {
     "data": {
      "text/plain": [
       "'John'"
      ]
     },
     "execution_count": 51,
     "metadata": {},
     "output_type": "execute_result"
    }
   ],
   "source": [
    "p1 = {\"Name\": \"John\", \"Age\": 26, 2.6: \"Alexa\" }  # float keys\n",
    "p1['Name']"
   ]
  },
  {
   "cell_type": "code",
   "execution_count": 52,
   "id": "92d74052",
   "metadata": {},
   "outputs": [
    {
     "data": {
      "text/plain": [
       "{'Name': 'John', 'Age': 26, 2.6: 'Alexa'}"
      ]
     },
     "execution_count": 52,
     "metadata": {},
     "output_type": "execute_result"
    }
   ],
   "source": [
    "p1"
   ]
  },
  {
   "cell_type": "markdown",
   "id": "ee51a14b",
   "metadata": {},
   "source": [
    "# Nested Data Structure"
   ]
  },
  {
   "cell_type": "markdown",
   "id": "5289f2bf",
   "metadata": {},
   "source": [
    "- Ref: 25_1002"
   ]
  },
  {
   "cell_type": "markdown",
   "id": "eced90d0",
   "metadata": {},
   "source": [
    "- Using list inside list\n",
    "- tuple inside list\n",
    "- list inside list\n",
    "- list inside dictionary\n",
    "- list inside set"
   ]
  },
  {
   "cell_type": "code",
   "execution_count": 2,
   "id": "094c147c",
   "metadata": {},
   "outputs": [
    {
     "data": {
      "text/plain": [
       "[[2, 3], [5, 7]]"
      ]
     },
     "execution_count": 2,
     "metadata": {},
     "output_type": "execute_result"
    }
   ],
   "source": [
    "# List of list (Matrix)\n",
    "matrix = [\n",
    "    [2, 3],\n",
    "    [5, 7]\n",
    "]\n",
    "matrix"
   ]
  },
  {
   "cell_type": "code",
   "execution_count": 3,
   "id": "f4d8a7e3",
   "metadata": {},
   "outputs": [
    {
     "name": "stdout",
     "output_type": "stream",
     "text": [
      "[2, 3]\n",
      "2\n",
      "3\n",
      "[5, 7]\n",
      "5\n",
      "7\n"
     ]
    }
   ],
   "source": [
    "# Accessing values from matrix\n",
    "print(matrix[0])\n",
    "print(matrix[0][0])\n",
    "print(matrix[0][1])\n",
    "print(matrix[1])\n",
    "print(matrix[1][0])\n",
    "print(matrix[1][1])"
   ]
  },
  {
   "cell_type": "markdown",
   "id": "c5ce55cc",
   "metadata": {},
   "source": [
    "### 3D/ 3 Dimenstion"
   ]
  },
  {
   "cell_type": "markdown",
   "id": "f2050ed4",
   "metadata": {},
   "source": [
    "- 3D is basically for image/ graphics (Each cell having values like RGB)"
   ]
  },
  {
   "cell_type": "code",
   "execution_count": 5,
   "id": "e113f077",
   "metadata": {},
   "outputs": [
    {
     "data": {
      "text/plain": [
       "[[[2, 3.5], 7], [7, 9]]"
      ]
     },
     "execution_count": 5,
     "metadata": {},
     "output_type": "execute_result"
    }
   ],
   "source": [
    "matrix = [\n",
    "    [[2, 3.5], 7],  # 3D, list inside list (first list, first row, then list)\n",
    "    [7, 9]\n",
    "]\n",
    "matrix"
   ]
  },
  {
   "cell_type": "code",
   "execution_count": 6,
   "id": "e391c664",
   "metadata": {},
   "outputs": [
    {
     "name": "stdout",
     "output_type": "stream",
     "text": [
      "[[2, 3.5], 7]\n",
      "[2, 3.5]\n",
      "2\n",
      "3.5\n",
      "[7, 9]\n",
      "7\n",
      "9\n"
     ]
    }
   ],
   "source": [
    "# Accessing Values \n",
    "print(matrix[0])\n",
    "print(matrix[0][0])\n",
    "print(matrix[0][0][0])\n",
    "print(matrix[0][0][1])\n",
    "print(matrix[1])\n",
    "print(matrix[1][0])\n",
    "print(matrix[1][1])"
   ]
  },
  {
   "cell_type": "code",
   "execution_count": 7,
   "id": "d542886f",
   "metadata": {},
   "outputs": [
    {
     "data": {
      "text/plain": [
       "[[{2, 2.8}, 3], [10, 15]]"
      ]
     },
     "execution_count": 7,
     "metadata": {},
     "output_type": "execute_result"
    }
   ],
   "source": [
    "# Set inside list\n",
    "matrix = [\n",
    "    [{2, 2.8}, 3],  # Set inside list\n",
    "    [10, 15]\n",
    "]\n",
    "matrix"
   ]
  },
  {
   "cell_type": "code",
   "execution_count": 8,
   "id": "4e7cb364",
   "metadata": {},
   "outputs": [
    {
     "ename": "TypeError",
     "evalue": "'set' object is not subscriptable",
     "output_type": "error",
     "traceback": [
      "\u001b[1;31m---------------------------------------------------------------------------\u001b[0m",
      "\u001b[1;31mTypeError\u001b[0m                                 Traceback (most recent call last)",
      "Input \u001b[1;32mIn [8]\u001b[0m, in \u001b[0;36m<cell line: 2>\u001b[1;34m()\u001b[0m\n\u001b[0;32m      1\u001b[0m \u001b[38;5;66;03m# Accessing Value - Now returns error for 3D, upto 2d is possible\u001b[39;00m\n\u001b[1;32m----> 2\u001b[0m \u001b[43mmatrix\u001b[49m\u001b[43m[\u001b[49m\u001b[38;5;241;43m0\u001b[39;49m\u001b[43m]\u001b[49m\u001b[43m[\u001b[49m\u001b[38;5;241;43m0\u001b[39;49m\u001b[43m]\u001b[49m\u001b[43m[\u001b[49m\u001b[38;5;241;43m0\u001b[39;49m\u001b[43m]\u001b[49m\n",
      "\u001b[1;31mTypeError\u001b[0m: 'set' object is not subscriptable"
     ]
    }
   ],
   "source": [
    "# Accessing Value - Now returns error for 3D, upto 2d is possible\n",
    "matrix[0][0][0]"
   ]
  },
  {
   "cell_type": "code",
   "execution_count": 9,
   "id": "4b248045",
   "metadata": {},
   "outputs": [
    {
     "name": "stdout",
     "output_type": "stream",
     "text": [
      "{2, 2.8}\n",
      "3\n",
      "[10, 15]\n",
      "10\n",
      "15\n"
     ]
    }
   ],
   "source": [
    "# Accessing value\n",
    "print(matrix[0][0])\n",
    "print(matrix[0][1])\n",
    "print(matrix[1])\n",
    "print(matrix[1][0])\n",
    "print(matrix[1][1])"
   ]
  },
  {
   "cell_type": "code",
   "execution_count": 10,
   "id": "0a3e5c98",
   "metadata": {},
   "outputs": [
    {
     "data": {
      "text/plain": [
       "[[{3, 7.5}, 3.5], [7, 9]]"
      ]
     },
     "execution_count": 10,
     "metadata": {},
     "output_type": "execute_result"
    }
   ],
   "source": [
    "# Tuple inside list\n",
    "matrix = [\n",
    "    [{3, 7.5}, (3.5)], # set & tuple inside list, set is in 1st row, 1st col; tuple is in 1st row, 2nd col\n",
    "    [7,9]\n",
    "]\n",
    "matrix"
   ]
  },
  {
   "cell_type": "code",
   "execution_count": 11,
   "id": "a03a782c",
   "metadata": {},
   "outputs": [
    {
     "name": "stdout",
     "output_type": "stream",
     "text": [
      "[{3, 7.5}, 3.5]\n",
      "{3, 7.5}\n",
      "3.5\n",
      "[7, 9]\n",
      "7\n",
      "9\n"
     ]
    }
   ],
   "source": [
    "# Accessing Value\n",
    "print(matrix[0])\n",
    "print(matrix[0][0])\n",
    "print(matrix[0][1])\n",
    "print(matrix[1])\n",
    "print(matrix[1][0])\n",
    "print(matrix[1][1])"
   ]
  },
  {
   "cell_type": "code",
   "execution_count": 12,
   "id": "26bd80fe",
   "metadata": {},
   "outputs": [
    {
     "data": {
      "text/plain": [
       "[[{5, 6.5}, (2, 4)], [8, 9]]"
      ]
     },
     "execution_count": 12,
     "metadata": {},
     "output_type": "execute_result"
    }
   ],
   "source": [
    "matrix1 = [\n",
    "    [{5, 6.5}, (2,4)],\n",
    "    [8, 9]\n",
    "]\n",
    "matrix1"
   ]
  },
  {
   "cell_type": "code",
   "execution_count": 13,
   "id": "b9ca6346",
   "metadata": {},
   "outputs": [
    {
     "ename": "TypeError",
     "evalue": "'tuple' object does not support item assignment",
     "output_type": "error",
     "traceback": [
      "\u001b[1;31m---------------------------------------------------------------------------\u001b[0m",
      "\u001b[1;31mTypeError\u001b[0m                                 Traceback (most recent call last)",
      "Input \u001b[1;32mIn [13]\u001b[0m, in \u001b[0;36m<cell line: 3>\u001b[1;34m()\u001b[0m\n\u001b[0;32m      1\u001b[0m \u001b[38;5;66;03m# Updating tuple (matrix 1)\u001b[39;00m\n\u001b[0;32m      2\u001b[0m matrix1[\u001b[38;5;241m0\u001b[39m][\u001b[38;5;241m1\u001b[39m]   \n\u001b[1;32m----> 3\u001b[0m matrix1[\u001b[38;5;241m0\u001b[39m][\u001b[38;5;241m1\u001b[39m][\u001b[38;5;241m0\u001b[39m] \u001b[38;5;241m=\u001b[39m \u001b[38;5;241m5\u001b[39m\n",
      "\u001b[1;31mTypeError\u001b[0m: 'tuple' object does not support item assignment"
     ]
    }
   ],
   "source": [
    "# Updating tuple (matrix 1)\n",
    "matrix1[0][1]   \n",
    "matrix1[0][1][0] = 5  # Error, becaause tuple are immutable"
   ]
  },
  {
   "cell_type": "code",
   "execution_count": 14,
   "id": "1a34b432",
   "metadata": {},
   "outputs": [
    {
     "data": {
      "text/plain": [
       "[[2, 3], [10, 15]]"
      ]
     },
     "execution_count": 14,
     "metadata": {},
     "output_type": "execute_result"
    }
   ],
   "source": [
    "matrix2 = [\n",
    "    [2, 3],  # Set inside list\n",
    "    [10, 15]\n",
    "]\n",
    "matrix2"
   ]
  },
  {
   "cell_type": "code",
   "execution_count": 15,
   "id": "c09b23c9",
   "metadata": {},
   "outputs": [
    {
     "data": {
      "text/plain": [
       "[[5, 3], [10, 15]]"
      ]
     },
     "execution_count": 15,
     "metadata": {},
     "output_type": "execute_result"
    }
   ],
   "source": [
    "# Updating tuple (matrix 2)\n",
    "matrix2[0][0]\n",
    "matrix2[0][0] = 5 # set value 2 updated to 5, because it mutable\n",
    "matrix2"
   ]
  },
  {
   "cell_type": "markdown",
   "id": "78d53040",
   "metadata": {},
   "source": [
    "# Conversion/ Type Conversion / Object Conversion"
   ]
  },
  {
   "cell_type": "markdown",
   "id": "d07c6143",
   "metadata": {},
   "source": [
    "- 25_1003"
   ]
  },
  {
   "cell_type": "code",
   "execution_count": 16,
   "id": "d4ab6f66",
   "metadata": {},
   "outputs": [
    {
     "data": {
      "text/plain": [
       "(2, 3, 5, 7, 8)"
      ]
     },
     "execution_count": 16,
     "metadata": {},
     "output_type": "execute_result"
    }
   ],
   "source": [
    "# List\n",
    "list = (2, 3, 5, 7, 8)\n",
    "list"
   ]
  },
  {
   "cell_type": "code",
   "execution_count": 17,
   "id": "0df8590a",
   "metadata": {},
   "outputs": [
    {
     "data": {
      "text/plain": [
       "(2, 3, 5, 7, 8)"
      ]
     },
     "execution_count": 17,
     "metadata": {},
     "output_type": "execute_result"
    }
   ],
   "source": [
    "# Conversion : list to Tuple\n",
    "tuple(list)"
   ]
  },
  {
   "cell_type": "code",
   "execution_count": 18,
   "id": "56705366",
   "metadata": {},
   "outputs": [
    {
     "ename": "TypeError",
     "evalue": "cannot convert dictionary update sequence element #0 to a sequence",
     "output_type": "error",
     "traceback": [
      "\u001b[1;31m---------------------------------------------------------------------------\u001b[0m",
      "\u001b[1;31mTypeError\u001b[0m                                 Traceback (most recent call last)",
      "Input \u001b[1;32mIn [18]\u001b[0m, in \u001b[0;36m<cell line: 2>\u001b[1;34m()\u001b[0m\n\u001b[0;32m      1\u001b[0m \u001b[38;5;66;03m# Conversion : list to Dictionary (Error), dict required key:value pair\u001b[39;00m\n\u001b[1;32m----> 2\u001b[0m \u001b[38;5;28;43mdict\u001b[39;49m\u001b[43m(\u001b[49m\u001b[38;5;28;43mlist\u001b[39;49m\u001b[43m)\u001b[49m\n",
      "\u001b[1;31mTypeError\u001b[0m: cannot convert dictionary update sequence element #0 to a sequence"
     ]
    }
   ],
   "source": [
    "# Conversion : list to Dictionary (Error), dict required key:value pair\n",
    "dict(list)"
   ]
  },
  {
   "cell_type": "code",
   "execution_count": 19,
   "id": "2425d518",
   "metadata": {},
   "outputs": [
    {
     "ename": "TypeError",
     "evalue": "'type' object is not iterable",
     "output_type": "error",
     "traceback": [
      "\u001b[1;31m---------------------------------------------------------------------------\u001b[0m",
      "\u001b[1;31mTypeError\u001b[0m                                 Traceback (most recent call last)",
      "Input \u001b[1;32mIn [19]\u001b[0m, in \u001b[0;36m<cell line: 1>\u001b[1;34m()\u001b[0m\n\u001b[1;32m----> 1\u001b[0m \u001b[38;5;28;43mset\u001b[39;49m\u001b[43m(\u001b[49m\u001b[38;5;28;43mtuple\u001b[39;49m\u001b[43m)\u001b[49m\n",
      "\u001b[1;31mTypeError\u001b[0m: 'type' object is not iterable"
     ]
    }
   ],
   "source": [
    "set(tuple) # tuple is immutable"
   ]
  },
  {
   "cell_type": "code",
   "execution_count": 20,
   "id": "97b26cfc",
   "metadata": {},
   "outputs": [
    {
     "data": {
      "text/plain": [
       "{2, 3, 5, 7, 8}"
      ]
     },
     "execution_count": 20,
     "metadata": {},
     "output_type": "execute_result"
    }
   ],
   "source": [
    "# Convert: list to set\n",
    "set(list)"
   ]
  },
  {
   "cell_type": "code",
   "execution_count": 21,
   "id": "7e72c9a9",
   "metadata": {},
   "outputs": [
    {
     "data": {
      "text/plain": [
       "{1: 1, 2: 4, 3: 3}"
      ]
     },
     "execution_count": 21,
     "metadata": {},
     "output_type": "execute_result"
    }
   ],
   "source": [
    "# Conversion: Dict by tuple inside tuple\n",
    "dict(((1,1), (2,4), (3,3)))   # tuple inside tuple(e.g key & value), This way we can do this"
   ]
  },
  {
   "cell_type": "markdown",
   "id": "e4ec0b5f",
   "metadata": {},
   "source": [
    "- In Dict: We cannot do indexcing, but we can iterate over it(loop)"
   ]
  },
  {
   "cell_type": "code",
   "execution_count": 22,
   "id": "207a6015",
   "metadata": {},
   "outputs": [
    {
     "data": {
      "text/plain": [
       "{1: 1, 2: 4, 3: 3}"
      ]
     },
     "execution_count": 22,
     "metadata": {},
     "output_type": "execute_result"
    }
   ],
   "source": [
    "dict([[1,1], [2,4], [3,3]]) # This is also possibe, but we prefer tuple because its immutable, new value cant add into it, where as in set new value can be added"
   ]
  },
  {
   "cell_type": "markdown",
   "id": "f70c4e5d",
   "metadata": {},
   "source": [
    "- tuple is preferable, because of immutable, which is secured for mapping"
   ]
  }
 ],
 "metadata": {
  "kernelspec": {
   "display_name": "Python 3 (ipykernel)",
   "language": "python",
   "name": "python3"
  },
  "language_info": {
   "codemirror_mode": {
    "name": "ipython",
    "version": 3
   },
   "file_extension": ".py",
   "mimetype": "text/x-python",
   "name": "python",
   "nbconvert_exporter": "python",
   "pygments_lexer": "ipython3",
   "version": "3.9.12"
  },
  "vscode": {
   "interpreter": {
    "hash": "c19fa61d258bb2b35aae2ada233c33e2817c1ce895aa48acba720c6bf7cbe3cb"
   }
  }
 },
 "nbformat": 4,
 "nbformat_minor": 5
}
