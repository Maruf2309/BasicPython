{
 "cells": [
  {
   "cell_type": "markdown",
   "id": "b0dd67a0",
   "metadata": {},
   "source": [
    "# Nested Data Structure"
   ]
  },
  {
   "cell_type": "markdown",
   "id": "c097ca43",
   "metadata": {},
   "source": [
    "- Ref: 25_1002"
   ]
  },
  {
   "cell_type": "markdown",
   "id": "58730cdd",
   "metadata": {},
   "source": [
    "- Using list inside list\n",
    "- tuple inside list\n",
    "- list inside list\n",
    "- list inside dictionary\n",
    "- list inside set"
   ]
  },
  {
   "cell_type": "code",
   "execution_count": 1,
   "id": "bc4ed318",
   "metadata": {},
   "outputs": [
    {
     "data": {
      "text/plain": [
       "[[2, 3], [5, 7]]"
      ]
     },
     "execution_count": 1,
     "metadata": {},
     "output_type": "execute_result"
    }
   ],
   "source": [
    "# List of list (Matrix)\n",
    "matrix = [\n",
    "    [2, 3],\n",
    "    [5, 7]\n",
    "]\n",
    "matrix"
   ]
  },
  {
   "cell_type": "code",
   "execution_count": 9,
   "id": "e7de81d8",
   "metadata": {},
   "outputs": [
    {
     "name": "stdout",
     "output_type": "stream",
     "text": [
      "[2, 3]\n",
      "2\n",
      "3\n",
      "[5, 7]\n",
      "5\n",
      "7\n"
     ]
    }
   ],
   "source": [
    "# Accessing values from matrix\n",
    "print(matrix[0])\n",
    "print(matrix[0][0])\n",
    "print(matrix[0][1])\n",
    "print(matrix[1])\n",
    "print(matrix[1][0])\n",
    "print(matrix[1][1])"
   ]
  },
  {
   "cell_type": "markdown",
   "id": "af788965",
   "metadata": {},
   "source": [
    "### 3D/ 3 Dimenstion"
   ]
  },
  {
   "cell_type": "markdown",
   "id": "bb57e1b1",
   "metadata": {},
   "source": [
    "- 3D is basically for image/ graphics (Each cell having values like RGB)"
   ]
  },
  {
   "cell_type": "code",
   "execution_count": 10,
   "id": "971f836a",
   "metadata": {},
   "outputs": [
    {
     "data": {
      "text/plain": [
       "[[[2, 3.5], 7], [7, 9]]"
      ]
     },
     "execution_count": 10,
     "metadata": {},
     "output_type": "execute_result"
    }
   ],
   "source": [
    "matrix = [\n",
    "    [[2, 3.5], 7],  # 3D, list inside list (first list, first row, then list)\n",
    "    [7, 9]\n",
    "]\n",
    "matrix"
   ]
  },
  {
   "cell_type": "code",
   "execution_count": 18,
   "id": "125a1963",
   "metadata": {},
   "outputs": [
    {
     "name": "stdout",
     "output_type": "stream",
     "text": [
      "[[2, 3.5], 7]\n",
      "[2, 3.5]\n",
      "2\n",
      "3.5\n",
      "[7, 9]\n",
      "7\n",
      "9\n"
     ]
    }
   ],
   "source": [
    "# Accessing Values \n",
    "print(matrix[0])\n",
    "print(matrix[0][0])\n",
    "print(matrix[0][0][0])\n",
    "print(matrix[0][0][1])\n",
    "print(matrix[1])\n",
    "print(matrix[1][0])\n",
    "print(matrix[1][1])"
   ]
  },
  {
   "cell_type": "code",
   "execution_count": 19,
   "id": "84b9d516",
   "metadata": {},
   "outputs": [
    {
     "data": {
      "text/plain": [
       "[[{2, 2.8}, 3], [10, 15]]"
      ]
     },
     "execution_count": 19,
     "metadata": {},
     "output_type": "execute_result"
    }
   ],
   "source": [
    "# Set inside list\n",
    "matrix = [\n",
    "    [{2, 2.8}, 3],  # Set inside list\n",
    "    [10, 15]\n",
    "]\n",
    "matrix"
   ]
  },
  {
   "cell_type": "code",
   "execution_count": 21,
   "id": "80de4c94",
   "metadata": {},
   "outputs": [
    {
     "ename": "TypeError",
     "evalue": "'set' object is not subscriptable",
     "output_type": "error",
     "traceback": [
      "\u001b[1;31m---------------------------------------------------------------------------\u001b[0m",
      "\u001b[1;31mTypeError\u001b[0m                                 Traceback (most recent call last)",
      "\u001b[1;32m~\\AppData\\Local\\Temp/ipykernel_14000/164479072.py\u001b[0m in \u001b[0;36m<module>\u001b[1;34m\u001b[0m\n\u001b[0;32m      1\u001b[0m \u001b[1;31m# Accessing Value - Now returns error for 3D, upto 2d is possible\u001b[0m\u001b[1;33m\u001b[0m\u001b[1;33m\u001b[0m\u001b[0m\n\u001b[1;32m----> 2\u001b[1;33m \u001b[0mmatrix\u001b[0m\u001b[1;33m[\u001b[0m\u001b[1;36m0\u001b[0m\u001b[1;33m]\u001b[0m\u001b[1;33m[\u001b[0m\u001b[1;36m0\u001b[0m\u001b[1;33m]\u001b[0m\u001b[1;33m[\u001b[0m\u001b[1;36m0\u001b[0m\u001b[1;33m]\u001b[0m\u001b[1;33m\u001b[0m\u001b[1;33m\u001b[0m\u001b[0m\n\u001b[0m",
      "\u001b[1;31mTypeError\u001b[0m: 'set' object is not subscriptable"
     ]
    }
   ],
   "source": [
    "# Accessing Value - Now returns error for 3D, upto 2d is possible\n",
    "matrix[0][0][0]"
   ]
  },
  {
   "cell_type": "code",
   "execution_count": 28,
   "id": "fb7a56ab",
   "metadata": {},
   "outputs": [
    {
     "name": "stdout",
     "output_type": "stream",
     "text": [
      "{2, 2.8}\n",
      "3\n",
      "[10, 15]\n",
      "10\n",
      "15\n"
     ]
    }
   ],
   "source": [
    "# Accessing value\n",
    "print(matrix[0][0])\n",
    "print(matrix[0][1])\n",
    "print(matrix[1])\n",
    "print(matrix[1][0])\n",
    "print(matrix[1][1])"
   ]
  },
  {
   "cell_type": "code",
   "execution_count": 36,
   "id": "b6d38232",
   "metadata": {},
   "outputs": [
    {
     "data": {
      "text/plain": [
       "[[{3, 7.5}, 3.5], [7, 9]]"
      ]
     },
     "execution_count": 36,
     "metadata": {},
     "output_type": "execute_result"
    }
   ],
   "source": [
    "# Tuple inside list\n",
    "matrix = [\n",
    "    [{3, 7.5}, (3.5)], # set & tuple inside list, set is in 1st row, 1st col; tuple is in 1st row, 2nd col\n",
    "    [7,9]\n",
    "]\n",
    "matrix"
   ]
  },
  {
   "cell_type": "code",
   "execution_count": 35,
   "id": "6f0aa84a",
   "metadata": {},
   "outputs": [
    {
     "name": "stdout",
     "output_type": "stream",
     "text": [
      "[{3, 7.5}, 3.5]\n",
      "{3, 7.5}\n",
      "3.5\n",
      "[7, 9]\n",
      "7\n",
      "9\n"
     ]
    }
   ],
   "source": [
    "# Accessing Value\n",
    "print(matrix[0])\n",
    "print(matrix[0][0])\n",
    "print(matrix[0][1])\n",
    "print(matrix[1])\n",
    "print(matrix[1][0])\n",
    "print(matrix[1][1])"
   ]
  },
  {
   "cell_type": "code",
   "execution_count": 48,
   "id": "e30f3fe6",
   "metadata": {},
   "outputs": [
    {
     "data": {
      "text/plain": [
       "[[{5, 6.5}, (2, 4)], [8, 9]]"
      ]
     },
     "execution_count": 48,
     "metadata": {},
     "output_type": "execute_result"
    }
   ],
   "source": [
    "matrix1 = [\n",
    "    [{5, 6.5}, (2,4)],\n",
    "    [8, 9]\n",
    "]\n",
    "matrix1"
   ]
  },
  {
   "cell_type": "code",
   "execution_count": 39,
   "id": "e388fa82",
   "metadata": {},
   "outputs": [
    {
     "ename": "TypeError",
     "evalue": "'tuple' object does not support item assignment",
     "output_type": "error",
     "traceback": [
      "\u001b[1;31m---------------------------------------------------------------------------\u001b[0m",
      "\u001b[1;31mTypeError\u001b[0m                                 Traceback (most recent call last)",
      "\u001b[1;32m~\\AppData\\Local\\Temp/ipykernel_14000/1096057188.py\u001b[0m in \u001b[0;36m<module>\u001b[1;34m\u001b[0m\n\u001b[0;32m      1\u001b[0m \u001b[1;31m# Updating tuple (matrix 1)\u001b[0m\u001b[1;33m\u001b[0m\u001b[1;33m\u001b[0m\u001b[0m\n\u001b[0;32m      2\u001b[0m \u001b[0mmatrix1\u001b[0m\u001b[1;33m[\u001b[0m\u001b[1;36m0\u001b[0m\u001b[1;33m]\u001b[0m\u001b[1;33m[\u001b[0m\u001b[1;36m1\u001b[0m\u001b[1;33m]\u001b[0m\u001b[1;33m\u001b[0m\u001b[1;33m\u001b[0m\u001b[0m\n\u001b[1;32m----> 3\u001b[1;33m \u001b[0mmatrix1\u001b[0m\u001b[1;33m[\u001b[0m\u001b[1;36m0\u001b[0m\u001b[1;33m]\u001b[0m\u001b[1;33m[\u001b[0m\u001b[1;36m1\u001b[0m\u001b[1;33m]\u001b[0m\u001b[1;33m[\u001b[0m\u001b[1;36m0\u001b[0m\u001b[1;33m]\u001b[0m \u001b[1;33m=\u001b[0m \u001b[1;36m5\u001b[0m  \u001b[1;31m# Error, becaause tuple are immutable\u001b[0m\u001b[1;33m\u001b[0m\u001b[1;33m\u001b[0m\u001b[0m\n\u001b[0m",
      "\u001b[1;31mTypeError\u001b[0m: 'tuple' object does not support item assignment"
     ]
    }
   ],
   "source": [
    "# Updating tuple (matrix 1)\n",
    "matrix1[0][1]   \n",
    "matrix1[0][1][0] = 5  # Error, becaause tuple are immutable"
   ]
  },
  {
   "cell_type": "code",
   "execution_count": 43,
   "id": "7f3dfd87",
   "metadata": {},
   "outputs": [
    {
     "data": {
      "text/plain": [
       "[[2, 3], [10, 15]]"
      ]
     },
     "execution_count": 43,
     "metadata": {},
     "output_type": "execute_result"
    }
   ],
   "source": [
    "matrix2 = [\n",
    "    [2, 3],  # Set inside list\n",
    "    [10, 15]\n",
    "]\n",
    "matrix2"
   ]
  },
  {
   "cell_type": "code",
   "execution_count": 47,
   "id": "2c61acab",
   "metadata": {},
   "outputs": [
    {
     "data": {
      "text/plain": [
       "[[5, 3], [10, 15]]"
      ]
     },
     "execution_count": 47,
     "metadata": {},
     "output_type": "execute_result"
    }
   ],
   "source": [
    "# Updating tuple (matrix 2)\n",
    "matrix2[0][0]\n",
    "matrix2[0][0] = 5 # set value 2 updated to 5, because it mutable\n",
    "matrix2"
   ]
  },
  {
   "cell_type": "code",
   "execution_count": null,
   "id": "bce11a28",
   "metadata": {},
   "outputs": [],
   "source": []
  }
 ],
 "metadata": {
  "kernelspec": {
   "display_name": "Python 3 (ipykernel)",
   "language": "python",
   "name": "python3"
  },
  "language_info": {
   "codemirror_mode": {
    "name": "ipython",
    "version": 3
   },
   "file_extension": ".py",
   "mimetype": "text/x-python",
   "name": "python",
   "nbconvert_exporter": "python",
   "pygments_lexer": "ipython3",
   "version": "3.9.7"
  }
 },
 "nbformat": 4,
 "nbformat_minor": 5
}
