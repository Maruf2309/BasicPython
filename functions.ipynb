{
 "cells": [
  {
   "attachments": {},
   "cell_type": "markdown",
   "metadata": {},
   "source": [
    "# Python Function"
   ]
  },
  {
   "attachments": {},
   "cell_type": "markdown",
   "metadata": {},
   "source": [
    "- Basic About Function\n",
    "- Single / Independent Function\n",
    "- Function wiht Arguments\n",
    "- Dynamic Function\n",
    "- Parameter vs Arguments\n",
    "- Print vs Return\n",
    "- Function with Dynamic Arguments\n",
    "- Arbitrary / Keyword Argurments | kwargs | * & **\n",
    "- The Pass Statement\n",
    "- Recursion\n",
    "- Real life Case"
   ]
  },
  {
   "attachments": {},
   "cell_type": "markdown",
   "metadata": {},
   "source": [
    "## Basic of Function"
   ]
  },
  {
   "attachments": {},
   "cell_type": "markdown",
   "metadata": {},
   "source": [
    "- A function is a block of code which only runs when it is called.\n",
    "- You can pass data, known as parameters, into a function.\n",
    "- A function can return data as a result.\n",
    "- In Python a function is defined using the def keyword\n",
    "- A function needs a function name & need to call\n",
    "- Function name must be as per varible name e.g it can not be started with a number\n",
    "- To call a function, use the function name followed by parenthesis:"
   ]
  },
  {
   "attachments": {},
   "cell_type": "markdown",
   "metadata": {},
   "source": [
    "## Indepdent Fuction - without any argument"
   ]
  },
  {
   "attachments": {},
   "cell_type": "markdown",
   "metadata": {},
   "source": [
    "### Excercise 1"
   ]
  },
  {
   "cell_type": "code",
   "execution_count": 2,
   "metadata": {},
   "outputs": [],
   "source": [
    "# Definition of Function,  Defining a function name as \"Greet\"\n",
    "def greet():\n",
    "    print('Good Morning')\n",
    "    print('Welcome !')\n",
    "    print(\"How may I help you?\")"
   ]
  },
  {
   "cell_type": "code",
   "execution_count": 3,
   "metadata": {},
   "outputs": [
    {
     "name": "stdout",
     "output_type": "stream",
     "text": [
      "Good Morning\n",
      "Welcome !\n",
      "How may I help you?\n"
     ]
    }
   ],
   "source": [
    "# Calling a Fuction\n",
    "greet()  # To call a function, use the function name followed by parenthesis"
   ]
  },
  {
   "cell_type": "code",
   "execution_count": 4,
   "metadata": {},
   "outputs": [],
   "source": [
    "def my_function():\n",
    "    print(\"Hi\")"
   ]
  },
  {
   "cell_type": "code",
   "execution_count": 5,
   "metadata": {},
   "outputs": [
    {
     "name": "stdout",
     "output_type": "stream",
     "text": [
      "Hi\n"
     ]
    }
   ],
   "source": [
    "my_function()"
   ]
  },
  {
   "attachments": {},
   "cell_type": "markdown",
   "metadata": {},
   "source": [
    "# Function with Arguments"
   ]
  },
  {
   "attachments": {},
   "cell_type": "markdown",
   "metadata": {},
   "source": [
    "- Information can be passed into functions as arguments\n",
    "- Arguments are specified after the function name, inside the parentheses. You can add as many arguments as you want, just separate them with a comma.\n",
    "- Arguments are often shortened to args in Python documentations.\n"
   ]
  },
  {
   "attachments": {},
   "cell_type": "markdown",
   "metadata": {},
   "source": [
    "### Exercise 2"
   ]
  },
  {
   "cell_type": "code",
   "execution_count": 6,
   "metadata": {},
   "outputs": [
    {
     "name": "stdout",
     "output_type": "stream",
     "text": [
      "Email Test\n",
      "Devid Test\n",
      "Linda Test\n"
     ]
    }
   ],
   "source": [
    "def my_function(fname):     \n",
    "    print(fname + \" Test\")  # Test will be added for each\n",
    "\n",
    "my_function('Email')\n",
    "my_function(\"Devid\")\n",
    "my_function('Linda')\n"
   ]
  },
  {
   "cell_type": "code",
   "execution_count": 7,
   "metadata": {},
   "outputs": [
    {
     "name": "stdout",
     "output_type": "stream",
     "text": [
      "Email Test2\n"
     ]
    }
   ],
   "source": [
    "def my_function(fname, lname):\n",
    "    print (fname + \" \" + lname)\n",
    "\n",
    "my_function(\"Email\", \"Test2\")"
   ]
  },
  {
   "cell_type": "code",
   "execution_count": 8,
   "metadata": {},
   "outputs": [
    {
     "name": "stdout",
     "output_type": "stream",
     "text": [
      "Email Test2\n"
     ]
    }
   ],
   "source": [
    "my_function(\"Email\", \"Test2\")"
   ]
  },
  {
   "attachments": {},
   "cell_type": "markdown",
   "metadata": {},
   "source": [
    "## Parameters or Arguments?"
   ]
  },
  {
   "attachments": {},
   "cell_type": "markdown",
   "metadata": {},
   "source": [
    "- The terms parameter and argument can be used for the same thing: information that are passed into a function.\n",
    "- From a function's perspective:\n",
    "- A parameter is the variable listed inside the parentheses in the function definition.\n",
    "- An argument is the value that is sent to the function when it is called."
   ]
  },
  {
   "attachments": {},
   "cell_type": "markdown",
   "metadata": {},
   "source": [
    "### Exercise 3"
   ]
  },
  {
   "attachments": {},
   "cell_type": "markdown",
   "metadata": {},
   "source": [
    "- Function can be any data, variable or we can provide function inside function"
   ]
  },
  {
   "cell_type": "code",
   "execution_count": 9,
   "metadata": {},
   "outputs": [],
   "source": [
    "def is_even (num:int) -> bool:         # def: defining fn, is_even: is a fn name; (num:int): its a perameter, it will take any number and check odd or even;  -> its mean retun type, it will return boolien\n",
    "    if num%2 == 0:\n",
    "        return True\n",
    "    else:\n",
    "        return False  "
   ]
  },
  {
   "attachments": {},
   "cell_type": "markdown",
   "metadata": {},
   "source": [
    "- (num:int) > this is patermeter, two togehter is here is parameter\n",
    "- is_even(5) > Passing values/ somenting indise parantheise is called arguremnts"
   ]
  },
  {
   "cell_type": "code",
   "execution_count": 10,
   "metadata": {},
   "outputs": [],
   "source": [
    "# is_even()  # it will return a Type Error, becasue any number need to pass inside this   # is_even() missing 1 required positional argument: 'num'"
   ]
  },
  {
   "cell_type": "code",
   "execution_count": 11,
   "metadata": {},
   "outputs": [
    {
     "data": {
      "text/plain": [
       "False"
      ]
     },
     "execution_count": 11,
     "metadata": {},
     "output_type": "execute_result"
    }
   ],
   "source": [
    "is_even(5)  # False because the number is odd"
   ]
  },
  {
   "cell_type": "code",
   "execution_count": 12,
   "metadata": {},
   "outputs": [
    {
     "data": {
      "text/plain": [
       "True"
      ]
     },
     "execution_count": 12,
     "metadata": {},
     "output_type": "execute_result"
    }
   ],
   "source": [
    "is_even(20)  # True, becasue the number is even"
   ]
  },
  {
   "cell_type": "code",
   "execution_count": 14,
   "metadata": {},
   "outputs": [],
   "source": [
    "# is_even(2,3,4,5,6)  # will return typeError, this can be soved with \"Dynamic Arguments\"  >> Positional Argms"
   ]
  },
  {
   "attachments": {},
   "cell_type": "markdown",
   "metadata": {},
   "source": [
    "# Function with Dynamic Arguments"
   ]
  },
  {
   "attachments": {},
   "cell_type": "markdown",
   "metadata": {},
   "source": [
    "### Excercise 1"
   ]
  },
  {
   "cell_type": "code",
   "execution_count": null,
   "metadata": {},
   "outputs": [],
   "source": [
    "def is_even(*num:int) -> bool:   # * means return all/ Multiple values\n",
    "    print(num)\n",
    "    if num%2==0:\n",
    "        return True\n",
    "    else:\n",
    "        return False"
   ]
  },
  {
   "cell_type": "code",
   "execution_count": 15,
   "metadata": {},
   "outputs": [],
   "source": [
    "# is_even(2,3,4,5,6,7) # This will return error, becasue of tuple & int, need to apply loop"
   ]
  },
  {
   "attachments": {},
   "cell_type": "markdown",
   "metadata": {},
   "source": [
    "### Excercise 2"
   ]
  },
  {
   "cell_type": "code",
   "execution_count": null,
   "metadata": {},
   "outputs": [],
   "source": [
    "def is_even(*nums:int) -> bool:     \n",
    "    for num in nums:\n",
    "        if num%2==0:\n",
    "            return True\n",
    "        else:\n",
    "            return False"
   ]
  },
  {
   "cell_type": "code",
   "execution_count": null,
   "metadata": {},
   "outputs": [
    {
     "data": {
      "text/plain": [
       "True"
      ]
     },
     "execution_count": 33,
     "metadata": {},
     "output_type": "execute_result"
    }
   ],
   "source": [
    "is_even(2,3,4,5,6,7)  # Now ok, but retured only one, becasue the reasone is \"Return\" becasue when the Return fn executed then the funtioned will be closed, return means end/ exit of funciton, for this need to create a list"
   ]
  },
  {
   "attachments": {},
   "cell_type": "markdown",
   "metadata": {},
   "source": [
    "### Excercise 3"
   ]
  },
  {
   "cell_type": "code",
   "execution_count": null,
   "metadata": {},
   "outputs": [],
   "source": [
    "def is_even(*nums:int) -> list:    # instead of bool, will return/ create a list, which will store all nums results\n",
    "    results = []                 # [] square / will store all results\n",
    "    for num in nums:\n",
    "        if num%2==0:\n",
    "            results.append(True)\n",
    "        else:\n",
    "            results.append(False)\n",
    "    return results                 # at the end out of loop we will return results or list of result"
   ]
  },
  {
   "cell_type": "code",
   "execution_count": null,
   "metadata": {},
   "outputs": [
    {
     "data": {
      "text/plain": [
       "[True, False, True, False, True, False]"
      ]
     },
     "execution_count": 36,
     "metadata": {},
     "output_type": "execute_result"
    }
   ],
   "source": [
    "is_even(2,3,4,5,6,7)"
   ]
  },
  {
   "attachments": {},
   "cell_type": "markdown",
   "metadata": {},
   "source": [
    "# Dynamic Arguments"
   ]
  },
  {
   "cell_type": "code",
   "execution_count": null,
   "metadata": {},
   "outputs": [],
   "source": [
    "def login(name, email):   # May be there might be more args we dont know, then to manage this order we use Keyword Arguments,  # return type not mentioned by  the  sign  ->\n",
    "    print(\"Name: \", name)\n",
    "    print(\"Email: \", email)   "
   ]
  },
  {
   "cell_type": "code",
   "execution_count": null,
   "metadata": {},
   "outputs": [
    {
     "name": "stdout",
     "output_type": "stream",
     "text": [
      "Name:  user@gmail.com\n",
      "Email:  John\n"
     ]
    }
   ],
   "source": [
    "login('user@gmail.com', 'John')  # Lets say by mistake email write first then Name"
   ]
  },
  {
   "cell_type": "code",
   "execution_count": null,
   "metadata": {},
   "outputs": [
    {
     "name": "stdout",
     "output_type": "stream",
     "text": [
      "Name:  user@gmail.com\n",
      "Email:  John\n",
      "Phone:  0107\n"
     ]
    }
   ],
   "source": [
    "def login(name, email, phone):   # May be there might be more args we dont know, then to manage this order we use Keyword Arguments\n",
    "    print(\"Name: \", name)\n",
    "    print(\"Email: \", email)\n",
    "    print('Phone: ', phone)   \n",
    "\n",
    "login('user@gmail.com', 'John', '0107' )"
   ]
  },
  {
   "cell_type": "code",
   "execution_count": 18,
   "metadata": {},
   "outputs": [],
   "source": [
    "# Error Verified\n",
    "# def login(name, email, phone):      # Return Typeerror, becasue 3 parameter passed & called by 2 arguments\n",
    "#     print(\"Name: \", name)\n",
    "#     print(\"Email: \", email)\n",
    "# login('user@gmail.com', 'John')     # Number of parameter & arguments must be same"
   ]
  },
  {
   "cell_type": "code",
   "execution_count": null,
   "metadata": {},
   "outputs": [
    {
     "name": "stdout",
     "output_type": "stream",
     "text": [
      "{'email': 'user@gmail.com', 'name': 'John', 'phone': '0174'}\n"
     ]
    }
   ],
   "source": [
    "def login(**kwargs):   # 1st start for key & 2nd star for values\n",
    "    print(kwargs)\n",
    "\n",
    "\n",
    "login(email='user@gmail.com', name='John', phone='0174')"
   ]
  },
  {
   "attachments": {},
   "cell_type": "markdown",
   "metadata": {},
   "source": [
    "### Excercise 2 | ** kwargs"
   ]
  },
  {
   "attachments": {},
   "cell_type": "markdown",
   "metadata": {},
   "source": [
    "- for order management we used, keywork args\n",
    "- But when lots of param / unknown parameters (like user name, email, phone, gender, addres... n ), then for example I dont know what kind of info will be provided or asked, then we use Keyword args\n",
    "- For keyword args we can use as (**kwargs) or  any name can be provide intead of writing'kwargs', but kwargs is standard name. While double star  ** is must to used\n",
    "- Using ** is mendatory : 1st Star for Key & 2nd Star for values- As Dictionary\n",
    "- It will provide the information for any order by using keyword args"
   ]
  },
  {
   "cell_type": "code",
   "execution_count": 19,
   "metadata": {},
   "outputs": [],
   "source": [
    "def login (**kwargs):\n",
    "    print(kwargs)"
   ]
  },
  {
   "cell_type": "code",
   "execution_count": 20,
   "metadata": {},
   "outputs": [
    {
     "name": "stdout",
     "output_type": "stream",
     "text": [
      "{'email': 'user@gmail.com', 'name': 'John', 'phone': '01717'}\n"
     ]
    }
   ],
   "source": [
    "login(email='user@gmail.com', name='John', phone = '01717')  # retuna as dict, multiple items can be printed together"
   ]
  },
  {
   "attachments": {},
   "cell_type": "markdown",
   "metadata": {},
   "source": [
    "### Excercise 3 : Iteration over kwargs"
   ]
  },
  {
   "cell_type": "code",
   "execution_count": 23,
   "metadata": {},
   "outputs": [
    {
     "name": "stdout",
     "output_type": "stream",
     "text": [
      "email > john@gmail.com\n",
      "name > John\n",
      "phone > 0171722XXXX\n",
      "country > Bangladesh\n",
      "age > 37\n",
      "email2 > user2@gmail.com\n"
     ]
    }
   ],
   "source": [
    "def login(**kwargs):\n",
    "    for key, value in kwargs.items():\n",
    "        print(key,\">\", value)\n",
    "\n",
    "login(email='john@gmail.com', name='John', phone = '0171722XXXX', country = 'Bangladesh', age= 37, email2='user2@gmail.com')   # As per requirement dynamic values can be printed, we can handle this by dynamic keywords agrs"
   ]
  },
  {
   "attachments": {},
   "cell_type": "markdown",
   "metadata": {},
   "source": [
    "### Excercise 4"
   ]
  },
  {
   "attachments": {},
   "cell_type": "markdown",
   "metadata": {},
   "source": [
    "- Lets say, need to define a function, where dynamic args (*) & dynamic kwargs(**) both are to be used\n",
    "- Then dynamic args (*) must write first followedd by kwargs** - When both the order is mendatory, but in case of single application dynamic kewword (*) is optional\n",
    "- we can not use dynamic args after keyword args\n",
    "- Dynamic Args (*) always write first\n",
    "- kwargs (**) always writes last"
   ]
  },
  {
   "cell_type": "code",
   "execution_count": 24,
   "metadata": {},
   "outputs": [
    {
     "name": "stdout",
     "output_type": "stream",
     "text": [
      "email > john@gmail.com\n",
      "name > John\n",
      "phone > 0171722XXXXX\n",
      "country > Bangladesh\n",
      "age > 37\n",
      "email2 > user2@gmail.com\n"
     ]
    }
   ],
   "source": [
    "def login(*nums, **kwargs):\n",
    "    for key, value in kwargs.items():\n",
    "        print(key,\">\", value)\n",
    "\n",
    "login(email='john@gmail.com', name='John', phone = '0171722XXXXX', country = 'Bangladesh', age= 37, email2='user2@gmail.com')   "
   ]
  },
  {
   "cell_type": "code",
   "execution_count": 25,
   "metadata": {},
   "outputs": [
    {
     "name": "stdout",
     "output_type": "stream",
     "text": [
      "email > john@gmail.com\n",
      "name > John\n",
      "phone > 0171722XXXXX\n",
      "country > Bangladesh\n",
      "age > 37\n",
      "email2 > user2@gmail.com\n"
     ]
    }
   ],
   "source": [
    "def login (**kwargs):    # It will work, because * is optional when single application\n",
    "    for key, value in kwargs.items():\n",
    "        print(key, \">\", value)\n",
    "\n",
    "login(email='john@gmail.com', name='John', phone = '0171722XXXXX', country = 'Bangladesh', age= 37, email2='user2@gmail.com')   "
   ]
  },
  {
   "cell_type": "code",
   "execution_count": 26,
   "metadata": {},
   "outputs": [],
   "source": [
    "# def login (**kwargs, *nums):  #  Return SyntaxError, becasue of failing order, we can not use dynamic args after keyword args\n",
    "#     for key, value in kwargs.items():\n",
    "#         print(key, \">\", value)"
   ]
  },
  {
   "attachments": {},
   "cell_type": "markdown",
   "metadata": {},
   "source": [
    "# Arbitrary Keyword Arguments, **kwargs"
   ]
  },
  {
   "attachments": {},
   "cell_type": "markdown",
   "metadata": {},
   "source": [
    "- If you do not know how many keyword arguments that will be passed into your function, add two asterisk: ** before the parameter name in the function definition\n",
    "- This way the function will receive a dictionary of arguments, and can access the items accordingly:"
   ]
  },
  {
   "cell_type": "code",
   "execution_count": null,
   "metadata": {},
   "outputs": [
    {
     "name": "stdout",
     "output_type": "stream",
     "text": [
      "His last name is Alex\n"
     ]
    }
   ],
   "source": [
    "def my_function(**kid):\n",
    "  print(\"His last name is \" + kid[\"lname\"])\n",
    "\n",
    "my_function(fname = \"Tobias\", lname = \"Alex\")"
   ]
  },
  {
   "attachments": {},
   "cell_type": "markdown",
   "metadata": {},
   "source": [
    "### Excercise 4"
   ]
  },
  {
   "cell_type": "code",
   "execution_count": null,
   "metadata": {},
   "outputs": [
    {
     "name": "stdout",
     "output_type": "stream",
     "text": [
      "The Youngest Clild is Linda\n"
     ]
    }
   ],
   "source": [
    "def my_function (*kids):\n",
    "    print('The Youngest Clild is ' + kids[2])\n",
    "\n",
    "my_function(\"Roki\", \"John\", \"Linda\")"
   ]
  },
  {
   "cell_type": "code",
   "execution_count": null,
   "metadata": {},
   "outputs": [
    {
     "name": "stdout",
     "output_type": "stream",
     "text": [
      "The Youngest Clild is Roki\n"
     ]
    }
   ],
   "source": [
    "def my_function (*kids):\n",
    "    print('The Youngest Clild is ' + kids[0])\n",
    "\n",
    "my_function(\"Roki\", \"John\", \"Linda\")"
   ]
  },
  {
   "cell_type": "code",
   "execution_count": null,
   "metadata": {},
   "outputs": [
    {
     "name": "stdout",
     "output_type": "stream",
     "text": [
      "The Youngest Clild is John\n"
     ]
    }
   ],
   "source": [
    "def my_function (*kids):\n",
    "    print('The Youngest Clild is ' + kids[1])\n",
    "\n",
    "my_function(\"Roki\", \"John\", \"Linda\")"
   ]
  },
  {
   "attachments": {},
   "cell_type": "markdown",
   "metadata": {},
   "source": [
    "## Print vs Return"
   ]
  },
  {
   "attachments": {},
   "cell_type": "markdown",
   "metadata": {},
   "source": [
    "- Print just show the value as you want to see, you can not store the print result, print not return anything\n",
    "- Return is printing something which can be stored too, like someone gives you something at your hand, then you can save it, process it and you can use it whenever you want"
   ]
  },
  {
   "cell_type": "code",
   "execution_count": null,
   "metadata": {},
   "outputs": [
    {
     "data": {
      "text/plain": [
       "True"
      ]
     },
     "execution_count": 20,
     "metadata": {},
     "output_type": "execute_result"
    }
   ],
   "source": [
    "# Return, stored in var \n",
    "var1 = is_even(4)\n",
    "var1"
   ]
  },
  {
   "attachments": {},
   "cell_type": "markdown",
   "metadata": {},
   "source": [
    "# A Function with Two Parameter"
   ]
  },
  {
   "attachments": {},
   "cell_type": "markdown",
   "metadata": {},
   "source": [
    "### Excercise 1: Divisible Check"
   ]
  },
  {
   "cell_type": "code",
   "execution_count": null,
   "metadata": {},
   "outputs": [],
   "source": [
    "def is_divisible (num:int, divisor:int) -> bool:            # Two arguments in param e.g num & divisor, in case of divisor we can assign a default value tor checking- see following code\n",
    "    if num%divisor == 0:          # if divisible return 0 or no remainder\n",
    "        return True\n",
    "    else:\n",
    "        return False"
   ]
  },
  {
   "cell_type": "code",
   "execution_count": 16,
   "metadata": {},
   "outputs": [],
   "source": [
    "# is_divisible(45)  # Return TypeError, because need to need pass any divisor to check the value"
   ]
  },
  {
   "cell_type": "code",
   "execution_count": null,
   "metadata": {},
   "outputs": [
    {
     "data": {
      "text/plain": [
       "True"
      ]
     },
     "execution_count": 13,
     "metadata": {},
     "output_type": "execute_result"
    }
   ],
   "source": [
    "is_divisible(45, 5)"
   ]
  },
  {
   "cell_type": "code",
   "execution_count": null,
   "metadata": {},
   "outputs": [
    {
     "data": {
      "text/plain": [
       "False"
      ]
     },
     "execution_count": 14,
     "metadata": {},
     "output_type": "execute_result"
    }
   ],
   "source": [
    "is_divisible(45, 6)"
   ]
  },
  {
   "attachments": {},
   "cell_type": "markdown",
   "metadata": {},
   "source": [
    "### Excercise 2: Key Work Argument: Divisible (Assign a default Divisibor value)"
   ]
  },
  {
   "cell_type": "code",
   "execution_count": null,
   "metadata": {},
   "outputs": [],
   "source": [
    "def is_divisible(num:int, divisor: int=2) -> bool:   # Key word arguments  | divisor: int=2\n",
    "    if num%divisor == 0 :\n",
    "        return True\n",
    "    else:\n",
    "        return False\n",
    "    "
   ]
  },
  {
   "cell_type": "code",
   "execution_count": null,
   "metadata": {},
   "outputs": [
    {
     "data": {
      "text/plain": [
       "False"
      ]
     },
     "execution_count": 20,
     "metadata": {},
     "output_type": "execute_result"
    }
   ],
   "source": [
    "is_divisible(45)  # No Error, because it cheaking by default divisor value 2"
   ]
  },
  {
   "cell_type": "code",
   "execution_count": null,
   "metadata": {},
   "outputs": [
    {
     "data": {
      "text/plain": [
       "True"
      ]
     },
     "execution_count": 22,
     "metadata": {},
     "output_type": "execute_result"
    }
   ],
   "source": [
    "is_divisible(44)"
   ]
  },
  {
   "cell_type": "code",
   "execution_count": null,
   "metadata": {},
   "outputs": [
    {
     "data": {
      "text/plain": [
       "True"
      ]
     },
     "execution_count": 25,
     "metadata": {},
     "output_type": "execute_result"
    }
   ],
   "source": [
    "is_divisible(45, 5)   # It will take default value first, but if any secondary value (example 5) values passed here, then it will ignore default value"
   ]
  },
  {
   "cell_type": "code",
   "execution_count": null,
   "metadata": {},
   "outputs": [
    {
     "data": {
      "text/plain": [
       "False"
      ]
     },
     "execution_count": 28,
     "metadata": {},
     "output_type": "execute_result"
    }
   ],
   "source": [
    "is_divisible(45, divisor=6) # alternaive way to call, divitor is key & 6 is value, so key word arguments"
   ]
  },
  {
   "attachments": {},
   "cell_type": "markdown",
   "metadata": {},
   "source": [
    "- Key word Arguments: that mean a default value with a key we can provide"
   ]
  },
  {
   "attachments": {},
   "cell_type": "markdown",
   "metadata": {},
   "source": [
    "# Keyword Arguments"
   ]
  },
  {
   "attachments": {},
   "cell_type": "markdown",
   "metadata": {},
   "source": [
    "- You can also send arguments with the key = value syntax.\n",
    "- This way the order of the arguments does not matter."
   ]
  },
  {
   "cell_type": "code",
   "execution_count": null,
   "metadata": {},
   "outputs": [
    {
     "name": "stdout",
     "output_type": "stream",
     "text": [
      "The youngest child is Linus\n"
     ]
    }
   ],
   "source": [
    "def my_function(child3, child2, child1):\n",
    "  print(\"The youngest child is \" + child3)\n",
    "\n",
    "my_function(child1 = \"Emil\", child2 = \"Tobias\", child3 = \"Linus\")"
   ]
  },
  {
   "attachments": {},
   "cell_type": "markdown",
   "metadata": {},
   "source": [
    "### Excercise 3 - Positional Arguments"
   ]
  },
  {
   "attachments": {},
   "cell_type": "markdown",
   "metadata": {},
   "source": [
    "- Normal Positional Arguments: Order must maintained\n",
    "- Num & Divistor order must maintained proverly in case of normal function"
   ]
  },
  {
   "cell_type": "code",
   "execution_count": null,
   "metadata": {},
   "outputs": [
    {
     "data": {
      "text/plain": [
       "False"
      ]
     },
     "execution_count": 31,
     "metadata": {},
     "output_type": "execute_result"
    }
   ],
   "source": [
    "is_divisible (12, 60)   # I want to check wether 60 is divisible by 12, but when someone miss write the code, like here 12 will be divided by 60, here 12 goes to num & 60 goes to divisor"
   ]
  },
  {
   "attachments": {},
   "cell_type": "markdown",
   "metadata": {},
   "source": [
    "### Key word Arguments"
   ]
  },
  {
   "cell_type": "code",
   "execution_count": null,
   "metadata": {},
   "outputs": [],
   "source": [
    "def is_divisible (num: int=4, divisor: int=2) -> bool:\n",
    "    if num%divisor ==0:\n",
    "        return True\n",
    "    else:\n",
    "        return False"
   ]
  },
  {
   "cell_type": "code",
   "execution_count": null,
   "metadata": {},
   "outputs": [
    {
     "data": {
      "text/plain": [
       "True"
      ]
     },
     "execution_count": 34,
     "metadata": {},
     "output_type": "execute_result"
    }
   ],
   "source": [
    "is_divisible()   # It will check & return by positional arguments"
   ]
  },
  {
   "cell_type": "code",
   "execution_count": null,
   "metadata": {},
   "outputs": [
    {
     "data": {
      "text/plain": [
       "False"
      ]
     },
     "execution_count": 36,
     "metadata": {},
     "output_type": "execute_result"
    }
   ],
   "source": [
    "is_divisible(12, 60)  # Maintaining order is must, but we can ignore following any order, rather explicitely define"
   ]
  },
  {
   "cell_type": "code",
   "execution_count": null,
   "metadata": {},
   "outputs": [
    {
     "data": {
      "text/plain": [
       "True"
      ]
     },
     "execution_count": 38,
     "metadata": {},
     "output_type": "execute_result"
    }
   ],
   "source": [
    "is_divisible(divisor=12, num=60)  # Num & divisor explicitely defined"
   ]
  },
  {
   "attachments": {},
   "cell_type": "markdown",
   "metadata": {},
   "source": [
    "- This is the advantance of key word arguments, we can set default value or we can define explicitely"
   ]
  },
  {
   "attachments": {},
   "cell_type": "markdown",
   "metadata": {},
   "source": [
    "# Excercise 4: Finding Grade"
   ]
  },
  {
   "cell_type": "code",
   "execution_count": null,
   "metadata": {},
   "outputs": [
    {
     "name": "stdout",
     "output_type": "stream",
     "text": [
      "A+\n",
      "A+\n",
      "A\n",
      "A\n",
      "A\n",
      "A+\n",
      "A+\n",
      "A\n",
      "A+\n",
      "Below A\n",
      "A\n",
      "A\n",
      "A+\n",
      "A+\n"
     ]
    }
   ],
   "source": [
    "def find_grade(marks):          # Fn Define\n",
    "\n",
    "    if(marks >= 80):\n",
    "        print('A+')\n",
    "    elif (marks >=70 and marks <=80):\n",
    "        print('A')\n",
    "    else:\n",
    "        print('Below A')\n",
    "\n",
    "student_1 = [80, 80, 70, 75, 72, 89, 95]\n",
    "student_2 = [79, 85, 65, 75, 75, 89, 90]\n",
    "\n",
    "for i in student_1:           # i accessing into student 1\n",
    "    find_grade(i)            # fn Calling, i / student 1's markes to be passed\n",
    "\n",
    "for i in student_2:\n",
    "    find_grade(i,)"
   ]
  },
  {
   "cell_type": "code",
   "execution_count": null,
   "metadata": {},
   "outputs": [
    {
     "name": "stdout",
     "output_type": "stream",
     "text": [
      "A+\n",
      "A+\n",
      "A\n",
      "A\n",
      "A\n",
      "A+\n",
      "A+\n",
      "A\n",
      "A+\n",
      "Below A\n",
      "A\n",
      "A\n",
      "A+\n",
      "A+\n"
     ]
    }
   ],
   "source": [
    "def find_grade(marks):          # Fn Define\n",
    "\n",
    "    if(marks >= 80):\n",
    "        print('A+')\n",
    "        \n",
    "    elif (marks >=70 and marks <=80):\n",
    "        print('A')\n",
    "        \n",
    "    else:\n",
    "        print('Below A')\n",
    "\n",
    "student_1 = [80, 80, 70, 75, 72, 89, 95]\n",
    "student_2 = [79, 85, 65, 75, 75, 89, 90]\n",
    "\n",
    "for i in student_1:           # i accessing into student 1\n",
    "    find_grade(i)            # fn Calling, i / student 1's markes to be passed\n",
    "\n",
    "for i in student_2:\n",
    "    find_grade(i,)"
   ]
  },
  {
   "cell_type": "code",
   "execution_count": null,
   "metadata": {},
   "outputs": [
    {
     "name": "stdout",
     "output_type": "stream",
     "text": [
      "student_1:\n",
      "A+\n",
      "A+\n",
      "A\n",
      "A\n",
      "A\n",
      "A+\n",
      "A+\n",
      "student_2:\n",
      "A\n",
      "A+\n",
      "A\n",
      "A\n",
      "A\n",
      "A+\n",
      "Below A\n"
     ]
    }
   ],
   "source": [
    "def find_grade(marks):          # Fn Define\n",
    "\n",
    "    if(marks >= 80):\n",
    "        print('A+')\n",
    "    elif (marks >=70 and marks <=80):\n",
    "        print('A')\n",
    "    else:\n",
    "        print('Below A')\n",
    "\n",
    "student_1 = [80, 80, 70, 75, 72, 89, 95]\n",
    "student_2 = [79, 85, 70, 75, 75, 89, 65]\n",
    "\n",
    "print('student_1:')        # Taking print variable\n",
    "for i in student_1:           # i accessing into student 1\n",
    "    find_grade(i)            # fn Calling, i / student 1's markes to be passed\n",
    "\n",
    "print('student_2:')\n",
    "for i in student_2:\n",
    "    find_grade(i)"
   ]
  },
  {
   "attachments": {},
   "cell_type": "markdown",
   "metadata": {},
   "source": [
    "## Odd & Even"
   ]
  },
  {
   "cell_type": "code",
   "execution_count": 27,
   "metadata": {},
   "outputs": [
    {
     "name": "stdout",
     "output_type": "stream",
     "text": [
      "NUMBER\n",
      "The Number is odd\n",
      "The Number is Even\n",
      "The Number is Even\n",
      "The Number is odd\n",
      "The Number is odd\n",
      "The Number is Even\n",
      "The Number is odd\n"
     ]
    }
   ],
   "source": [
    "def n (number):  # Fn name is n which will take number, return type not defined\n",
    "  if (number %2==0):  # if the number is divisibe by 2, that is Even otherwise False\n",
    "    print ('The Number is Even')\n",
    "\n",
    "  else:\n",
    "    print ('The Number is odd')\n",
    "\n",
    "number = [ 5, 12, -2, 7, 9, 0 , 5]   # number takesa a list\n",
    "print ('NUMBER')    # Print Number as title\n",
    "for i in number:    # i in 'number' that is inside bracked\n",
    "  n(i)              # function name & i"
   ]
  },
  {
   "attachments": {},
   "cell_type": "markdown",
   "metadata": {},
   "source": [
    "# Excercise 5"
   ]
  },
  {
   "attachments": {},
   "cell_type": "markdown",
   "metadata": {},
   "source": [
    "### A Shop will give discount of 10% if the cost of purchase quntity is more than 1000 unit. Suppose, a unit cost is tk. 100 & delivery cost is tk. 50. Calculate & print the total cost"
   ]
  },
  {
   "cell_type": "code",
   "execution_count": null,
   "metadata": {},
   "outputs": [
    {
     "name": "stdout",
     "output_type": "stream",
     "text": [
      "90090.0 With Discount\n"
     ]
    }
   ],
   "source": [
    "# General Application\n",
    "quantity = 1001\n",
    "unitprice = 100\n",
    "\n",
    "if (quantity > 1000):\n",
    "    total_price = quantity * unitprice * .90\n",
    "    print(total_price, 'With Discount')\n",
    "else:\n",
    "    total_price = quantity * unitprice\n",
    "    print(total_price, 'Without Discount')"
   ]
  },
  {
   "cell_type": "code",
   "execution_count": null,
   "metadata": {},
   "outputs": [
    {
     "name": "stdout",
     "output_type": "stream",
     "text": [
      "99900 Without Discount\n",
      "Retail Sales\n"
     ]
    }
   ],
   "source": [
    "# General Application\n",
    "quantity = 999\n",
    "unitprice = 100\n",
    "\n",
    "if (quantity >= 1000):\n",
    "    total_price = quantity * unitprice * .90\n",
    "    print(total_price, 'With Discount')\n",
    "    print('Whole Sale')\n",
    "else:\n",
    "    total_price = quantity * unitprice\n",
    "    print(total_price, 'Without Discount')\n",
    "    print('Retail Sales')"
   ]
  },
  {
   "attachments": {},
   "cell_type": "markdown",
   "metadata": {},
   "source": [
    "### Funtion Application"
   ]
  },
  {
   "cell_type": "code",
   "execution_count": null,
   "metadata": {},
   "outputs": [
    {
     "name": "stdout",
     "output_type": "stream",
     "text": [
      "99050.0\n"
     ]
    }
   ],
   "source": [
    "quantity = float(input('Enter Quantity: '))\n",
    "unitprice = float(input('Enter Unit Price: '))\n",
    "discount = float(input('Enter Discount: '))\n",
    "deliverycost = float(input('Enter Delivery Cost: '))\n",
    "\n",
    "def calculate_price (q, u, d):    # The fn will take 3(params/ arguments, this defined name can be different from given input name) as quantity, unitprice & discount \n",
    "    if (q > 1000):                 # Actual cal must be as per given argm/ param name, not by input variable name. here must mention q not quantity, this name must be as per name defined inside fn\n",
    "        price = q * u * (1-d /100)   # 10% means (1-discount/100) or 10% means q * u * .90\n",
    "    else:\n",
    "        price = q * u\n",
    "    return price            # Returning price & delivery cost will be added to this price to get total total price. The price will be returned from fn calling (quantity,unitpric, dis) as below. It will not just display, but returned also\n",
    "\n",
    "total_price = calculate_price(quantity, unitprice, discount) + deliverycost\n",
    "print(total_price)\n",
    "\n"
   ]
  },
  {
   "attachments": {},
   "cell_type": "markdown",
   "metadata": {},
   "source": [
    "### Print with or no discount"
   ]
  },
  {
   "cell_type": "code",
   "execution_count": null,
   "metadata": {},
   "outputs": [
    {
     "name": "stdout",
     "output_type": "stream",
     "text": [
      "No Discount\n",
      "100050.0\n"
     ]
    }
   ],
   "source": [
    "quantity = float(input('Enter Quantity: '))\n",
    "unitprice = float(input('Enter Unit Price: '))\n",
    "discount = float(input('Enter Discount: '))\n",
    "deliverycost = float(input('Enter Delivery Cost: '))\n",
    "\n",
    "def calculate_price (q, u, d):      # define agrs names q, u, d only exist only within funtion block, after return this args name will no longer valid\n",
    "    if (q > 10000):                 \n",
    "        price = q * u * (1-d /100)\n",
    "        print('With Discount')   \n",
    "    else:\n",
    "        price = q * u\n",
    "        print('No Discount')\n",
    "    return price            \n",
    "\n",
    "total_price = calculate_price(quantity, unitprice, discount) + deliverycost        # when fn called, the must take input variable name, not args/ param names or input values will go at calling time\n",
    "print(total_price)\n"
   ]
  },
  {
   "attachments": {},
   "cell_type": "markdown",
   "metadata": {},
   "source": [
    "# Excercise 6"
   ]
  },
  {
   "attachments": {},
   "cell_type": "markdown",
   "metadata": {},
   "source": [
    "- If we call the function without argument, it uses the default value"
   ]
  },
  {
   "cell_type": "code",
   "execution_count": null,
   "metadata": {},
   "outputs": [
    {
     "name": "stdout",
     "output_type": "stream",
     "text": [
      "I am from Sweden\n",
      "I am from India\n",
      "I am from Norway\n",
      "I am from Brazil\n"
     ]
    }
   ],
   "source": [
    "def my_function(country = \"Norway\"):\n",
    "  print(\"I am from \" + country)\n",
    "\n",
    "my_function(\"Sweden\")\n",
    "my_function(\"India\")\n",
    "my_function()        # it will return default / Norway\n",
    "my_function(\"Brazil\")"
   ]
  },
  {
   "attachments": {},
   "cell_type": "markdown",
   "metadata": {},
   "source": [
    "# Passing a List as an Argument"
   ]
  },
  {
   "attachments": {},
   "cell_type": "markdown",
   "metadata": {},
   "source": [
    "- You can send any data types of argument to a function (string, number, list, dictionary etc.), and it will be treated as the same data type inside the function.\n",
    "- E.g. if you send a List as an argument, it will still be a List when it reaches the function:"
   ]
  },
  {
   "cell_type": "code",
   "execution_count": null,
   "metadata": {},
   "outputs": [
    {
     "name": "stdout",
     "output_type": "stream",
     "text": [
      "apple\n",
      "banana\n",
      "cherry\n"
     ]
    }
   ],
   "source": [
    "def my_function(food):\n",
    "  for x in food:\n",
    "    print(x)\n",
    "\n",
    "fruits = [\"apple\", \"banana\", \"cherry\"]\n",
    "\n",
    "my_function(fruits)"
   ]
  },
  {
   "attachments": {},
   "cell_type": "markdown",
   "metadata": {},
   "source": [
    "# Return Values"
   ]
  },
  {
   "attachments": {},
   "cell_type": "markdown",
   "metadata": {},
   "source": [
    "- To let a function return a value, use the return statement"
   ]
  },
  {
   "cell_type": "code",
   "execution_count": null,
   "metadata": {},
   "outputs": [
    {
     "name": "stdout",
     "output_type": "stream",
     "text": [
      "15\n",
      "25\n",
      "45\n"
     ]
    }
   ],
   "source": [
    "def my_function(x):\n",
    "  return 5 * x\n",
    "\n",
    "print(my_function(3))\n",
    "print(my_function(5))\n",
    "print(my_function(9))"
   ]
  },
  {
   "attachments": {},
   "cell_type": "markdown",
   "metadata": {},
   "source": [
    "# The pass Statement"
   ]
  },
  {
   "attachments": {},
   "cell_type": "markdown",
   "metadata": {},
   "source": [
    "- function definitions cannot be empty, but if you for some reason have a function definition with no content, put in the pass statement to avoid getting an error."
   ]
  },
  {
   "cell_type": "code",
   "execution_count": null,
   "metadata": {},
   "outputs": [],
   "source": [
    "def myfunction():\n",
    "  pass"
   ]
  },
  {
   "attachments": {},
   "cell_type": "markdown",
   "metadata": {},
   "source": [
    "# Recursion"
   ]
  },
  {
   "attachments": {},
   "cell_type": "markdown",
   "metadata": {},
   "source": [
    "- Python also accepts function recursion, which means a defined function can call itself\n",
    "- Recursion is a common mathematical and programming concept. It means that a function calls itself. This has the benefit of meaning that you can loop through data to reach a result."
   ]
  },
  {
   "attachments": {},
   "cell_type": "markdown",
   "metadata": {},
   "source": [
    "- The developer should be very careful with recursion as it can be quite easy to slip into writing a function which never terminates, or one that uses excess amounts of memory or processor power. However, when written correctly recursion can be a very efficient and mathematically-elegant approach to programming.\n",
    "\n",
    "In this example, tri_recursion() is a function that we have defined to call itself (\"recurse\"). We use the k variable as the data, which decrements (-1) every time we recurse. The recursion ends when the condition is not greater than 0 (i.e. when it is 0).\n",
    "\n",
    "To a new developer it can take some time to work out how exactly this works, best way to find out is by testing and modifying it."
   ]
  },
  {
   "cell_type": "code",
   "execution_count": null,
   "metadata": {},
   "outputs": [
    {
     "name": "stdout",
     "output_type": "stream",
     "text": [
      "\n",
      "\n",
      "Recursion Example Results\n",
      "1\n",
      "3\n",
      "6\n",
      "10\n",
      "15\n",
      "21\n"
     ]
    },
    {
     "data": {
      "text/plain": [
       "21"
      ]
     },
     "execution_count": 47,
     "metadata": {},
     "output_type": "execute_result"
    }
   ],
   "source": [
    "def tri_recursion(k):\n",
    "  if(k > 0):\n",
    "    result = k + tri_recursion(k - 1)\n",
    "    print(result)\n",
    "  else:\n",
    "    result = 0\n",
    "  return result\n",
    "\n",
    "print(\"\\n\\nRecursion Example Results\")\n",
    "tri_recursion(6)"
   ]
  }
 ],
 "metadata": {
  "kernelspec": {
   "display_name": "Python 3",
   "language": "python",
   "name": "python3"
  },
  "language_info": {
   "codemirror_mode": {
    "name": "ipython",
    "version": 3
   },
   "file_extension": ".py",
   "mimetype": "text/x-python",
   "name": "python",
   "nbconvert_exporter": "python",
   "pygments_lexer": "ipython3",
   "version": "3.10.2"
  },
  "orig_nbformat": 4,
  "vscode": {
   "interpreter": {
    "hash": "c19fa61d258bb2b35aae2ada233c33e2817c1ce895aa48acba720c6bf7cbe3cb"
   }
  }
 },
 "nbformat": 4,
 "nbformat_minor": 2
}
