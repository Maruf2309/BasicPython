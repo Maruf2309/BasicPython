{
 "cells": [
  {
   "cell_type": "markdown",
   "id": "df307d19",
   "metadata": {},
   "source": [
    "# Functions"
   ]
  },
  {
   "cell_type": "markdown",
   "id": "ed8c29d4",
   "metadata": {},
   "source": [
    "1. Lambda Function\n",
    "2. Map Function\n",
    "3. Filter Function\n",
    "4. Zip Function\n",
    "5. Enumerate Function"
   ]
  },
  {
   "cell_type": "markdown",
   "id": "87114c25",
   "metadata": {},
   "source": [
    "### Lambda Function"
   ]
  },
  {
   "cell_type": "code",
   "execution_count": 1,
   "id": "f3b4c341",
   "metadata": {},
   "outputs": [
    {
     "name": "stdout",
     "output_type": "stream",
     "text": [
      "3375\n"
     ]
    }
   ],
   "source": [
    "lambda_cube = lambda x: x*x*x\n",
    "print(lambda_cube(15))"
   ]
  },
  {
   "cell_type": "markdown",
   "id": "ca7e361f",
   "metadata": {},
   "source": [
    "1. It is also known as anonymous function\n",
    "2. if you have a single operation to perform then the lambda func is extreamly useful instead of defining a function using def keyword"
   ]
  },
  {
   "cell_type": "markdown",
   "id": "5bd0237d",
   "metadata": {},
   "source": [
    "### Map Function"
   ]
  },
  {
   "cell_type": "code",
   "execution_count": 2,
   "id": "be8201b1",
   "metadata": {},
   "outputs": [
    {
     "name": "stdout",
     "output_type": "stream",
     "text": [
      "Apple\n",
      "Grapes\n",
      "Orange\n",
      "Cherry\n",
      "Kiwi\n"
     ]
    }
   ],
   "source": [
    "fruits = ['apple','grapes','orange','cherry','kiwi']\n",
    "result = map(lambda x: x.title(), fruits)\n",
    "\n",
    "for data in result:\n",
    "    print(data)"
   ]
  },
  {
   "cell_type": "code",
   "execution_count": 4,
   "id": "5620d601",
   "metadata": {},
   "outputs": [
    {
     "name": "stdout",
     "output_type": "stream",
     "text": [
      "Apple Grapes Orange Cherry Kiwi "
     ]
    }
   ],
   "source": [
    "fruits = ['apple','grapes','orange','cherry','kiwi']\n",
    "result = map(lambda x: x.title(), fruits)\n",
    "\n",
    "for data in result:\n",
    "    print(data, end=' ')"
   ]
  },
  {
   "cell_type": "code",
   "execution_count": 5,
   "id": "236f7cb4",
   "metadata": {},
   "outputs": [
    {
     "name": "stdout",
     "output_type": "stream",
     "text": [
      "Apple , Grapes , Orange , Cherry , Kiwi , "
     ]
    }
   ],
   "source": [
    "fruits = ['apple','grapes','orange','cherry','kiwi']\n",
    "result = map(lambda x: x.title(), fruits)\n",
    "\n",
    "for data in result:\n",
    "    print(data, end=' , ')"
   ]
  },
  {
   "cell_type": "markdown",
   "id": "f908c424",
   "metadata": {},
   "source": [
    "#### Notes- Map Function"
   ]
  },
  {
   "cell_type": "markdown",
   "id": "6655346b",
   "metadata": {},
   "source": [
    "1. Map func when you want to execute a func for each item in a iterable\n",
    "2. map func are more efficient then loops when we are working on iterable with a large number of elements"
   ]
  },
  {
   "cell_type": "markdown",
   "id": "76014766",
   "metadata": {},
   "source": [
    "### Filter Function"
   ]
  },
  {
   "cell_type": "code",
   "execution_count": 6,
   "id": "fd06bf9f",
   "metadata": {},
   "outputs": [
    {
     "name": "stdout",
     "output_type": "stream",
     "text": [
      "kiwi\n"
     ]
    }
   ],
   "source": [
    "fruits = ['apple','grapes','orange','cherry','kiwi']\n",
    "result = filter(lambda x: len(x)<5, fruits)\n",
    "\n",
    "for data in result:\n",
    "    print(data)"
   ]
  },
  {
   "cell_type": "code",
   "execution_count": 7,
   "id": "479c7ddf",
   "metadata": {},
   "outputs": [
    {
     "name": "stdout",
     "output_type": "stream",
     "text": [
      "grapes\n",
      "orange\n",
      "cherry\n"
     ]
    }
   ],
   "source": [
    "fruits = ['apple','grapes','orange','cherry','kiwi']\n",
    "result = filter(lambda x: len(x) > 5, fruits)\n",
    "\n",
    "for data in result:\n",
    "    print(data)"
   ]
  },
  {
   "cell_type": "code",
   "execution_count": 8,
   "id": "e26cc156",
   "metadata": {},
   "outputs": [
    {
     "name": "stdout",
     "output_type": "stream",
     "text": [
      "apple\n"
     ]
    }
   ],
   "source": [
    "fruits = ['apple','grapes','orange','cherry','kiwi']\n",
    "result = filter(lambda x: len(x) == 5, fruits)\n",
    "\n",
    "for data in result:\n",
    "    print(data)"
   ]
  },
  {
   "cell_type": "markdown",
   "id": "2fc1c196",
   "metadata": {},
   "source": [
    "The filter func is used to filter any kind of data based on a given condition from a iterable"
   ]
  },
  {
   "cell_type": "markdown",
   "id": "c4e2f39d",
   "metadata": {},
   "source": [
    "## Zip Function"
   ]
  },
  {
   "cell_type": "code",
   "execution_count": 9,
   "id": "4650c782",
   "metadata": {},
   "outputs": [
    {
     "name": "stdout",
     "output_type": "stream",
     "text": [
      "('apple', 250)\n",
      "('grapes', 200)\n",
      "('orange', 300)\n",
      "('cherry', 350)\n"
     ]
    }
   ],
   "source": [
    "fruits = ['apple','grapes','orange','cherry']\n",
    "price = [250, 200, 300, 350 ]\n",
    "\n",
    "result = zip(fruits, price)\n",
    "for data in result:\n",
    "    print(data)"
   ]
  },
  {
   "cell_type": "code",
   "execution_count": 10,
   "id": "cf2b7f70",
   "metadata": {},
   "outputs": [
    {
     "name": "stdout",
     "output_type": "stream",
     "text": [
      "('apple', 250) ('grapes', 200) ('orange', 300) ('cherry', 350) "
     ]
    }
   ],
   "source": [
    "fruits = ['apple','grapes','orange','cherry']\n",
    "price = [250, 200, 300, 350 ]\n",
    "\n",
    "result = zip(fruits, price)\n",
    "for data in result:\n",
    "    print(data, end=' ')"
   ]
  },
  {
   "cell_type": "markdown",
   "id": "20d24d65",
   "metadata": {},
   "source": [
    "The Zip func combines elements of two or more iterable into one object"
   ]
  },
  {
   "cell_type": "markdown",
   "id": "3659ff65",
   "metadata": {},
   "source": [
    "## Enumerate Function"
   ]
  },
  {
   "cell_type": "code",
   "execution_count": 13,
   "id": "84f3b92b",
   "metadata": {},
   "outputs": [
    {
     "name": "stdout",
     "output_type": "stream",
     "text": [
      "0 apple\n",
      "1 grapes\n",
      "2 orange\n",
      "3 cherry\n"
     ]
    }
   ],
   "source": [
    "fruits = ['apple','grapes','orange','cherry']\n",
    "\n",
    "# Tradidional Way\n",
    "for i in range(len(fruits)):\n",
    "    print(i, fruits[i])"
   ]
  },
  {
   "cell_type": "code",
   "execution_count": 14,
   "id": "2698a4dc",
   "metadata": {},
   "outputs": [
    {
     "name": "stdout",
     "output_type": "stream",
     "text": [
      "0 apple\n",
      "1 grapes\n",
      "2 orange\n",
      "3 cherry\n"
     ]
    }
   ],
   "source": [
    "fruits = ['apple','grapes','orange','cherry']\n",
    "\n",
    "# Enumerate Fucntion\n",
    "for idx, name in enumerate(fruits):\n",
    "    print(idx, name)"
   ]
  },
  {
   "cell_type": "markdown",
   "id": "d3b4108b",
   "metadata": {},
   "source": [
    "Enumerate func helps to keep track of your iterable elements index"
   ]
  },
  {
   "cell_type": "code",
   "execution_count": null,
   "id": "d357898a",
   "metadata": {},
   "outputs": [],
   "source": []
  }
 ],
 "metadata": {
  "kernelspec": {
   "display_name": "Python 3 (ipykernel)",
   "language": "python",
   "name": "python3"
  },
  "language_info": {
   "codemirror_mode": {
    "name": "ipython",
    "version": 3
   },
   "file_extension": ".py",
   "mimetype": "text/x-python",
   "name": "python",
   "nbconvert_exporter": "python",
   "pygments_lexer": "ipython3",
   "version": "3.10.6"
  }
 },
 "nbformat": 4,
 "nbformat_minor": 5
}
