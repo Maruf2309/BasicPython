{
  "nbformat": 4,
  "nbformat_minor": 0,
  "metadata": {
    "colab": {
      "name": "CL-2.1.ipynb",
      "provenance": [],
      "collapsed_sections": []
    },
    "kernelspec": {
      "name": "python3",
      "display_name": "Python 3"
    },
    "language_info": {
      "name": "python"
    }
  },
  "cells": [
    {
      "cell_type": "code",
      "execution_count": null,
      "metadata": {
        "colab": {
          "base_uri": "https://localhost:8080/"
        },
        "id": "_Q7md71Tou_2",
        "outputId": "bac8a771-bb5c-4dd9-c8e4-89d10f97a825"
      },
      "outputs": [
        {
          "output_type": "stream",
          "name": "stdout",
          "text": [
            "Hello World!\n"
          ]
        }
      ],
      "source": [
        "print('Hello World!')"
      ]
    },
    {
      "cell_type": "code",
      "source": [
        "a = 'hello world!'\n",
        "print(a)"
      ],
      "metadata": {
        "colab": {
          "base_uri": "https://localhost:8080/"
        },
        "id": "9aBoii8oq0Oe",
        "outputId": "7af63a60-6833-4a41-f326-ccaf5eadef9d"
      },
      "execution_count": null,
      "outputs": [
        {
          "output_type": "stream",
          "name": "stdout",
          "text": [
            "hello world!\n"
          ]
        }
      ]
    },
    {
      "cell_type": "code",
      "source": [
        "b='hi'\n",
        "b"
      ],
      "metadata": {
        "colab": {
          "base_uri": "https://localhost:8080/",
          "height": 35
        },
        "id": "XIv8Y-OLtGk1",
        "outputId": "bb603edb-c9d0-4e3c-89e1-46aab04207e9"
      },
      "execution_count": null,
      "outputs": [
        {
          "output_type": "execute_result",
          "data": {
            "application/vnd.google.colaboratory.intrinsic+json": {
              "type": "string"
            },
            "text/plain": [
              "'hi'"
            ]
          },
          "metadata": {},
          "execution_count": 3
        }
      ]
    },
    {
      "cell_type": "code",
      "source": [
        "a = ['tomato', 'banana', 'date', 'apple', 'juice','pineapple']\n",
        "print(a)"
      ],
      "metadata": {
        "colab": {
          "base_uri": "https://localhost:8080/"
        },
        "id": "3bOZ43DAp0el",
        "outputId": "f60c7127-9ee3-4742-847d-17b152e6122b"
      },
      "execution_count": null,
      "outputs": [
        {
          "output_type": "stream",
          "name": "stdout",
          "text": [
            "['tomato', 'banana', 'date', 'apple', 'juice', 'pineapple']\n"
          ]
        }
      ]
    },
    {
      "cell_type": "code",
      "source": [
        "shoppinglist =['Ice Cream', 'Biscuit', 'Bread', 'Fish','Meat']\n",
        "print(shoppinglist)"
      ],
      "metadata": {
        "colab": {
          "base_uri": "https://localhost:8080/"
        },
        "id": "BklAd17mqVgR",
        "outputId": "4ffac0b2-ef4d-4ba5-f465-e34176a208e7"
      },
      "execution_count": null,
      "outputs": [
        {
          "output_type": "stream",
          "name": "stdout",
          "text": [
            "['Ice Cream', 'Biscuit', 'Bread', 'Fish', 'Meat']\n"
          ]
        }
      ]
    },
    {
      "cell_type": "code",
      "source": [
        "x=['chocolate','orrange',25,50]\n",
        "print(x)"
      ],
      "metadata": {
        "colab": {
          "base_uri": "https://localhost:8080/"
        },
        "id": "HtjFUn70q0hn",
        "outputId": "96a4630a-e2aa-4290-f2a8-00c1de64a884"
      },
      "execution_count": null,
      "outputs": [
        {
          "output_type": "stream",
          "name": "stdout",
          "text": [
            "['chocolate', 'orrange', 25, 50]\n"
          ]
        }
      ]
    },
    {
      "cell_type": "code",
      "source": [
        "print(10>9)\n",
        "print(5>2)\n",
        "print(5<2)\n",
        "print (100>50)\n",
        "print (25<20)"
      ],
      "metadata": {
        "colab": {
          "base_uri": "https://localhost:8080/"
        },
        "id": "y6Aua_69rLW1",
        "outputId": "3e7251bd-2713-4d70-9eea-b6b17d35e89e"
      },
      "execution_count": null,
      "outputs": [
        {
          "output_type": "stream",
          "name": "stdout",
          "text": [
            "True\n",
            "True\n",
            "False\n",
            "True\n",
            "False\n"
          ]
        }
      ]
    },
    {
      "cell_type": "code",
      "source": [
        "a = 12\n",
        "b = 3\n",
        "c =2\n"
      ],
      "metadata": {
        "id": "EgbA0QnPw_oI"
      },
      "execution_count": null,
      "outputs": []
    },
    {
      "cell_type": "code",
      "source": [
        "a + b"
      ],
      "metadata": {
        "colab": {
          "base_uri": "https://localhost:8080/"
        },
        "id": "rVKabuQOxNfF",
        "outputId": "eec12387-1952-4287-e00c-603ce02ec7f6"
      },
      "execution_count": null,
      "outputs": [
        {
          "output_type": "execute_result",
          "data": {
            "text/plain": [
              "17"
            ]
          },
          "metadata": {},
          "execution_count": 18
        }
      ]
    },
    {
      "cell_type": "code",
      "source": [
        "c-b"
      ],
      "metadata": {
        "colab": {
          "base_uri": "https://localhost:8080/"
        },
        "id": "JPrbyB3RxQzg",
        "outputId": "e6dc356d-c419-4edc-cb41-8d01bf5c6d04"
      },
      "execution_count": null,
      "outputs": [
        {
          "output_type": "execute_result",
          "data": {
            "text/plain": [
              "5"
            ]
          },
          "metadata": {},
          "execution_count": 19
        }
      ]
    },
    {
      "cell_type": "code",
      "source": [
        "b*c"
      ],
      "metadata": {
        "colab": {
          "base_uri": "https://localhost:8080/"
        },
        "id": "nR7Y17PrxYL5",
        "outputId": "3944d70a-2cbe-4b42-c249-df1a29a7a2de"
      },
      "execution_count": null,
      "outputs": [
        {
          "output_type": "execute_result",
          "data": {
            "text/plain": [
              "50"
            ]
          },
          "metadata": {},
          "execution_count": 20
        }
      ]
    },
    {
      "cell_type": "code",
      "source": [
        "b**c"
      ],
      "metadata": {
        "colab": {
          "base_uri": "https://localhost:8080/"
        },
        "id": "-7oyUl9ayItI",
        "outputId": "da75a70d-61f4-4d3f-8b5c-8cedbb6490ea"
      },
      "execution_count": null,
      "outputs": [
        {
          "output_type": "execute_result",
          "data": {
            "text/plain": [
              "9765625"
            ]
          },
          "metadata": {},
          "execution_count": 21
        }
      ]
    },
    {
      "cell_type": "code",
      "source": [
        "b/c # normal division "
      ],
      "metadata": {
        "colab": {
          "base_uri": "https://localhost:8080/"
        },
        "id": "ZWK2uxMgyyMP",
        "outputId": "bf4406ca-3cf1-45fe-97bd-ca0bdeded568"
      },
      "execution_count": null,
      "outputs": [
        {
          "output_type": "execute_result",
          "data": {
            "text/plain": [
              "1.5"
            ]
          },
          "metadata": {},
          "execution_count": 28
        }
      ]
    },
    {
      "cell_type": "code",
      "source": [
        "b//c # floor division, no fraction "
      ],
      "metadata": {
        "colab": {
          "base_uri": "https://localhost:8080/"
        },
        "id": "O1-jv29Czw3b",
        "outputId": "ca01de75-85dd-473d-a9f4-d731c4012a41"
      },
      "execution_count": null,
      "outputs": [
        {
          "output_type": "execute_result",
          "data": {
            "text/plain": [
              "1"
            ]
          },
          "metadata": {},
          "execution_count": 27
        }
      ]
    },
    {
      "cell_type": "code",
      "source": [
        "b%c # modululs/Remainder "
      ],
      "metadata": {
        "colab": {
          "base_uri": "https://localhost:8080/"
        },
        "id": "FiCd4AqF0cM9",
        "outputId": "6e968c28-65ec-45e4-8f24-6195f47a91a2"
      },
      "execution_count": null,
      "outputs": [
        {
          "output_type": "execute_result",
          "data": {
            "text/plain": [
              "1"
            ]
          },
          "metadata": {},
          "execution_count": 29
        }
      ]
    },
    {
      "cell_type": "code",
      "source": [
        "len = float(input('Enter Length: '))\n",
        "wid = float(input('Enter Wid: '))\n",
        "unit_cost = float(input('Enter Unit Cost: '))\n",
        "\n",
        "area = len*wid\n",
        "print('Area is: ',area)\n",
        "\n",
        "total_cost = area*unit_cost\n",
        "print('total cost is: ', total_cost)"
      ],
      "metadata": {
        "colab": {
          "base_uri": "https://localhost:8080/"
        },
        "id": "5CiPllhg_-eM",
        "outputId": "4c4e9e9d-9c98-4f90-aba5-56567f22692d"
      },
      "execution_count": null,
      "outputs": [
        {
          "output_type": "stream",
          "name": "stdout",
          "text": [
            "Enter Length: 25\n",
            "Enter Wid: 25\n",
            "Enter Unit Cost: 20\n",
            "Area is:  625.0\n",
            "total cost is:  12500.0\n"
          ]
        }
      ]
    },
    {
      "cell_type": "code",
      "source": [
        "len = int(input('Enter Lenght: '))\n",
        "wid = int(input('Enter Width: '))\n",
        "unit_cost = int(input('Enter Unit Cost: '))\n",
        "\n",
        "area = len*wid\n",
        "print('Area is: ', area)\n",
        "\n",
        "total_cost = area*unit_cost\n",
        "print('total cost is: ',total_cost)\n"
      ],
      "metadata": {
        "colab": {
          "base_uri": "https://localhost:8080/"
        },
        "id": "rrl40DuWBZMh",
        "outputId": "ba9732ee-d48e-4c89-a777-4fe78895af8f"
      },
      "execution_count": null,
      "outputs": [
        {
          "output_type": "stream",
          "name": "stdout",
          "text": [
            "Enter Lenght: 25\n",
            "Enter Width: 20\n",
            "Enter Unit Cost: 350\n",
            "Area is:  500\n",
            "total cost is:  175000\n"
          ]
        }
      ]
    },
    {
      "cell_type": "code",
      "source": [
        "number = int(input('enter a number: '))\n",
        "\n",
        "if (number % 2 == 0):\n",
        "  print ('our number is even')\n",
        "  print ('if block is executed')\n",
        "\n",
        "else:\n",
        "  print ('our number is odd')\n",
        "  print ('else block is executed')"
      ],
      "metadata": {
        "colab": {
          "base_uri": "https://localhost:8080/"
        },
        "id": "c5hhS_jZQnEA",
        "outputId": "bf97a21a-748c-4727-e538-3da5655ddb8d"
      },
      "execution_count": null,
      "outputs": [
        {
          "output_type": "stream",
          "name": "stdout",
          "text": [
            "enter a number: 25\n",
            "our number is odd\n",
            "else block is executed\n"
          ]
        }
      ]
    },
    {
      "cell_type": "code",
      "source": [
        "greeting_text = input('Input your text: ')\n",
        "\n",
        "if (greeting_text == 'hello'):\n",
        "  print('hello to you!')\n",
        "\n",
        "elif (greeting_text == 'Good Morning'):\n",
        "  print ('Good Morning you you')\n",
        "\n",
        "elif (greeting_text == 'Good Night'):\n",
        "  print('Good Night, you too!')\n",
        "\n",
        "elif (greeting_text == 'Eid Mubarak'):\n",
        "  print('Eid Mubarak you too!')\n",
        "\n",
        "else:\n",
        "  print('Can I help you?')\n",
        "print('execution ended!')\n",
        "\n",
        "\n",
        "\n",
        "\n"
      ],
      "metadata": {
        "colab": {
          "base_uri": "https://localhost:8080/"
        },
        "id": "ZCqMfT9_GmGh",
        "outputId": "57db9599-3bd4-4b1d-fb01-fcea9e0dc2bb"
      },
      "execution_count": null,
      "outputs": [
        {
          "output_type": "stream",
          "name": "stdout",
          "text": [
            "Input your text: Happy New  year\n",
            "Can I help you?\n",
            "execution ended!\n"
          ]
        }
      ]
    },
    {
      "cell_type": "code",
      "source": [
        "quantity = 900\n",
        "unitprice = 100\n",
        "\n",
        "if (quantity > 1000):\n",
        "  totalprice = quantity*unitprice*.9\n",
        "  print(totalprice, 'With Discount')\n",
        "else:\n",
        "  totalprice = quantity*unitprice\n",
        "  print(totalprice,'Without discount')\n"
      ],
      "metadata": {
        "colab": {
          "base_uri": "https://localhost:8080/"
        },
        "id": "wbMaBZaWYODW",
        "outputId": "bf7461c6-79fc-4e07-b433-14d1117e51cb"
      },
      "execution_count": null,
      "outputs": [
        {
          "output_type": "stream",
          "name": "stdout",
          "text": [
            "90000 Without discount\n"
          ]
        }
      ]
    },
    {
      "cell_type": "code",
      "source": [
        "for i in range(1,11):    # for loop\n",
        "  print(i)"
      ],
      "metadata": {
        "colab": {
          "base_uri": "https://localhost:8080/"
        },
        "id": "4zqPyKjBfWgl",
        "outputId": "a6a35ec5-6951-49c0-fc11-a70a8ae0826a"
      },
      "execution_count": null,
      "outputs": [
        {
          "output_type": "stream",
          "name": "stdout",
          "text": [
            "1\n",
            "2\n",
            "3\n",
            "4\n",
            "5\n",
            "6\n",
            "7\n",
            "8\n",
            "9\n",
            "10\n"
          ]
        }
      ]
    },
    {
      "cell_type": "code",
      "source": [
        "for i in range(1,11,2):    # interval 2\n",
        "  print(i)"
      ],
      "metadata": {
        "colab": {
          "base_uri": "https://localhost:8080/"
        },
        "id": "5HubYktOfsBj",
        "outputId": "89803818-6a6d-4697-f1a1-c49007fbe821"
      },
      "execution_count": null,
      "outputs": [
        {
          "output_type": "stream",
          "name": "stdout",
          "text": [
            "1\n",
            "3\n",
            "5\n",
            "7\n",
            "9\n"
          ]
        }
      ]
    },
    {
      "cell_type": "code",
      "source": [
        "for i in range(10,0,-1):    # when minimize downward, by default 1 kore kombe na\n",
        "  print(i)"
      ],
      "metadata": {
        "colab": {
          "base_uri": "https://localhost:8080/"
        },
        "id": "Kt1dFaO-glzb",
        "outputId": "5908b2da-cea3-474f-922c-c4539e8df22e"
      },
      "execution_count": null,
      "outputs": [
        {
          "output_type": "stream",
          "name": "stdout",
          "text": [
            "10\n",
            "9\n",
            "8\n",
            "7\n",
            "6\n",
            "5\n",
            "4\n",
            "3\n",
            "2\n",
            "1\n"
          ]
        }
      ]
    },
    {
      "cell_type": "code",
      "source": [
        "color = ['red', 'green', 'yellow', 'blue','orange']\n",
        "\n",
        "for i in color:\n",
        "  print(i)"
      ],
      "metadata": {
        "colab": {
          "base_uri": "https://localhost:8080/"
        },
        "id": "C6tRkX07iCzu",
        "outputId": "3681aee5-36eb-4f55-bb15-94c4795c4fa2"
      },
      "execution_count": null,
      "outputs": [
        {
          "output_type": "stream",
          "name": "stdout",
          "text": [
            "red\n",
            "green\n",
            "yellow\n",
            "blue\n",
            "orange\n"
          ]
        }
      ]
    },
    {
      "cell_type": "code",
      "source": [
        "def  find_grade(marks):\n",
        "  if (marks >=80):\n",
        "    print ('A+')\n",
        "\n",
        "\n",
        "  elif (marks >=70 and marks <80):\n",
        "    print ('A')\n",
        "\n",
        "  else:\n",
        "    print ('Below A')\n",
        "\n",
        "student_1 = (80,70,83,85)\n",
        "student_2 = (90,78,83,65)\n",
        "\n",
        "print('student_1')\n",
        "for i in student_1:\n",
        "  find_grade(i)\n",
        "\n",
        "print('student_2')\n",
        "for i in student_2:\n",
        "  find_grade(i)\n",
        "\n",
        "\n"
      ],
      "metadata": {
        "colab": {
          "base_uri": "https://localhost:8080/"
        },
        "id": "I4CyBvRjvMxy",
        "outputId": "f66acb05-e9d9-4aa5-9b4d-bd9bb36957a5"
      },
      "execution_count": null,
      "outputs": [
        {
          "output_type": "stream",
          "name": "stdout",
          "text": [
            "student_1\n",
            "A+\n",
            "A\n",
            "A+\n",
            "A+\n",
            "student_2\n",
            "A+\n",
            "A\n",
            "A+\n",
            "Below A\n"
          ]
        }
      ]
    },
    {
      "cell_type": "code",
      "source": [
        "quantity = float(input('enter quantity: '))\n",
        "unitprice = float(input('enter unit price: '))\n",
        "discount = float(input('enter discount: '))\n",
        "deliveryfee = float(input('enter delivery fee: '))\n",
        "\n",
        "def calculate_price(q, u, d):\n",
        "  if (q >1000):\n",
        "    price = q * u * (1-d/100)\n",
        "    print('With Discount')\n",
        "  else:\n",
        "    price = q * u\n",
        "    print('No Disocunt')\n",
        "  return price\n",
        "\n",
        "totalprice = calculate_price (quantity, unitprice, discount) + deliveryfee\n",
        "print(totalprice)"
      ],
      "metadata": {
        "colab": {
          "base_uri": "https://localhost:8080/"
        },
        "id": "ilFuZ7rEHWFG",
        "outputId": "a0a46e3f-4449-4806-851b-f30c13a9e00c"
      },
      "execution_count": null,
      "outputs": [
        {
          "output_type": "stream",
          "name": "stdout",
          "text": [
            "enter quantity: 950\n",
            "enter unit price: 100\n",
            "enter discount: 10\n",
            "enter delivery fee: 50\n",
            "No Disocunt\n",
            "95050.0\n"
          ]
        }
      ]
    },
    {
      "cell_type": "code",
      "source": [
        "def oddeven (number):   # Assignment 1\n",
        "  if (number%2 == 0):\n",
        "    print ('The number is even')\n",
        "\n",
        "  else:\n",
        "    print( 'The number is odd')\n",
        "  \n",
        "number = [5, 12 , -7, 9, 0, 5]\n",
        "\n",
        "print('Number')\n",
        "for i in number:\n",
        "  oddeven(i)"
      ],
      "metadata": {
        "colab": {
          "base_uri": "https://localhost:8080/"
        },
        "id": "2r_FPJm0ecCo",
        "outputId": "df18193f-ffb0-4607-dd13-52031eacc860"
      },
      "execution_count": null,
      "outputs": [
        {
          "output_type": "stream",
          "name": "stdout",
          "text": [
            "Number\n",
            "The number is odd\n",
            "The number is even\n",
            "The number is odd\n",
            "The number is odd\n",
            "The number is even\n",
            "The number is odd\n"
          ]
        }
      ]
    },
    {
      "cell_type": "markdown",
      "source": [
        "Homework 1"
      ],
      "metadata": {
        "id": "TE4-oXc4lME7"
      }
    },
    {
      "cell_type": "code",
      "source": [
        "total = 0    # Homework 2\n",
        "for i in range (1,11):\n",
        "  total = total+i\n",
        "\n",
        "print(total)"
      ],
      "metadata": {
        "colab": {
          "base_uri": "https://localhost:8080/"
        },
        "id": "8r713-wDqpOi",
        "outputId": "b20c59ee-c7dc-41a9-8bae-5770e05be809"
      },
      "execution_count": null,
      "outputs": [
        {
          "output_type": "stream",
          "name": "stdout",
          "text": [
            "55\n"
          ]
        }
      ]
    },
    {
      "cell_type": "markdown",
      "source": [
        "Homework 2"
      ],
      "metadata": {
        "id": "EEE31WXnlOzI"
      }
    },
    {
      "cell_type": "code",
      "source": [
        "result = 0\n",
        "for i in range (1,12):\n",
        "  result = result + i\n",
        "\n",
        "print(result)"
      ],
      "metadata": {
        "colab": {
          "base_uri": "https://localhost:8080/"
        },
        "id": "V_2Wyt2ItVxa",
        "outputId": "56696212-d15a-47b5-f29e-0e5cf749257f"
      },
      "execution_count": null,
      "outputs": [
        {
          "output_type": "stream",
          "name": "stdout",
          "text": [
            "66\n"
          ]
        }
      ]
    },
    {
      "cell_type": "markdown",
      "source": [
        "Practice 1"
      ],
      "metadata": {
        "id": "xeSUlVmhjE9i"
      }
    },
    {
      "cell_type": "code",
      "source": [
        "len = float(input('Enter Length: '))\n",
        "wid = float (input('Enter Width: '))\n",
        "unit_cost = float(input('Unit Cost: '))\n",
        "\n",
        "area = len * wid\n",
        "print('Area is: ', area)\n",
        "\n",
        "total_cost = area * unit_cost\n",
        "print('Total Cost: ', total_cost)\n"
      ],
      "metadata": {
        "colab": {
          "base_uri": "https://localhost:8080/"
        },
        "id": "-mfHu2u7jKPG",
        "outputId": "26c76881-ee30-4bfe-c1bc-ed91cf527463"
      },
      "execution_count": null,
      "outputs": [
        {
          "output_type": "stream",
          "name": "stdout",
          "text": [
            "Enter Length: 32.42\n",
            "Enter Width: 25.2\n",
            "Unit Cost: 20\n",
            "Area is:  816.984\n",
            "Total Cost:  16339.68\n"
          ]
        }
      ]
    },
    {
      "cell_type": "markdown",
      "source": [
        "Practice 1.1"
      ],
      "metadata": {
        "id": "mBYk3_8NqUmS"
      }
    },
    {
      "cell_type": "code",
      "source": [
        "len = float(input('Enter Length: '))\n",
        "wid = float (input('Enter Width: '))\n",
        "unit_cost = float(input('Enter Unit Cost: '))\n",
        "\n",
        "area = len * wid\n",
        "print ('Total Area is: ', area)\n",
        "\n",
        "total_cost = area * unit_cost\n",
        "print('Total Cost: ', total_cost)\n"
      ],
      "metadata": {
        "colab": {
          "base_uri": "https://localhost:8080/"
        },
        "id": "vE1SmRMslZWD",
        "outputId": "79a70a69-70b4-4543-c3b1-88c8067fbd74"
      },
      "execution_count": null,
      "outputs": [
        {
          "output_type": "stream",
          "name": "stdout",
          "text": [
            "Enter Length: 200\n",
            "Enter Width: 100\n",
            "Enter Unit Cost: 50\n",
            "Total Area is:  20000.0\n",
            "Total Cost:  1000000.0\n"
          ]
        }
      ]
    },
    {
      "cell_type": "markdown",
      "source": [
        "Practice 2"
      ],
      "metadata": {
        "id": "WAkAeJRpqX00"
      }
    },
    {
      "cell_type": "code",
      "source": [
        "quantity = float(input('Enter Quantity: '))\n",
        "unit_price = float(input('Enter Unit Price: '))\n",
        "discount  = float(input('Enter Discount: '))\n",
        "\n",
        "if (quantity >1000):\n",
        "  totalprice = quantity * unit_price * (1-discount/100)\n",
        "  print(totalprice,'With Discount')\n",
        "\n",
        "else:\n",
        "  totalprice = quantity * unit_price\n",
        "  print(totalprice,'No Discount')\n"
      ],
      "metadata": {
        "colab": {
          "base_uri": "https://localhost:8080/"
        },
        "id": "OnR248pbqaZF",
        "outputId": "ae884008-d0d2-43fe-a03c-0f9c394c2cde"
      },
      "execution_count": null,
      "outputs": [
        {
          "output_type": "stream",
          "name": "stdout",
          "text": [
            "Enter Quantity: 1000\n",
            "Enter Unit Price: 100\n",
            "Enter Discount: 10\n",
            "100000.0 No Discount\n"
          ]
        }
      ]
    },
    {
      "cell_type": "markdown",
      "source": [
        "Pricetice 2.2\n"
      ],
      "metadata": {
        "id": "B5npf96Uy7Ck"
      }
    },
    {
      "cell_type": "code",
      "source": [
        "quantity = float(input('Enter Quantity: '))\n",
        "unitcost = float(input('Enter Unit Cost: '))\n",
        "discount = float(input('Enter Discount: '))\n",
        "\n",
        "if (quantity>=1000):\n",
        "  totalprice = quantity * unitcost * (1-discount/100)\n",
        "  print(totalprice, 'With Disocunt')\n",
        "\n",
        "else:\n",
        "  totalprice = quantity * unitcost\n",
        "  print(totalprice,'No Disocunt')\n"
      ],
      "metadata": {
        "colab": {
          "base_uri": "https://localhost:8080/"
        },
        "id": "13_awuGEzBe0",
        "outputId": "6eed88b6-108e-4902-99cb-83dfc7f9351f"
      },
      "execution_count": null,
      "outputs": [
        {
          "output_type": "stream",
          "name": "stdout",
          "text": [
            "Enter Quantity: 2500\n",
            "Enter Unit Cost: 125\n",
            "Enter Discount: 10\n",
            "281250.0 With Disocunt\n"
          ]
        }
      ]
    },
    {
      "cell_type": "markdown",
      "source": [
        "Practice 2.3"
      ],
      "metadata": {
        "id": "XLF-v8qC6jjd"
      }
    },
    {
      "cell_type": "code",
      "source": [
        "quantity = float(input('Enter Quantity: '))\n",
        "unitcost = float (input('Enter Unit Cost: '))\n",
        "discount = float (input('Enter Discount: '))\n",
        "\n",
        "if (quantity >=5000):\n",
        "  totalprice = quantity * unitcost * (1-discount/100)\n",
        "  print(totalprice,'With Disocunt')\n",
        "\n",
        "else:\n",
        "  totalprice = quantity * unitcost\n",
        "  print(totalprice, 'No Disocunt')"
      ],
      "metadata": {
        "colab": {
          "base_uri": "https://localhost:8080/"
        },
        "id": "iEaytKtL6lww",
        "outputId": "44db0aab-31c8-425b-8bca-ac4d32f8e18d"
      },
      "execution_count": null,
      "outputs": [
        {
          "output_type": "stream",
          "name": "stdout",
          "text": [
            "Enter Quantity: 4500\n",
            "Enter Unit Cost: 100\n",
            "Enter Discount: 5\n",
            "450000.0 No Disocunt\n"
          ]
        }
      ]
    },
    {
      "cell_type": "markdown",
      "source": [
        "Practice 3.1 ( Print 1 to 10 Sequentially) "
      ],
      "metadata": {
        "id": "p3TR4byy9pUg"
      }
    },
    {
      "cell_type": "code",
      "source": [
        "for i in range(1,11):\n",
        "  print (i)\n"
      ],
      "metadata": {
        "colab": {
          "base_uri": "https://localhost:8080/"
        },
        "id": "ad6KDJQz9yzr",
        "outputId": "86a1633a-7dd7-4ee7-dd57-6ec6a03cf291"
      },
      "execution_count": null,
      "outputs": [
        {
          "output_type": "stream",
          "name": "stdout",
          "text": [
            "1\n",
            "2\n",
            "3\n",
            "4\n",
            "5\n",
            "6\n",
            "7\n",
            "8\n",
            "9\n",
            "10\n"
          ]
        }
      ]
    },
    {
      "cell_type": "code",
      "source": [
        "for i in range(11,28,3):\n",
        "  print (i)"
      ],
      "metadata": {
        "colab": {
          "base_uri": "https://localhost:8080/"
        },
        "id": "7sheDmKl-kB0",
        "outputId": "77330bc6-d522-4428-9232-4459ef2f0343"
      },
      "execution_count": null,
      "outputs": [
        {
          "output_type": "stream",
          "name": "stdout",
          "text": [
            "11\n",
            "14\n",
            "17\n",
            "20\n",
            "23\n",
            "26\n"
          ]
        }
      ]
    },
    {
      "cell_type": "markdown",
      "source": [
        "Practice 3.3 ( Print 67 to 72 Sequentially)"
      ],
      "metadata": {
        "id": "kbIbV0Pq-44r"
      }
    },
    {
      "cell_type": "code",
      "source": [
        "for i in range (67,73):\n",
        "  print (i)"
      ],
      "metadata": {
        "colab": {
          "base_uri": "https://localhost:8080/"
        },
        "id": "CnIiU36f_DZh",
        "outputId": "d94b787d-f0b7-4b71-a18d-9d715b38504c"
      },
      "execution_count": null,
      "outputs": [
        {
          "output_type": "stream",
          "name": "stdout",
          "text": [
            "67\n",
            "68\n",
            "69\n",
            "70\n",
            "71\n",
            "72\n"
          ]
        }
      ]
    },
    {
      "cell_type": "code",
      "source": [
        "color = ['red', 'blue', 'orange', 'yellow', 'black']\n",
        "for i in color:\n",
        "  print (i)"
      ],
      "metadata": {
        "colab": {
          "base_uri": "https://localhost:8080/"
        },
        "id": "aigUiyp5OZIS",
        "outputId": "eee76f3e-a3ea-4138-bd11-7fd71f4ec0b1"
      },
      "execution_count": null,
      "outputs": [
        {
          "output_type": "stream",
          "name": "stdout",
          "text": [
            "red\n",
            "blue\n",
            "orange\n",
            "yellow\n",
            "black\n"
          ]
        }
      ]
    },
    {
      "cell_type": "code",
      "source": [
        "color = ['Apple', 'Orange', 'Banana', 'Orange']\n",
        "for i in color:\n",
        "  print(i)"
      ],
      "metadata": {
        "colab": {
          "base_uri": "https://localhost:8080/"
        },
        "id": "VTks2ZlfO21n",
        "outputId": "b49932b1-0d48-49eb-9773-d560655f3bc9"
      },
      "execution_count": null,
      "outputs": [
        {
          "output_type": "stream",
          "name": "stdout",
          "text": [
            "Apple\n",
            "Orange\n",
            "Banana\n",
            "Orange\n"
          ]
        }
      ]
    },
    {
      "cell_type": "code",
      "source": [
        "list = [ 'Banana', 'Orange', 'Oil', 'Onion', 'Sugar']\n",
        "for i in list:\n",
        "  print (i)"
      ],
      "metadata": {
        "colab": {
          "base_uri": "https://localhost:8080/"
        },
        "id": "3ejFkPzZPlrx",
        "outputId": "23cecae1-24af-498a-c9b4-4c1ec15d89f9"
      },
      "execution_count": null,
      "outputs": [
        {
          "output_type": "stream",
          "name": "stdout",
          "text": [
            "Banana\n",
            "Orange\n",
            "Oil\n",
            "Onion\n",
            "Sugar\n"
          ]
        }
      ]
    },
    {
      "cell_type": "markdown",
      "source": [
        "Practice 4.1 [ Finding Grade with function ]"
      ],
      "metadata": {
        "id": "9N-lzsoLSGiQ"
      }
    },
    {
      "cell_type": "code",
      "source": [
        "def find_grade(marks):\n",
        "  if (marks >=80):\n",
        "    print('A')\n",
        "\n",
        "  elif (marks>=70 and marks <80):\n",
        "    print ('A')\n",
        "\n",
        "  elif (marks>=65 and marks <70):\n",
        "    print ('A-')\n",
        "\n",
        "  elif (marks >= 60 and marks <65):\n",
        "    print ('B')\n",
        "\n",
        "  else:\n",
        "    print('Below B')\n",
        "\n",
        "student_1 = [50, 88, 65, 70, 75]\n",
        "student_2 = [95, 85, 100, 72, 65]\n",
        "student_3 = [50,70,80,90,85]\n",
        "student_4 = [85,90,100,95,25]\n",
        "\n",
        "print('Student-1')\n",
        "for i in student_1:\n",
        "  find_grade(i)\n",
        "\n",
        "print ('Student-2')\n",
        "for i in student_2:\n",
        "  find_grade(i)\n",
        "\n",
        "print ('Student-3')\n",
        "for i in student_3:\n",
        "  find_grade(i)\n",
        "\n",
        "print ('Student-4')\n",
        "for i in student_4:\n",
        "  find_grade(i)\n"
      ],
      "metadata": {
        "colab": {
          "base_uri": "https://localhost:8080/"
        },
        "id": "k35YFbIFSQiG",
        "outputId": "77356270-a8d2-443f-c536-8e125a150a73"
      },
      "execution_count": null,
      "outputs": [
        {
          "output_type": "stream",
          "name": "stdout",
          "text": [
            "Student-1\n",
            "Below B\n",
            "A\n",
            "A-\n",
            "A\n",
            "A\n",
            "Student-2\n",
            "A\n",
            "A\n",
            "A\n",
            "A\n",
            "A-\n",
            "Student-3\n",
            "Below B\n",
            "A\n",
            "A\n",
            "A\n",
            "A\n",
            "Student-4\n",
            "A\n",
            "A\n",
            "A\n",
            "A\n",
            "Below B\n"
          ]
        }
      ]
    },
    {
      "cell_type": "markdown",
      "source": [
        "Practice 4.2 [ Findding Grade with function]- Not Executed"
      ],
      "metadata": {
        "id": "XNsM4D5bbsfb"
      }
    },
    {
      "cell_type": "code",
      "source": [
        "def find_grade(marks):\n",
        "  if (marks >=85):\n",
        "    print('A+')\n",
        "\n",
        "  elif(marks >=80 and marks <85):\n",
        "    print ('A')\n",
        "\n",
        "  elif(marks >= 75 and marks <80):\n",
        "    print ('B+')\n",
        "\n",
        "  elif(marks >= 70 and marks <75):\n",
        "    print ('B')\n",
        "\n",
        "  else:\n",
        "    print ('Below B')\n",
        "\n",
        "\n",
        "rahim : [100, 55, 65, 75, 85]\n",
        "karim : [85, 80, 75, 70, 80]\n",
        "roki : [80, 75, 73, 60, 70]\n",
        "\n",
        "print ('Rahim')\n",
        "for i in rahim:\n",
        "  find_grade(i)\n",
        "\n",
        "print ('Karim')\n",
        "for i in karim:\n",
        "  find_grade(i)\n",
        "\n",
        "print ('Roki')\n",
        "for i in roki:\n",
        "  find_grade(i)\n",
        "\n",
        "\n"
      ],
      "metadata": {
        "id": "Z3B9d6X9b0Dl"
      },
      "execution_count": null,
      "outputs": []
    },
    {
      "cell_type": "markdown",
      "source": [
        "Practice 4.3 ( Find Grade) "
      ],
      "metadata": {
        "id": "fcCL63r1mQgm"
      }
    },
    {
      "cell_type": "code",
      "source": [
        "def find_grade(marks):\n",
        "  if (marks >=80):\n",
        "    print ('A')\n",
        "\n",
        "  elif (marks >=75  and marks <80):\n",
        "    print ('A-')\n",
        "\n",
        "  elif (marks >=70 and marks <75):\n",
        "    print ('B')\n",
        "\n",
        "  else:\n",
        "    print('Below A')\n",
        "\n",
        "karim = [50, 75, 90, 100,78]\n",
        "ripon = [96, 80, 70,82,78]\n",
        "mitu  = [85, 90, 75, 70, 80]\n",
        "\n",
        "print(\"Karim's Retult\")\n",
        "for i in karim:\n",
        "  find_grade(i)\n",
        "\n",
        "print(\"Ripon' Result\")\n",
        "for i in ripon:\n",
        "  find_grade(i)\n",
        "\n",
        "print(\"Mitu's Grade\")\n",
        "for i in mitu:\n",
        "  find_grade(i)\n"
      ],
      "metadata": {
        "id": "TOIviR_bmomA",
        "colab": {
          "base_uri": "https://localhost:8080/"
        },
        "outputId": "7d33e5fc-ced4-4cc7-e5b1-6cff49e4fde5"
      },
      "execution_count": null,
      "outputs": [
        {
          "output_type": "stream",
          "name": "stdout",
          "text": [
            "Karim's Retult\n",
            "Below A\n",
            "A-\n",
            "A\n",
            "A\n",
            "A-\n",
            "Ripon' Result\n",
            "A\n",
            "A\n",
            "B\n",
            "A\n",
            "A-\n",
            "Mitu's Grade\n",
            "A\n",
            "A\n",
            "A-\n",
            "B\n",
            "A\n"
          ]
        }
      ]
    },
    {
      "cell_type": "markdown",
      "source": [
        "Practice 5.1 [ Find Total price with & without discount]"
      ],
      "metadata": {
        "id": "i3IzJDY9zvkt"
      }
    },
    {
      "cell_type": "code",
      "source": [
        "quantity = float(input('Enter quantity: '))\n",
        "unitprice = float(input('Enter unit price: '))\n",
        "discount = float(input('Enter discount: '))\n",
        "deliveryfee = float(input('Enter delivery fee: '))\n",
        "\n",
        "def calculate_price (q, up, d):\n",
        "  if  (q >=5000):\n",
        "    price = q * up * (1-d/100)\n",
        "    print ('With Discount')\n",
        "\n",
        "  else:\n",
        "    price = q * up\n",
        "    print ('Without Discount')\n",
        "\n",
        "  return price\n",
        "\n",
        "totalprice = calculate_price(quantity, unitprice, discount) + deliveryfee\n",
        "print (totalprice)\n",
        "\n",
        "  \n"
      ],
      "metadata": {
        "colab": {
          "base_uri": "https://localhost:8080/"
        },
        "id": "4htfZ9s8z6Me",
        "outputId": "365ca5de-a70b-4f85-8db9-8e59cf88900f"
      },
      "execution_count": null,
      "outputs": [
        {
          "output_type": "stream",
          "name": "stdout",
          "text": [
            "Enter quantity: 2000\n",
            "Enter unit price: 100\n",
            "Enter discount: 10\n",
            "Enter delivery fee: 50\n",
            "Without Discount\n",
            "200050.0\n"
          ]
        }
      ]
    },
    {
      "cell_type": "markdown",
      "source": [
        "Practice 5.2 [ Find Total price with & without discount]"
      ],
      "metadata": {
        "id": "mzRmkDMx9u8m"
      }
    },
    {
      "cell_type": "code",
      "source": [
        "quantity = float (input('Enter Quantity: '))\n",
        "unitprice = float (input('Enter Unit Price: '))\n",
        "discount = float (input('Enter Discount: '))\n",
        "deliveryfee = float (input('Enter Delivery Fee: '))\n",
        "\n",
        "def calculate_price(q,uc,dis):\n",
        "  if (q >=10000):\n",
        "    price = q * uc * (1-dis/100)\n",
        "    print('With Discount')\n",
        "\n",
        "  else:\n",
        "    price = q * uc\n",
        "    print ('No Discount')\n",
        "\n",
        "  return price\n",
        "\n",
        "totalprice = calculate_price (quantity, unitprice, discount) + deliveryfee\n",
        "print(totalprice)\n"
      ],
      "metadata": {
        "colab": {
          "base_uri": "https://localhost:8080/"
        },
        "id": "5MiZlDfe9xEn",
        "outputId": "3733395d-dc11-457e-b3d1-61e0fcdee4f3"
      },
      "execution_count": null,
      "outputs": [
        {
          "output_type": "stream",
          "name": "stdout",
          "text": [
            "Enter Quantity: 7800\n",
            "Enter Unit Price: 78\n",
            "Enter Discount: 23\n",
            "Enter Delivery Fee: 50\n",
            "No Discount\n",
            "608450.0\n"
          ]
        }
      ]
    },
    {
      "cell_type": "markdown",
      "source": [
        "Practice 6.1 Rectangular"
      ],
      "metadata": {
        "id": "T2q-jo0JfJn6"
      }
    },
    {
      "cell_type": "code",
      "source": [
        "length = float(input('Enter the length of rectangular: '))\n",
        "width = float(input('Enter the width of rectangular: '))\n",
        "\n",
        "area = length * width\n",
        "\n",
        "perimeter = (length + width) * 2\n",
        "\n",
        "print (\"Area of Rectangular is %.2f\" % area )   # %.2f means 2 values after decimal\n",
        "print (\"Perimeter of Rectangular is %.2f\" %perimeter)\n",
        "\n"
      ],
      "metadata": {
        "colab": {
          "base_uri": "https://localhost:8080/"
        },
        "id": "2SagAdi9fOMF",
        "outputId": "2d2419d8-9eff-4190-f4b3-c4049086422f"
      },
      "execution_count": null,
      "outputs": [
        {
          "output_type": "stream",
          "name": "stdout",
          "text": [
            "Enter the length of rectangular: 10\n",
            "Enter the width of rectangular: 12\n",
            "Area of Rectangular is 120.00\n",
            "Perimeter of Rectangular is 44.00\n"
          ]
        }
      ]
    },
    {
      "cell_type": "markdown",
      "source": [
        "6.2 A company decided to give bonus of 5% to employee if his/her year of service is more than 5 years.\n",
        "Ask user for their salary and year of service and print the net bonus amount."
      ],
      "metadata": {
        "id": "NXql0bJJkFnH"
      }
    },
    {
      "cell_type": "code",
      "source": [
        "salary = 50000\n",
        "yos = 7\n",
        "bonus = .05\n",
        "\n",
        "if (yos>5):\n",
        "  print('Bonus is: ', salary * bonus)\n",
        " \n",
        "\n",
        "else:\n",
        "  print('No Bonus')"
      ],
      "metadata": {
        "colab": {
          "base_uri": "https://localhost:8080/"
        },
        "id": "XhYI9nF7kLOL",
        "outputId": "1b915d50-1cdd-41f6-a99d-76ed25c8ede9"
      },
      "execution_count": null,
      "outputs": [
        {
          "output_type": "stream",
          "name": "stdout",
          "text": [
            "Bonus is:  2500.0\n"
          ]
        }
      ]
    },
    {
      "cell_type": "markdown",
      "source": [
        "6.3 A company decided to give bonus of 5% to employee if his/her year of service is more than 5 years. Ask user for their salary and year of service and print the net bonus amount."
      ],
      "metadata": {
        "id": "EMaddAu0q5jY"
      }
    },
    {
      "cell_type": "code",
      "source": [
        "salary = int (input('Enter Salary: '))\n",
        "yos = float(input('Enter Year of Service: '))\n",
        "bonus = float(input('Enter Bonus rate: '))\n",
        "\n",
        "if (yos >5):\n",
        "  print('Bonus is:', salary * bonus)\n",
        "  print('You got Bonus')\n",
        "\n",
        "else:\n",
        "  print('Sorry! You are under 5 Years!!!')\n"
      ],
      "metadata": {
        "colab": {
          "base_uri": "https://localhost:8080/"
        },
        "id": "jqrzXYH1rCmR",
        "outputId": "644f0b8b-ee1c-40c0-d4fe-8ea19aa78903"
      },
      "execution_count": null,
      "outputs": [
        {
          "output_type": "stream",
          "name": "stdout",
          "text": [
            "Enter Salary: 25000\n",
            "Enter Year of Service: 7\n",
            "Enter Bonus rate: .08\n",
            "Bonus is: 2000.0\n",
            "You got Bonus\n"
          ]
        }
      ]
    },
    {
      "cell_type": "markdown",
      "source": [
        "6.4 Take values of length and breadth of a rectangle from user and check if it is square or not."
      ],
      "metadata": {
        "id": "q5Z9E1WmGx6G"
      }
    },
    {
      "cell_type": "code",
      "source": [
        "len = float(input('Enter Length: '))\n",
        "breadth = float (input('Enter breadth: '))\n",
        "\n",
        "if (len== breadth):\n",
        "  print('Yes, it is a square')\n",
        "\n",
        "else:\n",
        "  print('No, It is only rectangle!')"
      ],
      "metadata": {
        "colab": {
          "base_uri": "https://localhost:8080/"
        },
        "id": "zXo1rzepG2tc",
        "outputId": "417bc54b-d5cc-4fef-95bf-0baa6a68eabd"
      },
      "execution_count": null,
      "outputs": [
        {
          "output_type": "stream",
          "name": "stdout",
          "text": [
            "Enter Length: 25\n",
            "Enter breadth: 25\n",
            "Yes, it is a square\n"
          ]
        }
      ]
    },
    {
      "cell_type": "markdown",
      "source": [
        "\n",
        "6.5 Take two int values from user and print greatest among them."
      ],
      "metadata": {
        "id": "5jqbBwbDI6gK"
      }
    },
    {
      "cell_type": "code",
      "source": [
        "first = int(input('Enter First value: '))\n",
        "second = int (input('Enter Second value: '))\n",
        "\n",
        "if (first > second):\n",
        "  print('Gretest is', first)\n",
        "  print('First Executed')\n",
        "\n",
        "elif (second > first):\n",
        "  print ('Gretest is', second)\n",
        "  print('Second Executed')\n",
        "\n",
        "else:\n",
        "  print ('Both are equal!')"
      ],
      "metadata": {
        "colab": {
          "base_uri": "https://localhost:8080/"
        },
        "id": "XOAfaPaOI9iY",
        "outputId": "776c8da9-5699-4679-9c64-9e38396481e4"
      },
      "execution_count": null,
      "outputs": [
        {
          "output_type": "stream",
          "name": "stdout",
          "text": [
            "Enter First value: 50\n",
            "Enter Second value: 25\n",
            "Gretest is 50\n",
            "First Executed\n"
          ]
        }
      ]
    }
  ]
}