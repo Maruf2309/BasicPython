{
 "cells": [
  {
   "cell_type": "markdown",
   "id": "54a4c389",
   "metadata": {},
   "source": [
    "# Operators"
   ]
  },
  {
   "cell_type": "markdown",
   "id": "24a4e39a",
   "metadata": {},
   "source": [
    "## Arithmatic Operator"
   ]
  },
  {
   "cell_type": "code",
   "execution_count": 1,
   "id": "37396c4b",
   "metadata": {},
   "outputs": [
    {
     "name": "stdout",
     "output_type": "stream",
     "text": [
      "5\n",
      "5\n",
      "25\n",
      "1.5\n",
      "1\n",
      "3.0\n",
      "3\n",
      "1\n",
      "0\n",
      "4\n",
      "8\n"
     ]
    }
   ],
   "source": [
    "# Addition\n",
    "print(2+3)\n",
    "print(10-5)\n",
    "print(5*5)\n",
    "print(3/2)  # Division (floating point)\n",
    "print(3//2) # Floor Division (integer Division), return only first part before decimal, its floor value that why its called floor division\n",
    "print(6/2)\n",
    "print(6//2)\n",
    "print(5%2) # Modulous Operator, use to know/check \"Remainder\" after division\n",
    "print(10%2) \n",
    "print(2**2) # Power Calculation- Square\n",
    "print(2**3) # Power Calculation - Q\n"
   ]
  },
  {
   "cell_type": "markdown",
   "id": "40fe58f0",
   "metadata": {},
   "source": [
    "## Relational Operator"
   ]
  },
  {
   "cell_type": "markdown",
   "id": "35b511a5",
   "metadata": {},
   "source": [
    "- Try to identify relationship between operant, like asking something\n",
    "- Comparision"
   ]
  },
  {
   "cell_type": "code",
   "execution_count": 2,
   "id": "67acbe87",
   "metadata": {},
   "outputs": [
    {
     "name": "stdout",
     "output_type": "stream",
     "text": [
      "True\n",
      "False\n",
      "False\n",
      "True\n",
      "True\n",
      "True\n",
      "False\n",
      "True\n",
      "True\n",
      "False\n",
      "False\n",
      "True\n",
      "True\n"
     ]
    }
   ],
   "source": [
    "# Comparision:\n",
    "\n",
    "print(4 > 2)  # is 4 > 2 ? \n",
    "print(4 < 2)  # is 4 < 2 ?\n",
    "print(4 == 2) # Equality, check where its equal or not; need to use double quaal (==) sign, because single equal used to assign value\n",
    "print(5 == 5)\n",
    "print(4 >= 2) # Check double condition, where 4 is >= 2 ? first check whether its > then check whether its equal, return True if any true\n",
    "print(4 >=4)\n",
    "print(4 >= 5)\n",
    "print(4 <=4)\n",
    "print(4 <=5)\n",
    "print(4 <=2)\n",
    "print(4 !=4) # Not Equal to Comparision, false becasue 4 & 4 are equal while it checking whether it is not equal!, return opposit then equal to!\n",
    "print(4 !=5) # 4 & 5 are not equal, return True\n",
    "print(4 !=3) # 4 & 3 are not equal, return True"
   ]
  },
  {
   "cell_type": "markdown",
   "id": "245ca622",
   "metadata": {},
   "source": [
    "## Logical/ Boolean Operator"
   ]
  },
  {
   "cell_type": "markdown",
   "id": "a612e5e3",
   "metadata": {},
   "source": [
    "- Where relational operators use heavily \n",
    "- (And ; OR ; Not) - Boolean"
   ]
  },
  {
   "cell_type": "markdown",
   "id": "f659f476",
   "metadata": {},
   "source": [
    "### AND - Operator"
   ]
  },
  {
   "cell_type": "markdown",
   "id": "5b94f656",
   "metadata": {},
   "source": [
    "- When left & right operant (value) both are True then return \"True\" otherwise return False"
   ]
  },
  {
   "cell_type": "code",
   "execution_count": 3,
   "id": "efb5a958",
   "metadata": {},
   "outputs": [
    {
     "name": "stdout",
     "output_type": "stream",
     "text": [
      "False\n",
      "False\n",
      "False\n",
      "True\n"
     ]
    }
   ],
   "source": [
    "print(False and False) # Return False, because both are not true, rather both are false\n",
    "print(False and True) # Return False, because both are not true, any of them are false\n",
    "print(True and False) # Return False, because both are not true, any of them are false\n",
    "print(True and True) # Return True, because both are true"
   ]
  },
  {
   "cell_type": "markdown",
   "id": "7b9be5c3",
   "metadata": {},
   "source": [
    "### OR - Operator"
   ]
  },
  {
   "cell_type": "markdown",
   "id": "da7e7bf2",
   "metadata": {},
   "source": [
    "- Any True out of Two, return True, otherwise false"
   ]
  },
  {
   "cell_type": "code",
   "execution_count": 7,
   "id": "7409f1b1",
   "metadata": {},
   "outputs": [
    {
     "name": "stdout",
     "output_type": "stream",
     "text": [
      "False\n",
      "True\n",
      "True\n",
      "True\n"
     ]
    }
   ],
   "source": [
    "print(False or False)\n",
    "print(False or True)\n",
    "print(True or False)\n",
    "print(True or True)"
   ]
  },
  {
   "cell_type": "markdown",
   "id": "5c04af83",
   "metadata": {},
   "source": [
    "## Not Operator"
   ]
  },
  {
   "cell_type": "markdown",
   "id": "82870e20",
   "metadata": {},
   "source": [
    "- and, or & not are python built-in-keyword\n",
    "- or, and not : This keyword can not be used a variable\n",
    "- Not: this will make true statement to false & vise-versa"
   ]
  },
  {
   "cell_type": "code",
   "execution_count": 9,
   "id": "6757fad7",
   "metadata": {},
   "outputs": [
    {
     "data": {
      "text/plain": [
       "False"
      ]
     },
     "execution_count": 9,
     "metadata": {},
     "output_type": "execute_result"
    }
   ],
   "source": [
    "not True  # convert True into false, like conversion"
   ]
  },
  {
   "cell_type": "code",
   "execution_count": 10,
   "id": "7f598265",
   "metadata": {},
   "outputs": [
    {
     "data": {
      "text/plain": [
       "True"
      ]
     },
     "execution_count": 10,
     "metadata": {},
     "output_type": "execute_result"
    }
   ],
   "source": [
    "not False"
   ]
  },
  {
   "cell_type": "markdown",
   "id": "3d2f307d",
   "metadata": {},
   "source": [
    "##### Relational operator highly used with logical operator"
   ]
  },
  {
   "cell_type": "code",
   "execution_count": 11,
   "id": "2367ca09",
   "metadata": {},
   "outputs": [
    {
     "data": {
      "text/plain": [
       "True"
      ]
     },
     "execution_count": 11,
     "metadata": {},
     "output_type": "execute_result"
    }
   ],
   "source": [
    "# Check the grade for the marks with some conditions\n",
    "marks = 78\n",
    "\n",
    "# Conditon : A grade is > 75- 90, check the grade\n",
    "\n",
    "# Checking A grade:\n",
    "marks > 75 and marks < 95"
   ]
  },
  {
   "cell_type": "code",
   "execution_count": 13,
   "id": "5448617d",
   "metadata": {},
   "outputs": [
    {
     "data": {
      "text/plain": [
       "False"
      ]
     },
     "execution_count": 13,
     "metadata": {},
     "output_type": "execute_result"
    }
   ],
   "source": [
    "# Check the grade for the marks with some conditions\n",
    "marks = 65\n",
    "\n",
    "# Conditon : A grade is > 75- 90, check the grade\n",
    "\n",
    "# Checking A grade: it returns false, because the and the condition is False\n",
    "marks > 75 and marks < 95    # Condition for 1st operant is True; whereas condition for 2nd Operant is False, \n",
    "\n",
    "# 65 is < 95 but not > 75 that why its return False- because as per 'and' rule both condition must be TRUE, any false, will return false"
   ]
  },
  {
   "cell_type": "code",
   "execution_count": 16,
   "id": "0c7aad28",
   "metadata": {},
   "outputs": [
    {
     "data": {
      "text/plain": [
       "False"
      ]
     },
     "execution_count": 16,
     "metadata": {},
     "output_type": "execute_result"
    }
   ],
   "source": [
    "# grade for the marks with some conditions\n",
    "marks = 98\n",
    "\n",
    "# Conditon : A grade is > 75- 90, check the grade\n",
    "\n",
    "# Checking A grade: it returns false, because the and the condition is False\n",
    "marks > 75 and marks < 95    # 98 is not less then 95, so its return False "
   ]
  }
 ],
 "metadata": {
  "kernelspec": {
   "display_name": "Python 3 (ipykernel)",
   "language": "python",
   "name": "python3"
  },
  "language_info": {
   "codemirror_mode": {
    "name": "ipython",
    "version": 3
   },
   "file_extension": ".py",
   "mimetype": "text/x-python",
   "name": "python",
   "nbconvert_exporter": "python",
   "pygments_lexer": "ipython3",
   "version": "3.9.12"
  }
 },
 "nbformat": 4,
 "nbformat_minor": 5
}
