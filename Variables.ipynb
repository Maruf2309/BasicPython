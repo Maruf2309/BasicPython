{
 "cells": [
  {
   "cell_type": "markdown",
   "id": "0e3fd3a6",
   "metadata": {},
   "source": [
    "# Variables"
   ]
  },
  {
   "cell_type": "markdown",
   "id": "3717ccd8",
   "metadata": {},
   "source": [
    "### Variables are a container where you can store your data or is a memory location"
   ]
  },
  {
   "cell_type": "markdown",
   "id": "da26f45e",
   "metadata": {},
   "source": [
    "### Topic   (1002)"
   ]
  },
  {
   "cell_type": "markdown",
   "id": "8fb6ccca",
   "metadata": {},
   "source": [
    "- Variable\n",
    "- Checking Variable memory Location\n",
    "- Multiple Variables\n",
    "- Variable Syntex Rule\n",
    "- Valid vs Invalid Syntex\n",
    "- Multiple word variable/ case\n",
    "- Global vs Local variables\n",
    "- Defining local into global Variables"
   ]
  },
  {
   "cell_type": "code",
   "execution_count": 6,
   "id": "71e10450",
   "metadata": {},
   "outputs": [
    {
     "name": "stdout",
     "output_type": "stream",
     "text": [
      "2\n"
     ]
    }
   ],
   "source": [
    "a = 2\n",
    "print(a)"
   ]
  },
  {
   "cell_type": "code",
   "execution_count": 2,
   "id": "9b2b09d4",
   "metadata": {},
   "outputs": [
    {
     "name": "stdout",
     "output_type": "stream",
     "text": [
      "3\n"
     ]
    }
   ],
   "source": [
    "b = 3\n",
    "print(b)"
   ]
  },
  {
   "cell_type": "code",
   "execution_count": 3,
   "id": "ad6a0201",
   "metadata": {},
   "outputs": [
    {
     "data": {
      "text/plain": [
       "3"
      ]
     },
     "execution_count": 3,
     "metadata": {},
     "output_type": "execute_result"
    }
   ],
   "source": [
    "c = 3\n",
    "c"
   ]
  },
  {
   "cell_type": "code",
   "execution_count": 4,
   "id": "3b4f0dc1",
   "metadata": {},
   "outputs": [
    {
     "data": {
      "text/plain": [
       "'John'"
      ]
     },
     "execution_count": 4,
     "metadata": {},
     "output_type": "execute_result"
    }
   ],
   "source": [
    "first_name = 'John'\n",
    "first_name"
   ]
  },
  {
   "cell_type": "code",
   "execution_count": 5,
   "id": "b4171a31",
   "metadata": {},
   "outputs": [
    {
     "data": {
      "text/plain": [
       "'Joh'"
      ]
     },
     "execution_count": 5,
     "metadata": {},
     "output_type": "execute_result"
    }
   ],
   "source": [
    "name2 = 'Joh'\n",
    "name2"
   ]
  },
  {
   "cell_type": "code",
   "execution_count": 7,
   "id": "05ae496e",
   "metadata": {},
   "outputs": [
    {
     "data": {
      "text/plain": [
       "'Hello World'"
      ]
     },
     "execution_count": 7,
     "metadata": {},
     "output_type": "execute_result"
    }
   ],
   "source": [
    "var = 'Hello World'\n",
    "var"
   ]
  },
  {
   "cell_type": "code",
   "execution_count": 8,
   "id": "8579daf6",
   "metadata": {},
   "outputs": [
    {
     "name": "stdout",
     "output_type": "stream",
     "text": [
      "Hello World\n"
     ]
    }
   ],
   "source": [
    "print(var)  # when var pass into fn then no need to use \"\""
   ]
  },
  {
   "cell_type": "code",
   "execution_count": 9,
   "id": "fadfe653",
   "metadata": {},
   "outputs": [
    {
     "name": "stdout",
     "output_type": "stream",
     "text": [
      "My Sentence is Hello World\n"
     ]
    }
   ],
   "source": [
    "print ('My Sentence is '+var)"
   ]
  },
  {
   "cell_type": "markdown",
   "id": "b6a04a32",
   "metadata": {},
   "source": [
    "### Checking variable memory location"
   ]
  },
  {
   "cell_type": "code",
   "execution_count": 10,
   "id": "612381b8",
   "metadata": {},
   "outputs": [
    {
     "data": {
      "text/plain": [
       "1962360465712"
      ]
     },
     "execution_count": 10,
     "metadata": {},
     "output_type": "execute_result"
    }
   ],
   "source": [
    "# Since var is a memory location, you can check the var location\n",
    "id(var)"
   ]
  },
  {
   "cell_type": "code",
   "execution_count": 11,
   "id": "57260b81",
   "metadata": {},
   "outputs": [
    {
     "data": {
      "text/plain": [
       "1962280380752"
      ]
     },
     "execution_count": 11,
     "metadata": {},
     "output_type": "execute_result"
    }
   ],
   "source": [
    "id(a)"
   ]
  },
  {
   "cell_type": "code",
   "execution_count": 12,
   "id": "4dfd5507",
   "metadata": {},
   "outputs": [
    {
     "data": {
      "text/plain": [
       "1962280380784"
      ]
     },
     "execution_count": 12,
     "metadata": {},
     "output_type": "execute_result"
    }
   ],
   "source": [
    "id(b)  # when same value for a var, stored same location, like b&c value is same"
   ]
  },
  {
   "cell_type": "code",
   "execution_count": 22,
   "id": "3939016b",
   "metadata": {},
   "outputs": [
    {
     "data": {
      "text/plain": [
       "1962280380784"
      ]
     },
     "execution_count": 22,
     "metadata": {},
     "output_type": "execute_result"
    }
   ],
   "source": [
    "id(c)"
   ]
  },
  {
   "cell_type": "code",
   "execution_count": 24,
   "id": "65f9bf30",
   "metadata": {},
   "outputs": [],
   "source": [
    "# location chaned when values > 3 digit\n",
    "x = 1000\n",
    "y = 1000"
   ]
  },
  {
   "cell_type": "code",
   "execution_count": 25,
   "id": "ebc7024e",
   "metadata": {},
   "outputs": [
    {
     "data": {
      "text/plain": [
       "1962409248528"
      ]
     },
     "execution_count": 25,
     "metadata": {},
     "output_type": "execute_result"
    }
   ],
   "source": [
    "id(x)"
   ]
  },
  {
   "cell_type": "code",
   "execution_count": 26,
   "id": "d0e6a688",
   "metadata": {},
   "outputs": [
    {
     "data": {
      "text/plain": [
       "1962409248336"
      ]
     },
     "execution_count": 26,
     "metadata": {},
     "output_type": "execute_result"
    }
   ],
   "source": [
    "id(y)"
   ]
  },
  {
   "cell_type": "code",
   "execution_count": 27,
   "id": "1a9aa6cc",
   "metadata": {},
   "outputs": [],
   "source": [
    "# same location upto 3 digit\n",
    "x1 = 200\n",
    "y1 = 200"
   ]
  },
  {
   "cell_type": "code",
   "execution_count": 28,
   "id": "e26b127c",
   "metadata": {},
   "outputs": [
    {
     "data": {
      "text/plain": [
       "1962280575632"
      ]
     },
     "execution_count": 28,
     "metadata": {},
     "output_type": "execute_result"
    }
   ],
   "source": [
    "id(x1)"
   ]
  },
  {
   "cell_type": "code",
   "execution_count": 29,
   "id": "e17166ab",
   "metadata": {},
   "outputs": [
    {
     "data": {
      "text/plain": [
       "1962280575632"
      ]
     },
     "execution_count": 29,
     "metadata": {},
     "output_type": "execute_result"
    }
   ],
   "source": [
    "id(y1)"
   ]
  },
  {
   "cell_type": "markdown",
   "id": "ad0ecd95",
   "metadata": {},
   "source": [
    "## Multiple Variables"
   ]
  },
  {
   "cell_type": "code",
   "execution_count": 30,
   "id": "d8b4f2c0",
   "metadata": {},
   "outputs": [],
   "source": [
    "x,y,z = 10,100,1000"
   ]
  },
  {
   "cell_type": "code",
   "execution_count": 31,
   "id": "ae4ddd56",
   "metadata": {},
   "outputs": [
    {
     "data": {
      "text/plain": [
       "10"
      ]
     },
     "execution_count": 31,
     "metadata": {},
     "output_type": "execute_result"
    }
   ],
   "source": [
    "x"
   ]
  },
  {
   "cell_type": "code",
   "execution_count": 32,
   "id": "21d47535",
   "metadata": {},
   "outputs": [
    {
     "data": {
      "text/plain": [
       "1000"
      ]
     },
     "execution_count": 32,
     "metadata": {},
     "output_type": "execute_result"
    }
   ],
   "source": [
    "z"
   ]
  },
  {
   "cell_type": "code",
   "execution_count": 47,
   "id": "4a972fd8",
   "metadata": {},
   "outputs": [],
   "source": [
    "# x1,x2,x3 = 100, 200 # will get error due to shape"
   ]
  },
  {
   "cell_type": "code",
   "execution_count": 37,
   "id": "6a4541bf",
   "metadata": {},
   "outputs": [],
   "source": [
    "x1,x2,x3 = 100,200,0"
   ]
  },
  {
   "cell_type": "markdown",
   "id": "c2eb0f97",
   "metadata": {},
   "source": [
    "## Variable syntax or rules"
   ]
  },
  {
   "cell_type": "markdown",
   "id": "4367e82d",
   "metadata": {},
   "source": [
    "- A Variable can have a short name (like x & y) or more descriptive name\n",
    "- A Variable must start with a latter or the underscore (_)\n",
    "- A Variable cannot start with a number \n",
    "- A Variable can only contain alpha-numeric characters & underscore (A-Z, 0-9, and _)\n",
    "- Variables names are case-sensitive (x, X, _x are three diffent variables)"
   ]
  },
  {
   "cell_type": "markdown",
   "id": "ed75625f",
   "metadata": {},
   "source": [
    "## Vaild Syntax"
   ]
  },
  {
   "cell_type": "code",
   "execution_count": 23,
   "id": "4953cc33",
   "metadata": {},
   "outputs": [],
   "source": [
    "Var =10\n",
    "Var2 = 10\n",
    "var = 20\n",
    "var_2 = 10\n",
    "V1a2r5 = 50"
   ]
  },
  {
   "cell_type": "markdown",
   "id": "47ce1783",
   "metadata": {},
   "source": [
    "## Invalid Syntax"
   ]
  },
  {
   "cell_type": "code",
   "execution_count": null,
   "id": "36286d10",
   "metadata": {},
   "outputs": [],
   "source": [
    "# 5Var='Data Science'\n",
    "# var-2 = 'Bangladesh'\n",
    "# &var = 'India'\n",
    "# My name = 'Maruf'"
   ]
  },
  {
   "cell_type": "markdown",
   "id": "b0deeed1",
   "metadata": {},
   "source": [
    "## Multiple Word Varible Name / Cases"
   ]
  },
  {
   "cell_type": "markdown",
   "id": "1bd0d4e1",
   "metadata": {},
   "source": [
    "- camelCase\n",
    "- PascalCase\n",
    "- snake_case"
   ]
  },
  {
   "cell_type": "markdown",
   "id": "e1cd7deb",
   "metadata": {},
   "source": [
    "#### All is good, but personaly I prefer snake_case, Its for beautification or more understandable purpose"
   ]
  },
  {
   "cell_type": "markdown",
   "id": "61f717cc",
   "metadata": {},
   "source": [
    "## Global vs Local Variables"
   ]
  },
  {
   "cell_type": "markdown",
   "id": "08a9f22f",
   "metadata": {},
   "source": [
    "- Global Variable: The variable created outside of a function are known as global variable. Global variable can be used by everyone, both inside & outside of function\n",
    "- Local Variable: The Varibale created inside of a function, it can be used inside a function"
   ]
  },
  {
   "cell_type": "markdown",
   "id": "344ee2d1",
   "metadata": {},
   "source": [
    "### Local vs Global Example"
   ]
  },
  {
   "cell_type": "code",
   "execution_count": 39,
   "id": "6bea9b1c",
   "metadata": {},
   "outputs": [
    {
     "name": "stdout",
     "output_type": "stream",
     "text": [
      "My Number is :  1000\n"
     ]
    }
   ],
   "source": [
    "x3 = 1000  # Global Variable\n",
    "def func1():\n",
    "    print('My Number is : ',x3)\n",
    "func1()"
   ]
  },
  {
   "cell_type": "code",
   "execution_count": 42,
   "id": "73ce2661",
   "metadata": {},
   "outputs": [
    {
     "name": "stdout",
     "output_type": "stream",
     "text": [
      "My Number is :  1000\n"
     ]
    }
   ],
   "source": [
    "x4 = 2000  # Global Variable\n",
    "\n",
    "def func1():\n",
    "    x4 = 1000  # local variable inside fn, when local & global fn at a time then local fn more stronger then global           \n",
    "    print('My Number is : ',x4)\n",
    "func1()"
   ]
  },
  {
   "cell_type": "code",
   "execution_count": 44,
   "id": "dbef268c",
   "metadata": {},
   "outputs": [
    {
     "name": "stdout",
     "output_type": "stream",
     "text": [
      "My Number is :  1000\n",
      "My Number is :  2000\n"
     ]
    }
   ],
   "source": [
    "x5 = 2000  # Global Variable\n",
    "\n",
    "def func1():\n",
    "    x5 = 1000  # local variable inside fn        \n",
    "    print('My Number is : ',x5)\n",
    "func1()\n",
    "print('My Number is : ',x5)"
   ]
  },
  {
   "cell_type": "markdown",
   "id": "c92ba1d5",
   "metadata": {},
   "source": [
    "### Defining local into Global"
   ]
  },
  {
   "cell_type": "code",
   "execution_count": 46,
   "id": "d5dc27c6",
   "metadata": {},
   "outputs": [
    {
     "name": "stdout",
     "output_type": "stream",
     "text": [
      "My Number is :  1000\n",
      "My Number is :  1000\n"
     ]
    }
   ],
   "source": [
    "def func1():\n",
    "    global y   # declaring y as global\n",
    "    y = 1000  # local        \n",
    "    print('My Number is : ',y)\n",
    "func1()\n",
    "print('My Number is : ',y)"
   ]
  }
 ],
 "metadata": {
  "kernelspec": {
   "display_name": "Python 3 (ipykernel)",
   "language": "python",
   "name": "python3"
  },
  "language_info": {
   "codemirror_mode": {
    "name": "ipython",
    "version": 3
   },
   "file_extension": ".py",
   "mimetype": "text/x-python",
   "name": "python",
   "nbconvert_exporter": "python",
   "pygments_lexer": "ipython3",
   "version": "3.9.7"
  }
 },
 "nbformat": 4,
 "nbformat_minor": 5
}
