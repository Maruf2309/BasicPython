{
 "cells": [
  {
   "attachments": {},
   "cell_type": "markdown",
   "metadata": {},
   "source": [
    "# Object Oriented Progammnig - 1"
   ]
  },
  {
   "attachments": {},
   "cell_type": "markdown",
   "metadata": {},
   "source": [
    "# Introduction to OOP | Class & Object"
   ]
  },
  {
   "attachments": {},
   "cell_type": "markdown",
   "metadata": {},
   "source": [
    "- OPP\n",
    "- Class & Method\n",
    "- Verification whether object created under class\n",
    "- Class access by object\n",
    "- Print\n",
    "- Method\n",
    "- Constructor"
   ]
  },
  {
   "attachments": {},
   "cell_type": "markdown",
   "metadata": {},
   "source": [
    "#### Assumptions"
   ]
  },
  {
   "attachments": {},
   "cell_type": "markdown",
   "metadata": {},
   "source": [
    "- First Create a class by \"class\" keyword \n",
    "- Class name is 'Student' first Capital Letter\n",
    "- Under the class define some common properties / variables/ features / class members e.g roll & gpa\n"
   ]
  },
  {
   "attachments": {},
   "cell_type": "markdown",
   "metadata": {},
   "source": [
    "# Define Class"
   ]
  },
  {
   "cell_type": "code",
   "execution_count": 22,
   "metadata": {},
   "outputs": [],
   "source": [
    "class Student:\n",
    "    name = \" \"\n",
    "    roll = \" \"\n",
    "    gpa = \" \"\n"
   ]
  },
  {
   "attachments": {},
   "cell_type": "markdown",
   "metadata": {},
   "source": [
    "- Now Need to create class objects before using this"
   ]
  },
  {
   "attachments": {},
   "cell_type": "markdown",
   "metadata": {},
   "source": [
    "# Object Creation"
   ]
  },
  {
   "cell_type": "code",
   "execution_count": 23,
   "metadata": {},
   "outputs": [],
   "source": [
    "rahim = Student()   # Creating an object (rahim) under student class\n",
    "karim = Student()   # Creating 2nd object\n",
    "reza = Student()    # Creating 3rd object"
   ]
  },
  {
   "attachments": {},
   "cell_type": "markdown",
   "metadata": {},
   "source": [
    "### Verification whether rahim created as object under Student Class"
   ]
  },
  {
   "attachments": {},
   "cell_type": "markdown",
   "metadata": {},
   "source": [
    "- isinstance is a method / function that will return a boolean number to show wether object created under a class\n",
    "- Once object created succesfully, then the object (rahim) will get all the class access"
   ]
  },
  {
   "cell_type": "code",
   "execution_count": 5,
   "metadata": {},
   "outputs": [
    {
     "name": "stdout",
     "output_type": "stream",
     "text": [
      "True\n"
     ]
    }
   ],
   "source": [
    "print(isinstance(rahim, Student))"
   ]
  },
  {
   "attachments": {},
   "cell_type": "markdown",
   "metadata": {},
   "source": [
    "## Object Using Class Access"
   ]
  },
  {
   "attachments": {},
   "cell_type": "markdown",
   "metadata": {},
   "source": [
    "- An object can access the class by using dot operator"
   ]
  },
  {
   "cell_type": "code",
   "execution_count": 24,
   "metadata": {},
   "outputs": [],
   "source": [
    "rahim.name = 'Rahim'\n",
    "rahim.roll = 101\n",
    "rahim.gpa = 3.50"
   ]
  },
  {
   "cell_type": "code",
   "execution_count": 25,
   "metadata": {},
   "outputs": [],
   "source": [
    "karim.name = 'Karim'\n",
    "karim.roll = 102\n",
    "karim.gpa = 3.00"
   ]
  },
  {
   "cell_type": "code",
   "execution_count": 26,
   "metadata": {},
   "outputs": [],
   "source": [
    "reza.name = 'Reza'\n",
    "reza.roll = 103\n",
    "reza.gpa = 3.25"
   ]
  },
  {
   "attachments": {},
   "cell_type": "markdown",
   "metadata": {},
   "source": [
    "# Print "
   ]
  },
  {
   "cell_type": "code",
   "execution_count": 27,
   "metadata": {},
   "outputs": [
    {
     "name": "stdout",
     "output_type": "stream",
     "text": [
      "Name : Rahim, Roll: 101, GPA :3.5 \n",
      "Name : Karim, Roll: 102, GPA :3.0 \n",
      "Name : Reza, Roll: 103, GPA : 3.25 \n"
     ]
    }
   ],
   "source": [
    "print (f\"Name : {rahim.name}, Roll: {rahim.roll}, GPA :{rahim.gpa} \"),\n",
    "print (f\"Name : {karim.name}, Roll: {karim.roll}, GPA :{karim.gpa} \"),\n",
    "print (f\"Name : {reza.name}, Roll: {reza.roll}, GPA : {reza.gpa} \")\n"
   ]
  },
  {
   "attachments": {},
   "cell_type": "markdown",
   "metadata": {},
   "source": [
    "# Introducing Method"
   ]
  },
  {
   "attachments": {},
   "cell_type": "markdown",
   "metadata": {},
   "source": [
    "### Method Creation / Function under Class"
   ]
  },
  {
   "attachments": {},
   "cell_type": "markdown",
   "metadata": {},
   "source": [
    "- Self is a param inside display function/ method"
   ]
  },
  {
   "cell_type": "code",
   "execution_count": 39,
   "metadata": {},
   "outputs": [],
   "source": [
    "class Student1:\n",
    "    roll = \" \"\n",
    "    gpa = \" \"\n",
    "\n",
    "    def display (self):\n",
    "        print(f\"Roll : {self.roll}, GPA : {self.gpa} \")"
   ]
  },
  {
   "attachments": {},
   "cell_type": "markdown",
   "metadata": {},
   "source": [
    "### Object Creation"
   ]
  },
  {
   "cell_type": "code",
   "execution_count": 50,
   "metadata": {},
   "outputs": [],
   "source": [
    "samim = Student1()   # Creating an object (rahim) under student class\n",
    "suman = Student1()   # Creating 2nd object\n",
    "sohel = Student1()   # Creeating object of Sohel"
   ]
  },
  {
   "attachments": {},
   "cell_type": "markdown",
   "metadata": {},
   "source": [
    "### Value Assign to object / Using object "
   ]
  },
  {
   "cell_type": "code",
   "execution_count": 43,
   "metadata": {},
   "outputs": [],
   "source": [
    "samim.roll = 17\n",
    "samim.gpa = 3.15"
   ]
  },
  {
   "cell_type": "code",
   "execution_count": 44,
   "metadata": {},
   "outputs": [],
   "source": [
    "suman.roll = 18\n",
    "suman.gpa = 3.18"
   ]
  },
  {
   "cell_type": "code",
   "execution_count": 45,
   "metadata": {},
   "outputs": [],
   "source": [
    "sohel.roll = 19\n",
    "sohel.gpa = 2.90"
   ]
  },
  {
   "attachments": {},
   "cell_type": "markdown",
   "metadata": {},
   "source": [
    "### Print / Display by using method or created function"
   ]
  },
  {
   "attachments": {},
   "cell_type": "markdown",
   "metadata": {},
   "source": [
    "- Calling \"Display\" function by \"Object\" with dot operator"
   ]
  },
  {
   "cell_type": "code",
   "execution_count": 47,
   "metadata": {},
   "outputs": [
    {
     "name": "stdout",
     "output_type": "stream",
     "text": [
      "Roll : 17, GPA : 3.15 \n"
     ]
    }
   ],
   "source": [
    "samim.display()"
   ]
  },
  {
   "cell_type": "code",
   "execution_count": 48,
   "metadata": {},
   "outputs": [
    {
     "name": "stdout",
     "output_type": "stream",
     "text": [
      "Roll : 18, GPA : 3.18 \n"
     ]
    }
   ],
   "source": [
    "suman.display()"
   ]
  },
  {
   "cell_type": "code",
   "execution_count": 49,
   "metadata": {},
   "outputs": [
    {
     "name": "stdout",
     "output_type": "stream",
     "text": [
      "Roll : 19, GPA : 2.9 \n"
     ]
    }
   ],
   "source": [
    "sohel.display()"
   ]
  },
  {
   "attachments": {},
   "cell_type": "markdown",
   "metadata": {},
   "source": [
    "# Exercise 3: Automatic Value Assign for all, not explicitly value assign"
   ]
  },
  {
   "attachments": {},
   "cell_type": "markdown",
   "metadata": {},
   "source": [
    "- Creating another function & call them & that function will set Roll & GPA\n",
    "- Give a function name e.g set_value (any name can be provided), where two param will be passed as 'Roll' & 'GPA'"
   ]
  },
  {
   "cell_type": "code",
   "execution_count": 51,
   "metadata": {},
   "outputs": [],
   "source": [
    "class Student3:\n",
    "    roll = \" \"\n",
    "    gpa = \" \"\n",
    "\n",
    "    def set_value (self, roll, gpa):\n",
    "        self.roll = roll\n",
    "        self.gpa = gpa\n",
    "    \n",
    "    def display (self):\n",
    "        print (f\"Roll : {self.roll}, GPA : {self.gpa}\")"
   ]
  },
  {
   "attachments": {},
   "cell_type": "markdown",
   "metadata": {},
   "source": [
    "### Object Creation"
   ]
  },
  {
   "attachments": {},
   "cell_type": "markdown",
   "metadata": {},
   "source": [
    "- Object Creation under Class"
   ]
  },
  {
   "cell_type": "code",
   "execution_count": 58,
   "metadata": {},
   "outputs": [],
   "source": [
    "tansim = Student3()\n",
    "tahia = Student3 ()\n",
    "farin = Student3()"
   ]
  },
  {
   "attachments": {},
   "cell_type": "markdown",
   "metadata": {},
   "source": [
    "#### Set Value & Print"
   ]
  },
  {
   "cell_type": "code",
   "execution_count": 56,
   "metadata": {},
   "outputs": [
    {
     "name": "stdout",
     "output_type": "stream",
     "text": [
      "Roll : 1, GPA : 5.0\n"
     ]
    }
   ],
   "source": [
    "tansim.set_value(1, 5.00)\n",
    "tansim.display()"
   ]
  },
  {
   "cell_type": "code",
   "execution_count": 57,
   "metadata": {},
   "outputs": [
    {
     "name": "stdout",
     "output_type": "stream",
     "text": [
      "Roll : 2, GPA : 5.0\n"
     ]
    }
   ],
   "source": [
    "tahia.set_value(2, 5.00)\n",
    "tahia.display()"
   ]
  },
  {
   "cell_type": "code",
   "execution_count": 59,
   "metadata": {},
   "outputs": [
    {
     "name": "stdout",
     "output_type": "stream",
     "text": [
      "Roll : 5, GPA : 4.5\n"
     ]
    }
   ],
   "source": [
    "farin.set_value(5, 4.50)\n",
    "farin.display()"
   ]
  },
  {
   "attachments": {},
   "cell_type": "markdown",
   "metadata": {},
   "source": [
    "# Constructor"
   ]
  },
  {
   "attachments": {},
   "cell_type": "markdown",
   "metadata": {},
   "source": [
    "- Value passing during object creation\n",
    "- As a result, no need to created fucntion to set_values \n",
    "- There is method called as \"__init__\" required to create constructor\n",
    "- Make sure 'self' must in every method\n",
    "- Constructor is a SPECIAL type of METHOD, that doesn't requirs calling explicitly\n",
    "- Contruction helps to initialyze object (or help to set value during object creation)"
   ]
  },
  {
   "attachments": {},
   "cell_type": "markdown",
   "metadata": {},
   "source": [
    "#### Class Cretion"
   ]
  },
  {
   "cell_type": "code",
   "execution_count": 60,
   "metadata": {},
   "outputs": [],
   "source": [
    "class Student4 :\n",
    "    roll = \" \"\n",
    "    gpa = \" \"\n",
    "\n",
    "    def __init__(self, roll, gpa):\n",
    "        self.roll = roll\n",
    "        self.gpa = gpa\n",
    "\n",
    "    def display(self):\n",
    "        print(f\"Roll : {self.roll}, GPA : {self.gpa} \")"
   ]
  },
  {
   "attachments": {},
   "cell_type": "markdown",
   "metadata": {},
   "source": [
    "#### Object Creation with value initialize"
   ]
  },
  {
   "cell_type": "code",
   "execution_count": 63,
   "metadata": {},
   "outputs": [
    {
     "name": "stdout",
     "output_type": "stream",
     "text": [
      "Roll : 25, GPA : 5.0 \n"
     ]
    }
   ],
   "source": [
    "riyad = Student4 (25,  5.00)  # can passing values during object declaration due to constructor\n",
    "riyad.display()"
   ]
  },
  {
   "cell_type": "code",
   "execution_count": 64,
   "metadata": {},
   "outputs": [
    {
     "name": "stdout",
     "output_type": "stream",
     "text": [
      "Roll : 26, GPA : 5.0 \n"
     ]
    }
   ],
   "source": [
    "rifat = Student4 (26, 5.00)\n",
    "rifat.display()"
   ]
  },
  {
   "cell_type": "code",
   "execution_count": 65,
   "metadata": {},
   "outputs": [
    {
     "name": "stdout",
     "output_type": "stream",
     "text": [
      "Roll : 27, GPA : 3.5 \n"
     ]
    }
   ],
   "source": [
    "john = Student4 (27, 3.50)\n",
    "john.display()"
   ]
  }
 ],
 "metadata": {
  "kernelspec": {
   "display_name": "Python 3",
   "language": "python",
   "name": "python3"
  },
  "language_info": {
   "codemirror_mode": {
    "name": "ipython",
    "version": 3
   },
   "file_extension": ".py",
   "mimetype": "text/x-python",
   "name": "python",
   "nbconvert_exporter": "python",
   "pygments_lexer": "ipython3",
   "version": "3.10.7"
  },
  "orig_nbformat": 4,
  "vscode": {
   "interpreter": {
    "hash": "c19fa61d258bb2b35aae2ada233c33e2817c1ce895aa48acba720c6bf7cbe3cb"
   }
  }
 },
 "nbformat": 4,
 "nbformat_minor": 2
}
