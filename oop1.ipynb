{
 "cells": [
  {
   "attachments": {},
   "cell_type": "markdown",
   "metadata": {},
   "source": [
    "# Object Oriented Progammnig - 1"
   ]
  },
  {
   "attachments": {},
   "cell_type": "markdown",
   "metadata": {},
   "source": [
    "# Introduction to OOP | Class & Object"
   ]
  },
  {
   "attachments": {},
   "cell_type": "markdown",
   "metadata": {},
   "source": [
    "- OPP\n",
    "- Class & Method\n",
    "- Verification whether object created under class\n",
    "- Class access by object\n",
    "- Print\n",
    "- Method\n",
    "- Constructor\n",
    "- Excercise : Triangle Area Calculation"
   ]
  },
  {
   "attachments": {},
   "cell_type": "markdown",
   "metadata": {},
   "source": [
    "#### Assumptions"
   ]
  },
  {
   "attachments": {},
   "cell_type": "markdown",
   "metadata": {},
   "source": [
    "- First Create a class by \"class\" keyword \n",
    "- Class name is 'Student' first Capital Letter\n",
    "- Under the class define some common properties / variables/ features / class members e.g roll & gpa\n"
   ]
  },
  {
   "attachments": {},
   "cell_type": "markdown",
   "metadata": {},
   "source": [
    "# Define Class"
   ]
  },
  {
   "cell_type": "code",
   "execution_count": 1,
   "metadata": {},
   "outputs": [],
   "source": [
    "class Student:\n",
    "    name = \" \"\n",
    "    roll = \" \"\n",
    "    gpa = \" \"\n"
   ]
  },
  {
   "attachments": {},
   "cell_type": "markdown",
   "metadata": {},
   "source": [
    "- Now Need to create class objects before using this"
   ]
  },
  {
   "attachments": {},
   "cell_type": "markdown",
   "metadata": {},
   "source": [
    "# Object Creation"
   ]
  },
  {
   "cell_type": "code",
   "execution_count": 2,
   "metadata": {},
   "outputs": [],
   "source": [
    "rahim = Student()   # Creating an object (rahim) under student class\n",
    "karim = Student()   # Creating 2nd object\n",
    "reza = Student()    # Creating 3rd object"
   ]
  },
  {
   "attachments": {},
   "cell_type": "markdown",
   "metadata": {},
   "source": [
    "### Verification whether rahim created as object under Student Class"
   ]
  },
  {
   "attachments": {},
   "cell_type": "markdown",
   "metadata": {},
   "source": [
    "- isinstance is a method / function that will return a boolean number to show wether object created under a class\n",
    "- Once object created succesfully, then the object (rahim) will get all the class access"
   ]
  },
  {
   "cell_type": "code",
   "execution_count": 3,
   "metadata": {},
   "outputs": [
    {
     "name": "stdout",
     "output_type": "stream",
     "text": [
      "True\n"
     ]
    }
   ],
   "source": [
    "print(isinstance(rahim, Student))"
   ]
  },
  {
   "attachments": {},
   "cell_type": "markdown",
   "metadata": {},
   "source": [
    "## Object Using Class Access"
   ]
  },
  {
   "attachments": {},
   "cell_type": "markdown",
   "metadata": {},
   "source": [
    "- An object can access the class by using dot operator"
   ]
  },
  {
   "cell_type": "code",
   "execution_count": 4,
   "metadata": {},
   "outputs": [],
   "source": [
    "rahim.name = 'Rahim'\n",
    "rahim.roll = 101\n",
    "rahim.gpa = 3.50"
   ]
  },
  {
   "cell_type": "code",
   "execution_count": 5,
   "metadata": {},
   "outputs": [],
   "source": [
    "karim.name = 'Karim'\n",
    "karim.roll = 102\n",
    "karim.gpa = 3.00"
   ]
  },
  {
   "cell_type": "code",
   "execution_count": 6,
   "metadata": {},
   "outputs": [],
   "source": [
    "reza.name = 'Reza'\n",
    "reza.roll = 103\n",
    "reza.gpa = 3.25"
   ]
  },
  {
   "attachments": {},
   "cell_type": "markdown",
   "metadata": {},
   "source": [
    "# Print "
   ]
  },
  {
   "cell_type": "code",
   "execution_count": 7,
   "metadata": {},
   "outputs": [
    {
     "name": "stdout",
     "output_type": "stream",
     "text": [
      "Name : Rahim, Roll: 101, GPA :3.5 \n",
      "Name : Karim, Roll: 102, GPA :3.0 \n",
      "Name : Reza, Roll: 103, GPA : 3.25 \n"
     ]
    }
   ],
   "source": [
    "print (f\"Name : {rahim.name}, Roll: {rahim.roll}, GPA :{rahim.gpa} \"),\n",
    "print (f\"Name : {karim.name}, Roll: {karim.roll}, GPA :{karim.gpa} \"),\n",
    "print (f\"Name : {reza.name}, Roll: {reza.roll}, GPA : {reza.gpa} \")\n"
   ]
  },
  {
   "attachments": {},
   "cell_type": "markdown",
   "metadata": {},
   "source": [
    "# Introducing Method"
   ]
  },
  {
   "attachments": {},
   "cell_type": "markdown",
   "metadata": {},
   "source": [
    "### Method Creation / Function under Class"
   ]
  },
  {
   "attachments": {},
   "cell_type": "markdown",
   "metadata": {},
   "source": [
    "- Self is a param inside display function/ method"
   ]
  },
  {
   "cell_type": "code",
   "execution_count": 8,
   "metadata": {},
   "outputs": [],
   "source": [
    "class Student1:\n",
    "    roll = \" \"\n",
    "    gpa = \" \"\n",
    "\n",
    "    def display (self):\n",
    "        print(f\"Roll : {self.roll}, GPA : {self.gpa} \")"
   ]
  },
  {
   "attachments": {},
   "cell_type": "markdown",
   "metadata": {},
   "source": [
    "### Object Creation"
   ]
  },
  {
   "cell_type": "code",
   "execution_count": 9,
   "metadata": {},
   "outputs": [],
   "source": [
    "samim = Student1()   # Creating an object (rahim) under student class\n",
    "suman = Student1()   # Creating 2nd object\n",
    "sohel = Student1()   # Creeating object of Sohel"
   ]
  },
  {
   "attachments": {},
   "cell_type": "markdown",
   "metadata": {},
   "source": [
    "### Value Assign to object / Using object "
   ]
  },
  {
   "cell_type": "code",
   "execution_count": 10,
   "metadata": {},
   "outputs": [],
   "source": [
    "samim.roll = 17\n",
    "samim.gpa = 3.15"
   ]
  },
  {
   "cell_type": "code",
   "execution_count": 11,
   "metadata": {},
   "outputs": [],
   "source": [
    "suman.roll = 18\n",
    "suman.gpa = 3.18"
   ]
  },
  {
   "cell_type": "code",
   "execution_count": 12,
   "metadata": {},
   "outputs": [],
   "source": [
    "sohel.roll = 19\n",
    "sohel.gpa = 2.90"
   ]
  },
  {
   "attachments": {},
   "cell_type": "markdown",
   "metadata": {},
   "source": [
    "### Print / Display by using method or created function"
   ]
  },
  {
   "attachments": {},
   "cell_type": "markdown",
   "metadata": {},
   "source": [
    "- Calling \"Display\" function by \"Object\" with dot operator"
   ]
  },
  {
   "cell_type": "code",
   "execution_count": 13,
   "metadata": {},
   "outputs": [
    {
     "name": "stdout",
     "output_type": "stream",
     "text": [
      "Roll : 17, GPA : 3.15 \n"
     ]
    }
   ],
   "source": [
    "samim.display()"
   ]
  },
  {
   "cell_type": "code",
   "execution_count": 14,
   "metadata": {},
   "outputs": [
    {
     "name": "stdout",
     "output_type": "stream",
     "text": [
      "Roll : 18, GPA : 3.18 \n"
     ]
    }
   ],
   "source": [
    "suman.display()"
   ]
  },
  {
   "cell_type": "code",
   "execution_count": 15,
   "metadata": {},
   "outputs": [
    {
     "name": "stdout",
     "output_type": "stream",
     "text": [
      "Roll : 19, GPA : 2.9 \n"
     ]
    }
   ],
   "source": [
    "sohel.display()"
   ]
  },
  {
   "attachments": {},
   "cell_type": "markdown",
   "metadata": {},
   "source": [
    "# Exercise 3: Automatic Value Assign for all, not explicitly value assign"
   ]
  },
  {
   "attachments": {},
   "cell_type": "markdown",
   "metadata": {},
   "source": [
    "- Creating another function & call them & that function will set Roll & GPA\n",
    "- Give a function name e.g set_value (any name can be provided), where two param will be passed as 'Roll' & 'GPA'"
   ]
  },
  {
   "cell_type": "code",
   "execution_count": 16,
   "metadata": {},
   "outputs": [],
   "source": [
    "class Student3:\n",
    "    roll = \" \"\n",
    "    gpa = \" \"\n",
    "\n",
    "    def set_value (self, roll, gpa):\n",
    "        self.roll = roll\n",
    "        self.gpa = gpa\n",
    "    \n",
    "    def display (self):\n",
    "        print (f\"Roll : {self.roll}, GPA : {self.gpa}\")"
   ]
  },
  {
   "attachments": {},
   "cell_type": "markdown",
   "metadata": {},
   "source": [
    "### Object Creation"
   ]
  },
  {
   "attachments": {},
   "cell_type": "markdown",
   "metadata": {},
   "source": [
    "- Object Creation under Class"
   ]
  },
  {
   "cell_type": "code",
   "execution_count": 17,
   "metadata": {},
   "outputs": [],
   "source": [
    "tansim = Student3()\n",
    "tahia = Student3 ()\n",
    "farin = Student3()"
   ]
  },
  {
   "attachments": {},
   "cell_type": "markdown",
   "metadata": {},
   "source": [
    "#### Set Value & Print"
   ]
  },
  {
   "cell_type": "code",
   "execution_count": 18,
   "metadata": {},
   "outputs": [
    {
     "name": "stdout",
     "output_type": "stream",
     "text": [
      "Roll : 1, GPA : 5.0\n"
     ]
    }
   ],
   "source": [
    "tansim.set_value(1, 5.00)\n",
    "tansim.display()"
   ]
  },
  {
   "cell_type": "code",
   "execution_count": 19,
   "metadata": {},
   "outputs": [
    {
     "name": "stdout",
     "output_type": "stream",
     "text": [
      "Roll : 2, GPA : 5.0\n"
     ]
    }
   ],
   "source": [
    "tahia.set_value(2, 5.00)\n",
    "tahia.display()"
   ]
  },
  {
   "cell_type": "code",
   "execution_count": 20,
   "metadata": {},
   "outputs": [
    {
     "name": "stdout",
     "output_type": "stream",
     "text": [
      "Roll : 5, GPA : 4.5\n"
     ]
    }
   ],
   "source": [
    "farin.set_value(5, 4.50)\n",
    "farin.display()"
   ]
  },
  {
   "attachments": {},
   "cell_type": "markdown",
   "metadata": {},
   "source": [
    "# Constructor"
   ]
  },
  {
   "attachments": {},
   "cell_type": "markdown",
   "metadata": {},
   "source": [
    "- Value passing during object creation\n",
    "- As a result, no need to created fucntion to set_values \n",
    "- There is method called as \"__init__\" required to create constructor\n",
    "- Make sure 'self' must in every method\n",
    "- Constructor is a SPECIAL type of METHOD, that doesn't requirs calling explicitly\n",
    "- Contruction helps to initialyze object (or help to set value during object creation)"
   ]
  },
  {
   "attachments": {},
   "cell_type": "markdown",
   "metadata": {},
   "source": [
    "#### Class Cretion"
   ]
  },
  {
   "cell_type": "code",
   "execution_count": 21,
   "metadata": {},
   "outputs": [],
   "source": [
    "class Student4 :\n",
    "    roll = \" \"\n",
    "    gpa = \" \"\n",
    "\n",
    "    def __init__(self, roll, gpa):\n",
    "        self.roll = roll\n",
    "        self.gpa = gpa\n",
    "\n",
    "    def display(self):\n",
    "        print(f\"Roll : {self.roll}, GPA : {self.gpa} \")"
   ]
  },
  {
   "attachments": {},
   "cell_type": "markdown",
   "metadata": {},
   "source": [
    "#### Object Creation with value initialize"
   ]
  },
  {
   "cell_type": "code",
   "execution_count": 22,
   "metadata": {},
   "outputs": [
    {
     "name": "stdout",
     "output_type": "stream",
     "text": [
      "Roll : 25, GPA : 5.0 \n"
     ]
    }
   ],
   "source": [
    "riyad = Student4 (25,  5.00)  # can passing values during object declaration due to constructor\n",
    "riyad.display()"
   ]
  },
  {
   "cell_type": "code",
   "execution_count": 23,
   "metadata": {},
   "outputs": [
    {
     "name": "stdout",
     "output_type": "stream",
     "text": [
      "Roll : 26, GPA : 5.0 \n"
     ]
    }
   ],
   "source": [
    "rifat = Student4 (26, 5.00)\n",
    "rifat.display()"
   ]
  },
  {
   "cell_type": "code",
   "execution_count": 24,
   "metadata": {},
   "outputs": [
    {
     "name": "stdout",
     "output_type": "stream",
     "text": [
      "Roll : 27, GPA : 3.5 \n"
     ]
    }
   ],
   "source": [
    "john = Student4 (27, 3.50)\n",
    "john.display()"
   ]
  },
  {
   "attachments": {},
   "cell_type": "markdown",
   "metadata": {},
   "source": [
    "# Exercise"
   ]
  },
  {
   "attachments": {},
   "cell_type": "markdown",
   "metadata": {},
   "source": [
    "### Exercise"
   ]
  },
  {
   "attachments": {},
   "cell_type": "markdown",
   "metadata": {},
   "source": [
    "- Create a class (Triangle) with a constructor while the constructor will have two parameter as i. length & ii. height.\n",
    "- There must be method/fuction inside class that will calculate area of triangle\n",
    "- Two objects will be created for triange e.g t1 & t2 with any given values"
   ]
  },
  {
   "attachments": {},
   "cell_type": "markdown",
   "metadata": {},
   "source": [
    "- Constructor / init requires to pass param\n",
    "- Self is defaut param for constructor"
   ]
  },
  {
   "attachments": {},
   "cell_type": "markdown",
   "metadata": {},
   "source": [
    "### Triangle Area Calculation"
   ]
  },
  {
   "cell_type": "code",
   "execution_count": 27,
   "metadata": {},
   "outputs": [
    {
     "name": "stdout",
     "output_type": "stream",
     "text": [
      "Area :  100.0\n",
      "Area :  300.0\n"
     ]
    }
   ],
   "source": [
    "class Triangle:                                     # Class Declaration\n",
    "    def __init__(self, length, height):             # constructor declaration, init requires to pass param e.g base & height, self is default \n",
    "        self.length = length\n",
    "        self.height = height\n",
    "\n",
    "    def calculate_area (self):                      # define a method to cal area with no params, it will cal area with given object values\n",
    "        area = .50 * self.length * self.height      # Area calculation formula\n",
    "        print(\"Area : \", area)\n",
    "\n",
    "t1 = Triangle(10, 20)                               # object Creation\n",
    "t2 = Triangle(20,30)                                # Object Creation\n",
    "\n",
    "t1.calculate_area()                                 # Method Calling to calculate area | Print\n",
    "t2.calculate_area()                                 # Method Calling to calculate area | Print\n"
   ]
  },
  {
   "attachments": {},
   "cell_type": "markdown",
   "metadata": {},
   "source": [
    "# Inheritance"
   ]
  },
  {
   "attachments": {},
   "cell_type": "markdown",
   "metadata": {},
   "source": [
    "- Inheritance is a process by which a class characteristic transferred to another class\n",
    "- Example- Mom & Daughter: Some properties of mom inherits by her daughter"
   ]
  },
  {
   "attachments": {},
   "cell_type": "markdown",
   "metadata": {},
   "source": [
    "### Excercise 1: There are two method in Phone Class & Three methods in Sumsung Class"
   ]
  },
  {
   "attachments": {},
   "cell_type": "markdown",
   "metadata": {},
   "source": [
    "#### Class & Method Declaration"
   ]
  },
  {
   "cell_type": "code",
   "execution_count": 7,
   "metadata": {},
   "outputs": [
    {
     "name": "stdout",
     "output_type": "stream",
     "text": [
      "You can call\n",
      "You can message\n",
      "You can call\n",
      "You can message\n",
      "You can take photo\n"
     ]
    }
   ],
   "source": [
    "class Phone:\n",
    "    def  call(self):\n",
    "        print('You can call')\n",
    "\n",
    "    def message (self):\n",
    "        print('You can message')\n",
    "\n",
    "class Sumsung:\n",
    "    def  call(self):\n",
    "        print('You can call')\n",
    "\n",
    "    def message (message):\n",
    "        print('You can message')\n",
    "\n",
    "    def photo (self):\n",
    "        print('You can take photo')\n",
    "\n",
    "# Create Object of Phone & Sumsung to call methods\n",
    "p = Phone()\n",
    "s = Sumsung()\n",
    "\n",
    "# As per earlier declaration, P will allow to call two methods  (call & message)\n",
    "p.call()\n",
    "p.message()\n",
    "\n",
    "# As per earlier declaration, S will allow to call three methods (call, message & photo) only declared\n",
    "s.call()\n",
    "s.message()\n",
    "s.photo()\n"
   ]
  },
  {
   "attachments": {},
   "cell_type": "markdown",
   "metadata": {},
   "source": [
    "- Two Methods call & message is common in both class, so here is the ineritance application\n",
    "- When inheritance applied then no need to write call & message in Sumsung Class explicitly"
   ]
  },
  {
   "attachments": {},
   "cell_type": "markdown",
   "metadata": {},
   "source": [
    "#### Excercise: Inheritance"
   ]
  },
  {
   "attachments": {},
   "cell_type": "markdown",
   "metadata": {},
   "source": [
    "- Inherits when a class passed into another class inside () / function\n",
    "- Phone (Parents Class / Super Class or Base Class)\n",
    "- Sumgsung (Clild Class / Sub Class / Derieved Class); here Sumgsung is sub or clild class of Phone\n",
    "- The objective of inheritance is to re-use the codes"
   ]
  },
  {
   "cell_type": "code",
   "execution_count": 10,
   "metadata": {},
   "outputs": [
    {
     "name": "stdout",
     "output_type": "stream",
     "text": [
      "You can call\n",
      "You can message\n",
      "You can take photo\n"
     ]
    }
   ],
   "source": [
    "class Phone:\n",
    "    def  call(self):\n",
    "        print('You can call')\n",
    "\n",
    "    def message (self):\n",
    "        print('You can message')\n",
    "\n",
    "class Sumsung (Phone):          # Inheritance, where phone class passed into Sumsung Class, by which Sumsung class inherits all attributes from Phone Class. Its inherits Call & Message\n",
    "        def photo (self):\n",
    "            print('You can take photo')\n",
    "\n",
    "# Create Object of Phone & Sumsung to call methods\n",
    "s = Sumsung()\n",
    "\n",
    "# As per earlier declaration, S will allow to call three methods (call, message & photo) only declared\n",
    "s.call()\n",
    "s.message()\n",
    "s.photo()"
   ]
  },
  {
   "cell_type": "code",
   "execution_count": 11,
   "metadata": {},
   "outputs": [
    {
     "name": "stdout",
     "output_type": "stream",
     "text": [
      "True\n"
     ]
    }
   ],
   "source": [
    "# Verify wether \"Sumsung\" is Sub Class of \"Phone\" Class\n",
    "print (issubclass(Sumsung, Phone))"
   ]
  },
  {
   "cell_type": "code",
   "execution_count": 12,
   "metadata": {},
   "outputs": [
    {
     "name": "stdout",
     "output_type": "stream",
     "text": [
      "False\n"
     ]
    }
   ],
   "source": [
    "print (issubclass(Phone, Sumsung))"
   ]
  }
 ],
 "metadata": {
  "kernelspec": {
   "display_name": "Python 3",
   "language": "python",
   "name": "python3"
  },
  "language_info": {
   "codemirror_mode": {
    "name": "ipython",
    "version": 3
   },
   "file_extension": ".py",
   "mimetype": "text/x-python",
   "name": "python",
   "nbconvert_exporter": "python",
   "pygments_lexer": "ipython3",
   "version": "3.10.7"
  },
  "orig_nbformat": 4,
  "vscode": {
   "interpreter": {
    "hash": "c19fa61d258bb2b35aae2ada233c33e2817c1ce895aa48acba720c6bf7cbe3cb"
   }
  }
 },
 "nbformat": 4,
 "nbformat_minor": 2
}
