{
 "cells": [
  {
   "cell_type": "markdown",
   "id": "1268b30f",
   "metadata": {},
   "source": [
    "# Short Hands"
   ]
  },
  {
   "cell_type": "markdown",
   "id": "19c71d79",
   "metadata": {},
   "source": [
    "In Python, shorthand is a way to write code more concisely. It is a technique that allows you to write complex code in fewer lines. There are several shorthands in Python, such as the ternary operator and the augmented assignment operator.\n",
    "The ternary operator is a shorthand for an if-else statement. It is used to evaluate a condition and return one of two values depending on whether the condition is true or false. Here is an example:"
   ]
  },
  {
   "cell_type": "markdown",
   "id": "86f54cb0",
   "metadata": {},
   "source": [
    "#### Expercise 1: Squaring Numbers"
   ]
  },
  {
   "cell_type": "code",
   "execution_count": 2,
   "id": "19c3a24e",
   "metadata": {},
   "outputs": [
    {
     "data": {
      "text/plain": [
       "[1, 4, 9, 16, 25, 36, 49, 64, 81]"
      ]
     },
     "execution_count": 2,
     "metadata": {},
     "output_type": "execute_result"
    }
   ],
   "source": [
    "results = []\n",
    "for num in range(1, 10):\n",
    "    results.append(num**2)\n",
    "\n",
    "results"
   ]
  },
  {
   "cell_type": "markdown",
   "id": "ea6f33b8",
   "metadata": {},
   "source": [
    "#### Expercise 2: Return Square numbers for Even & Cube for Odd numbers"
   ]
  },
  {
   "cell_type": "code",
   "execution_count": 3,
   "id": "600f6b5e",
   "metadata": {},
   "outputs": [
    {
     "data": {
      "text/plain": [
       "[1, 4, 27, 16, 125, 36, 343, 64, 729]"
      ]
     },
     "execution_count": 3,
     "metadata": {},
     "output_type": "execute_result"
    }
   ],
   "source": [
    "results = []\n",
    "for num in range(1, 10):\n",
    "    \n",
    "    # Squre for even number\n",
    "    if num%2 ==0:\n",
    "        results.append(num**2)\n",
    "    \n",
    "    # cube for odd number\n",
    "    else:\n",
    "        results.append(num**3)\n",
    "results"
   ]
  },
  {
   "cell_type": "markdown",
   "id": "cd36990a",
   "metadata": {},
   "source": [
    "This full process can be executed just in a single line called as <b> List Comprehension </b> see below"
   ]
  },
  {
   "cell_type": "markdown",
   "id": "9e62d802",
   "metadata": {},
   "source": [
    "# List Comprehension"
   ]
  },
  {
   "cell_type": "code",
   "execution_count": 14,
   "id": "3b33c548",
   "metadata": {},
   "outputs": [
    {
     "data": {
      "text/plain": [
       "[1, 4, 27, 16, 125, 36, 343, 64, 729]"
      ]
     },
     "execution_count": 14,
     "metadata": {},
     "output_type": "execute_result"
    }
   ],
   "source": [
    "# List Comprehension\n",
    "result = [num**2 if num%2==0 else num**3 for num in range(1, 10)]\n",
    "result"
   ]
  },
  {
   "cell_type": "code",
   "execution_count": null,
   "id": "be395b56",
   "metadata": {},
   "outputs": [],
   "source": []
  },
  {
   "attachments": {
    "image.png": {
     "image/png": "[encoded data removed]"
    }
   },
   "cell_type": "markdown",
   "id": "f1aa202f",
   "metadata": {},
   "source": [
    "![image.png](attachment:image.png)"
   ]
  },
  {
   "cell_type": "markdown",
   "id": "26514142",
   "metadata": {},
   "source": [
    "- if the 1st condition true then it will be store inside the list"
   ]
  },
  {
   "cell_type": "code",
   "execution_count": 1,
   "id": "3f43303c",
   "metadata": {},
   "outputs": [
    {
     "ename": "SyntaxError",
     "evalue": "expected 'else' after 'if' expression (1615294443.py, line 2)",
     "output_type": "error",
     "traceback": [
      "\u001b[1;36m  Cell \u001b[1;32mIn [1], line 2\u001b[1;36m\u001b[0m\n\u001b[1;33m    result2 = [num**2 if num%2==0 for num in range(1, 10)] # without else num**3 it will give error\u001b[0m\n\u001b[1;37m               ^\u001b[0m\n\u001b[1;31mSyntaxError\u001b[0m\u001b[1;31m:\u001b[0m expected 'else' after 'if' expression\n"
     ]
    }
   ],
   "source": [
    "# List Comprehension\n",
    "result2 = [num**2 if num%2==0 for num in range(1, 10)] # without else num**3 it will give error\n",
    "result2"
   ]
  },
  {
   "cell_type": "code",
   "execution_count": 2,
   "id": "9d1c6aa5",
   "metadata": {},
   "outputs": [
    {
     "data": {
      "text/plain": [
       "[4, 16, 36, 64]"
      ]
     },
     "execution_count": 2,
     "metadata": {},
     "output_type": "execute_result"
    }
   ],
   "source": [
    "# List Comprehension (If you want to use only If then if condition need to write lattet)\n",
    "result2 = [num**2 for num in range(1, 10) if num%2==0] \n",
    "result2"
   ]
  },
  {
   "attachments": {
    "image.png": {
     "image/png": "[encoded data removed]"
    }
   },
   "cell_type": "markdown",
   "id": "2426d338",
   "metadata": {},
   "source": [
    "![image.png](attachment:image.png)"
   ]
  },
  {
   "cell_type": "markdown",
   "id": "cf66cce0",
   "metadata": {},
   "source": [
    "1. If red is true then yellow will be executed"
   ]
  },
  {
   "cell_type": "markdown",
   "id": "5daefc43",
   "metadata": {},
   "source": [
    "#### Q1. How to do squres for all values from a given range  ?"
   ]
  },
  {
   "cell_type": "code",
   "execution_count": 6,
   "id": "9dcd796c",
   "metadata": {},
   "outputs": [
    {
     "data": {
      "text/plain": [
       "[4, 16, 36, 64]"
      ]
     },
     "execution_count": 6,
     "metadata": {},
     "output_type": "execute_result"
    }
   ],
   "source": [
    "result1 = [num**2 for num in range(1, 10) if num%2 ==0]\n",
    "result1"
   ]
  },
  {
   "cell_type": "code",
   "execution_count": 4,
   "id": "1144fca4",
   "metadata": {},
   "outputs": [
    {
     "data": {
      "text/plain": [
       "[1, 4, 9, 16, 25, 36, 49, 64, 81]"
      ]
     },
     "execution_count": 4,
     "metadata": {},
     "output_type": "execute_result"
    }
   ],
   "source": [
    "result2 = [num**2 for num in range(1, 10)]\n",
    "result2"
   ]
  },
  {
   "cell_type": "markdown",
   "id": "abf44b78",
   "metadata": {},
   "source": [
    "The same concept we can apply on Tuple & Set as well"
   ]
  },
  {
   "cell_type": "markdown",
   "id": "dae49d41",
   "metadata": {},
   "source": [
    "#### List Comprehension with Set"
   ]
  },
  {
   "cell_type": "code",
   "execution_count": 7,
   "id": "ba462c31",
   "metadata": {},
   "outputs": [
    {
     "data": {
      "text/plain": [
       "{1, 4, 9, 16, 25, 36, 49, 64, 81}"
      ]
     },
     "execution_count": 7,
     "metadata": {},
     "output_type": "execute_result"
    }
   ],
   "source": [
    "set1 = {num**2 for num in range(1, 10)}\n",
    "set1"
   ]
  },
  {
   "cell_type": "code",
   "execution_count": 8,
   "id": "6341e5ae",
   "metadata": {},
   "outputs": [
    {
     "data": {
      "text/plain": [
       "{0, 1}"
      ]
     },
     "execution_count": 8,
     "metadata": {},
     "output_type": "execute_result"
    }
   ],
   "source": [
    "# Find Reminder\n",
    "set2 = {num%2 for num in range(1, 10)}\n",
    "set2"
   ]
  },
  {
   "cell_type": "code",
   "execution_count": 9,
   "id": "d17fcd55",
   "metadata": {},
   "outputs": [
    {
     "data": {
      "text/plain": [
       "[1, 0, 1, 0, 1, 0, 1, 0, 1]"
      ]
     },
     "execution_count": 9,
     "metadata": {},
     "output_type": "execute_result"
    }
   ],
   "source": [
    "# Find Reminder- Verfication\n",
    "set2 = [num%2 for num in range(1, 10)] # why 0, 1 lets verify with list\n",
    "set2"
   ]
  },
  {
   "cell_type": "markdown",
   "id": "b6001b1a",
   "metadata": {},
   "source": [
    "- 1: first if try to divide 1 by 2 that not possible, so return 1\n",
    "- 2: 2 is divisible by 2, so returns 0 (No Remider)\n",
    "- 3: 3 is odd number, so returs 0 (Fractional reminder)\n",
    "- Note: for odd number returns 0; and 1 for even number"
   ]
  },
  {
   "cell_type": "code",
   "execution_count": 10,
   "id": "fdbe8d5f",
   "metadata": {},
   "outputs": [
    {
     "data": {
      "text/plain": [
       "{0, 1}"
      ]
     },
     "execution_count": 10,
     "metadata": {},
     "output_type": "execute_result"
    }
   ],
   "source": [
    "# when convert to set, its not allow duplicate values, so 0 & 1\n",
    "set2 = {num%2 for num in range(1, 10)}\n",
    "set2"
   ]
  },
  {
   "cell_type": "markdown",
   "id": "4481b0c8",
   "metadata": {},
   "source": [
    "### Tuple"
   ]
  },
  {
   "cell_type": "code",
   "execution_count": 11,
   "id": "13bb5067",
   "metadata": {},
   "outputs": [
    {
     "data": {
      "text/plain": [
       "<generator object <genexpr> at 0x00000207EF0967A0>"
      ]
     },
     "execution_count": 11,
     "metadata": {},
     "output_type": "execute_result"
    }
   ],
   "source": [
    "tuple1 = (num**2 for num in range(1, 10))\n",
    "tuple1"
   ]
  },
  {
   "cell_type": "markdown",
   "id": "dfd10a37",
   "metadata": {},
   "source": [
    "The variable tuple1 is not actually a tuple, but a generator expression. A generator expression is a way of creating an iterator that can produce values on demand, without storing them all in memory.\n",
    "\n",
    "To get values from a generator expression, you can use the next() function, which returns the next value from the iterator, or raises a StopIteration exception if there are no more values. For example:"
   ]
  },
  {
   "cell_type": "code",
   "execution_count": 15,
   "id": "53fbe29c",
   "metadata": {},
   "outputs": [
    {
     "data": {
      "text/plain": [
       "1"
      ]
     },
     "execution_count": 15,
     "metadata": {},
     "output_type": "execute_result"
    }
   ],
   "source": [
    "tuple1 = (num**2 for num in range(1, 10)) # it will return one by one\n",
    "next(tuple1)"
   ]
  },
  {
   "cell_type": "code",
   "execution_count": 16,
   "id": "0cf4f2b4",
   "metadata": {},
   "outputs": [
    {
     "data": {
      "text/plain": [
       "4"
      ]
     },
     "execution_count": 16,
     "metadata": {},
     "output_type": "execute_result"
    }
   ],
   "source": [
    "tuple1 = (num**2 for num in range(1, 10)) # it will return one by one\n",
    "next(tuple1)\n",
    "next(tuple1)"
   ]
  },
  {
   "cell_type": "markdown",
   "id": "05e172cc",
   "metadata": {},
   "source": [
    "Alternatively, you can use a for loop to iterate over the values of a generator expression, or convert it to a list using the list() function. For example:"
   ]
  },
  {
   "cell_type": "code",
   "execution_count": 17,
   "id": "5031b7f2",
   "metadata": {},
   "outputs": [
    {
     "name": "stdout",
     "output_type": "stream",
     "text": [
      "1\n",
      "4\n",
      "9\n",
      "16\n",
      "25\n",
      "36\n",
      "49\n",
      "64\n",
      "81\n"
     ]
    }
   ],
   "source": [
    "tuple1 = (num**2 for num in range(1, 10))\n",
    "for value in tuple1:\n",
    "     print(value)"
   ]
  },
  {
   "cell_type": "code",
   "execution_count": 18,
   "id": "6bf43696",
   "metadata": {},
   "outputs": [
    {
     "data": {
      "text/plain": [
       "[1, 4, 9, 16, 25, 36, 49, 64, 81]"
      ]
     },
     "execution_count": 18,
     "metadata": {},
     "output_type": "execute_result"
    }
   ],
   "source": [
    "tuple1 = (num**2 for num in range(1, 10))\n",
    "list(tuple1)\n"
   ]
  },
  {
   "cell_type": "markdown",
   "id": "d544a9a0",
   "metadata": {},
   "source": [
    "### Dictionary"
   ]
  },
  {
   "cell_type": "markdown",
   "id": "8a970e22",
   "metadata": {},
   "source": [
    "We want to store the values with it square vulue (output)- here is dictionary"
   ]
  },
  {
   "cell_type": "code",
   "execution_count": null,
   "id": "06c33dfe",
   "metadata": {},
   "outputs": [],
   "source": []
  },
  {
   "cell_type": "code",
   "execution_count": null,
   "id": "e10fc8c8",
   "metadata": {},
   "outputs": [],
   "source": []
  },
  {
   "cell_type": "code",
   "execution_count": null,
   "id": "4584ef54",
   "metadata": {},
   "outputs": [],
   "source": []
  },
  {
   "cell_type": "code",
   "execution_count": null,
   "id": "1b9171bc",
   "metadata": {},
   "outputs": [],
   "source": []
  },
  {
   "cell_type": "code",
   "execution_count": 5,
   "id": "487401f3",
   "metadata": {},
   "outputs": [
    {
     "data": {
      "text/plain": [
       "10"
      ]
     },
     "execution_count": 5,
     "metadata": {},
     "output_type": "execute_result"
    }
   ],
   "source": [
    "x = 5\n",
    "y = 10\n",
    "result = x if x > y else y\n",
    "result"
   ]
  },
  {
   "cell_type": "code",
   "execution_count": 6,
   "id": "9b417698",
   "metadata": {},
   "outputs": [],
   "source": [
    "x = 5\n",
    "x += 1  # equivalent to x = x + 1\n",
    "x *= 2  # equivalent to x = x * 2\n"
   ]
  },
  {
   "cell_type": "code",
   "execution_count": null,
   "id": "9c77de42",
   "metadata": {},
   "outputs": [],
   "source": []
  },
  {
   "cell_type": "markdown",
   "id": "59095e20",
   "metadata": {},
   "source": [
    "# List Comprehension"
   ]
  },
  {
   "cell_type": "markdown",
   "id": "dfaca296",
   "metadata": {},
   "source": [
    "<b> List comprehension </b> is a concise way of creating a new list by performing an operation on each item of an existing list. Here is an example of how to use list comprehension in Python:"
   ]
  },
  {
   "cell_type": "code",
   "execution_count": 8,
   "id": "297fd062",
   "metadata": {},
   "outputs": [
    {
     "name": "stdout",
     "output_type": "stream",
     "text": [
      "[1, 4, 9, 16, 25, 36, 49, 64, 81, 100]\n",
      "[2, 4, 6, 8, 10]\n"
     ]
    }
   ],
   "source": [
    "# Example 1: Create a list of squares of numbers from 1 to 10\n",
    "\n",
    "squares = [x**2 for x in range(1, 11)] # syntax  output_requirement -- iterable(loop)\n",
    "print(squares)\n",
    "\n",
    "# Output: [1, 4, 9, 16, 25, 36, 49, 64, 81, 100]\n",
    "\n",
    "# Example 2: Create a list of even numbers from 1 to 10    syntax: var-loop-- condition\n",
    "evens = [x for x in range(1, 11) if x % 2 == 0]\n",
    "print(evens)\n",
    "\n",
    "# Output: [2, 4, 6, 8, 10]\n"
   ]
  },
  {
   "cell_type": "markdown",
   "id": "f9e705f7",
   "metadata": {},
   "source": [
    "In the first example, we use list comprehension to create a list of squares of numbers from 1 to 10. The expression x**2 is applied to each item of the list [1, 2, 3, ..., 10] to create a new list [1, 4, 9, ..., 100].\n",
    "\n",
    "In the second example, we use list comprehension to create a list of even numbers from 1 to 10. The condition x % 2 == 0 is used to filter out odd numbers from the list [1, 2, 3, ..., 10].\n",
    "\n",
    "List comprehension is a powerful tool that can help you write more concise and readable code. If you want to learn more about list comprehension in Python, you can check out the Python documentation"
   ]
  },
  {
   "cell_type": "markdown",
   "id": "8d9353df",
   "metadata": {},
   "source": [
    "### Syntax of List Comprehension"
   ]
  },
  {
   "attachments": {
    "image.png": {
     "image/png": "[encoded data removed]"
    }
   },
   "cell_type": "markdown",
   "id": "44709f1e",
   "metadata": {},
   "source": [
    "![image.png](attachment:image.png)"
   ]
  },
  {
   "cell_type": "markdown",
   "id": "6979abd8",
   "metadata": {},
   "source": [
    "Here, expression is the operation you want to execute on every item within the iterable. item refers to each value taken from the iterable, and iterable specifies the sequence of elements you want to iterate through (e.g., a list, tuple, or string). condition is an optional filter that helps decide whether or not an element should be added to the new list.\n",
    "\n",
    "Here is an example of how to use list comprehension in Python:"
   ]
  },
  {
   "cell_type": "code",
   "execution_count": 12,
   "id": "0f419132",
   "metadata": {},
   "outputs": [
    {
     "name": "stdout",
     "output_type": "stream",
     "text": [
      "[1, 4, 9, 16, 25, 36, 49, 64, 81, 100]\n"
     ]
    }
   ],
   "source": [
    "# Example: Create a list of squares of numbers from 1 to 10\n",
    "squares = [x**2 for x in range(1, 11)]\n",
    "print(squares)\n",
    "\n",
    "# Output: [1, 4, 9, 16, 25, 36, 49, 64, 81, 100]\n"
   ]
  },
  {
   "cell_type": "markdown",
   "id": "eaf207ea",
   "metadata": {},
   "source": [
    "In this example, we use list comprehension to create a new list of squares of numbers from 1 to 10. The expression x**2 is applied to each item of the list [1, 2, 3, ..., 10] to create a new list [1, 4, 9, ..., 100]"
   ]
  },
  {
   "cell_type": "code",
   "execution_count": null,
   "id": "f53ba8e4",
   "metadata": {},
   "outputs": [],
   "source": []
  }
 ],
 "metadata": {
  "kernelspec": {
   "display_name": "Python 3 (ipykernel)",
   "language": "python",
   "name": "python3"
  },
  "language_info": {
   "codemirror_mode": {
    "name": "ipython",
    "version": 3
   },
   "file_extension": ".py",
   "mimetype": "text/x-python",
   "name": "python",
   "nbconvert_exporter": "python",
   "pygments_lexer": "ipython3",
   "version": "3.10.7"
  }
 },
 "nbformat": 4,
 "nbformat_minor": 5
}
