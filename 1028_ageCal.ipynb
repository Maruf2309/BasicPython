{
 "cells": [
  {
   "attachments": {},
   "cell_type": "markdown",
   "metadata": {},
   "source": [
    "# Age Calculation"
   ]
  },
  {
   "attachments": {},
   "cell_type": "markdown",
   "metadata": {},
   "source": [
    "- 1028"
   ]
  },
  {
   "cell_type": "code",
   "execution_count": 1,
   "metadata": {},
   "outputs": [
    {
     "name": "stdout",
     "output_type": "stream",
     "text": [
      "34\n"
     ]
    }
   ],
   "source": [
    "# Age Calculation\n",
    "from datetime import date\n",
    "\n",
    "def age (birthdate):\n",
    "    today = date.today()\n",
    "\n",
    "    age = today.year - birthdate.year - ((today.month, today.day) < (birthdate.month, birthdate.day))\n",
    "\n",
    "    return age\n",
    "\n",
    "print(age(date(1989,3,25)))"
   ]
  },
  {
   "cell_type": "code",
   "execution_count": 2,
   "metadata": {},
   "outputs": [
    {
     "name": "stdout",
     "output_type": "stream",
     "text": [
      "10\n"
     ]
    }
   ],
   "source": [
    "# Year of Experienec:\n",
    "def exp_year (doj):\n",
    "    today = date.today()\n",
    "    exp_year = today.year - doj.year - ((today.month, today.day) < (doj.month, doj.day))\n",
    "\n",
    "    return exp_year\n",
    "\n",
    "print(exp_year(date(2012,6,23)))"
   ]
  },
  {
   "cell_type": "code",
   "execution_count": 3,
   "metadata": {},
   "outputs": [
    {
     "name": "stdout",
     "output_type": "stream",
     "text": [
      "10 years\n"
     ]
    }
   ],
   "source": [
    "print(exp_year(date(2012, 6, 23)), \"years\")"
   ]
  },
  {
   "cell_type": "code",
   "execution_count": 4,
   "metadata": {},
   "outputs": [
    {
     "name": "stdout",
     "output_type": "stream",
     "text": [
      "Years: 3\n",
      "Months: 43\n",
      "Days: 1320\n"
     ]
    }
   ],
   "source": [
    "from datetime import date\n",
    "DOB = date(2019, 9, 23)\n",
    "today = date.today()\n",
    "time_difference = today - DOB\n",
    "D = time_difference.days\n",
    "M = int((D/365)*12)\n",
    "Y = int(D/365)\n",
    "print(f\"Years: {Y}\")\n",
    "print(f\"Months: {M}\")\n",
    "print(f\"Days: {D}\")"
   ]
  }
 ],
 "metadata": {
  "kernelspec": {
   "display_name": "Python 3",
   "language": "python",
   "name": "python3"
  },
  "language_info": {
   "codemirror_mode": {
    "name": "ipython",
    "version": 3
   },
   "file_extension": ".py",
   "mimetype": "text/x-python",
   "name": "python",
   "nbconvert_exporter": "python",
   "pygments_lexer": "ipython3",
   "version": "3.10.7"
  },
  "orig_nbformat": 4
 },
 "nbformat": 4,
 "nbformat_minor": 2
}
