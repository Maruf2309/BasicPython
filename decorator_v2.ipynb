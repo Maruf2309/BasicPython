{
 "cells": [
  {
   "cell_type": "markdown",
   "id": "2a4bc0d5",
   "metadata": {},
   "source": [
    "# Decorator_v2"
   ]
  },
  {
   "cell_type": "markdown",
   "id": "f7e70b38",
   "metadata": {},
   "source": [
    "A decorator is a function that takes another function as input and returns a new function. The new function can add some functionality to the original function without modifying it."
   ]
  },
  {
   "cell_type": "markdown",
   "id": "1b7176b6",
   "metadata": {},
   "source": [
    "### Excericse 1: Placing Order"
   ]
  },
  {
   "cell_type": "code",
   "execution_count": 1,
   "id": "5df4c23a",
   "metadata": {},
   "outputs": [],
   "source": [
    "# a : loggedIn\n",
    "def loggedIn(function):\n",
    "    logged_in = True\n",
    "    \n",
    "    # define the inner function\n",
    "    def wrapper(*args, **kwagrs):\n",
    "        if logged_in:\n",
    "            f = function(*args, **kwargs)\n",
    "            return f\n",
    "        else:\n",
    "            return False\n",
    "    return wrapper"
   ]
  },
  {
   "cell_type": "code",
   "execution_count": 2,
   "id": "4cb5b835",
   "metadata": {},
   "outputs": [
    {
     "name": "stdout",
     "output_type": "stream",
     "text": [
      "Order : Phone\n",
      "Order placed succesfully !\n"
     ]
    }
   ],
   "source": [
    "# b: now define a function to order something\n",
    "\n",
    "def order(product_name):           # def a function 'order' which will take product name\n",
    "    print(\"Order :\", product_name) # print1\n",
    "    print(\"Order placed succesfully !\")   # print2\n",
    "    \n",
    "# calling funciton\n",
    "order('Phone')"
   ]
  },
  {
   "cell_type": "markdown",
   "id": "77effb1b",
   "metadata": {},
   "source": [
    "1. This is the normal approach where block a han't influence over block b, while block b is working normally without decorator concept\n"
   ]
  },
  {
   "cell_type": "markdown",
   "id": "cc428411",
   "metadata": {},
   "source": [
    "### Excercise 2: Placing Order"
   ]
  },
  {
   "cell_type": "code",
   "execution_count": 4,
   "id": "5f35a6a2",
   "metadata": {},
   "outputs": [],
   "source": [
    "# a : Primary Function\n",
    "def loggedIn_required(function):                  # loggedIn_required is a decorator name\n",
    "    global logged_in    # defing to search outside of the function\n",
    "    \n",
    "    # define the inner function\n",
    "    def wrapper(*args, **kwargs):\n",
    "        if logged_in:\n",
    "            f = function(*args, **kwargs)\n",
    "            return f\n",
    "        else:\n",
    "            return False\n",
    "    return wrapper\n",
    "        "
   ]
  },
  {
   "cell_type": "code",
   "execution_count": 5,
   "id": "5b13cb62",
   "metadata": {},
   "outputs": [
    {
     "name": "stdout",
     "output_type": "stream",
     "text": [
      "Order : Phone\n",
      "Order placed succesfully !\n"
     ]
    }
   ],
   "source": [
    "# b: Secondary function: now define a function to order something\n",
    "\n",
    "logged_in = False                  # user not logged in the system, \n",
    "def order(product_name):           # def a function 'order' which will take product name\n",
    "    print(\"Order :\", product_name) # print1\n",
    "    print(\"Order placed succesfully !\")   # print2\n",
    "    \n",
    "# calling funciton\n",
    "order('Phone')"
   ]
  },
  {
   "cell_type": "markdown",
   "id": "a47e4d54",
   "metadata": {},
   "source": [
    "#### Findings"
   ]
  },
  {
   "cell_type": "markdown",
   "id": "33ac988f",
   "metadata": {},
   "source": [
    "1. Here the variable 'logged_in' placed in \"global\" space (a, exercise2) that mean it outside of primary func 'loggedIn' & available in Secondary func (b)\n",
    "2. in secondary function, lets say , logged_in False (user not logged_in) & place an order\n",
    "3. user not logged_in, but still its allowing to place an order, this is an issue or problem\n",
    "4. Decorator concept still not affect/applied or used here"
   ]
  },
  {
   "cell_type": "markdown",
   "id": "f9cc9a9f",
   "metadata": {},
   "source": [
    "## Exercise 3: Placing order (with Decorator)"
   ]
  },
  {
   "cell_type": "code",
   "execution_count": 25,
   "id": "85d19c68",
   "metadata": {},
   "outputs": [],
   "source": [
    "# a (Primary Function)\n",
    "def loggedIn_required(function):\n",
    "    global logged_in\n",
    "    \n",
    "    # inner function\n",
    "    def wrapper(*args, **kwargs):\n",
    "        if logged_in:                          # this is in outside (under wrapper func) below code is in 'local space'\n",
    "            f = function(*args, **kwargs)\n",
    "            return f\n",
    "        else:\n",
    "            print(\"Logged In First!\")\n",
    "            return False\n",
    "    return wrapper                 # return must be out of else block (witout indentation), otherwise return typerror\n",
    "       "
   ]
  },
  {
   "cell_type": "markdown",
   "id": "4d4155ee",
   "metadata": {},
   "source": [
    "- glabal mean the func logged_in not initialzied at the same space ( inner function) it is written outside as in block b (logged_in = True)\n",
    "- first will search in local space if not found then it will search outside due to using global \n"
   ]
  },
  {
   "cell_type": "code",
   "execution_count": 35,
   "id": "6af8667d",
   "metadata": {},
   "outputs": [
    {
     "name": "stdout",
     "output_type": "stream",
     "text": [
      "Order : I Phone X\n",
      "Order Placed successfully !\n"
     ]
    }
   ],
   "source": [
    "# b (Seondary func)\n",
    "logged_in = True\n",
    "@loggedIn_required                   # --> this will work as decorator\n",
    "def order(product_name):\n",
    "    print(\"Order :\", product_name)\n",
    "    print(\"Order Placed successfully !\")\n",
    "\n",
    "# calling function\n",
    "order('I Phone X')    "
   ]
  },
  {
   "cell_type": "markdown",
   "id": "7fa3c128",
   "metadata": {},
   "source": [
    "### Findings:"
   ]
  },
  {
   "cell_type": "markdown",
   "id": "0664e08c",
   "metadata": {},
   "source": [
    "- @ mean track with the primary func i.e loggedIn_required or giving @ mean it trigged to primary function\n",
    "- and checked whether loggedIn or not, if True then it trigged to wrapper func and as per *args, **kwargs print all\n",
    "- if false nothing return False\n",
    "- how the function will go the Secondary function, Ans: it will go to secondary function due to 'global'\n",
    "- Here, loggedIn_required is decorator name\n",
    "- Return if True, if false then returns False   ( logged_in = True or False)\n",
    "- @ mean the secondary function <b>order </b> will be passed in primary function \"loggedIn_required\" function as <b>Param </b> mention func inside parenthesis then verif wether user loggedIn or not then placed order\n",
    "- @loggedIn_required  means, it automatically takes following func <b> order </b> as a param/args for another <b> function </b> then access the global value the value provided in order func ( one or multiples) will be passed in wrapper func as kwargs, if normal agrs then passed to *ares & if keyword args then passed to **kwargs > check logged in or not > then pass to f then print it \n",
    "- here function (under wrapper) actually the same func as <b> order </b>\n",
    "- @loggedIn_required: actully controlling the order func with the condition whehter logged in or not\n",
    "- the args taken by order function, @loggedIn_required will take those args automatically from 'order' fuction and passed it wrapper\n",
    "- Primary function ( stored in f) is equals to <b> order </b> function or these both actually working same\n",
    "- Before executing the func <b> order </b> it will check whether user logged in or not then execute the function. That mean oder func is executing with some kind of filtering or execution\n",
    "- the decorator here provides the eligibilty  of executing another func e.g order"
   ]
  },
  {
   "cell_type": "markdown",
   "id": "001d6537",
   "metadata": {},
   "source": [
    "Simple if else can be applied to check loggedIn or not, but in real time there are multiple functionalitie like ordering something, payment, adding something in card for each need to create if & else, rather is  better to create a <b> Decorator </b> and just add with <b> @loggedIn </b>, no need to create if else multiple times. Just this <b> @loggedIn </b> can be added to card, payment, wishlist anywhere you wish you can add. That is the purpose of decorator!"
   ]
  },
  {
   "cell_type": "markdown",
   "id": "8b9008bd",
   "metadata": {},
   "source": [
    "## Exercise 4: Global"
   ]
  },
  {
   "cell_type": "code",
   "execution_count": 38,
   "id": "32597d27",
   "metadata": {},
   "outputs": [],
   "source": [
    "# a (Primary Function)\n",
    "def loggedIn_required(function):  \n",
    "    \n",
    "    # inner function\n",
    "    def wrapper(*args, **kwargs):\n",
    "        if logged_in:                          # this is in outside (under wrapper func) below code is in 'local space'\n",
    "            f = function(*args, **kwargs)\n",
    "            return f\n",
    "        else:\n",
    "            print(\"Logged In First!\")\n",
    "            return False\n",
    "    return wrapper                 # return must be out of else block (witout indentation), otherwise return typerror"
   ]
  },
  {
   "cell_type": "code",
   "execution_count": 39,
   "id": "d1affc16",
   "metadata": {},
   "outputs": [
    {
     "name": "stdout",
     "output_type": "stream",
     "text": [
      "Order : I Phone X\n",
      "Order Placed successfully !\n"
     ]
    }
   ],
   "source": [
    "# b (Seondary func)\n",
    "logged_in = True\n",
    "@loggedIn_required                   # --> this will work as decorator\n",
    "def order(product_name):\n",
    "    print(\"Order :\", product_name)\n",
    "    print(\"Order Placed successfully !\")\n",
    "\n",
    "# calling function\n",
    "order('I Phone X') "
   ]
  },
  {
   "cell_type": "code",
   "execution_count": null,
   "id": "21990368",
   "metadata": {},
   "outputs": [],
   "source": []
  },
  {
   "cell_type": "markdown",
   "id": "47bced29",
   "metadata": {},
   "source": [
    "### Excercise 4: Without @loggedIn_required (in secondary function)"
   ]
  },
  {
   "cell_type": "code",
   "execution_count": 34,
   "id": "22c889c7",
   "metadata": {},
   "outputs": [],
   "source": [
    "# a (Primary Function)\n",
    "def loggedIn_required(function):\n",
    "    global logged_in\n",
    "    \n",
    "    # inner function\n",
    "    def wrapper(*args, **kwargs):\n",
    "        if logged_in:\n",
    "            f = function(*args, **kwargs)\n",
    "            return f\n",
    "        else:\n",
    "            print(\"Logged In First!\")\n",
    "            return False\n",
    "    return wrapper                 # return must be out of else block (witout indentation), otherwise return typerror"
   ]
  },
  {
   "cell_type": "code",
   "execution_count": 36,
   "id": "9a6e09b5",
   "metadata": {},
   "outputs": [
    {
     "name": "stdout",
     "output_type": "stream",
     "text": [
      "Order : I Phone X\n",
      "Order Placed successfully !\n"
     ]
    }
   ],
   "source": [
    "# b (Seondary func)\n",
    "logged_in = False          # False but allowing to order, when recorator removed\n",
    "\n",
    "def order(product_name):\n",
    "    print(\"Order :\", product_name)\n",
    "    print(\"Order Placed successfully !\")\n",
    "\n",
    "# calling function\n",
    "order('I Phone X')    "
   ]
  },
  {
   "cell_type": "markdown",
   "id": "fbdb457e",
   "metadata": {},
   "source": [
    "#### Notes"
   ]
  },
  {
   "cell_type": "markdown",
   "id": "788f8784",
   "metadata": {},
   "source": [
    "1. without @loggedIn_required > primary func  loggedIn_required will not be called\n",
    "2. See logged_in False, still it allowing user to place order without loggedIn"
   ]
  },
  {
   "cell_type": "markdown",
   "id": "59155ad5",
   "metadata": {},
   "source": [
    "### Expercise 5:"
   ]
  },
  {
   "cell_type": "code",
   "execution_count": 37,
   "id": "ad527044",
   "metadata": {},
   "outputs": [
    {
     "name": "stdout",
     "output_type": "stream",
     "text": [
      "Something is happening before the function is called.\n",
      "Hello!\n",
      "Something is happening after the function is called.\n"
     ]
    }
   ],
   "source": [
    "def my_decorator(func):\n",
    "    def wrapper():\n",
    "        print(\"Something is happening before the function is called.\")\n",
    "        func()\n",
    "        print(\"Something is happening after the function is called.\")\n",
    "    return wrapper\n",
    "\n",
    "@my_decorator\n",
    "def say_hello():\n",
    "    print(\"Hello!\")\n",
    "\n",
    "say_hello()\n"
   ]
  },
  {
   "cell_type": "markdown",
   "id": "ad580a0e",
   "metadata": {},
   "source": [
    "In this example, my_decorator is a decorator function that takes another function func as an argument and returns a new function wrapper. The wrapper function adds some functionality to the original function func by printing messages before and after it is called. The @my_decorator syntax is a shorthand way of saying say_hello = my_decorator(say_hello), which applies the decorator to the say_hello function."
   ]
  },
  {
   "cell_type": "code",
   "execution_count": null,
   "id": "46017085",
   "metadata": {},
   "outputs": [],
   "source": []
  }
 ],
 "metadata": {
  "kernelspec": {
   "display_name": "Python 3 (ipykernel)",
   "language": "python",
   "name": "python3"
  },
  "language_info": {
   "codemirror_mode": {
    "name": "ipython",
    "version": 3
   },
   "file_extension": ".py",
   "mimetype": "text/x-python",
   "name": "python",
   "nbconvert_exporter": "python",
   "pygments_lexer": "ipython3",
   "version": "3.10.6"
  }
 },
 "nbformat": 4,
 "nbformat_minor": 5
}
