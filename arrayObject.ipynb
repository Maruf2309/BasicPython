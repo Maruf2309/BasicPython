{
 "cells": [
  {
   "cell_type": "markdown",
   "metadata": {},
   "source": [
    "# Numpy"
   ]
  },
  {
   "cell_type": "markdown",
   "metadata": {},
   "source": [
    "- Import Numpy\n",
    "- Mathmatical Operations\n",
    "- Array Creation\n",
    "- Adding Dimension\n",
    "- np.zeros\n",
    "- np.eye\n",
    "- np.empty\n",
    "- np.full\n",
    "- np.arange   / array range\n",
    "- np.linspace  (differnce between arange & linspace)\n",
    "- random & randomn, randint"
   ]
  },
  {
   "cell_type": "code",
   "execution_count": 1,
   "metadata": {},
   "outputs": [
    {
     "data": {
      "text/plain": [
       "'1.23.3'"
      ]
     },
     "execution_count": 1,
     "metadata": {},
     "output_type": "execute_result"
    }
   ],
   "source": [
    "import numpy as np\n",
    "np.__version__"
   ]
  },
  {
   "cell_type": "markdown",
   "metadata": {},
   "source": [
    "# Math Computational"
   ]
  },
  {
   "cell_type": "code",
   "execution_count": 2,
   "metadata": {},
   "outputs": [
    {
     "data": {
      "text/plain": [
       "999999550000064999997"
      ]
     },
     "execution_count": 2,
     "metadata": {},
     "output_type": "execute_result"
    }
   ],
   "source": [
    "summ = 0\n",
    "for num in range(1, 9999999):\n",
    "    summ += num**2*3\n",
    "\n",
    "summ"
   ]
  },
  {
   "cell_type": "code",
   "execution_count": 3,
   "metadata": {},
   "outputs": [
    {
     "data": {
      "text/plain": [
       "array([      1,       2,       3, ..., 9999996, 9999997, 9999998])"
      ]
     },
     "execution_count": 3,
     "metadata": {},
     "output_type": "execute_result"
    }
   ],
   "source": [
    "np.arange(1,9999999)"
   ]
  },
  {
   "cell_type": "markdown",
   "metadata": {},
   "source": [
    "## Comparing Computational efficiency between general & numpy"
   ]
  },
  {
   "cell_type": "code",
   "execution_count": 4,
   "metadata": {},
   "outputs": [
    {
     "data": {
      "text/plain": [
       "4999999850000001"
      ]
     },
     "execution_count": 4,
     "metadata": {},
     "output_type": "execute_result"
    }
   ],
   "source": [
    "# General Python, takes more time\n",
    "summ1 = 0\n",
    "for num in range (1,99999999):\n",
    "    summ1 += num\n",
    "\n",
    "summ1"
   ]
  },
  {
   "cell_type": "code",
   "execution_count": 5,
   "metadata": {},
   "outputs": [
    {
     "data": {
      "text/plain": [
       "4999999850000001"
      ]
     },
     "execution_count": 5,
     "metadata": {},
     "output_type": "execute_result"
    }
   ],
   "source": [
    "# Numpy sum operation     takes less time, in case of huge data we will see the different more clearly\n",
    "np.sum(np.arange(1,99999999, dtype=np.int64))"
   ]
  },
  {
   "cell_type": "code",
   "execution_count": 6,
   "metadata": {},
   "outputs": [
    {
     "data": {
      "text/plain": [
       "4999999850000001"
      ]
     },
     "execution_count": 6,
     "metadata": {},
     "output_type": "execute_result"
    }
   ],
   "source": [
    "np.arange(99999999, dtype=np.int64).sum()   # alternative syntax of doing sum aggregation over numpy"
   ]
  },
  {
   "cell_type": "markdown",
   "metadata": {},
   "source": [
    "### Numpy is more efficinet\n",
    "- Previous one needs more time than numpy\n",
    "- for this operation, numpy is not taking for loop, while for same general python using loop"
   ]
  },
  {
   "cell_type": "markdown",
   "metadata": {},
   "source": [
    "# Array Creation"
   ]
  },
  {
   "cell_type": "code",
   "execution_count": 12,
   "metadata": {},
   "outputs": [
    {
     "data": {
      "text/plain": [
       "array([[0, 0, 0],\n",
       "       [0, 0, 0],\n",
       "       [0, 0, 0]], dtype=int64)"
      ]
     },
     "execution_count": 12,
     "metadata": {},
     "output_type": "execute_result"
    }
   ],
   "source": [
    "# np.zeros([shape size] comma dtype with np.bit size)  # Syntax\n",
    "np.zeros([3,3], dtype=np.int64)"
   ]
  },
  {
   "cell_type": "code",
   "execution_count": 9,
   "metadata": {},
   "outputs": [
    {
     "data": {
      "text/plain": [
       "array([[0, 0, 0, 0, 0],\n",
       "       [0, 0, 0, 0, 0],\n",
       "       [0, 0, 0, 0, 0],\n",
       "       [0, 0, 0, 0, 0],\n",
       "       [0, 0, 0, 0, 0]], dtype=int64)"
      ]
     },
     "execution_count": 9,
     "metadata": {},
     "output_type": "execute_result"
    }
   ],
   "source": [
    "np.zeros([5,5], dtype=np.int64)"
   ]
  },
  {
   "cell_type": "code",
   "execution_count": 13,
   "metadata": {},
   "outputs": [
    {
     "data": {
      "text/plain": [
       "array([[0., 0., 0., 0.],\n",
       "       [0., 0., 0., 0.],\n",
       "       [0., 0., 0., 0.],\n",
       "       [0., 0., 0., 0.]])"
      ]
     },
     "execution_count": 13,
     "metadata": {},
     "output_type": "execute_result"
    }
   ],
   "source": [
    "np.zeros([4, 4], dtype=np.float64)"
   ]
  },
  {
   "cell_type": "code",
   "execution_count": 15,
   "metadata": {},
   "outputs": [
    {
     "data": {
      "text/plain": [
       "array([[0., 0.],\n",
       "       [0., 0.]], dtype=float16)"
      ]
     },
     "execution_count": 15,
     "metadata": {},
     "output_type": "execute_result"
    }
   ],
   "source": [
    "np.zeros([2,2], dtype=np.float16)"
   ]
  },
  {
   "cell_type": "code",
   "execution_count": 16,
   "metadata": {},
   "outputs": [
    {
     "data": {
      "text/plain": [
       "array([[0, 0, 0],\n",
       "       [0, 0, 0],\n",
       "       [0, 0, 0],\n",
       "       [0, 0, 0]], dtype=int64)"
      ]
     },
     "execution_count": 16,
     "metadata": {},
     "output_type": "execute_result"
    }
   ],
   "source": [
    "np.zeros([4,3], dtype=np.int64)  # rows & columns is 4:3"
   ]
  },
  {
   "cell_type": "code",
   "execution_count": 17,
   "metadata": {},
   "outputs": [
    {
     "data": {
      "text/plain": [
       "array([[0, 0, 0],\n",
       "       [0, 0, 0],\n",
       "       [0, 0, 0],\n",
       "       [0, 0, 0],\n",
       "       [0, 0, 0]], dtype=int64)"
      ]
     },
     "execution_count": 17,
     "metadata": {},
     "output_type": "execute_result"
    }
   ],
   "source": [
    "np.zeros([5,3], dtype=np.int64)"
   ]
  },
  {
   "cell_type": "markdown",
   "metadata": {},
   "source": [
    "### Adding Demension"
   ]
  },
  {
   "cell_type": "code",
   "execution_count": 18,
   "metadata": {},
   "outputs": [
    {
     "data": {
      "text/plain": [
       "array([[[0, 0],\n",
       "        [0, 0],\n",
       "        [0, 0]],\n",
       "\n",
       "       [[0, 0],\n",
       "        [0, 0],\n",
       "        [0, 0]],\n",
       "\n",
       "       [[0, 0],\n",
       "        [0, 0],\n",
       "        [0, 0]],\n",
       "\n",
       "       [[0, 0],\n",
       "        [0, 0],\n",
       "        [0, 0]]], dtype=int64)"
      ]
     },
     "execution_count": 18,
     "metadata": {},
     "output_type": "execute_result"
    }
   ],
   "source": [
    "np.zeros([4,3,2], dtype=np.int64)  \n",
    "# 4 rows, 3 columns and 2 cell/value per row  or for each row, here is adding dimenstion as 2"
   ]
  },
  {
   "cell_type": "code",
   "execution_count": 19,
   "metadata": {},
   "outputs": [
    {
     "data": {
      "text/plain": [
       "array([[[0, 0, 0],\n",
       "        [0, 0, 0],\n",
       "        [0, 0, 0]],\n",
       "\n",
       "       [[0, 0, 0],\n",
       "        [0, 0, 0],\n",
       "        [0, 0, 0]],\n",
       "\n",
       "       [[0, 0, 0],\n",
       "        [0, 0, 0],\n",
       "        [0, 0, 0]],\n",
       "\n",
       "       [[0, 0, 0],\n",
       "        [0, 0, 0],\n",
       "        [0, 0, 0]]], dtype=int64)"
      ]
     },
     "execution_count": 19,
     "metadata": {},
     "output_type": "execute_result"
    }
   ],
   "source": [
    "np.zeros([4,3,3], dtype=np.int64)    # 3 cell/ value per row"
   ]
  },
  {
   "cell_type": "code",
   "execution_count": 25,
   "metadata": {},
   "outputs": [
    {
     "data": {
      "text/plain": [
       "array([[[0, 0, 0, 0],\n",
       "        [0, 0, 0, 0],\n",
       "        [0, 0, 0, 0]],\n",
       "\n",
       "       [[0, 0, 0, 0],\n",
       "        [0, 0, 0, 0],\n",
       "        [0, 0, 0, 0]],\n",
       "\n",
       "       [[0, 0, 0, 0],\n",
       "        [0, 0, 0, 0],\n",
       "        [0, 0, 0, 0]],\n",
       "\n",
       "       [[0, 0, 0, 0],\n",
       "        [0, 0, 0, 0],\n",
       "        [0, 0, 0, 0]]], dtype=int64)"
      ]
     },
     "execution_count": 25,
     "metadata": {},
     "output_type": "execute_result"
    }
   ],
   "source": [
    "np.zeros([4,3,4], dtype=np.int64)    # 4 cell/ value per row"
   ]
  },
  {
   "cell_type": "code",
   "execution_count": 23,
   "metadata": {},
   "outputs": [
    {
     "data": {
      "text/plain": [
       "array([[[0, 0, 0, 0, 0],\n",
       "        [0, 0, 0, 0, 0],\n",
       "        [0, 0, 0, 0, 0]],\n",
       "\n",
       "       [[0, 0, 0, 0, 0],\n",
       "        [0, 0, 0, 0, 0],\n",
       "        [0, 0, 0, 0, 0]],\n",
       "\n",
       "       [[0, 0, 0, 0, 0],\n",
       "        [0, 0, 0, 0, 0],\n",
       "        [0, 0, 0, 0, 0]],\n",
       "\n",
       "       [[0, 0, 0, 0, 0],\n",
       "        [0, 0, 0, 0, 0],\n",
       "        [0, 0, 0, 0, 0]]], dtype=int64)"
      ]
     },
     "execution_count": 23,
     "metadata": {},
     "output_type": "execute_result"
    }
   ],
   "source": [
    "np.zeros([4,3,5], dtype=np.int64)    # 5 cell/ value per row"
   ]
  },
  {
   "cell_type": "code",
   "execution_count": 24,
   "metadata": {},
   "outputs": [
    {
     "data": {
      "text/plain": [
       "array([[0, 0, 0],\n",
       "       [0, 0, 0],\n",
       "       [0, 0, 0],\n",
       "       [0, 0, 0]], dtype=int64)"
      ]
     },
     "execution_count": 24,
     "metadata": {},
     "output_type": "execute_result"
    }
   ],
   "source": [
    "np.zeros([4,3], dtype=np.int64)"
   ]
  },
  {
   "cell_type": "code",
   "execution_count": 27,
   "metadata": {},
   "outputs": [
    {
     "data": {
      "text/plain": [
       "array([[[0, 0, 0, 0, 0, 0, 0, 0, 0, 0],\n",
       "        [0, 0, 0, 0, 0, 0, 0, 0, 0, 0],\n",
       "        [0, 0, 0, 0, 0, 0, 0, 0, 0, 0],\n",
       "        [0, 0, 0, 0, 0, 0, 0, 0, 0, 0],\n",
       "        [0, 0, 0, 0, 0, 0, 0, 0, 0, 0]],\n",
       "\n",
       "       [[0, 0, 0, 0, 0, 0, 0, 0, 0, 0],\n",
       "        [0, 0, 0, 0, 0, 0, 0, 0, 0, 0],\n",
       "        [0, 0, 0, 0, 0, 0, 0, 0, 0, 0],\n",
       "        [0, 0, 0, 0, 0, 0, 0, 0, 0, 0],\n",
       "        [0, 0, 0, 0, 0, 0, 0, 0, 0, 0]],\n",
       "\n",
       "       [[0, 0, 0, 0, 0, 0, 0, 0, 0, 0],\n",
       "        [0, 0, 0, 0, 0, 0, 0, 0, 0, 0],\n",
       "        [0, 0, 0, 0, 0, 0, 0, 0, 0, 0],\n",
       "        [0, 0, 0, 0, 0, 0, 0, 0, 0, 0],\n",
       "        [0, 0, 0, 0, 0, 0, 0, 0, 0, 0]],\n",
       "\n",
       "       [[0, 0, 0, 0, 0, 0, 0, 0, 0, 0],\n",
       "        [0, 0, 0, 0, 0, 0, 0, 0, 0, 0],\n",
       "        [0, 0, 0, 0, 0, 0, 0, 0, 0, 0],\n",
       "        [0, 0, 0, 0, 0, 0, 0, 0, 0, 0],\n",
       "        [0, 0, 0, 0, 0, 0, 0, 0, 0, 0]]], dtype=int64)"
      ]
     },
     "execution_count": 27,
     "metadata": {},
     "output_type": "execute_result"
    }
   ],
   "source": [
    "np.zeros([4,5,10], dtype=np.int64)   # 10 dimension"
   ]
  },
  {
   "cell_type": "code",
   "execution_count": 30,
   "metadata": {},
   "outputs": [
    {
     "data": {
      "text/plain": [
       "array([[[0, 0, 0, 0, 0, 0, 0, 0, 0, 0],\n",
       "        [0, 0, 0, 0, 0, 0, 0, 0, 0, 0],\n",
       "        [0, 0, 0, 0, 0, 0, 0, 0, 0, 0],\n",
       "        [0, 0, 0, 0, 0, 0, 0, 0, 0, 0],\n",
       "        [0, 0, 0, 0, 0, 0, 0, 0, 0, 0],\n",
       "        [0, 0, 0, 0, 0, 0, 0, 0, 0, 0],\n",
       "        [0, 0, 0, 0, 0, 0, 0, 0, 0, 0],\n",
       "        [0, 0, 0, 0, 0, 0, 0, 0, 0, 0]],\n",
       "\n",
       "       [[0, 0, 0, 0, 0, 0, 0, 0, 0, 0],\n",
       "        [0, 0, 0, 0, 0, 0, 0, 0, 0, 0],\n",
       "        [0, 0, 0, 0, 0, 0, 0, 0, 0, 0],\n",
       "        [0, 0, 0, 0, 0, 0, 0, 0, 0, 0],\n",
       "        [0, 0, 0, 0, 0, 0, 0, 0, 0, 0],\n",
       "        [0, 0, 0, 0, 0, 0, 0, 0, 0, 0],\n",
       "        [0, 0, 0, 0, 0, 0, 0, 0, 0, 0],\n",
       "        [0, 0, 0, 0, 0, 0, 0, 0, 0, 0]],\n",
       "\n",
       "       [[0, 0, 0, 0, 0, 0, 0, 0, 0, 0],\n",
       "        [0, 0, 0, 0, 0, 0, 0, 0, 0, 0],\n",
       "        [0, 0, 0, 0, 0, 0, 0, 0, 0, 0],\n",
       "        [0, 0, 0, 0, 0, 0, 0, 0, 0, 0],\n",
       "        [0, 0, 0, 0, 0, 0, 0, 0, 0, 0],\n",
       "        [0, 0, 0, 0, 0, 0, 0, 0, 0, 0],\n",
       "        [0, 0, 0, 0, 0, 0, 0, 0, 0, 0],\n",
       "        [0, 0, 0, 0, 0, 0, 0, 0, 0, 0]],\n",
       "\n",
       "       [[0, 0, 0, 0, 0, 0, 0, 0, 0, 0],\n",
       "        [0, 0, 0, 0, 0, 0, 0, 0, 0, 0],\n",
       "        [0, 0, 0, 0, 0, 0, 0, 0, 0, 0],\n",
       "        [0, 0, 0, 0, 0, 0, 0, 0, 0, 0],\n",
       "        [0, 0, 0, 0, 0, 0, 0, 0, 0, 0],\n",
       "        [0, 0, 0, 0, 0, 0, 0, 0, 0, 0],\n",
       "        [0, 0, 0, 0, 0, 0, 0, 0, 0, 0],\n",
       "        [0, 0, 0, 0, 0, 0, 0, 0, 0, 0]]], dtype=int64)"
      ]
     },
     "execution_count": 30,
     "metadata": {},
     "output_type": "execute_result"
    }
   ],
   "source": [
    "np.zeros([4,8,10], dtype=np.int64)"
   ]
  },
  {
   "cell_type": "code",
   "execution_count": 28,
   "metadata": {},
   "outputs": [
    {
     "data": {
      "text/plain": [
       "array([[[0, 0, 0, 0, 0, 0, 0, 0, 0, 0],\n",
       "        [0, 0, 0, 0, 0, 0, 0, 0, 0, 0],\n",
       "        [0, 0, 0, 0, 0, 0, 0, 0, 0, 0]],\n",
       "\n",
       "       [[0, 0, 0, 0, 0, 0, 0, 0, 0, 0],\n",
       "        [0, 0, 0, 0, 0, 0, 0, 0, 0, 0],\n",
       "        [0, 0, 0, 0, 0, 0, 0, 0, 0, 0]],\n",
       "\n",
       "       [[0, 0, 0, 0, 0, 0, 0, 0, 0, 0],\n",
       "        [0, 0, 0, 0, 0, 0, 0, 0, 0, 0],\n",
       "        [0, 0, 0, 0, 0, 0, 0, 0, 0, 0]],\n",
       "\n",
       "       [[0, 0, 0, 0, 0, 0, 0, 0, 0, 0],\n",
       "        [0, 0, 0, 0, 0, 0, 0, 0, 0, 0],\n",
       "        [0, 0, 0, 0, 0, 0, 0, 0, 0, 0]]], dtype=int64)"
      ]
     },
     "execution_count": 28,
     "metadata": {},
     "output_type": "execute_result"
    }
   ],
   "source": [
    "np.zeros([4,3,10], dtype=np.int64)"
   ]
  },
  {
   "cell_type": "code",
   "execution_count": 29,
   "metadata": {},
   "outputs": [
    {
     "data": {
      "text/plain": [
       "array([[[0, 0, 0, 0, 0, 0, 0, 0, 0, 0],\n",
       "        [0, 0, 0, 0, 0, 0, 0, 0, 0, 0]],\n",
       "\n",
       "       [[0, 0, 0, 0, 0, 0, 0, 0, 0, 0],\n",
       "        [0, 0, 0, 0, 0, 0, 0, 0, 0, 0]],\n",
       "\n",
       "       [[0, 0, 0, 0, 0, 0, 0, 0, 0, 0],\n",
       "        [0, 0, 0, 0, 0, 0, 0, 0, 0, 0]],\n",
       "\n",
       "       [[0, 0, 0, 0, 0, 0, 0, 0, 0, 0],\n",
       "        [0, 0, 0, 0, 0, 0, 0, 0, 0, 0]]], dtype=int64)"
      ]
     },
     "execution_count": 29,
     "metadata": {},
     "output_type": "execute_result"
    }
   ],
   "source": [
    "np.zeros([4,2,10], dtype=np.int64)"
   ]
  },
  {
   "cell_type": "code",
   "execution_count": 34,
   "metadata": {},
   "outputs": [
    {
     "data": {
      "text/plain": [
       "array([[1., 1., 1., 1.],\n",
       "       [1., 1., 1., 1.],\n",
       "       [1., 1., 1., 1.],\n",
       "       [1., 1., 1., 1.]])"
      ]
     },
     "execution_count": 34,
     "metadata": {},
     "output_type": "execute_result"
    }
   ],
   "source": [
    "np.ones([4,4])    # by default dtype takes float & mentioning dtype is optional"
   ]
  },
  {
   "cell_type": "code",
   "execution_count": 32,
   "metadata": {},
   "outputs": [
    {
     "data": {
      "text/plain": [
       "array([[1., 1., 1., 1.],\n",
       "       [1., 1., 1., 1.],\n",
       "       [1., 1., 1., 1.],\n",
       "       [1., 1., 1., 1.]])"
      ]
     },
     "execution_count": 32,
     "metadata": {},
     "output_type": "execute_result"
    }
   ],
   "source": [
    "np.ones([4,4], dtype=np.float64)"
   ]
  },
  {
   "cell_type": "code",
   "execution_count": 33,
   "metadata": {},
   "outputs": [
    {
     "data": {
      "text/plain": [
       "array([[1, 1, 1, 1],\n",
       "       [1, 1, 1, 1],\n",
       "       [1, 1, 1, 1],\n",
       "       [1, 1, 1, 1]], dtype=int64)"
      ]
     },
     "execution_count": 33,
     "metadata": {},
     "output_type": "execute_result"
    }
   ],
   "source": [
    "np.ones([4,4], dtype=np.int64)"
   ]
  },
  {
   "cell_type": "code",
   "execution_count": 38,
   "metadata": {},
   "outputs": [
    {
     "data": {
      "text/plain": [
       "array([[1., 0., 0.],\n",
       "       [0., 1., 0.],\n",
       "       [0., 0., 1.]])"
      ]
     },
     "execution_count": 38,
     "metadata": {},
     "output_type": "execute_result"
    }
   ],
   "source": [
    "np.eye(3,3)     # np.eye means \"Identity Matrix\", eye operation will not take square bracket [], np.eye takes only \"tuple\""
   ]
  },
  {
   "cell_type": "code",
   "execution_count": 46,
   "metadata": {},
   "outputs": [
    {
     "data": {
      "text/plain": [
       "array([[0., 1., 0.],\n",
       "       [0., 0., 1.],\n",
       "       [0., 0., 0.]])"
      ]
     },
     "execution_count": 46,
     "metadata": {},
     "output_type": "execute_result"
    }
   ],
   "source": [
    "np.eye(3,3, k=1)    # by default k = 0"
   ]
  },
  {
   "cell_type": "code",
   "execution_count": 50,
   "metadata": {},
   "outputs": [
    {
     "data": {
      "text/plain": [
       "array([[1., 0., 0., 0., 0., 0.],\n",
       "       [0., 1., 0., 0., 0., 0.],\n",
       "       [0., 0., 1., 0., 0., 0.],\n",
       "       [0., 0., 0., 1., 0., 0.],\n",
       "       [0., 0., 0., 0., 1., 0.],\n",
       "       [0., 0., 0., 0., 0., 1.]])"
      ]
     },
     "execution_count": 50,
     "metadata": {},
     "output_type": "execute_result"
    }
   ],
   "source": [
    "np.eye(6,6)       # default k = 0"
   ]
  },
  {
   "cell_type": "code",
   "execution_count": 51,
   "metadata": {},
   "outputs": [
    {
     "data": {
      "text/plain": [
       "array([[1., 0., 0., 0., 0., 0.],\n",
       "       [0., 1., 0., 0., 0., 0.],\n",
       "       [0., 0., 1., 0., 0., 0.],\n",
       "       [0., 0., 0., 1., 0., 0.],\n",
       "       [0., 0., 0., 0., 1., 0.],\n",
       "       [0., 0., 0., 0., 0., 1.]])"
      ]
     },
     "execution_count": 51,
     "metadata": {},
     "output_type": "execute_result"
    }
   ],
   "source": [
    "np.eye(6,6, k=0)"
   ]
  },
  {
   "cell_type": "code",
   "execution_count": 52,
   "metadata": {},
   "outputs": [
    {
     "data": {
      "text/plain": [
       "array([[0., 1., 0., 0., 0., 0.],\n",
       "       [0., 0., 1., 0., 0., 0.],\n",
       "       [0., 0., 0., 1., 0., 0.],\n",
       "       [0., 0., 0., 0., 1., 0.],\n",
       "       [0., 0., 0., 0., 0., 1.],\n",
       "       [0., 0., 0., 0., 0., 0.]])"
      ]
     },
     "execution_count": 52,
     "metadata": {},
     "output_type": "execute_result"
    }
   ],
   "source": [
    "np.eye(6,6, k=1)"
   ]
  },
  {
   "cell_type": "code",
   "execution_count": 53,
   "metadata": {},
   "outputs": [
    {
     "data": {
      "text/plain": [
       "array([[0., 0., 1., 0., 0., 0.],\n",
       "       [0., 0., 0., 1., 0., 0.],\n",
       "       [0., 0., 0., 0., 1., 0.],\n",
       "       [0., 0., 0., 0., 0., 1.],\n",
       "       [0., 0., 0., 0., 0., 0.],\n",
       "       [0., 0., 0., 0., 0., 0.]])"
      ]
     },
     "execution_count": 53,
     "metadata": {},
     "output_type": "execute_result"
    }
   ],
   "source": [
    "np.eye(6,6, k=2)"
   ]
  },
  {
   "cell_type": "code",
   "execution_count": 54,
   "metadata": {},
   "outputs": [
    {
     "data": {
      "text/plain": [
       "array([[0., 0., 0., 0., 1., 0.],\n",
       "       [0., 0., 0., 0., 0., 1.],\n",
       "       [0., 0., 0., 0., 0., 0.],\n",
       "       [0., 0., 0., 0., 0., 0.],\n",
       "       [0., 0., 0., 0., 0., 0.],\n",
       "       [0., 0., 0., 0., 0., 0.]])"
      ]
     },
     "execution_count": 54,
     "metadata": {},
     "output_type": "execute_result"
    }
   ],
   "source": [
    "np.eye(6,6, k=4)"
   ]
  },
  {
   "cell_type": "code",
   "execution_count": 56,
   "metadata": {},
   "outputs": [
    {
     "data": {
      "text/plain": [
       "array([[0., 0., 0., 0., 0., 0.],\n",
       "       [0., 0., 0., 0., 0., 0.],\n",
       "       [0., 0., 0., 0., 0., 0.],\n",
       "       [0., 0., 0., 0., 0., 0.],\n",
       "       [1., 0., 0., 0., 0., 0.],\n",
       "       [0., 1., 0., 0., 0., 0.]])"
      ]
     },
     "execution_count": 56,
     "metadata": {},
     "output_type": "execute_result"
    }
   ],
   "source": [
    "np.eye(6,6, k=-4)"
   ]
  },
  {
   "cell_type": "code",
   "execution_count": 55,
   "metadata": {},
   "outputs": [
    {
     "data": {
      "text/plain": [
       "array([[0., 0., 0., 0., 0., 1.],\n",
       "       [0., 0., 0., 0., 0., 0.],\n",
       "       [0., 0., 0., 0., 0., 0.],\n",
       "       [0., 0., 0., 0., 0., 0.],\n",
       "       [0., 0., 0., 0., 0., 0.],\n",
       "       [0., 0., 0., 0., 0., 0.]])"
      ]
     },
     "execution_count": 55,
     "metadata": {},
     "output_type": "execute_result"
    }
   ],
   "source": [
    "np.eye(6,6, k=5)"
   ]
  },
  {
   "cell_type": "code",
   "execution_count": 47,
   "metadata": {},
   "outputs": [
    {
     "data": {
      "text/plain": [
       "array([[0., 0., 0.],\n",
       "       [1., 0., 0.],\n",
       "       [0., 1., 0.]])"
      ]
     },
     "execution_count": 47,
     "metadata": {},
     "output_type": "execute_result"
    }
   ],
   "source": [
    "np.eye(3,3, k=-1) "
   ]
  },
  {
   "cell_type": "code",
   "execution_count": 39,
   "metadata": {},
   "outputs": [
    {
     "data": {
      "text/plain": [
       "array([[1., 0., 0., 0.],\n",
       "       [0., 1., 0., 0.],\n",
       "       [0., 0., 1., 0.]])"
      ]
     },
     "execution_count": 39,
     "metadata": {},
     "output_type": "execute_result"
    }
   ],
   "source": [
    "np.eye(3,4)"
   ]
  },
  {
   "cell_type": "code",
   "execution_count": 40,
   "metadata": {},
   "outputs": [
    {
     "data": {
      "text/plain": [
       "array([[0., 0., 1., 0.],\n",
       "       [0., 0., 0., 1.],\n",
       "       [0., 0., 0., 0.]])"
      ]
     },
     "execution_count": 40,
     "metadata": {},
     "output_type": "execute_result"
    }
   ],
   "source": [
    "np.eye(3,4,2)"
   ]
  },
  {
   "cell_type": "code",
   "execution_count": 44,
   "metadata": {},
   "outputs": [
    {
     "data": {
      "text/plain": [
       "array([[0., 0., 0., 0.],\n",
       "       [0., 0., 0., 0.],\n",
       "       [1., 0., 0., 0.]])"
      ]
     },
     "execution_count": 44,
     "metadata": {},
     "output_type": "execute_result"
    }
   ],
   "source": [
    "np.eye(3,4,-2)"
   ]
  },
  {
   "cell_type": "code",
   "execution_count": 41,
   "metadata": {},
   "outputs": [
    {
     "data": {
      "text/plain": [
       "array([[0., 0., 0., 1.],\n",
       "       [0., 0., 0., 0.],\n",
       "       [0., 0., 0., 0.]])"
      ]
     },
     "execution_count": 41,
     "metadata": {},
     "output_type": "execute_result"
    }
   ],
   "source": [
    "np.eye(3,4,3)"
   ]
  },
  {
   "cell_type": "code",
   "execution_count": 42,
   "metadata": {},
   "outputs": [
    {
     "data": {
      "text/plain": [
       "array([[0., 0., 0., 0.],\n",
       "       [0., 0., 0., 0.],\n",
       "       [0., 0., 0., 0.]])"
      ]
     },
     "execution_count": 42,
     "metadata": {},
     "output_type": "execute_result"
    }
   ],
   "source": [
    "np.eye(3,4,4)"
   ]
  },
  {
   "cell_type": "code",
   "execution_count": 69,
   "metadata": {},
   "outputs": [
    {
     "data": {
      "text/plain": [
       "array([[0., 0., 0.],\n",
       "       [1., 0., 0.],\n",
       "       [0., 1., 0.]])"
      ]
     },
     "execution_count": 69,
     "metadata": {},
     "output_type": "execute_result"
    }
   ],
   "source": [
    "np.empty([3,3])"
   ]
  },
  {
   "cell_type": "code",
   "execution_count": 70,
   "metadata": {},
   "outputs": [
    {
     "data": {
      "text/plain": [
       "array([[[8.49069524e-312, 8.00386346e-322, 0.00000000e+000],\n",
       "        [0.00000000e+000, 1.24611266e-306, 1.15998412e-028],\n",
       "        [4.31603868e-080, 1.94919985e-153, 1.35717430e+131]],\n",
       "\n",
       "       [[1.05190653e-153, 1.05191620e-153, 1.05191677e-153],\n",
       "        [1.05191734e-153, 1.05191791e-153, 1.05191848e-153],\n",
       "        [1.05191905e-153, 1.05191962e-153, 6.01391519e-154]],\n",
       "\n",
       "       [[1.05192019e-153, 1.94321996e-109, 4.90900643e+252],\n",
       "        [1.94918511e-153, 6.32672800e+180, 4.74483502e+170],\n",
       "        [5.55151217e-048, 1.97229332e-062, 6.80209823e-310]]])"
      ]
     },
     "execution_count": 70,
     "metadata": {},
     "output_type": "execute_result"
    }
   ],
   "source": [
    "np.empty([3,3,3])"
   ]
  },
  {
   "cell_type": "code",
   "execution_count": 71,
   "metadata": {},
   "outputs": [
    {
     "data": {
      "text/plain": [
       "array([[[1.37962049e-306, 1.24610791e-306],\n",
       "        [1.11260959e-306, 1.69109959e-306],\n",
       "        [9.34603679e-307, 1.42419802e-306]],\n",
       "\n",
       "       [[1.78019082e-306, 4.45061456e-308],\n",
       "        [1.24612081e-306, 1.37962049e-306],\n",
       "        [9.34597567e-307, 1.29061821e-306]],\n",
       "\n",
       "       [[1.78019625e-306, 1.11255866e-306],\n",
       "        [8.90098127e-307, 9.34609790e-307],\n",
       "        [3.91792279e-317, 8.48798316e-312]]])"
      ]
     },
     "execution_count": 71,
     "metadata": {},
     "output_type": "execute_result"
    }
   ],
   "source": [
    "np.empty([3,3,2])"
   ]
  },
  {
   "cell_type": "code",
   "execution_count": 76,
   "metadata": {},
   "outputs": [
    {
     "data": {
      "text/plain": [
       "array([[[0., 0.],\n",
       "        [0., 0.]],\n",
       "\n",
       "       [[0., 0.],\n",
       "        [0., 0.]],\n",
       "\n",
       "       [[1., 0.],\n",
       "        [0., 0.]]])"
      ]
     },
     "execution_count": 76,
     "metadata": {},
     "output_type": "execute_result"
    }
   ],
   "source": [
    "np.empty([3,2,2])"
   ]
  },
  {
   "cell_type": "code",
   "execution_count": 77,
   "metadata": {},
   "outputs": [
    {
     "data": {
      "text/plain": [
       "array([[8.5, 8.5, 8.5],\n",
       "       [8.5, 8.5, 8.5],\n",
       "       [8.5, 8.5, 8.5]])"
      ]
     },
     "execution_count": 77,
     "metadata": {},
     "output_type": "execute_result"
    }
   ],
   "source": [
    "np.full([3,3], 8.5)   # it will fill the 3x3 matrix with 8.5"
   ]
  },
  {
   "cell_type": "code",
   "execution_count": 78,
   "metadata": {},
   "outputs": [
    {
     "data": {
      "text/plain": [
       "array([[10.5, 10.5, 10.5],\n",
       "       [10.5, 10.5, 10.5],\n",
       "       [10.5, 10.5, 10.5]])"
      ]
     },
     "execution_count": 78,
     "metadata": {},
     "output_type": "execute_result"
    }
   ],
   "source": [
    "np.full([3,3], 10.5)"
   ]
  },
  {
   "cell_type": "markdown",
   "metadata": {},
   "source": [
    "### Arange"
   ]
  },
  {
   "cell_type": "markdown",
   "metadata": {},
   "source": [
    "- np.arange will not take squre backet\n",
    "- mentioning dtype is optional\n",
    "- it will take (start: end: step size)\n",
    "- default takes int\n",
    "- float & int can be mentioned in dtype\n",
    "- its like a range function\n",
    "- it can be reshaped"
   ]
  },
  {
   "cell_type": "code",
   "execution_count": 57,
   "metadata": {},
   "outputs": [
    {
     "data": {
      "text/plain": [
       "array([ 1,  2,  3,  4,  5,  6,  7,  8,  9, 10, 11, 12, 13, 14, 15, 16, 17,\n",
       "       18, 19, 20, 21, 22, 23, 24, 25, 26, 27, 28, 29, 30, 31, 32, 33, 34,\n",
       "       35, 36, 37, 38, 39, 40, 41, 42, 43, 44, 45, 46, 47, 48, 49, 50, 51,\n",
       "       52, 53, 54, 55, 56, 57, 58, 59, 60, 61, 62, 63, 64, 65, 66, 67, 68,\n",
       "       69, 70, 71, 72, 73, 74, 75, 76, 77, 78, 79, 80, 81, 82, 83, 84, 85,\n",
       "       86, 87, 88, 89, 90, 91, 92, 93, 94, 95, 96, 97, 98, 99])"
      ]
     },
     "execution_count": 57,
     "metadata": {},
     "output_type": "execute_result"
    }
   ],
   "source": [
    "np.arange(1,100)   "
   ]
  },
  {
   "cell_type": "code",
   "execution_count": 58,
   "metadata": {},
   "outputs": [
    {
     "data": {
      "text/plain": [
       "array([ 1,  2,  3,  4,  5,  6,  7,  8,  9, 10, 11, 12, 13, 14, 15, 16, 17,\n",
       "       18, 19, 20, 21, 22, 23, 24, 25, 26, 27, 28, 29, 30, 31, 32, 33, 34,\n",
       "       35, 36, 37, 38, 39, 40, 41, 42, 43, 44, 45, 46, 47, 48, 49, 50, 51,\n",
       "       52, 53, 54, 55, 56, 57, 58, 59, 60, 61, 62, 63, 64, 65, 66, 67, 68,\n",
       "       69, 70, 71, 72, 73, 74, 75, 76, 77, 78, 79, 80, 81, 82, 83, 84, 85,\n",
       "       86, 87, 88, 89, 90, 91, 92, 93, 94, 95, 96, 97, 98, 99],\n",
       "      dtype=int64)"
      ]
     },
     "execution_count": 58,
     "metadata": {},
     "output_type": "execute_result"
    }
   ],
   "source": [
    "np.arange(1,100, dtype=np.int64) "
   ]
  },
  {
   "cell_type": "code",
   "execution_count": 60,
   "metadata": {},
   "outputs": [
    {
     "data": {
      "text/plain": [
       "array([ 1.,  2.,  3.,  4.,  5.,  6.,  7.,  8.,  9., 10., 11., 12., 13.,\n",
       "       14., 15., 16., 17., 18., 19., 20., 21., 22., 23., 24., 25., 26.,\n",
       "       27., 28., 29., 30., 31., 32., 33., 34., 35., 36., 37., 38., 39.,\n",
       "       40., 41., 42., 43., 44., 45., 46., 47., 48., 49., 50., 51., 52.,\n",
       "       53., 54., 55., 56., 57., 58., 59., 60., 61., 62., 63., 64., 65.,\n",
       "       66., 67., 68., 69., 70., 71., 72., 73., 74., 75., 76., 77., 78.,\n",
       "       79., 80., 81., 82., 83., 84., 85., 86., 87., 88., 89., 90., 91.,\n",
       "       92., 93., 94., 95., 96., 97., 98., 99.])"
      ]
     },
     "execution_count": 60,
     "metadata": {},
     "output_type": "execute_result"
    }
   ],
   "source": [
    "np.arange(1,100, dtype=np.float64) "
   ]
  },
  {
   "cell_type": "code",
   "execution_count": 61,
   "metadata": {},
   "outputs": [
    {
     "data": {
      "text/plain": [
       "array([ 1,  6, 11, 16, 21, 26, 31, 36, 41, 46, 51, 56, 61, 66, 71, 76, 81,\n",
       "       86, 91, 96])"
      ]
     },
     "execution_count": 61,
     "metadata": {},
     "output_type": "execute_result"
    }
   ],
   "source": [
    "np.arange(1,100,5)    # step size = 5"
   ]
  },
  {
   "cell_type": "code",
   "execution_count": 62,
   "metadata": {},
   "outputs": [
    {
     "data": {
      "text/plain": [
       "array([ 0,  5, 10, 15, 20, 25, 30, 35, 40, 45, 50, 55, 60, 65, 70, 75, 80,\n",
       "       85, 90, 95])"
      ]
     },
     "execution_count": 62,
     "metadata": {},
     "output_type": "execute_result"
    }
   ],
   "source": [
    "np.arange(0,100,5) "
   ]
  },
  {
   "cell_type": "code",
   "execution_count": 63,
   "metadata": {},
   "outputs": [
    {
     "data": {
      "text/plain": [
       "array([ 1.        ,  1.01803607,  1.03607214,  1.05410822,  1.07214429,\n",
       "        1.09018036,  1.10821643,  1.12625251,  1.14428858,  1.16232465,\n",
       "        1.18036072,  1.19839679,  1.21643287,  1.23446894,  1.25250501,\n",
       "        1.27054108,  1.28857715,  1.30661323,  1.3246493 ,  1.34268537,\n",
       "        1.36072144,  1.37875752,  1.39679359,  1.41482966,  1.43286573,\n",
       "        1.4509018 ,  1.46893788,  1.48697395,  1.50501002,  1.52304609,\n",
       "        1.54108216,  1.55911824,  1.57715431,  1.59519038,  1.61322645,\n",
       "        1.63126253,  1.6492986 ,  1.66733467,  1.68537074,  1.70340681,\n",
       "        1.72144289,  1.73947896,  1.75751503,  1.7755511 ,  1.79358717,\n",
       "        1.81162325,  1.82965932,  1.84769539,  1.86573146,  1.88376754,\n",
       "        1.90180361,  1.91983968,  1.93787575,  1.95591182,  1.9739479 ,\n",
       "        1.99198397,  2.01002004,  2.02805611,  2.04609218,  2.06412826,\n",
       "        2.08216433,  2.1002004 ,  2.11823647,  2.13627255,  2.15430862,\n",
       "        2.17234469,  2.19038076,  2.20841683,  2.22645291,  2.24448898,\n",
       "        2.26252505,  2.28056112,  2.29859719,  2.31663327,  2.33466934,\n",
       "        2.35270541,  2.37074148,  2.38877756,  2.40681363,  2.4248497 ,\n",
       "        2.44288577,  2.46092184,  2.47895792,  2.49699399,  2.51503006,\n",
       "        2.53306613,  2.5511022 ,  2.56913828,  2.58717435,  2.60521042,\n",
       "        2.62324649,  2.64128257,  2.65931864,  2.67735471,  2.69539078,\n",
       "        2.71342685,  2.73146293,  2.749499  ,  2.76753507,  2.78557114,\n",
       "        2.80360721,  2.82164329,  2.83967936,  2.85771543,  2.8757515 ,\n",
       "        2.89378758,  2.91182365,  2.92985972,  2.94789579,  2.96593186,\n",
       "        2.98396794,  3.00200401,  3.02004008,  3.03807615,  3.05611222,\n",
       "        3.0741483 ,  3.09218437,  3.11022044,  3.12825651,  3.14629259,\n",
       "        3.16432866,  3.18236473,  3.2004008 ,  3.21843687,  3.23647295,\n",
       "        3.25450902,  3.27254509,  3.29058116,  3.30861723,  3.32665331,\n",
       "        3.34468938,  3.36272545,  3.38076152,  3.3987976 ,  3.41683367,\n",
       "        3.43486974,  3.45290581,  3.47094188,  3.48897796,  3.50701403,\n",
       "        3.5250501 ,  3.54308617,  3.56112224,  3.57915832,  3.59719439,\n",
       "        3.61523046,  3.63326653,  3.65130261,  3.66933868,  3.68737475,\n",
       "        3.70541082,  3.72344689,  3.74148297,  3.75951904,  3.77755511,\n",
       "        3.79559118,  3.81362725,  3.83166333,  3.8496994 ,  3.86773547,\n",
       "        3.88577154,  3.90380762,  3.92184369,  3.93987976,  3.95791583,\n",
       "        3.9759519 ,  3.99398798,  4.01202405,  4.03006012,  4.04809619,\n",
       "        4.06613226,  4.08416834,  4.10220441,  4.12024048,  4.13827655,\n",
       "        4.15631263,  4.1743487 ,  4.19238477,  4.21042084,  4.22845691,\n",
       "        4.24649299,  4.26452906,  4.28256513,  4.3006012 ,  4.31863727,\n",
       "        4.33667335,  4.35470942,  4.37274549,  4.39078156,  4.40881764,\n",
       "        4.42685371,  4.44488978,  4.46292585,  4.48096192,  4.498998  ,\n",
       "        4.51703407,  4.53507014,  4.55310621,  4.57114228,  4.58917836,\n",
       "        4.60721443,  4.6252505 ,  4.64328657,  4.66132265,  4.67935872,\n",
       "        4.69739479,  4.71543086,  4.73346693,  4.75150301,  4.76953908,\n",
       "        4.78757515,  4.80561122,  4.82364729,  4.84168337,  4.85971944,\n",
       "        4.87775551,  4.89579158,  4.91382766,  4.93186373,  4.9498998 ,\n",
       "        4.96793587,  4.98597194,  5.00400802,  5.02204409,  5.04008016,\n",
       "        5.05811623,  5.0761523 ,  5.09418838,  5.11222445,  5.13026052,\n",
       "        5.14829659,  5.16633267,  5.18436874,  5.20240481,  5.22044088,\n",
       "        5.23847695,  5.25651303,  5.2745491 ,  5.29258517,  5.31062124,\n",
       "        5.32865731,  5.34669339,  5.36472946,  5.38276553,  5.4008016 ,\n",
       "        5.41883768,  5.43687375,  5.45490982,  5.47294589,  5.49098196,\n",
       "        5.50901804,  5.52705411,  5.54509018,  5.56312625,  5.58116232,\n",
       "        5.5991984 ,  5.61723447,  5.63527054,  5.65330661,  5.67134269,\n",
       "        5.68937876,  5.70741483,  5.7254509 ,  5.74348697,  5.76152305,\n",
       "        5.77955912,  5.79759519,  5.81563126,  5.83366733,  5.85170341,\n",
       "        5.86973948,  5.88777555,  5.90581162,  5.9238477 ,  5.94188377,\n",
       "        5.95991984,  5.97795591,  5.99599198,  6.01402806,  6.03206413,\n",
       "        6.0501002 ,  6.06813627,  6.08617234,  6.10420842,  6.12224449,\n",
       "        6.14028056,  6.15831663,  6.17635271,  6.19438878,  6.21242485,\n",
       "        6.23046092,  6.24849699,  6.26653307,  6.28456914,  6.30260521,\n",
       "        6.32064128,  6.33867735,  6.35671343,  6.3747495 ,  6.39278557,\n",
       "        6.41082164,  6.42885772,  6.44689379,  6.46492986,  6.48296593,\n",
       "        6.501002  ,  6.51903808,  6.53707415,  6.55511022,  6.57314629,\n",
       "        6.59118236,  6.60921844,  6.62725451,  6.64529058,  6.66332665,\n",
       "        6.68136273,  6.6993988 ,  6.71743487,  6.73547094,  6.75350701,\n",
       "        6.77154309,  6.78957916,  6.80761523,  6.8256513 ,  6.84368737,\n",
       "        6.86172345,  6.87975952,  6.89779559,  6.91583166,  6.93386774,\n",
       "        6.95190381,  6.96993988,  6.98797595,  7.00601202,  7.0240481 ,\n",
       "        7.04208417,  7.06012024,  7.07815631,  7.09619238,  7.11422846,\n",
       "        7.13226453,  7.1503006 ,  7.16833667,  7.18637275,  7.20440882,\n",
       "        7.22244489,  7.24048096,  7.25851703,  7.27655311,  7.29458918,\n",
       "        7.31262525,  7.33066132,  7.34869739,  7.36673347,  7.38476954,\n",
       "        7.40280561,  7.42084168,  7.43887776,  7.45691383,  7.4749499 ,\n",
       "        7.49298597,  7.51102204,  7.52905812,  7.54709419,  7.56513026,\n",
       "        7.58316633,  7.6012024 ,  7.61923848,  7.63727455,  7.65531062,\n",
       "        7.67334669,  7.69138277,  7.70941884,  7.72745491,  7.74549098,\n",
       "        7.76352705,  7.78156313,  7.7995992 ,  7.81763527,  7.83567134,\n",
       "        7.85370741,  7.87174349,  7.88977956,  7.90781563,  7.9258517 ,\n",
       "        7.94388778,  7.96192385,  7.97995992,  7.99799599,  8.01603206,\n",
       "        8.03406814,  8.05210421,  8.07014028,  8.08817635,  8.10621242,\n",
       "        8.1242485 ,  8.14228457,  8.16032064,  8.17835671,  8.19639279,\n",
       "        8.21442886,  8.23246493,  8.250501  ,  8.26853707,  8.28657315,\n",
       "        8.30460922,  8.32264529,  8.34068136,  8.35871743,  8.37675351,\n",
       "        8.39478958,  8.41282565,  8.43086172,  8.4488978 ,  8.46693387,\n",
       "        8.48496994,  8.50300601,  8.52104208,  8.53907816,  8.55711423,\n",
       "        8.5751503 ,  8.59318637,  8.61122244,  8.62925852,  8.64729459,\n",
       "        8.66533066,  8.68336673,  8.70140281,  8.71943888,  8.73747495,\n",
       "        8.75551102,  8.77354709,  8.79158317,  8.80961924,  8.82765531,\n",
       "        8.84569138,  8.86372745,  8.88176353,  8.8997996 ,  8.91783567,\n",
       "        8.93587174,  8.95390782,  8.97194389,  8.98997996,  9.00801603,\n",
       "        9.0260521 ,  9.04408818,  9.06212425,  9.08016032,  9.09819639,\n",
       "        9.11623246,  9.13426854,  9.15230461,  9.17034068,  9.18837675,\n",
       "        9.20641283,  9.2244489 ,  9.24248497,  9.26052104,  9.27855711,\n",
       "        9.29659319,  9.31462926,  9.33266533,  9.3507014 ,  9.36873747,\n",
       "        9.38677355,  9.40480962,  9.42284569,  9.44088176,  9.45891784,\n",
       "        9.47695391,  9.49498998,  9.51302605,  9.53106212,  9.5490982 ,\n",
       "        9.56713427,  9.58517034,  9.60320641,  9.62124248,  9.63927856,\n",
       "        9.65731463,  9.6753507 ,  9.69338677,  9.71142285,  9.72945892,\n",
       "        9.74749499,  9.76553106,  9.78356713,  9.80160321,  9.81963928,\n",
       "        9.83767535,  9.85571142,  9.87374749,  9.89178357,  9.90981964,\n",
       "        9.92785571,  9.94589178,  9.96392786,  9.98196393, 10.        ])"
      ]
     },
     "execution_count": 63,
     "metadata": {},
     "output_type": "execute_result"
    }
   ],
   "source": [
    "np.linspace(1,10, 500)  # in a range 1 to 10 , it will return 500 random values"
   ]
  },
  {
   "cell_type": "markdown",
   "metadata": {},
   "source": [
    "##### arange return value within a range with or without step size, linspace return values in a range with asked number of values to be returned"
   ]
  },
  {
   "cell_type": "code",
   "execution_count": 79,
   "metadata": {},
   "outputs": [
    {
     "data": {
      "text/plain": [
       "3"
      ]
     },
     "execution_count": 79,
     "metadata": {},
     "output_type": "execute_result"
    }
   ],
   "source": [
    "np.random.randint(2,4)"
   ]
  },
  {
   "cell_type": "code",
   "execution_count": 80,
   "metadata": {},
   "outputs": [
    {
     "data": {
      "text/plain": [
       "2"
      ]
     },
     "execution_count": 80,
     "metadata": {},
     "output_type": "execute_result"
    }
   ],
   "source": [
    "np.random.randint(2,10)"
   ]
  },
  {
   "cell_type": "code",
   "execution_count": 81,
   "metadata": {},
   "outputs": [
    {
     "data": {
      "text/plain": [
       "array([ 0.43829168, -0.69421473, -1.4037175 , -0.50649891, -0.26636377,\n",
       "       -0.32190746,  1.12826272, -1.35367063, -0.82207224,  1.15716056,\n",
       "        0.66589272, -0.22285287,  0.1033421 , -0.57118861,  1.21622418,\n",
       "       -0.4465972 ,  1.38728656, -1.2205693 ,  0.29351254, -0.09537146,\n",
       "       -0.62482166,  0.64330209, -0.46895725, -0.58131762, -0.4778412 ,\n",
       "       -0.84715574, -0.62597393, -1.56516762,  0.69906524,  0.46528016,\n",
       "        0.36687291, -0.29424859, -0.76159797,  0.03799848,  0.17254661,\n",
       "       -0.2033976 , -1.92275799, -0.82582205,  1.5798812 ,  0.77693237,\n",
       "       -0.95163655,  0.3731069 , -0.65217848, -0.85430337, -1.07063892,\n",
       "        0.9450016 , -0.54875689,  0.50214878, -0.67540119, -1.13487617])"
      ]
     },
     "execution_count": 81,
     "metadata": {},
     "output_type": "execute_result"
    }
   ],
   "source": [
    "np.random.randn(50)   # As I want 50 random value"
   ]
  },
  {
   "cell_type": "code",
   "execution_count": 82,
   "metadata": {},
   "outputs": [
    {
     "data": {
      "text/plain": [
       "array([[[-0.25750016, -1.26900066,  0.26386189, -0.46475854,\n",
       "         -0.51796545],\n",
       "        [-1.44651731,  2.05792258, -0.26503134, -0.05778839,\n",
       "          0.08611931],\n",
       "        [ 0.33599323,  0.67775326,  0.08872581, -0.83694521,\n",
       "          0.44893487],\n",
       "        [ 1.87033675, -0.2461379 , -2.29241071, -0.74158746,\n",
       "          0.58560455],\n",
       "        [-1.76142618,  2.46689238,  1.00919716, -1.23121562,\n",
       "         -0.7556038 ],\n",
       "        [-0.4684197 , -0.38559591, -0.2886442 , -0.57291242,\n",
       "          0.90567187],\n",
       "        [-0.5094799 , -0.49803476, -0.87947626,  0.52539517,\n",
       "         -0.60892754],\n",
       "        [ 0.08258607, -0.2863742 , -0.8380673 ,  1.92483033,\n",
       "         -0.13898605],\n",
       "        [ 2.55197404,  1.46066659, -0.5590749 ,  0.30585207,\n",
       "         -0.44218484],\n",
       "        [-0.60973415,  0.65994192,  0.63751013, -0.42643835,\n",
       "          0.04902575],\n",
       "        [-1.20029095, -2.47393622, -0.62454736,  0.19352057,\n",
       "         -0.99548734],\n",
       "        [-1.47838321,  1.28374086,  0.78978077,  0.04403109,\n",
       "          0.16480708],\n",
       "        [ 0.45921002,  0.89807087, -1.27476256, -1.09264203,\n",
       "          0.30670556],\n",
       "        [-0.76101666, -0.96936785, -1.77151314, -1.25884372,\n",
       "         -1.27635204],\n",
       "        [-0.90875237,  0.12213155, -0.08118228, -0.48590252,\n",
       "         -0.18079995]]])"
      ]
     },
     "execution_count": 82,
     "metadata": {},
     "output_type": "execute_result"
    }
   ],
   "source": [
    "np.random.randn(1,15, 5) "
   ]
  }
 ],
 "metadata": {
  "kernelspec": {
   "display_name": "Python 3.10.2 ('mldsenv': venv)",
   "language": "python",
   "name": "python3"
  },
  "language_info": {
   "codemirror_mode": {
    "name": "ipython",
    "version": 3
   },
   "file_extension": ".py",
   "mimetype": "text/x-python",
   "name": "python",
   "nbconvert_exporter": "python",
   "pygments_lexer": "ipython3",
   "version": "3.10.2"
  },
  "orig_nbformat": 4,
  "vscode": {
   "interpreter": {
    "hash": "a0d8395148df7469c9c625ea49f0ef6db022295e0f88ca38f4e4e2f6e520972e"
   }
  }
 },
 "nbformat": 4,
 "nbformat_minor": 2
}
