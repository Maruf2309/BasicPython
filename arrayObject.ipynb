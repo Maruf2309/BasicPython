{
 "cells": [
  {
   "cell_type": "markdown",
   "metadata": {},
   "source": [
    "# Numpy"
   ]
  },
  {
   "cell_type": "markdown",
   "metadata": {},
   "source": [
    "- Import Numpy\n",
    "- Mathmatical Operations\n",
    "- Array Creation\n",
    "- Adding Dimension\n",
    "- np.zeros\n",
    "- np.eye\n",
    "- np.empty\n",
    "- np.full\n",
    "- np.arange   / array range\n",
    "- np.linspace  (differnce between arange & linspace)\n",
    "- random & randomn, randint\n",
    "- Types of Array"
   ]
  },
  {
   "cell_type": "code",
   "execution_count": 1,
   "metadata": {},
   "outputs": [
    {
     "data": {
      "text/plain": [
       "'1.23.3'"
      ]
     },
     "execution_count": 1,
     "metadata": {},
     "output_type": "execute_result"
    }
   ],
   "source": [
    "import numpy as np\n",
    "np.__version__"
   ]
  },
  {
   "cell_type": "markdown",
   "metadata": {},
   "source": [
    "# Math Computational"
   ]
  },
  {
   "cell_type": "code",
   "execution_count": 2,
   "metadata": {},
   "outputs": [
    {
     "data": {
      "text/plain": [
       "999999550000064999997"
      ]
     },
     "execution_count": 2,
     "metadata": {},
     "output_type": "execute_result"
    }
   ],
   "source": [
    "summ = 0\n",
    "for num in range(1, 9999999):\n",
    "    summ += num**2*3\n",
    "\n",
    "summ"
   ]
  },
  {
   "cell_type": "code",
   "execution_count": 3,
   "metadata": {},
   "outputs": [
    {
     "data": {
      "text/plain": [
       "array([      1,       2,       3, ..., 9999996, 9999997, 9999998])"
      ]
     },
     "execution_count": 3,
     "metadata": {},
     "output_type": "execute_result"
    }
   ],
   "source": [
    "np.arange(1,9999999)"
   ]
  },
  {
   "cell_type": "markdown",
   "metadata": {},
   "source": [
    "## Comparing Computational efficiency between general & numpy"
   ]
  },
  {
   "cell_type": "code",
   "execution_count": 4,
   "metadata": {},
   "outputs": [
    {
     "data": {
      "text/plain": [
       "4999999850000001"
      ]
     },
     "execution_count": 4,
     "metadata": {},
     "output_type": "execute_result"
    }
   ],
   "source": [
    "# General Python, takes more time\n",
    "summ1 = 0\n",
    "for num in range (1,99999999):\n",
    "    summ1 += num\n",
    "\n",
    "summ1"
   ]
  },
  {
   "cell_type": "code",
   "execution_count": 5,
   "metadata": {},
   "outputs": [
    {
     "data": {
      "text/plain": [
       "4999999850000001"
      ]
     },
     "execution_count": 5,
     "metadata": {},
     "output_type": "execute_result"
    }
   ],
   "source": [
    "# Numpy sum operation     takes less time, in case of huge data we will see the different more clearly\n",
    "np.sum(np.arange(1,99999999, dtype=np.int64))"
   ]
  },
  {
   "cell_type": "code",
   "execution_count": 6,
   "metadata": {},
   "outputs": [
    {
     "data": {
      "text/plain": [
       "4999999850000001"
      ]
     },
     "execution_count": 6,
     "metadata": {},
     "output_type": "execute_result"
    }
   ],
   "source": [
    "np.arange(99999999, dtype=np.int64).sum()   # alternative syntax of doing sum aggregation over numpy"
   ]
  },
  {
   "cell_type": "markdown",
   "metadata": {},
   "source": [
    "### Numpy is more efficinet\n",
    "- Previous one needs more time than numpy\n",
    "- for this operation, numpy is not taking for loop, while for same general python using loop"
   ]
  },
  {
   "cell_type": "markdown",
   "metadata": {},
   "source": [
    "# Array Creation"
   ]
  },
  {
   "cell_type": "code",
   "execution_count": 7,
   "metadata": {},
   "outputs": [
    {
     "data": {
      "text/plain": [
       "array([[0, 0, 0],\n",
       "       [0, 0, 0],\n",
       "       [0, 0, 0]], dtype=int64)"
      ]
     },
     "execution_count": 7,
     "metadata": {},
     "output_type": "execute_result"
    }
   ],
   "source": [
    "# np.zeros([shape size] comma dtype with np.bit size)  # Syntax\n",
    "np.zeros([3,3], dtype=np.int64)"
   ]
  },
  {
   "cell_type": "code",
   "execution_count": 8,
   "metadata": {},
   "outputs": [
    {
     "data": {
      "text/plain": [
       "array([[0, 0, 0, 0, 0],\n",
       "       [0, 0, 0, 0, 0],\n",
       "       [0, 0, 0, 0, 0],\n",
       "       [0, 0, 0, 0, 0],\n",
       "       [0, 0, 0, 0, 0]], dtype=int64)"
      ]
     },
     "execution_count": 8,
     "metadata": {},
     "output_type": "execute_result"
    }
   ],
   "source": [
    "np.zeros([5,5], dtype=np.int64)"
   ]
  },
  {
   "cell_type": "code",
   "execution_count": 9,
   "metadata": {},
   "outputs": [
    {
     "data": {
      "text/plain": [
       "array([[0., 0., 0., 0.],\n",
       "       [0., 0., 0., 0.],\n",
       "       [0., 0., 0., 0.],\n",
       "       [0., 0., 0., 0.]])"
      ]
     },
     "execution_count": 9,
     "metadata": {},
     "output_type": "execute_result"
    }
   ],
   "source": [
    "np.zeros([4, 4], dtype=np.float64)"
   ]
  },
  {
   "cell_type": "code",
   "execution_count": 10,
   "metadata": {},
   "outputs": [
    {
     "data": {
      "text/plain": [
       "array([[0., 0.],\n",
       "       [0., 0.]], dtype=float16)"
      ]
     },
     "execution_count": 10,
     "metadata": {},
     "output_type": "execute_result"
    }
   ],
   "source": [
    "np.zeros([2,2], dtype=np.float16)"
   ]
  },
  {
   "cell_type": "code",
   "execution_count": 11,
   "metadata": {},
   "outputs": [
    {
     "data": {
      "text/plain": [
       "array([[0, 0, 0],\n",
       "       [0, 0, 0],\n",
       "       [0, 0, 0],\n",
       "       [0, 0, 0]], dtype=int64)"
      ]
     },
     "execution_count": 11,
     "metadata": {},
     "output_type": "execute_result"
    }
   ],
   "source": [
    "np.zeros([4,3], dtype=np.int64)  # rows & columns is 4:3"
   ]
  },
  {
   "cell_type": "code",
   "execution_count": 12,
   "metadata": {},
   "outputs": [
    {
     "data": {
      "text/plain": [
       "array([[0, 0, 0],\n",
       "       [0, 0, 0],\n",
       "       [0, 0, 0],\n",
       "       [0, 0, 0],\n",
       "       [0, 0, 0]], dtype=int64)"
      ]
     },
     "execution_count": 12,
     "metadata": {},
     "output_type": "execute_result"
    }
   ],
   "source": [
    "np.zeros([5,3], dtype=np.int64)"
   ]
  },
  {
   "cell_type": "markdown",
   "metadata": {},
   "source": [
    "### Adding Demension"
   ]
  },
  {
   "cell_type": "code",
   "execution_count": 13,
   "metadata": {},
   "outputs": [
    {
     "data": {
      "text/plain": [
       "array([[[0, 0],\n",
       "        [0, 0],\n",
       "        [0, 0]],\n",
       "\n",
       "       [[0, 0],\n",
       "        [0, 0],\n",
       "        [0, 0]],\n",
       "\n",
       "       [[0, 0],\n",
       "        [0, 0],\n",
       "        [0, 0]],\n",
       "\n",
       "       [[0, 0],\n",
       "        [0, 0],\n",
       "        [0, 0]]], dtype=int64)"
      ]
     },
     "execution_count": 13,
     "metadata": {},
     "output_type": "execute_result"
    }
   ],
   "source": [
    "np.zeros([4,3,2], dtype=np.int64)  \n",
    "# 4 rows, 3 columns and 2 cell/value per row  or for each row, here is adding dimenstion as 2"
   ]
  },
  {
   "cell_type": "code",
   "execution_count": 14,
   "metadata": {},
   "outputs": [
    {
     "data": {
      "text/plain": [
       "array([[[0, 0, 0],\n",
       "        [0, 0, 0],\n",
       "        [0, 0, 0]],\n",
       "\n",
       "       [[0, 0, 0],\n",
       "        [0, 0, 0],\n",
       "        [0, 0, 0]],\n",
       "\n",
       "       [[0, 0, 0],\n",
       "        [0, 0, 0],\n",
       "        [0, 0, 0]],\n",
       "\n",
       "       [[0, 0, 0],\n",
       "        [0, 0, 0],\n",
       "        [0, 0, 0]]], dtype=int64)"
      ]
     },
     "execution_count": 14,
     "metadata": {},
     "output_type": "execute_result"
    }
   ],
   "source": [
    "np.zeros([4,3,3], dtype=np.int64)    # 3 cell/ value per row"
   ]
  },
  {
   "cell_type": "code",
   "execution_count": 15,
   "metadata": {},
   "outputs": [
    {
     "data": {
      "text/plain": [
       "array([[[0, 0, 0, 0],\n",
       "        [0, 0, 0, 0],\n",
       "        [0, 0, 0, 0]],\n",
       "\n",
       "       [[0, 0, 0, 0],\n",
       "        [0, 0, 0, 0],\n",
       "        [0, 0, 0, 0]],\n",
       "\n",
       "       [[0, 0, 0, 0],\n",
       "        [0, 0, 0, 0],\n",
       "        [0, 0, 0, 0]],\n",
       "\n",
       "       [[0, 0, 0, 0],\n",
       "        [0, 0, 0, 0],\n",
       "        [0, 0, 0, 0]]], dtype=int64)"
      ]
     },
     "execution_count": 15,
     "metadata": {},
     "output_type": "execute_result"
    }
   ],
   "source": [
    "np.zeros([4,3,4], dtype=np.int64)    # 4 cell/ value per row"
   ]
  },
  {
   "cell_type": "code",
   "execution_count": 16,
   "metadata": {},
   "outputs": [
    {
     "data": {
      "text/plain": [
       "array([[[0, 0, 0, 0, 0],\n",
       "        [0, 0, 0, 0, 0],\n",
       "        [0, 0, 0, 0, 0]],\n",
       "\n",
       "       [[0, 0, 0, 0, 0],\n",
       "        [0, 0, 0, 0, 0],\n",
       "        [0, 0, 0, 0, 0]],\n",
       "\n",
       "       [[0, 0, 0, 0, 0],\n",
       "        [0, 0, 0, 0, 0],\n",
       "        [0, 0, 0, 0, 0]],\n",
       "\n",
       "       [[0, 0, 0, 0, 0],\n",
       "        [0, 0, 0, 0, 0],\n",
       "        [0, 0, 0, 0, 0]]], dtype=int64)"
      ]
     },
     "execution_count": 16,
     "metadata": {},
     "output_type": "execute_result"
    }
   ],
   "source": [
    "np.zeros([4,3,5], dtype=np.int64)    # 5 cell/ value per row"
   ]
  },
  {
   "cell_type": "code",
   "execution_count": 17,
   "metadata": {},
   "outputs": [
    {
     "data": {
      "text/plain": [
       "array([[0, 0, 0],\n",
       "       [0, 0, 0],\n",
       "       [0, 0, 0],\n",
       "       [0, 0, 0]], dtype=int64)"
      ]
     },
     "execution_count": 17,
     "metadata": {},
     "output_type": "execute_result"
    }
   ],
   "source": [
    "np.zeros([4,3], dtype=np.int64)"
   ]
  },
  {
   "cell_type": "code",
   "execution_count": 18,
   "metadata": {},
   "outputs": [
    {
     "data": {
      "text/plain": [
       "array([[[0, 0, 0, 0, 0, 0, 0, 0, 0, 0],\n",
       "        [0, 0, 0, 0, 0, 0, 0, 0, 0, 0],\n",
       "        [0, 0, 0, 0, 0, 0, 0, 0, 0, 0],\n",
       "        [0, 0, 0, 0, 0, 0, 0, 0, 0, 0],\n",
       "        [0, 0, 0, 0, 0, 0, 0, 0, 0, 0]],\n",
       "\n",
       "       [[0, 0, 0, 0, 0, 0, 0, 0, 0, 0],\n",
       "        [0, 0, 0, 0, 0, 0, 0, 0, 0, 0],\n",
       "        [0, 0, 0, 0, 0, 0, 0, 0, 0, 0],\n",
       "        [0, 0, 0, 0, 0, 0, 0, 0, 0, 0],\n",
       "        [0, 0, 0, 0, 0, 0, 0, 0, 0, 0]],\n",
       "\n",
       "       [[0, 0, 0, 0, 0, 0, 0, 0, 0, 0],\n",
       "        [0, 0, 0, 0, 0, 0, 0, 0, 0, 0],\n",
       "        [0, 0, 0, 0, 0, 0, 0, 0, 0, 0],\n",
       "        [0, 0, 0, 0, 0, 0, 0, 0, 0, 0],\n",
       "        [0, 0, 0, 0, 0, 0, 0, 0, 0, 0]],\n",
       "\n",
       "       [[0, 0, 0, 0, 0, 0, 0, 0, 0, 0],\n",
       "        [0, 0, 0, 0, 0, 0, 0, 0, 0, 0],\n",
       "        [0, 0, 0, 0, 0, 0, 0, 0, 0, 0],\n",
       "        [0, 0, 0, 0, 0, 0, 0, 0, 0, 0],\n",
       "        [0, 0, 0, 0, 0, 0, 0, 0, 0, 0]]], dtype=int64)"
      ]
     },
     "execution_count": 18,
     "metadata": {},
     "output_type": "execute_result"
    }
   ],
   "source": [
    "np.zeros([4,5,10], dtype=np.int64)   # 10 dimension"
   ]
  },
  {
   "cell_type": "code",
   "execution_count": 19,
   "metadata": {},
   "outputs": [
    {
     "data": {
      "text/plain": [
       "array([[[0, 0, 0, 0, 0, 0, 0, 0, 0, 0],\n",
       "        [0, 0, 0, 0, 0, 0, 0, 0, 0, 0],\n",
       "        [0, 0, 0, 0, 0, 0, 0, 0, 0, 0],\n",
       "        [0, 0, 0, 0, 0, 0, 0, 0, 0, 0],\n",
       "        [0, 0, 0, 0, 0, 0, 0, 0, 0, 0],\n",
       "        [0, 0, 0, 0, 0, 0, 0, 0, 0, 0],\n",
       "        [0, 0, 0, 0, 0, 0, 0, 0, 0, 0],\n",
       "        [0, 0, 0, 0, 0, 0, 0, 0, 0, 0]],\n",
       "\n",
       "       [[0, 0, 0, 0, 0, 0, 0, 0, 0, 0],\n",
       "        [0, 0, 0, 0, 0, 0, 0, 0, 0, 0],\n",
       "        [0, 0, 0, 0, 0, 0, 0, 0, 0, 0],\n",
       "        [0, 0, 0, 0, 0, 0, 0, 0, 0, 0],\n",
       "        [0, 0, 0, 0, 0, 0, 0, 0, 0, 0],\n",
       "        [0, 0, 0, 0, 0, 0, 0, 0, 0, 0],\n",
       "        [0, 0, 0, 0, 0, 0, 0, 0, 0, 0],\n",
       "        [0, 0, 0, 0, 0, 0, 0, 0, 0, 0]],\n",
       "\n",
       "       [[0, 0, 0, 0, 0, 0, 0, 0, 0, 0],\n",
       "        [0, 0, 0, 0, 0, 0, 0, 0, 0, 0],\n",
       "        [0, 0, 0, 0, 0, 0, 0, 0, 0, 0],\n",
       "        [0, 0, 0, 0, 0, 0, 0, 0, 0, 0],\n",
       "        [0, 0, 0, 0, 0, 0, 0, 0, 0, 0],\n",
       "        [0, 0, 0, 0, 0, 0, 0, 0, 0, 0],\n",
       "        [0, 0, 0, 0, 0, 0, 0, 0, 0, 0],\n",
       "        [0, 0, 0, 0, 0, 0, 0, 0, 0, 0]],\n",
       "\n",
       "       [[0, 0, 0, 0, 0, 0, 0, 0, 0, 0],\n",
       "        [0, 0, 0, 0, 0, 0, 0, 0, 0, 0],\n",
       "        [0, 0, 0, 0, 0, 0, 0, 0, 0, 0],\n",
       "        [0, 0, 0, 0, 0, 0, 0, 0, 0, 0],\n",
       "        [0, 0, 0, 0, 0, 0, 0, 0, 0, 0],\n",
       "        [0, 0, 0, 0, 0, 0, 0, 0, 0, 0],\n",
       "        [0, 0, 0, 0, 0, 0, 0, 0, 0, 0],\n",
       "        [0, 0, 0, 0, 0, 0, 0, 0, 0, 0]]], dtype=int64)"
      ]
     },
     "execution_count": 19,
     "metadata": {},
     "output_type": "execute_result"
    }
   ],
   "source": [
    "np.zeros([4,8,10], dtype=np.int64)"
   ]
  },
  {
   "cell_type": "code",
   "execution_count": 20,
   "metadata": {},
   "outputs": [
    {
     "data": {
      "text/plain": [
       "array([[[0, 0, 0, 0, 0, 0, 0, 0, 0, 0],\n",
       "        [0, 0, 0, 0, 0, 0, 0, 0, 0, 0],\n",
       "        [0, 0, 0, 0, 0, 0, 0, 0, 0, 0]],\n",
       "\n",
       "       [[0, 0, 0, 0, 0, 0, 0, 0, 0, 0],\n",
       "        [0, 0, 0, 0, 0, 0, 0, 0, 0, 0],\n",
       "        [0, 0, 0, 0, 0, 0, 0, 0, 0, 0]],\n",
       "\n",
       "       [[0, 0, 0, 0, 0, 0, 0, 0, 0, 0],\n",
       "        [0, 0, 0, 0, 0, 0, 0, 0, 0, 0],\n",
       "        [0, 0, 0, 0, 0, 0, 0, 0, 0, 0]],\n",
       "\n",
       "       [[0, 0, 0, 0, 0, 0, 0, 0, 0, 0],\n",
       "        [0, 0, 0, 0, 0, 0, 0, 0, 0, 0],\n",
       "        [0, 0, 0, 0, 0, 0, 0, 0, 0, 0]]], dtype=int64)"
      ]
     },
     "execution_count": 20,
     "metadata": {},
     "output_type": "execute_result"
    }
   ],
   "source": [
    "np.zeros([4,3,10], dtype=np.int64)"
   ]
  },
  {
   "cell_type": "code",
   "execution_count": 21,
   "metadata": {},
   "outputs": [
    {
     "data": {
      "text/plain": [
       "array([[[0, 0, 0, 0, 0, 0, 0, 0, 0, 0],\n",
       "        [0, 0, 0, 0, 0, 0, 0, 0, 0, 0]],\n",
       "\n",
       "       [[0, 0, 0, 0, 0, 0, 0, 0, 0, 0],\n",
       "        [0, 0, 0, 0, 0, 0, 0, 0, 0, 0]],\n",
       "\n",
       "       [[0, 0, 0, 0, 0, 0, 0, 0, 0, 0],\n",
       "        [0, 0, 0, 0, 0, 0, 0, 0, 0, 0]],\n",
       "\n",
       "       [[0, 0, 0, 0, 0, 0, 0, 0, 0, 0],\n",
       "        [0, 0, 0, 0, 0, 0, 0, 0, 0, 0]]], dtype=int64)"
      ]
     },
     "execution_count": 21,
     "metadata": {},
     "output_type": "execute_result"
    }
   ],
   "source": [
    "np.zeros([4,2,10], dtype=np.int64)"
   ]
  },
  {
   "cell_type": "code",
   "execution_count": 22,
   "metadata": {},
   "outputs": [
    {
     "data": {
      "text/plain": [
       "array([[1., 1., 1., 1.],\n",
       "       [1., 1., 1., 1.],\n",
       "       [1., 1., 1., 1.],\n",
       "       [1., 1., 1., 1.]])"
      ]
     },
     "execution_count": 22,
     "metadata": {},
     "output_type": "execute_result"
    }
   ],
   "source": [
    "np.ones([4,4])    # by default dtype takes float & mentioning dtype is optional"
   ]
  },
  {
   "cell_type": "code",
   "execution_count": 23,
   "metadata": {},
   "outputs": [
    {
     "data": {
      "text/plain": [
       "array([[1., 1., 1., 1.],\n",
       "       [1., 1., 1., 1.],\n",
       "       [1., 1., 1., 1.],\n",
       "       [1., 1., 1., 1.]])"
      ]
     },
     "execution_count": 23,
     "metadata": {},
     "output_type": "execute_result"
    }
   ],
   "source": [
    "np.ones([4,4], dtype=np.float64)"
   ]
  },
  {
   "cell_type": "code",
   "execution_count": 24,
   "metadata": {},
   "outputs": [
    {
     "data": {
      "text/plain": [
       "array([[1, 1, 1, 1],\n",
       "       [1, 1, 1, 1],\n",
       "       [1, 1, 1, 1],\n",
       "       [1, 1, 1, 1]], dtype=int64)"
      ]
     },
     "execution_count": 24,
     "metadata": {},
     "output_type": "execute_result"
    }
   ],
   "source": [
    "np.ones([4,4], dtype=np.int64)"
   ]
  },
  {
   "cell_type": "code",
   "execution_count": 25,
   "metadata": {},
   "outputs": [
    {
     "data": {
      "text/plain": [
       "array([[1., 0., 0.],\n",
       "       [0., 1., 0.],\n",
       "       [0., 0., 1.]])"
      ]
     },
     "execution_count": 25,
     "metadata": {},
     "output_type": "execute_result"
    }
   ],
   "source": [
    "np.eye(3,3)     # np.eye means \"Identity Matrix\", eye operation will not take square bracket [], np.eye takes only \"tuple\""
   ]
  },
  {
   "cell_type": "code",
   "execution_count": 26,
   "metadata": {},
   "outputs": [
    {
     "data": {
      "text/plain": [
       "array([[0., 1., 0.],\n",
       "       [0., 0., 1.],\n",
       "       [0., 0., 0.]])"
      ]
     },
     "execution_count": 26,
     "metadata": {},
     "output_type": "execute_result"
    }
   ],
   "source": [
    "np.eye(3,3, k=1)    # by default k = 0"
   ]
  },
  {
   "cell_type": "code",
   "execution_count": 27,
   "metadata": {},
   "outputs": [
    {
     "data": {
      "text/plain": [
       "array([[1., 0., 0., 0., 0., 0.],\n",
       "       [0., 1., 0., 0., 0., 0.],\n",
       "       [0., 0., 1., 0., 0., 0.],\n",
       "       [0., 0., 0., 1., 0., 0.],\n",
       "       [0., 0., 0., 0., 1., 0.],\n",
       "       [0., 0., 0., 0., 0., 1.]])"
      ]
     },
     "execution_count": 27,
     "metadata": {},
     "output_type": "execute_result"
    }
   ],
   "source": [
    "np.eye(6,6)       # default k = 0"
   ]
  },
  {
   "cell_type": "code",
   "execution_count": 28,
   "metadata": {},
   "outputs": [
    {
     "data": {
      "text/plain": [
       "array([[1., 0., 0., 0., 0., 0.],\n",
       "       [0., 1., 0., 0., 0., 0.],\n",
       "       [0., 0., 1., 0., 0., 0.],\n",
       "       [0., 0., 0., 1., 0., 0.],\n",
       "       [0., 0., 0., 0., 1., 0.],\n",
       "       [0., 0., 0., 0., 0., 1.]])"
      ]
     },
     "execution_count": 28,
     "metadata": {},
     "output_type": "execute_result"
    }
   ],
   "source": [
    "np.eye(6,6, k=0)"
   ]
  },
  {
   "cell_type": "code",
   "execution_count": 29,
   "metadata": {},
   "outputs": [
    {
     "data": {
      "text/plain": [
       "array([[0., 1., 0., 0., 0., 0.],\n",
       "       [0., 0., 1., 0., 0., 0.],\n",
       "       [0., 0., 0., 1., 0., 0.],\n",
       "       [0., 0., 0., 0., 1., 0.],\n",
       "       [0., 0., 0., 0., 0., 1.],\n",
       "       [0., 0., 0., 0., 0., 0.]])"
      ]
     },
     "execution_count": 29,
     "metadata": {},
     "output_type": "execute_result"
    }
   ],
   "source": [
    "np.eye(6,6, k=1)"
   ]
  },
  {
   "cell_type": "code",
   "execution_count": 30,
   "metadata": {},
   "outputs": [
    {
     "data": {
      "text/plain": [
       "array([[0., 0., 1., 0., 0., 0.],\n",
       "       [0., 0., 0., 1., 0., 0.],\n",
       "       [0., 0., 0., 0., 1., 0.],\n",
       "       [0., 0., 0., 0., 0., 1.],\n",
       "       [0., 0., 0., 0., 0., 0.],\n",
       "       [0., 0., 0., 0., 0., 0.]])"
      ]
     },
     "execution_count": 30,
     "metadata": {},
     "output_type": "execute_result"
    }
   ],
   "source": [
    "np.eye(6,6, k=2)"
   ]
  },
  {
   "cell_type": "code",
   "execution_count": 31,
   "metadata": {},
   "outputs": [
    {
     "data": {
      "text/plain": [
       "array([[0., 0., 0., 0., 1., 0.],\n",
       "       [0., 0., 0., 0., 0., 1.],\n",
       "       [0., 0., 0., 0., 0., 0.],\n",
       "       [0., 0., 0., 0., 0., 0.],\n",
       "       [0., 0., 0., 0., 0., 0.],\n",
       "       [0., 0., 0., 0., 0., 0.]])"
      ]
     },
     "execution_count": 31,
     "metadata": {},
     "output_type": "execute_result"
    }
   ],
   "source": [
    "np.eye(6,6, k=4)"
   ]
  },
  {
   "cell_type": "code",
   "execution_count": 32,
   "metadata": {},
   "outputs": [
    {
     "data": {
      "text/plain": [
       "array([[0., 0., 0., 0., 0., 0.],\n",
       "       [0., 0., 0., 0., 0., 0.],\n",
       "       [0., 0., 0., 0., 0., 0.],\n",
       "       [0., 0., 0., 0., 0., 0.],\n",
       "       [1., 0., 0., 0., 0., 0.],\n",
       "       [0., 1., 0., 0., 0., 0.]])"
      ]
     },
     "execution_count": 32,
     "metadata": {},
     "output_type": "execute_result"
    }
   ],
   "source": [
    "np.eye(6,6, k=-4)"
   ]
  },
  {
   "cell_type": "code",
   "execution_count": 33,
   "metadata": {},
   "outputs": [
    {
     "data": {
      "text/plain": [
       "array([[0., 0., 0., 0., 0., 1.],\n",
       "       [0., 0., 0., 0., 0., 0.],\n",
       "       [0., 0., 0., 0., 0., 0.],\n",
       "       [0., 0., 0., 0., 0., 0.],\n",
       "       [0., 0., 0., 0., 0., 0.],\n",
       "       [0., 0., 0., 0., 0., 0.]])"
      ]
     },
     "execution_count": 33,
     "metadata": {},
     "output_type": "execute_result"
    }
   ],
   "source": [
    "np.eye(6,6, k=5)"
   ]
  },
  {
   "cell_type": "code",
   "execution_count": 34,
   "metadata": {},
   "outputs": [
    {
     "data": {
      "text/plain": [
       "array([[0., 0., 0.],\n",
       "       [1., 0., 0.],\n",
       "       [0., 1., 0.]])"
      ]
     },
     "execution_count": 34,
     "metadata": {},
     "output_type": "execute_result"
    }
   ],
   "source": [
    "np.eye(3,3, k=-1) "
   ]
  },
  {
   "cell_type": "code",
   "execution_count": 35,
   "metadata": {},
   "outputs": [
    {
     "data": {
      "text/plain": [
       "array([[1., 0., 0., 0.],\n",
       "       [0., 1., 0., 0.],\n",
       "       [0., 0., 1., 0.]])"
      ]
     },
     "execution_count": 35,
     "metadata": {},
     "output_type": "execute_result"
    }
   ],
   "source": [
    "np.eye(3,4)"
   ]
  },
  {
   "cell_type": "code",
   "execution_count": 36,
   "metadata": {},
   "outputs": [
    {
     "data": {
      "text/plain": [
       "array([[0., 0., 1., 0.],\n",
       "       [0., 0., 0., 1.],\n",
       "       [0., 0., 0., 0.]])"
      ]
     },
     "execution_count": 36,
     "metadata": {},
     "output_type": "execute_result"
    }
   ],
   "source": [
    "np.eye(3,4,2)"
   ]
  },
  {
   "cell_type": "code",
   "execution_count": 37,
   "metadata": {},
   "outputs": [
    {
     "data": {
      "text/plain": [
       "array([[0., 0., 0., 0.],\n",
       "       [0., 0., 0., 0.],\n",
       "       [1., 0., 0., 0.]])"
      ]
     },
     "execution_count": 37,
     "metadata": {},
     "output_type": "execute_result"
    }
   ],
   "source": [
    "np.eye(3,4,-2)"
   ]
  },
  {
   "cell_type": "code",
   "execution_count": 38,
   "metadata": {},
   "outputs": [
    {
     "data": {
      "text/plain": [
       "array([[0., 0., 0., 1.],\n",
       "       [0., 0., 0., 0.],\n",
       "       [0., 0., 0., 0.]])"
      ]
     },
     "execution_count": 38,
     "metadata": {},
     "output_type": "execute_result"
    }
   ],
   "source": [
    "np.eye(3,4,3)"
   ]
  },
  {
   "cell_type": "code",
   "execution_count": 39,
   "metadata": {},
   "outputs": [
    {
     "data": {
      "text/plain": [
       "array([[0., 0., 0., 0.],\n",
       "       [0., 0., 0., 0.],\n",
       "       [0., 0., 0., 0.]])"
      ]
     },
     "execution_count": 39,
     "metadata": {},
     "output_type": "execute_result"
    }
   ],
   "source": [
    "np.eye(3,4,4)"
   ]
  },
  {
   "cell_type": "code",
   "execution_count": 40,
   "metadata": {},
   "outputs": [
    {
     "data": {
      "text/plain": [
       "array([[0., 0., 0.],\n",
       "       [1., 0., 0.],\n",
       "       [0., 1., 0.]])"
      ]
     },
     "execution_count": 40,
     "metadata": {},
     "output_type": "execute_result"
    }
   ],
   "source": [
    "np.empty([3,3])"
   ]
  },
  {
   "cell_type": "code",
   "execution_count": 41,
   "metadata": {},
   "outputs": [
    {
     "data": {
      "text/plain": [
       "array([[[6.23042070e-307, 4.22795269e-307, 1.33511969e-306],\n",
       "        [2.22522868e-306, 1.24611266e-306, 1.78017181e-306],\n",
       "        [6.23061763e-307, 1.06811422e-306, 4.45033870e-308]],\n",
       "\n",
       "       [[1.33511969e-306, 3.22651328e-307, 1.11260755e-306],\n",
       "        [3.11515773e-307, 1.33512173e-306, 6.23055651e-307],\n",
       "        [1.69119194e-306, 6.23060744e-307, 6.23053954e-307]],\n",
       "\n",
       "       [[9.34609790e-307, 8.45593934e-307, 9.34600963e-307],\n",
       "        [1.86921143e-306, 6.23061763e-307, 9.34593493e-307],\n",
       "        [7.56602524e-307, 2.22522596e-306, 2.56765117e-312]]])"
      ]
     },
     "execution_count": 41,
     "metadata": {},
     "output_type": "execute_result"
    }
   ],
   "source": [
    "np.empty([3,3,3])"
   ]
  },
  {
   "cell_type": "code",
   "execution_count": 42,
   "metadata": {},
   "outputs": [
    {
     "data": {
      "text/plain": [
       "array([[[1.37962049e-306, 1.24610791e-306],\n",
       "        [1.11260959e-306, 1.69109959e-306],\n",
       "        [9.34603679e-307, 1.42419802e-306]],\n",
       "\n",
       "       [[1.78019082e-306, 4.45061456e-308],\n",
       "        [1.24612081e-306, 1.37962049e-306],\n",
       "        [9.34597567e-307, 1.29061821e-306]],\n",
       "\n",
       "       [[1.78019625e-306, 1.11255866e-306],\n",
       "        [8.90098127e-307, 9.34609790e-307],\n",
       "        [3.91792279e-317, 4.47593775e-091]]])"
      ]
     },
     "execution_count": 42,
     "metadata": {},
     "output_type": "execute_result"
    }
   ],
   "source": [
    "np.empty([3,3,2])"
   ]
  },
  {
   "cell_type": "code",
   "execution_count": 43,
   "metadata": {},
   "outputs": [
    {
     "data": {
      "text/plain": [
       "array([[[0., 0.],\n",
       "        [0., 0.]],\n",
       "\n",
       "       [[0., 0.],\n",
       "        [0., 0.]],\n",
       "\n",
       "       [[0., 0.],\n",
       "        [0., 0.]]])"
      ]
     },
     "execution_count": 43,
     "metadata": {},
     "output_type": "execute_result"
    }
   ],
   "source": [
    "np.empty([3,2,2])"
   ]
  },
  {
   "cell_type": "code",
   "execution_count": 44,
   "metadata": {},
   "outputs": [
    {
     "data": {
      "text/plain": [
       "array([[8.5, 8.5, 8.5],\n",
       "       [8.5, 8.5, 8.5],\n",
       "       [8.5, 8.5, 8.5]])"
      ]
     },
     "execution_count": 44,
     "metadata": {},
     "output_type": "execute_result"
    }
   ],
   "source": [
    "np.full([3,3], 8.5)   # it will fill the 3x3 matrix with 8.5"
   ]
  },
  {
   "cell_type": "code",
   "execution_count": 45,
   "metadata": {},
   "outputs": [
    {
     "data": {
      "text/plain": [
       "array([[10.5, 10.5, 10.5],\n",
       "       [10.5, 10.5, 10.5],\n",
       "       [10.5, 10.5, 10.5]])"
      ]
     },
     "execution_count": 45,
     "metadata": {},
     "output_type": "execute_result"
    }
   ],
   "source": [
    "np.full([3,3], 10.5)"
   ]
  },
  {
   "cell_type": "markdown",
   "metadata": {},
   "source": [
    "### Arange"
   ]
  },
  {
   "cell_type": "markdown",
   "metadata": {},
   "source": [
    "- np.arange will not take squre backet\n",
    "- mentioning dtype is optional\n",
    "- it will take (start: end: step size)\n",
    "- default takes int\n",
    "- float & int can be mentioned in dtype\n",
    "- its like a range function\n",
    "- it can be reshaped"
   ]
  },
  {
   "cell_type": "code",
   "execution_count": 46,
   "metadata": {},
   "outputs": [
    {
     "data": {
      "text/plain": [
       "array([ 1,  2,  3,  4,  5,  6,  7,  8,  9, 10, 11, 12, 13, 14, 15, 16, 17,\n",
       "       18, 19, 20, 21, 22, 23, 24, 25, 26, 27, 28, 29, 30, 31, 32, 33, 34,\n",
       "       35, 36, 37, 38, 39, 40, 41, 42, 43, 44, 45, 46, 47, 48, 49, 50, 51,\n",
       "       52, 53, 54, 55, 56, 57, 58, 59, 60, 61, 62, 63, 64, 65, 66, 67, 68,\n",
       "       69, 70, 71, 72, 73, 74, 75, 76, 77, 78, 79, 80, 81, 82, 83, 84, 85,\n",
       "       86, 87, 88, 89, 90, 91, 92, 93, 94, 95, 96, 97, 98, 99])"
      ]
     },
     "execution_count": 46,
     "metadata": {},
     "output_type": "execute_result"
    }
   ],
   "source": [
    "np.arange(1,100)   "
   ]
  },
  {
   "cell_type": "code",
   "execution_count": 47,
   "metadata": {},
   "outputs": [
    {
     "data": {
      "text/plain": [
       "array([ 1,  2,  3,  4,  5,  6,  7,  8,  9, 10, 11, 12, 13, 14, 15, 16, 17,\n",
       "       18, 19, 20, 21, 22, 23, 24, 25, 26, 27, 28, 29, 30, 31, 32, 33, 34,\n",
       "       35, 36, 37, 38, 39, 40, 41, 42, 43, 44, 45, 46, 47, 48, 49, 50, 51,\n",
       "       52, 53, 54, 55, 56, 57, 58, 59, 60, 61, 62, 63, 64, 65, 66, 67, 68,\n",
       "       69, 70, 71, 72, 73, 74, 75, 76, 77, 78, 79, 80, 81, 82, 83, 84, 85,\n",
       "       86, 87, 88, 89, 90, 91, 92, 93, 94, 95, 96, 97, 98, 99],\n",
       "      dtype=int64)"
      ]
     },
     "execution_count": 47,
     "metadata": {},
     "output_type": "execute_result"
    }
   ],
   "source": [
    "np.arange(1,100, dtype=np.int64) "
   ]
  },
  {
   "cell_type": "code",
   "execution_count": 48,
   "metadata": {},
   "outputs": [
    {
     "data": {
      "text/plain": [
       "array([ 1.,  2.,  3.,  4.,  5.,  6.,  7.,  8.,  9., 10., 11., 12., 13.,\n",
       "       14., 15., 16., 17., 18., 19., 20., 21., 22., 23., 24., 25., 26.,\n",
       "       27., 28., 29., 30., 31., 32., 33., 34., 35., 36., 37., 38., 39.,\n",
       "       40., 41., 42., 43., 44., 45., 46., 47., 48., 49., 50., 51., 52.,\n",
       "       53., 54., 55., 56., 57., 58., 59., 60., 61., 62., 63., 64., 65.,\n",
       "       66., 67., 68., 69., 70., 71., 72., 73., 74., 75., 76., 77., 78.,\n",
       "       79., 80., 81., 82., 83., 84., 85., 86., 87., 88., 89., 90., 91.,\n",
       "       92., 93., 94., 95., 96., 97., 98., 99.])"
      ]
     },
     "execution_count": 48,
     "metadata": {},
     "output_type": "execute_result"
    }
   ],
   "source": [
    "np.arange(1,100, dtype=np.float64) "
   ]
  },
  {
   "cell_type": "code",
   "execution_count": 49,
   "metadata": {},
   "outputs": [
    {
     "data": {
      "text/plain": [
       "array([ 1,  6, 11, 16, 21, 26, 31, 36, 41, 46, 51, 56, 61, 66, 71, 76, 81,\n",
       "       86, 91, 96])"
      ]
     },
     "execution_count": 49,
     "metadata": {},
     "output_type": "execute_result"
    }
   ],
   "source": [
    "np.arange(1,100,5)    # step size = 5"
   ]
  },
  {
   "cell_type": "code",
   "execution_count": 50,
   "metadata": {},
   "outputs": [
    {
     "data": {
      "text/plain": [
       "array([ 0,  5, 10, 15, 20, 25, 30, 35, 40, 45, 50, 55, 60, 65, 70, 75, 80,\n",
       "       85, 90, 95])"
      ]
     },
     "execution_count": 50,
     "metadata": {},
     "output_type": "execute_result"
    }
   ],
   "source": [
    "np.arange(0,100,5) "
   ]
  },
  {
   "cell_type": "code",
   "execution_count": 51,
   "metadata": {},
   "outputs": [
    {
     "data": {
      "text/plain": [
       "array([ 1.        ,  1.01803607,  1.03607214,  1.05410822,  1.07214429,\n",
       "        1.09018036,  1.10821643,  1.12625251,  1.14428858,  1.16232465,\n",
       "        1.18036072,  1.19839679,  1.21643287,  1.23446894,  1.25250501,\n",
       "        1.27054108,  1.28857715,  1.30661323,  1.3246493 ,  1.34268537,\n",
       "        1.36072144,  1.37875752,  1.39679359,  1.41482966,  1.43286573,\n",
       "        1.4509018 ,  1.46893788,  1.48697395,  1.50501002,  1.52304609,\n",
       "        1.54108216,  1.55911824,  1.57715431,  1.59519038,  1.61322645,\n",
       "        1.63126253,  1.6492986 ,  1.66733467,  1.68537074,  1.70340681,\n",
       "        1.72144289,  1.73947896,  1.75751503,  1.7755511 ,  1.79358717,\n",
       "        1.81162325,  1.82965932,  1.84769539,  1.86573146,  1.88376754,\n",
       "        1.90180361,  1.91983968,  1.93787575,  1.95591182,  1.9739479 ,\n",
       "        1.99198397,  2.01002004,  2.02805611,  2.04609218,  2.06412826,\n",
       "        2.08216433,  2.1002004 ,  2.11823647,  2.13627255,  2.15430862,\n",
       "        2.17234469,  2.19038076,  2.20841683,  2.22645291,  2.24448898,\n",
       "        2.26252505,  2.28056112,  2.29859719,  2.31663327,  2.33466934,\n",
       "        2.35270541,  2.37074148,  2.38877756,  2.40681363,  2.4248497 ,\n",
       "        2.44288577,  2.46092184,  2.47895792,  2.49699399,  2.51503006,\n",
       "        2.53306613,  2.5511022 ,  2.56913828,  2.58717435,  2.60521042,\n",
       "        2.62324649,  2.64128257,  2.65931864,  2.67735471,  2.69539078,\n",
       "        2.71342685,  2.73146293,  2.749499  ,  2.76753507,  2.78557114,\n",
       "        2.80360721,  2.82164329,  2.83967936,  2.85771543,  2.8757515 ,\n",
       "        2.89378758,  2.91182365,  2.92985972,  2.94789579,  2.96593186,\n",
       "        2.98396794,  3.00200401,  3.02004008,  3.03807615,  3.05611222,\n",
       "        3.0741483 ,  3.09218437,  3.11022044,  3.12825651,  3.14629259,\n",
       "        3.16432866,  3.18236473,  3.2004008 ,  3.21843687,  3.23647295,\n",
       "        3.25450902,  3.27254509,  3.29058116,  3.30861723,  3.32665331,\n",
       "        3.34468938,  3.36272545,  3.38076152,  3.3987976 ,  3.41683367,\n",
       "        3.43486974,  3.45290581,  3.47094188,  3.48897796,  3.50701403,\n",
       "        3.5250501 ,  3.54308617,  3.56112224,  3.57915832,  3.59719439,\n",
       "        3.61523046,  3.63326653,  3.65130261,  3.66933868,  3.68737475,\n",
       "        3.70541082,  3.72344689,  3.74148297,  3.75951904,  3.77755511,\n",
       "        3.79559118,  3.81362725,  3.83166333,  3.8496994 ,  3.86773547,\n",
       "        3.88577154,  3.90380762,  3.92184369,  3.93987976,  3.95791583,\n",
       "        3.9759519 ,  3.99398798,  4.01202405,  4.03006012,  4.04809619,\n",
       "        4.06613226,  4.08416834,  4.10220441,  4.12024048,  4.13827655,\n",
       "        4.15631263,  4.1743487 ,  4.19238477,  4.21042084,  4.22845691,\n",
       "        4.24649299,  4.26452906,  4.28256513,  4.3006012 ,  4.31863727,\n",
       "        4.33667335,  4.35470942,  4.37274549,  4.39078156,  4.40881764,\n",
       "        4.42685371,  4.44488978,  4.46292585,  4.48096192,  4.498998  ,\n",
       "        4.51703407,  4.53507014,  4.55310621,  4.57114228,  4.58917836,\n",
       "        4.60721443,  4.6252505 ,  4.64328657,  4.66132265,  4.67935872,\n",
       "        4.69739479,  4.71543086,  4.73346693,  4.75150301,  4.76953908,\n",
       "        4.78757515,  4.80561122,  4.82364729,  4.84168337,  4.85971944,\n",
       "        4.87775551,  4.89579158,  4.91382766,  4.93186373,  4.9498998 ,\n",
       "        4.96793587,  4.98597194,  5.00400802,  5.02204409,  5.04008016,\n",
       "        5.05811623,  5.0761523 ,  5.09418838,  5.11222445,  5.13026052,\n",
       "        5.14829659,  5.16633267,  5.18436874,  5.20240481,  5.22044088,\n",
       "        5.23847695,  5.25651303,  5.2745491 ,  5.29258517,  5.31062124,\n",
       "        5.32865731,  5.34669339,  5.36472946,  5.38276553,  5.4008016 ,\n",
       "        5.41883768,  5.43687375,  5.45490982,  5.47294589,  5.49098196,\n",
       "        5.50901804,  5.52705411,  5.54509018,  5.56312625,  5.58116232,\n",
       "        5.5991984 ,  5.61723447,  5.63527054,  5.65330661,  5.67134269,\n",
       "        5.68937876,  5.70741483,  5.7254509 ,  5.74348697,  5.76152305,\n",
       "        5.77955912,  5.79759519,  5.81563126,  5.83366733,  5.85170341,\n",
       "        5.86973948,  5.88777555,  5.90581162,  5.9238477 ,  5.94188377,\n",
       "        5.95991984,  5.97795591,  5.99599198,  6.01402806,  6.03206413,\n",
       "        6.0501002 ,  6.06813627,  6.08617234,  6.10420842,  6.12224449,\n",
       "        6.14028056,  6.15831663,  6.17635271,  6.19438878,  6.21242485,\n",
       "        6.23046092,  6.24849699,  6.26653307,  6.28456914,  6.30260521,\n",
       "        6.32064128,  6.33867735,  6.35671343,  6.3747495 ,  6.39278557,\n",
       "        6.41082164,  6.42885772,  6.44689379,  6.46492986,  6.48296593,\n",
       "        6.501002  ,  6.51903808,  6.53707415,  6.55511022,  6.57314629,\n",
       "        6.59118236,  6.60921844,  6.62725451,  6.64529058,  6.66332665,\n",
       "        6.68136273,  6.6993988 ,  6.71743487,  6.73547094,  6.75350701,\n",
       "        6.77154309,  6.78957916,  6.80761523,  6.8256513 ,  6.84368737,\n",
       "        6.86172345,  6.87975952,  6.89779559,  6.91583166,  6.93386774,\n",
       "        6.95190381,  6.96993988,  6.98797595,  7.00601202,  7.0240481 ,\n",
       "        7.04208417,  7.06012024,  7.07815631,  7.09619238,  7.11422846,\n",
       "        7.13226453,  7.1503006 ,  7.16833667,  7.18637275,  7.20440882,\n",
       "        7.22244489,  7.24048096,  7.25851703,  7.27655311,  7.29458918,\n",
       "        7.31262525,  7.33066132,  7.34869739,  7.36673347,  7.38476954,\n",
       "        7.40280561,  7.42084168,  7.43887776,  7.45691383,  7.4749499 ,\n",
       "        7.49298597,  7.51102204,  7.52905812,  7.54709419,  7.56513026,\n",
       "        7.58316633,  7.6012024 ,  7.61923848,  7.63727455,  7.65531062,\n",
       "        7.67334669,  7.69138277,  7.70941884,  7.72745491,  7.74549098,\n",
       "        7.76352705,  7.78156313,  7.7995992 ,  7.81763527,  7.83567134,\n",
       "        7.85370741,  7.87174349,  7.88977956,  7.90781563,  7.9258517 ,\n",
       "        7.94388778,  7.96192385,  7.97995992,  7.99799599,  8.01603206,\n",
       "        8.03406814,  8.05210421,  8.07014028,  8.08817635,  8.10621242,\n",
       "        8.1242485 ,  8.14228457,  8.16032064,  8.17835671,  8.19639279,\n",
       "        8.21442886,  8.23246493,  8.250501  ,  8.26853707,  8.28657315,\n",
       "        8.30460922,  8.32264529,  8.34068136,  8.35871743,  8.37675351,\n",
       "        8.39478958,  8.41282565,  8.43086172,  8.4488978 ,  8.46693387,\n",
       "        8.48496994,  8.50300601,  8.52104208,  8.53907816,  8.55711423,\n",
       "        8.5751503 ,  8.59318637,  8.61122244,  8.62925852,  8.64729459,\n",
       "        8.66533066,  8.68336673,  8.70140281,  8.71943888,  8.73747495,\n",
       "        8.75551102,  8.77354709,  8.79158317,  8.80961924,  8.82765531,\n",
       "        8.84569138,  8.86372745,  8.88176353,  8.8997996 ,  8.91783567,\n",
       "        8.93587174,  8.95390782,  8.97194389,  8.98997996,  9.00801603,\n",
       "        9.0260521 ,  9.04408818,  9.06212425,  9.08016032,  9.09819639,\n",
       "        9.11623246,  9.13426854,  9.15230461,  9.17034068,  9.18837675,\n",
       "        9.20641283,  9.2244489 ,  9.24248497,  9.26052104,  9.27855711,\n",
       "        9.29659319,  9.31462926,  9.33266533,  9.3507014 ,  9.36873747,\n",
       "        9.38677355,  9.40480962,  9.42284569,  9.44088176,  9.45891784,\n",
       "        9.47695391,  9.49498998,  9.51302605,  9.53106212,  9.5490982 ,\n",
       "        9.56713427,  9.58517034,  9.60320641,  9.62124248,  9.63927856,\n",
       "        9.65731463,  9.6753507 ,  9.69338677,  9.71142285,  9.72945892,\n",
       "        9.74749499,  9.76553106,  9.78356713,  9.80160321,  9.81963928,\n",
       "        9.83767535,  9.85571142,  9.87374749,  9.89178357,  9.90981964,\n",
       "        9.92785571,  9.94589178,  9.96392786,  9.98196393, 10.        ])"
      ]
     },
     "execution_count": 51,
     "metadata": {},
     "output_type": "execute_result"
    }
   ],
   "source": [
    "np.linspace(1,10, 500)  # in a range 1 to 10 , it will return 500 random values"
   ]
  },
  {
   "cell_type": "markdown",
   "metadata": {},
   "source": [
    "##### arange return value within a range with or without step size, linspace return values in a range with asked number of values to be returned"
   ]
  },
  {
   "cell_type": "code",
   "execution_count": 52,
   "metadata": {},
   "outputs": [
    {
     "data": {
      "text/plain": [
       "3"
      ]
     },
     "execution_count": 52,
     "metadata": {},
     "output_type": "execute_result"
    }
   ],
   "source": [
    "np.random.randint(2,4)"
   ]
  },
  {
   "cell_type": "code",
   "execution_count": 53,
   "metadata": {},
   "outputs": [
    {
     "data": {
      "text/plain": [
       "9"
      ]
     },
     "execution_count": 53,
     "metadata": {},
     "output_type": "execute_result"
    }
   ],
   "source": [
    "np.random.randint(2,10)"
   ]
  },
  {
   "cell_type": "code",
   "execution_count": 54,
   "metadata": {},
   "outputs": [
    {
     "data": {
      "text/plain": [
       "array([ 6.09147632e-01,  6.27445692e-01,  1.37676712e-02, -2.05636463e+00,\n",
       "        2.31612573e+00, -9.26127427e-02,  5.06265152e-01,  4.03299091e-01,\n",
       "        1.23917024e+00,  1.52447485e+00, -6.40999947e-01,  8.46143236e-01,\n",
       "       -1.12817764e+00,  2.47189220e-01, -5.10086836e-01,  3.25133426e-01,\n",
       "        1.70062389e+00,  7.74110102e-03, -3.86130359e-01,  7.85950118e-04,\n",
       "       -2.38369783e-01, -4.44152035e-01,  2.67564383e-01,  2.39850671e-01,\n",
       "       -9.14380803e-01,  9.79028375e-01,  7.31836979e-01, -7.81685947e-01,\n",
       "       -2.03854805e+00,  1.35093579e-02,  9.62724560e-01, -2.16381687e+00,\n",
       "        2.37073397e-01, -1.23459354e+00,  3.21685399e-01,  4.67213207e-01,\n",
       "       -3.15387347e-01, -2.89352225e-03,  1.96889184e-02, -8.52243537e-01,\n",
       "       -5.36856831e-01, -9.18030538e-02, -9.17818366e-01,  4.23215311e-01,\n",
       "       -5.88786466e-01,  6.21431388e-01,  1.90512630e-01, -4.76190853e-01,\n",
       "       -7.26980344e-01, -4.51413975e-01])"
      ]
     },
     "execution_count": 54,
     "metadata": {},
     "output_type": "execute_result"
    }
   ],
   "source": [
    "np.random.randn(50)   # As I want 50 random value"
   ]
  },
  {
   "cell_type": "code",
   "execution_count": 55,
   "metadata": {},
   "outputs": [
    {
     "data": {
      "text/plain": [
       "array([[[ 0.47338683,  1.99393522,  1.43234773, -0.18974969,\n",
       "          0.2776429 ],\n",
       "        [-0.58174179,  0.56491836,  0.30451888,  0.75034267,\n",
       "          0.54904902],\n",
       "        [ 0.31502909,  0.68463214, -1.12041901,  1.20996682,\n",
       "         -1.70196797],\n",
       "        [ 1.01768375, -1.05373547, -0.1309687 , -0.07557671,\n",
       "          0.25802009],\n",
       "        [ 1.21326903, -0.4789054 , -0.89249773, -0.96264318,\n",
       "         -0.45373253],\n",
       "        [-1.58760949, -0.63782876,  1.73256206, -0.41022293,\n",
       "          0.84580059],\n",
       "        [-0.08340396, -0.9805258 , -0.98265034,  0.71298404,\n",
       "         -0.41450267],\n",
       "        [-0.95502304, -2.2552376 , -0.15169314, -1.04738939,\n",
       "         -0.35297622],\n",
       "        [ 1.28799324,  0.31141257, -1.2642409 , -0.31421972,\n",
       "          2.25001553],\n",
       "        [ 0.42955606, -0.23036497, -0.62515697,  1.09477007,\n",
       "         -1.16078784],\n",
       "        [-0.52336506,  1.77553294, -0.38347204,  0.11165748,\n",
       "         -0.94621422],\n",
       "        [-1.06224349, -1.03183188,  1.14194716,  1.63021417,\n",
       "         -0.37889888],\n",
       "        [-1.15849225,  1.16906386, -0.00577359, -0.53378683,\n",
       "         -0.60228883],\n",
       "        [ 1.50289049, -1.07594717, -0.53352054, -1.23984048,\n",
       "         -0.41028001],\n",
       "        [-0.75078927, -0.75492425, -0.86926695,  0.28446545,\n",
       "          0.77269446]]])"
      ]
     },
     "execution_count": 55,
     "metadata": {},
     "output_type": "execute_result"
    }
   ],
   "source": [
    "np.random.randn(1,15, 5) "
   ]
  },
  {
   "cell_type": "markdown",
   "metadata": {},
   "source": [
    "# Types of Array"
   ]
  },
  {
   "cell_type": "markdown",
   "metadata": {},
   "source": [
    "- Convert any kind of iterable object into list, array mean numpy array\n",
    "- by default it takes int types\n",
    "- dtype can be mentioned as per need"
   ]
  },
  {
   "cell_type": "code",
   "execution_count": 57,
   "metadata": {},
   "outputs": [
    {
     "data": {
      "text/plain": [
       "array([ 2,  3,  5,  6, 23, 56, 58])"
      ]
     },
     "execution_count": 57,
     "metadata": {},
     "output_type": "execute_result"
    }
   ],
   "source": [
    "np.array([2,3,5,6,23,56,58]) "
   ]
  },
  {
   "cell_type": "code",
   "execution_count": 61,
   "metadata": {},
   "outputs": [
    {
     "data": {
      "text/plain": [
       "array([ 2,  3,  4,  5,  5, 50, 75, 80, 80], dtype=int64)"
      ]
     },
     "execution_count": 61,
     "metadata": {},
     "output_type": "execute_result"
    }
   ],
   "source": [
    "np.array([2,3,4,5,5,50,75,80,80], dtype=np.int64)   # nmention dtype as int64"
   ]
  },
  {
   "cell_type": "code",
   "execution_count": 62,
   "metadata": {},
   "outputs": [
    {
     "data": {
      "text/plain": [
       "array([ 2.,  3.,  4.,  5.,  5., 50., 75., 80., 80.])"
      ]
     },
     "execution_count": 62,
     "metadata": {},
     "output_type": "execute_result"
    }
   ],
   "source": [
    "np.array([2,3,4,5,5,50,75,80,80], dtype=np.float64)  # nmention dtype as float64"
   ]
  },
  {
   "cell_type": "code",
   "execution_count": 63,
   "metadata": {},
   "outputs": [
    {
     "data": {
      "text/plain": [
       "array([ True, False,  True,  True, False])"
      ]
     },
     "execution_count": 63,
     "metadata": {},
     "output_type": "execute_result"
    }
   ],
   "source": [
    "np.array([True, False, True, True, False], dtype=np.bool8)  # dtype as boolean"
   ]
  },
  {
   "cell_type": "code",
   "execution_count": 65,
   "metadata": {},
   "outputs": [
    {
     "data": {
      "text/plain": [
       "array([[0.+2.j       , 0.+2.125j    , 0.+2.25j     ],\n",
       "       [0.+2.3125j   , 0.+2.3125j   , 0.+3.140625j ],\n",
       "       [0.+3.2929688j, 0.+3.3125j   , 0.+3.3125j   ]], dtype=complex64)"
      ]
     },
     "execution_count": 65,
     "metadata": {},
     "output_type": "execute_result"
    }
   ],
   "source": [
    "np.empty([3,3], dtype=np.complex64)"
   ]
  },
  {
   "cell_type": "code",
   "execution_count": 67,
   "metadata": {},
   "outputs": [
    {
     "data": {
      "text/plain": [
       "array([b'apple', b'orange', b'banana', b'grapes'], dtype='|S6')"
      ]
     },
     "execution_count": 67,
     "metadata": {},
     "output_type": "execute_result"
    }
   ],
   "source": [
    "np.array(['apple','orange', 'banana', 'grapes'], dtype=np.string_)  # string type, mentioning dtype is recommended"
   ]
  }
 ],
 "metadata": {
  "kernelspec": {
   "display_name": "Python 3.10.2 ('mldsenv': venv)",
   "language": "python",
   "name": "python3"
  },
  "language_info": {
   "codemirror_mode": {
    "name": "ipython",
    "version": 3
   },
   "file_extension": ".py",
   "mimetype": "text/x-python",
   "name": "python",
   "nbconvert_exporter": "python",
   "pygments_lexer": "ipython3",
   "version": "3.10.2"
  },
  "orig_nbformat": 4,
  "vscode": {
   "interpreter": {
    "hash": "a0d8395148df7469c9c625ea49f0ef6db022295e0f88ca38f4e4e2f6e520972e"
   }
  }
 },
 "nbformat": 4,
 "nbformat_minor": 2
}
