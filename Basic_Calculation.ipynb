{
  "nbformat": 4,
  "nbformat_minor": 0,
  "metadata": {
    "colab": {
      "name": "Homework1.ipynb",
      "provenance": [],
      "collapsed_sections": []
    },
    "kernelspec": {
      "name": "python3",
      "display_name": "Python 3"
    },
    "language_info": {
      "name": "python"
    }
  },
  "cells": [
    {
      "cell_type": "markdown",
      "source": [
        "1.1 Calculate Sum of even number 1 to 10"
      ],
      "metadata": {
        "id": "lSarFedY16Vm"
      }
    },
    {
      "cell_type": "code",
      "source": [
        "s = 0\n",
        "for i in range (1,11):\n",
        "  if i%2==0:\n",
        "    s = s +i\n",
        "\n",
        "print(s)"
      ],
      "metadata": {
        "colab": {
          "base_uri": "https://localhost:8080/"
        },
        "id": "5vmRYbks1-u7",
        "outputId": "aa34683e-c211-4e61-ba44-67d7c8825e12"
      },
      "execution_count": null,
      "outputs": [
        {
          "output_type": "stream",
          "name": "stdout",
          "text": [
            "30\n"
          ]
        }
      ]
    },
    {
      "cell_type": "markdown",
      "source": [
        "1.2 Print the mumber 121 - 130"
      ],
      "metadata": {
        "id": "Y_Lh49tk9yjg"
      }
    },
    {
      "cell_type": "code",
      "source": [
        "for i in range(121,132):\n",
        "  print(i)"
      ],
      "metadata": {
        "colab": {
          "base_uri": "https://localhost:8080/"
        },
        "id": "irDugAZK94E6",
        "outputId": "1263d115-b00f-49e1-fd22-670f93e4e966"
      },
      "execution_count": null,
      "outputs": [
        {
          "output_type": "stream",
          "name": "stdout",
          "text": [
            "121\n",
            "122\n",
            "123\n",
            "124\n",
            "125\n",
            "126\n",
            "127\n",
            "128\n",
            "129\n",
            "130\n",
            "131\n"
          ]
        }
      ]
    },
    {
      "cell_type": "markdown",
      "source": [
        "1.3 Find out the smallest number from the list [ 93,11,38]"
      ],
      "metadata": {
        "id": "-oNheQx8-Ffd"
      }
    },
    {
      "cell_type": "code",
      "source": [
        "mylist = [93, 11, 38]\n",
        "print('Smallest number is: ', min (mylist))\n",
        "print ('Largest number is: ', max (mylist))\n"
      ],
      "metadata": {
        "colab": {
          "base_uri": "https://localhost:8080/"
        },
        "id": "ihWBNPUG-PGz",
        "outputId": "b929d635-cb1c-4210-811f-5ae9f529d4c5"
      },
      "execution_count": null,
      "outputs": [
        {
          "output_type": "stream",
          "name": "stdout",
          "text": [
            "Smallest number is:  11\n",
            "Largest number is:  93\n"
          ]
        }
      ]
    },
    {
      "cell_type": "markdown",
      "source": [
        "1.4 Calculate sum of numbers 1 to 10"
      ],
      "metadata": {
        "id": "kuzNgg9C_xpG"
      }
    },
    {
      "cell_type": "code",
      "source": [
        "total = 0\n",
        "for i in range(1,11):\n",
        "  total = total + i\n",
        "\n",
        "print(total)"
      ],
      "metadata": {
        "colab": {
          "base_uri": "https://localhost:8080/"
        },
        "id": "7D0ODKe4_6vv",
        "outputId": "6ea33cb0-3b7c-4dc7-d2f3-66546e95ea7b"
      },
      "execution_count": null,
      "outputs": [
        {
          "output_type": "stream",
          "name": "stdout",
          "text": [
            "55\n"
          ]
        }
      ]
    },
    {
      "cell_type": "markdown",
      "source": [
        "1.5 Find even & odd number from a list"
      ],
      "metadata": {
        "id": "8jM4kuCFC3Hy"
      }
    },
    {
      "cell_type": "code",
      "source": [
        "def n (number):\n",
        "  if (number %2==0):\n",
        "    print ('The Number is Even')\n",
        "\n",
        "  else:\n",
        "    print ('The Number is odd')\n",
        "\n",
        "number = [ 5, 12, -2, 7, 9, 0 , 5]\n",
        "print ('Number')\n",
        "for i in number:\n",
        "  n(i)\n"
      ],
      "metadata": {
        "colab": {
          "base_uri": "https://localhost:8080/"
        },
        "id": "mt7MiLMaC7xA",
        "outputId": "0787a165-595d-4c79-a322-48c650fb6d2f"
      },
      "execution_count": null,
      "outputs": [
        {
          "output_type": "stream",
          "name": "stdout",
          "text": [
            "Number\n",
            "The Number is odd\n",
            "The Number is Even\n",
            "The Number is Even\n",
            "The Number is odd\n",
            "The Number is odd\n",
            "The Number is Even\n",
            "The Number is odd\n"
          ]
        }
      ]
    },
    {
      "cell_type": "markdown",
      "source": [
        "1.6 A company decided to give bonus of 5% to employee if his/her year of service is more than 5 years. Ask user for their salary and year of service and print the net bonus amount."
      ],
      "metadata": {
        "id": "MQd8WdndGIe8"
      }
    },
    {
      "cell_type": "code",
      "source": [
        "salary = int (input ('Enter Salary: '))\n",
        "yos = float (input('Enter Year of Service: '))\n",
        "bonus = float (input('Enter Bonus Rate: '))\n",
        "\n",
        "if (yos>5):\n",
        "  print('Bonus is: ',salary * bonus)\n",
        "  print('You got bonus!')\n",
        "\n",
        "else:\n",
        "  print('Sorry! Condtions Failed!')\n",
        "  "
      ],
      "metadata": {
        "colab": {
          "base_uri": "https://localhost:8080/"
        },
        "id": "UzypaUUrGRar",
        "outputId": "09edd097-9031-477f-fcdf-dede114f8d65"
      },
      "execution_count": null,
      "outputs": [
        {
          "output_type": "stream",
          "name": "stdout",
          "text": [
            "Enter Salary: 25000\n",
            "Enter Year of Service: 7\n",
            "Enter Bonus Rate: .10\n",
            "Bonus is:  2500.0\n",
            "You got bonus!\n"
          ]
        }
      ]
    },
    {
      "cell_type": "markdown",
      "source": [
        "1.7 Take input of age of 3 people by user and determine oldest and youngest among them."
      ],
      "metadata": {
        "id": "bvLmWq1-In2B"
      }
    },
    {
      "cell_type": "code",
      "source": [
        "first = int (input('Enter First Age: '))\n",
        "second = int (input('Enter Second Age: '))\n",
        "third = int (input('Enter Thirt Age: '))\n",
        "\n",
        "if (first >= second and first >= third):\n",
        "  print ('The oldest is ', first)\n",
        "  print ('First Person Executed')\n",
        "  \n",
        "elif (second >= first and second >= third):\n",
        "  print ('The Oldest is ', second)\n",
        "  print ('Second Person Executed')\n",
        "\n",
        "elif (third >= first and third >= second):\n",
        "  print ('The Oldest is ',third)\n",
        "  print ('Third Person Executed')\n",
        "\n",
        "else:\n",
        "  print ('All are equal!')"
      ],
      "metadata": {
        "colab": {
          "base_uri": "https://localhost:8080/"
        },
        "id": "Vb8BhYw4JCqx",
        "outputId": "17867b47-309f-4e5e-93f6-45f97eb4e07e"
      },
      "execution_count": null,
      "outputs": [
        {
          "output_type": "stream",
          "name": "stdout",
          "text": [
            "Enter First Age: 15\n",
            "Enter Second Age: 12\n",
            "Enter Thirt Age: 11\n",
            "The oldest is  15\n",
            "First Person Executed\n"
          ]
        }
      ]
    }
  ]
}