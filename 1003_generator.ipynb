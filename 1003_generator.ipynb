{
 "cells": [
  {
   "attachments": {},
   "cell_type": "markdown",
   "metadata": {},
   "source": [
    "# Generator"
   ]
  },
  {
   "attachments": {},
   "cell_type": "markdown",
   "metadata": {},
   "source": [
    "- Generator : A function that generate something\n",
    "- Used for optimization"
   ]
  },
  {
   "attachments": {},
   "cell_type": "markdown",
   "metadata": {},
   "source": [
    "### Case Study"
   ]
  },
  {
   "attachments": {},
   "cell_type": "markdown",
   "metadata": {},
   "source": [
    "- Case A:  A customer comes to a shop with a purchase list give the list to owner & owner pass it to shop boy to arrange the list for customer as per list. once all done cashier receive the bill, here cashier sit idle until he gets bill for prrocessing\n",
    "- Case B: A customer comes to a shop with a purchase list and where boys take each product  & cashier calculate the bill for each. Here, casiher have no choice to sit idle\n",
    "- In the case study, its found that cashier works continuouly\n",
    "- Like wise, in \"Generator\" it will keep busy CPU for working, not to stay idle.\n",
    "- CPU is more faster then Memory"
   ]
  },
  {
   "attachments": {},
   "cell_type": "markdown",
   "metadata": {},
   "source": [
    "# Building a Square Generator"
   ]
  },
  {
   "attachments": {},
   "cell_type": "markdown",
   "metadata": {},
   "source": [
    "## General Approach"
   ]
  },
  {
   "cell_type": "code",
   "execution_count": 3,
   "metadata": {},
   "outputs": [],
   "source": [
    "# Excercise 1\n",
    "def genSQ(stat, stop):\n",
    "    nums=[]\n",
    "    for num in range(stat, stop):   # it will exclude last one, will return 9**2 = 81\n",
    "        nums.append(num**2)\n",
    "\n",
    "    return nums"
   ]
  },
  {
   "cell_type": "code",
   "execution_count": 4,
   "metadata": {},
   "outputs": [
    {
     "data": {
      "text/plain": [
       "[1, 4, 9, 16, 25, 36, 49, 64, 81]"
      ]
     },
     "execution_count": 4,
     "metadata": {},
     "output_type": "execute_result"
    }
   ],
   "source": [
    "genSQ(1, 10)"
   ]
  },
  {
   "cell_type": "code",
   "execution_count": 5,
   "metadata": {},
   "outputs": [],
   "source": [
    "# Excercise 2\n",
    "def genSQ(stat, stop):\n",
    "    nums=[]\n",
    "    for num in range(stat, stop+1):  # include last one\n",
    "        nums.append(num**2)\n",
    "\n",
    "    return nums"
   ]
  },
  {
   "cell_type": "code",
   "execution_count": 10,
   "metadata": {},
   "outputs": [
    {
     "data": {
      "text/plain": [
       "[3, 0, 1, 6, 7, 4, 5, 10, 11]"
      ]
     },
     "execution_count": 10,
     "metadata": {},
     "output_type": "execute_result"
    }
   ],
   "source": [
    "genSQ(1, 10)                    # Returned first wiht s small value, \n",
    "# genSQ(1, 1000000000)          # It will take huge time to return, which will keep us waiting, to solve such kind of problem apply 'yeild' fn"
   ]
  },
  {
   "attachments": {},
   "cell_type": "markdown",
   "metadata": {},
   "source": [
    "#### Return vs Yield"
   ]
  },
  {
   "attachments": {},
   "cell_type": "markdown",
   "metadata": {},
   "source": [
    "- Return is the last statement, write for a function which end/ close the process/ functioned\n",
    "- Yield works like return, but it not close the function then resuming, for every called its starts from last ending & goes untill finish or last execusion\n",
    "- Yield will return one after one, one return one pause / Return & resuming for every call\n",
    "- One yield close all the execution, it will return \"StopIteration Error\""
   ]
  },
  {
   "attachments": {},
   "cell_type": "markdown",
   "metadata": {},
   "source": [
    "## Generator Approach"
   ]
  },
  {
   "cell_type": "code",
   "execution_count": 29,
   "metadata": {},
   "outputs": [],
   "source": [
    "# Excecise 1\n",
    "def genSq (start, end):\n",
    "    for num in range(start, end+1):\n",
    "        yield num**2"
   ]
  },
  {
   "cell_type": "code",
   "execution_count": 30,
   "metadata": {},
   "outputs": [
    {
     "data": {
      "text/plain": [
       "<generator object genSq at 0x000001E0A0E4F3E0>"
      ]
     },
     "execution_count": 30,
     "metadata": {},
     "output_type": "execute_result"
    }
   ],
   "source": [
    "genSq (1, 10000000)  # This is a generator"
   ]
  },
  {
   "cell_type": "code",
   "execution_count": 49,
   "metadata": {},
   "outputs": [],
   "source": [
    "gen = genSq (1, 10)  # Storing Generator"
   ]
  },
  {
   "cell_type": "code",
   "execution_count": 50,
   "metadata": {},
   "outputs": [
    {
     "data": {
      "text/plain": [
       "1"
      ]
     },
     "execution_count": 50,
     "metadata": {},
     "output_type": "execute_result"
    }
   ],
   "source": [
    "next(gen)     # There is function next will take the gen variable to execusion"
   ]
  },
  {
   "cell_type": "code",
   "execution_count": 93,
   "metadata": {},
   "outputs": [],
   "source": [
    "# Excercise 2\n",
    "def genSq (start, stop):\n",
    "    for num in range(start, stop+1):\n",
    "        yield num**2, 'pause'\n",
    "        print('Resuming')"
   ]
  },
  {
   "cell_type": "code",
   "execution_count": 94,
   "metadata": {},
   "outputs": [],
   "source": [
    "gen = genSq(1, 10)\n",
    "# next(gen)          # must be run in different cell"
   ]
  },
  {
   "cell_type": "code",
   "execution_count": 97,
   "metadata": {},
   "outputs": [
    {
     "name": "stdout",
     "output_type": "stream",
     "text": [
      "Resuming\n"
     ]
    },
    {
     "data": {
      "text/plain": [
       "(9, 'pause')"
      ]
     },
     "execution_count": 97,
     "metadata": {},
     "output_type": "execute_result"
    }
   ],
   "source": [
    "next(gen)"
   ]
  }
 ],
 "metadata": {
  "kernelspec": {
   "display_name": "Python 3",
   "language": "python",
   "name": "python3"
  },
  "language_info": {
   "codemirror_mode": {
    "name": "ipython",
    "version": 3
   },
   "file_extension": ".py",
   "mimetype": "text/x-python",
   "name": "python",
   "nbconvert_exporter": "python",
   "pygments_lexer": "ipython3",
   "version": "3.10.7 (tags/v3.10.7:6cc6b13, Sep  5 2022, 14:08:36) [MSC v.1933 64 bit (AMD64)]"
  },
  "orig_nbformat": 4,
  "vscode": {
   "interpreter": {
    "hash": "c19fa61d258bb2b35aae2ada233c33e2817c1ce895aa48acba720c6bf7cbe3cb"
   }
  }
 },
 "nbformat": 4,
 "nbformat_minor": 2
}
